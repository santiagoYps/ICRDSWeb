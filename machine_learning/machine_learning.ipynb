{
 "cells": [
  {
   "cell_type": "markdown",
   "metadata": {},
   "source": [
    "# Machine Learning process"
   ]
  },
  {
   "cell_type": "markdown",
   "metadata": {},
   "source": [
    "### Imports"
   ]
  },
  {
   "cell_type": "code",
   "execution_count": 103,
   "metadata": {},
   "outputs": [],
   "source": [
    "import numpy as np\n",
    "import pandas as pd\n",
    "from scipy import stats as st\n",
    "import matplotlib.pyplot as plt\n",
    "from tqdm import tqdm\n",
    "import glob\n",
    "import itertools\n",
    "from sklearn.model_selection import train_test_split\n",
    "from sklearn.model_selection import cross_val_score"
   ]
  },
  {
   "cell_type": "markdown",
   "metadata": {},
   "source": [
    "### Load data"
   ]
  },
  {
   "cell_type": "code",
   "execution_count": 435,
   "metadata": {},
   "outputs": [
    {
     "name": "stdout",
     "output_type": "stream",
     "text": [
      "files count:  5\n",
      "All data size:  (3253, 17)\n",
      "Near crash event data size:  (399,)\n",
      "No near crash event data size:  (2854,)\n"
     ]
    },
    {
     "data": {
      "text/html": [
       "<div>\n",
       "<style scoped>\n",
       "    .dataframe tbody tr th:only-of-type {\n",
       "        vertical-align: middle;\n",
       "    }\n",
       "\n",
       "    .dataframe tbody tr th {\n",
       "        vertical-align: top;\n",
       "    }\n",
       "\n",
       "    .dataframe thead th {\n",
       "        text-align: right;\n",
       "    }\n",
       "</style>\n",
       "<table border=\"1\" class=\"dataframe\">\n",
       "  <thead>\n",
       "    <tr style=\"text-align: right;\">\n",
       "      <th></th>\n",
       "      <th>accX</th>\n",
       "      <th>accY</th>\n",
       "      <th>accZ</th>\n",
       "      <th>eventClass</th>\n",
       "      <th>idTrip</th>\n",
       "      <th>idVehicle</th>\n",
       "      <th>latitude</th>\n",
       "      <th>longitude</th>\n",
       "      <th>magX</th>\n",
       "      <th>magY</th>\n",
       "      <th>magZ</th>\n",
       "      <th>route</th>\n",
       "      <th>speed</th>\n",
       "      <th>timestamp</th>\n",
       "      <th>velAngX</th>\n",
       "      <th>velAngY</th>\n",
       "      <th>velAngZ</th>\n",
       "    </tr>\n",
       "    <tr>\n",
       "      <th>id</th>\n",
       "      <th></th>\n",
       "      <th></th>\n",
       "      <th></th>\n",
       "      <th></th>\n",
       "      <th></th>\n",
       "      <th></th>\n",
       "      <th></th>\n",
       "      <th></th>\n",
       "      <th></th>\n",
       "      <th></th>\n",
       "      <th></th>\n",
       "      <th></th>\n",
       "      <th></th>\n",
       "      <th></th>\n",
       "      <th></th>\n",
       "      <th></th>\n",
       "      <th></th>\n",
       "    </tr>\n",
       "  </thead>\n",
       "  <tbody>\n",
       "    <tr>\n",
       "      <th>39963</th>\n",
       "      <td>-0.045187</td>\n",
       "      <td>1.885076</td>\n",
       "      <td>9.557718</td>\n",
       "      <td>0</td>\n",
       "      <td>22</td>\n",
       "      <td>Nissan March (Xiaomi Redmi Note 9S)</td>\n",
       "      <td>0.833448</td>\n",
       "      <td>-77.650099</td>\n",
       "      <td>0.772656</td>\n",
       "      <td>0.527059</td>\n",
       "      <td>0.696640</td>\n",
       "      <td>Cambio de línea agresivo derecha</td>\n",
       "      <td>1.935506</td>\n",
       "      <td>2022-02-02 20:28:49.810000-05:00</td>\n",
       "      <td>0.002870</td>\n",
       "      <td>-0.000104</td>\n",
       "      <td>0.000927</td>\n",
       "    </tr>\n",
       "    <tr>\n",
       "      <th>39964</th>\n",
       "      <td>-0.035472</td>\n",
       "      <td>1.935259</td>\n",
       "      <td>9.553223</td>\n",
       "      <td>0</td>\n",
       "      <td>22</td>\n",
       "      <td>Nissan March (Xiaomi Redmi Note 9S)</td>\n",
       "      <td>0.833448</td>\n",
       "      <td>-77.650099</td>\n",
       "      <td>0.782333</td>\n",
       "      <td>0.514997</td>\n",
       "      <td>0.699963</td>\n",
       "      <td>Cambio de línea agresivo derecha</td>\n",
       "      <td>1.935506</td>\n",
       "      <td>2022-02-02 20:28:49.859000-05:00</td>\n",
       "      <td>0.002735</td>\n",
       "      <td>0.000062</td>\n",
       "      <td>0.001030</td>\n",
       "    </tr>\n",
       "    <tr>\n",
       "      <th>39965</th>\n",
       "      <td>-0.039930</td>\n",
       "      <td>2.033326</td>\n",
       "      <td>9.554011</td>\n",
       "      <td>0</td>\n",
       "      <td>22</td>\n",
       "      <td>Nissan March (Xiaomi Redmi Note 9S)</td>\n",
       "      <td>0.833448</td>\n",
       "      <td>-77.650099</td>\n",
       "      <td>0.790560</td>\n",
       "      <td>0.516964</td>\n",
       "      <td>0.706742</td>\n",
       "      <td>Cambio de línea agresivo derecha</td>\n",
       "      <td>1.935506</td>\n",
       "      <td>2022-02-02 20:28:49.911000-05:00</td>\n",
       "      <td>0.004780</td>\n",
       "      <td>0.002353</td>\n",
       "      <td>0.000441</td>\n",
       "    </tr>\n",
       "    <tr>\n",
       "      <th>39966</th>\n",
       "      <td>-0.040852</td>\n",
       "      <td>2.072001</td>\n",
       "      <td>9.554512</td>\n",
       "      <td>0</td>\n",
       "      <td>22</td>\n",
       "      <td>Nissan March (Xiaomi Redmi Note 9S)</td>\n",
       "      <td>0.833448</td>\n",
       "      <td>-77.650099</td>\n",
       "      <td>0.787120</td>\n",
       "      <td>0.527722</td>\n",
       "      <td>0.716012</td>\n",
       "      <td>Cambio de línea agresivo derecha</td>\n",
       "      <td>1.935506</td>\n",
       "      <td>2022-02-02 20:28:49.959000-05:00</td>\n",
       "      <td>0.005887</td>\n",
       "      <td>0.002288</td>\n",
       "      <td>0.000923</td>\n",
       "    </tr>\n",
       "    <tr>\n",
       "      <th>39967</th>\n",
       "      <td>-0.041517</td>\n",
       "      <td>2.126838</td>\n",
       "      <td>9.547589</td>\n",
       "      <td>0</td>\n",
       "      <td>22</td>\n",
       "      <td>Nissan March (Xiaomi Redmi Note 9S)</td>\n",
       "      <td>0.833448</td>\n",
       "      <td>-77.650099</td>\n",
       "      <td>0.786766</td>\n",
       "      <td>0.544770</td>\n",
       "      <td>0.700228</td>\n",
       "      <td>Cambio de línea agresivo derecha</td>\n",
       "      <td>1.935506</td>\n",
       "      <td>2022-02-02 20:28:50.010000-05:00</td>\n",
       "      <td>0.005136</td>\n",
       "      <td>0.003051</td>\n",
       "      <td>0.001033</td>\n",
       "    </tr>\n",
       "    <tr>\n",
       "      <th>...</th>\n",
       "      <td>...</td>\n",
       "      <td>...</td>\n",
       "      <td>...</td>\n",
       "      <td>...</td>\n",
       "      <td>...</td>\n",
       "      <td>...</td>\n",
       "      <td>...</td>\n",
       "      <td>...</td>\n",
       "      <td>...</td>\n",
       "      <td>...</td>\n",
       "      <td>...</td>\n",
       "      <td>...</td>\n",
       "      <td>...</td>\n",
       "      <td>...</td>\n",
       "      <td>...</td>\n",
       "      <td>...</td>\n",
       "      <td>...</td>\n",
       "    </tr>\n",
       "    <tr>\n",
       "      <th>17587</th>\n",
       "      <td>0.103540</td>\n",
       "      <td>0.526799</td>\n",
       "      <td>9.721811</td>\n",
       "      <td>0</td>\n",
       "      <td>23</td>\n",
       "      <td>Nissan March (Xiaomi Redmi Note 9S)</td>\n",
       "      <td>0.833299</td>\n",
       "      <td>-77.650136</td>\n",
       "      <td>0.421203</td>\n",
       "      <td>0.265333</td>\n",
       "      <td>0.619546</td>\n",
       "      <td>Cambio de línea agresivo derecha</td>\n",
       "      <td>15.221223</td>\n",
       "      <td>2022-01-23 19:22:34.096000-05:00</td>\n",
       "      <td>0.005623</td>\n",
       "      <td>-0.005282</td>\n",
       "      <td>0.001537</td>\n",
       "    </tr>\n",
       "    <tr>\n",
       "      <th>17588</th>\n",
       "      <td>-0.010365</td>\n",
       "      <td>0.930989</td>\n",
       "      <td>9.717285</td>\n",
       "      <td>0</td>\n",
       "      <td>23</td>\n",
       "      <td>Nissan March (Xiaomi Redmi Note 9S)</td>\n",
       "      <td>0.833299</td>\n",
       "      <td>-77.650136</td>\n",
       "      <td>0.347743</td>\n",
       "      <td>0.355770</td>\n",
       "      <td>0.558520</td>\n",
       "      <td>Cambio de línea agresivo derecha</td>\n",
       "      <td>15.221223</td>\n",
       "      <td>2022-01-23 19:22:34.144000-05:00</td>\n",
       "      <td>0.004610</td>\n",
       "      <td>-0.010123</td>\n",
       "      <td>0.004360</td>\n",
       "    </tr>\n",
       "    <tr>\n",
       "      <th>17589</th>\n",
       "      <td>0.262208</td>\n",
       "      <td>0.994853</td>\n",
       "      <td>9.863323</td>\n",
       "      <td>0</td>\n",
       "      <td>23</td>\n",
       "      <td>Nissan March (Xiaomi Redmi Note 9S)</td>\n",
       "      <td>0.833299</td>\n",
       "      <td>-77.650136</td>\n",
       "      <td>0.339093</td>\n",
       "      <td>0.443561</td>\n",
       "      <td>0.639536</td>\n",
       "      <td>Cambio de línea agresivo derecha</td>\n",
       "      <td>15.221223</td>\n",
       "      <td>2022-01-23 19:22:34.195000-05:00</td>\n",
       "      <td>0.016368</td>\n",
       "      <td>-0.007160</td>\n",
       "      <td>0.006469</td>\n",
       "    </tr>\n",
       "    <tr>\n",
       "      <th>17590</th>\n",
       "      <td>0.478492</td>\n",
       "      <td>0.598636</td>\n",
       "      <td>10.125084</td>\n",
       "      <td>0</td>\n",
       "      <td>23</td>\n",
       "      <td>Nissan March (Xiaomi Redmi Note 9S)</td>\n",
       "      <td>0.833299</td>\n",
       "      <td>-77.650136</td>\n",
       "      <td>0.348961</td>\n",
       "      <td>0.373149</td>\n",
       "      <td>0.877857</td>\n",
       "      <td>Cambio de línea agresivo derecha</td>\n",
       "      <td>15.221223</td>\n",
       "      <td>2022-01-23 19:22:34.244000-05:00</td>\n",
       "      <td>0.009611</td>\n",
       "      <td>0.011599</td>\n",
       "      <td>0.010776</td>\n",
       "    </tr>\n",
       "    <tr>\n",
       "      <th>17591</th>\n",
       "      <td>0.326444</td>\n",
       "      <td>0.671032</td>\n",
       "      <td>10.082296</td>\n",
       "      <td>0</td>\n",
       "      <td>23</td>\n",
       "      <td>Nissan March (Xiaomi Redmi Note 9S)</td>\n",
       "      <td>0.833299</td>\n",
       "      <td>-77.650136</td>\n",
       "      <td>0.399111</td>\n",
       "      <td>0.314159</td>\n",
       "      <td>1.000000</td>\n",
       "      <td>Cambio de línea agresivo derecha</td>\n",
       "      <td>15.221223</td>\n",
       "      <td>2022-01-23 19:22:34.295000-05:00</td>\n",
       "      <td>-0.002941</td>\n",
       "      <td>0.023986</td>\n",
       "      <td>0.003343</td>\n",
       "    </tr>\n",
       "  </tbody>\n",
       "</table>\n",
       "<p>3253 rows × 17 columns</p>\n",
       "</div>"
      ],
      "text/plain": [
       "           accX      accY       accZ  eventClass  idTrip  \\\n",
       "id                                                         \n",
       "39963 -0.045187  1.885076   9.557718           0      22   \n",
       "39964 -0.035472  1.935259   9.553223           0      22   \n",
       "39965 -0.039930  2.033326   9.554011           0      22   \n",
       "39966 -0.040852  2.072001   9.554512           0      22   \n",
       "39967 -0.041517  2.126838   9.547589           0      22   \n",
       "...         ...       ...        ...         ...     ...   \n",
       "17587  0.103540  0.526799   9.721811           0      23   \n",
       "17588 -0.010365  0.930989   9.717285           0      23   \n",
       "17589  0.262208  0.994853   9.863323           0      23   \n",
       "17590  0.478492  0.598636  10.125084           0      23   \n",
       "17591  0.326444  0.671032  10.082296           0      23   \n",
       "\n",
       "                                 idVehicle  latitude  longitude      magX  \\\n",
       "id                                                                          \n",
       "39963  Nissan March (Xiaomi Redmi Note 9S)  0.833448 -77.650099  0.772656   \n",
       "39964  Nissan March (Xiaomi Redmi Note 9S)  0.833448 -77.650099  0.782333   \n",
       "39965  Nissan March (Xiaomi Redmi Note 9S)  0.833448 -77.650099  0.790560   \n",
       "39966  Nissan March (Xiaomi Redmi Note 9S)  0.833448 -77.650099  0.787120   \n",
       "39967  Nissan March (Xiaomi Redmi Note 9S)  0.833448 -77.650099  0.786766   \n",
       "...                                    ...       ...        ...       ...   \n",
       "17587  Nissan March (Xiaomi Redmi Note 9S)  0.833299 -77.650136  0.421203   \n",
       "17588  Nissan March (Xiaomi Redmi Note 9S)  0.833299 -77.650136  0.347743   \n",
       "17589  Nissan March (Xiaomi Redmi Note 9S)  0.833299 -77.650136  0.339093   \n",
       "17590  Nissan March (Xiaomi Redmi Note 9S)  0.833299 -77.650136  0.348961   \n",
       "17591  Nissan March (Xiaomi Redmi Note 9S)  0.833299 -77.650136  0.399111   \n",
       "\n",
       "           magY      magZ                             route      speed  \\\n",
       "id                                                                       \n",
       "39963  0.527059  0.696640  Cambio de línea agresivo derecha   1.935506   \n",
       "39964  0.514997  0.699963  Cambio de línea agresivo derecha   1.935506   \n",
       "39965  0.516964  0.706742  Cambio de línea agresivo derecha   1.935506   \n",
       "39966  0.527722  0.716012  Cambio de línea agresivo derecha   1.935506   \n",
       "39967  0.544770  0.700228  Cambio de línea agresivo derecha   1.935506   \n",
       "...         ...       ...                               ...        ...   \n",
       "17587  0.265333  0.619546  Cambio de línea agresivo derecha  15.221223   \n",
       "17588  0.355770  0.558520  Cambio de línea agresivo derecha  15.221223   \n",
       "17589  0.443561  0.639536  Cambio de línea agresivo derecha  15.221223   \n",
       "17590  0.373149  0.877857  Cambio de línea agresivo derecha  15.221223   \n",
       "17591  0.314159  1.000000  Cambio de línea agresivo derecha  15.221223   \n",
       "\n",
       "                              timestamp   velAngX   velAngY   velAngZ  \n",
       "id                                                                     \n",
       "39963  2022-02-02 20:28:49.810000-05:00  0.002870 -0.000104  0.000927  \n",
       "39964  2022-02-02 20:28:49.859000-05:00  0.002735  0.000062  0.001030  \n",
       "39965  2022-02-02 20:28:49.911000-05:00  0.004780  0.002353  0.000441  \n",
       "39966  2022-02-02 20:28:49.959000-05:00  0.005887  0.002288  0.000923  \n",
       "39967  2022-02-02 20:28:50.010000-05:00  0.005136  0.003051  0.001033  \n",
       "...                                 ...       ...       ...       ...  \n",
       "17587  2022-01-23 19:22:34.096000-05:00  0.005623 -0.005282  0.001537  \n",
       "17588  2022-01-23 19:22:34.144000-05:00  0.004610 -0.010123  0.004360  \n",
       "17589  2022-01-23 19:22:34.195000-05:00  0.016368 -0.007160  0.006469  \n",
       "17590  2022-01-23 19:22:34.244000-05:00  0.009611  0.011599  0.010776  \n",
       "17591  2022-01-23 19:22:34.295000-05:00 -0.002941  0.023986  0.003343  \n",
       "\n",
       "[3253 rows x 17 columns]"
      ]
     },
     "execution_count": 435,
     "metadata": {},
     "output_type": "execute_result"
    }
   ],
   "source": [
    "##       TEST 1:\n",
    "## Selecting a CSV for train and another CSV to test\n",
    "\n",
    "# df_train = pd.read_csv('./filtered_data/smartphone_02-Feb-2022-20-22_cambio de línea agresivo izquierda_Data-Mv2MN6xv2W3Rv1Rmb_Z.csv')\n",
    "# df_test = pd.read_csv('./filtered_data/smartphone_02-Feb-2022-20-19_cambio de línea agresivo izquierda_Data-Mv2L_EBJR_gDU3LpwVs.csv')\n",
    "\n",
    "##       TEST 2:\n",
    "## Joining all CSVs of a particular event\n",
    "\n",
    "device = 'smartphone'\n",
    "event = 'cambio de línea agresivo derecha'\n",
    "files_to_read = glob.glob('./test_data/{}*{}*.csv'.format(device, event))\n",
    "\n",
    "df = pd.DataFrame()\n",
    "i = 0\n",
    "for file in files_to_read[:]:\n",
    "    i += 1\n",
    "    df = pd.concat([df, pd.read_csv(file)])\n",
    "\n",
    "print(\"files count: \", i)\n",
    "df = df.set_index('id')\n",
    "df_validation = pd.read_csv(files_to_read[:1][0]) # './filtered_data/smartphone_02-Feb-2022-20-33_conducción por ipiales_Data-Mv2OkQ_MG7IB4QX-XVx.csv')\n",
    "##       TEST 2-1:\n",
    "## Spliting the TEST 2 dataframe in train and test\n",
    "\n",
    "# df_train, df_test = train_test_split(df, test_size=0.3, train_size=0.7, random_state=0, shuffle=False)\n",
    "# print(\"Train data size: \", df_train.shape)\n",
    "# print(\"Near crash event train data size: \", df_train[\"eventClass\"][df_train[\"eventClass\"] == 1].shape)\n",
    "# print(\"No near crash event train data size: \", df_train[\"eventClass\"][df_train[\"eventClass\"] == 0].shape)\n",
    "\n",
    "# print(\"\\nTest data size: \", df_test.shape)\n",
    "# print(\"Near crash event test data size: \", df_test[\"eventClass\"][df_test[\"eventClass\"] == 1].shape)\n",
    "# print(\"No near crash event test data size: \", df_test[\"eventClass\"][df_test[\"eventClass\"] == 0].shape)\n",
    "\n",
    "##      TEST 2-2:\n",
    "## Don't split the TEST 2 dataframe!\n",
    "\n",
    "print(\"All data size: \", df.shape)\n",
    "print(\"Near crash event data size: \", df[\"eventClass\"][df[\"eventClass\"] == 1].shape)\n",
    "print(\"No near crash event data size: \", df[\"eventClass\"][df[\"eventClass\"] == 0].shape)\n",
    "\n",
    "# Show dataframe\n",
    "df"
   ]
  },
  {
   "cell_type": "markdown",
   "metadata": {},
   "source": [
    "### Select the interest variables"
   ]
  },
  {
   "cell_type": "code",
   "execution_count": 436,
   "metadata": {},
   "outputs": [
    {
     "name": "stdout",
     "output_type": "stream",
     "text": [
      "All data shape for the selected features:  (3253, 3)\n"
     ]
    }
   ],
   "source": [
    "# Features = [\"speed\",\"accX\",\"accY\",\"magX\",\"magY\",\"magZ\", \"velAngX\",\"velAngY\",\"velAngZ\",\"timestamp\",\"eventClass\"]\n",
    "# Always put \"eventClass\" at the end:\n",
    "\n",
    "#event_features = [\"speed\",\"accY\"] # Agresive Acceleration and Agresive Brake (only smartphone)\n",
    "#event_features = [\"speed\", \"accPosition\", \"accY\"] # Agresive Acceleration (only raspberry)\n",
    "#event_features = [\"speed\", \"accY\"] # Agresive Brake (only raspberry)\n",
    "#event_features = [\"accX\", \"velAngZ\", \"magX\", \"magY\"] # Agresive turn right and left  (only smartphone)\n",
    "#event_features = [\"speed\", \"accX\", \"accY\", \"velAngZ\", \"magX\"] # Agresive turn right and left  (only raspberry)\n",
    "event_features = [\"accX\", \"velAngZ\"] # Change line right and left (smartphone and raspberry)\n",
    "event_features_label = [*event_features,  \"eventClass\"]\n",
    "dataset = df[event_features_label].to_numpy()\n",
    "dataset_validation = df_validation[event_features_label].to_numpy()\n",
    "print(\"All data shape for the selected features: \",dataset.shape)\n",
    "\n",
    "##    TEST 1 or 2-1\n",
    "## Run the following code for the mentioned TEST\n",
    "## Don't run in the TEST 2-2\n",
    "\n",
    "# dataset_train = df_train[event_features_label].to_numpy()\n",
    "# print(\"Shape of training data for the selected features: \", dataset_train.shape)\n",
    "\n",
    "# dataset_test = df_test[event_features_label].to_numpy()\n",
    "# print(\"Shape of testing data for the selected features: \", dataset_test.shape)"
   ]
  },
  {
   "cell_type": "markdown",
   "metadata": {},
   "source": [
    "### Make a sliding window\n",
    "\n",
    "The sliding window have this shape:\n",
    "\n",
    "$ rows = m - ws + 1 \\\\  columns = ws \\\\ pages = d$\n",
    "\n",
    "![](https://es.mathworks.com/help/matlab/math/nddemo_02_es.gif)\n",
    "\n",
    "Where:\n",
    "- ***m***:  Is the dataset rows number\n",
    "- ***ws***: Is the window size\n",
    "- ***d***:  Is the number of feature of the data\n"
   ]
  },
  {
   "cell_type": "markdown",
   "metadata": {},
   "source": [
    "#### Naive alternative\n",
    "Sliding window without frames"
   ]
  },
  {
   "cell_type": "code",
   "execution_count": 389,
   "metadata": {},
   "outputs": [],
   "source": [
    "def sliding_windows(dataset, window_size, event_features=\"X\"):\n",
    "      \n",
    "      #     In 2-dimensional dataset:\n",
    "      # Axis 0 -> Goes through the rows\n",
    "      # Axis 1 -> Goes through the Cols\n",
    "      sld_window = np.lib.stride_tricks.sliding_window_view(dataset, window_size, axis=0) #[::1, :] Add this for define window step\n",
    "      print(\"\\nSliding windows shape: \",sld_window.shape)\n",
    "\n",
    "      # Spliting the dataset (features, label)\n",
    "      separator = dataset.shape[1] - 1 # Split the last page corresponding to the eventClass\n",
    "      features_data = sld_window[:, 0:separator, :]\n",
    "      label_data = sld_window[:, separator, :]\n",
    "\n",
    "      # Processing the sliding window\n",
    "      # Get the mean, median, std, max and min value\n",
    "      mean = features_data.mean(axis=2)\n",
    "      median = np.median(features_data, axis=2)\n",
    "      std = features_data.std(axis=2)\n",
    "      max_val = features_data.max(axis=2)\n",
    "      min_val = features_data.min(axis=2)\n",
    "      # Get tendency\n",
    "      divider = np.array([mean[0], *mean[:-1]])\n",
    "      tendency = mean/np.where(divider == 0, 1, divider)\n",
    "      label = st.mode(label_data, axis=1)[0]\n",
    "\n",
    "      # Check processed sliding window\n",
    "      #print(\"Processed sliding window shape: \" +\n",
    "      #      \"mean={}, median={}, std={}, max_val={}, min_val={}, tendency={}, label={}\"\n",
    "      #      .format(mean.shape, median.shape, std.shape, max_val.shape, min_val.shape, tendency.shape, label.shape))\n",
    "\n",
    "      # Concatenate processed sliding window\n",
    "      \n",
    "      # Test 1 with max and min values\n",
    "      sld_window_features = np.concatenate((mean, median, std, max_val, min_val, tendency), axis=1)\n",
    "      # Test 2 without max and min values\n",
    "      #sld_window_features = np.concatenate((mean, median, std, tendency), axis=1)\n",
    "\n",
    "      # Reshape label for sklearn standard\n",
    "      label = label.reshape(label.shape[0])\n",
    "\n",
    "      # Make the features names\n",
    "      e_n = len(event_features) # Events number\n",
    "      # Test 1\n",
    "      measurements_names = [[\"mean\"]*e_n, [\"median\"]*e_n, [\"std\"]*e_n, [\"max_val\"]*e_n, [\"min_val\"]*e_n, [\"tendency\"]*e_n]\n",
    "      # Test 2\n",
    "      #measurements_names = [[\"mean\"]*e_n, [\"median\"]*e_n, [\"std\"]*e_n, [\"tendency\"]*e_n]\n",
    "      measurements_names = list(itertools.chain(*measurements_names))\n",
    "      events_names = event_features*(len(measurements_names)//e_n)\n",
    "      sld_window_features_names = list(map('_'.join, zip(measurements_names, events_names)))\n",
    "\n",
    "      return (sld_window_features, label, sld_window_features_names)\n"
   ]
  },
  {
   "cell_type": "code",
   "execution_count": 444,
   "metadata": {},
   "outputs": [
    {
     "name": "stdout",
     "output_type": "stream",
     "text": [
      "\n",
      "Sliding windows shape:  (3214, 3, 40)\n",
      "\n",
      "Sliding windows shape:  (413, 3, 40)\n"
     ]
    }
   ],
   "source": [
    "window_size = 40 #TODO: change to 20 with start\n",
    "\n",
    "##    TEST 1, 2-1\n",
    "\n",
    "# X_train, y_train = sliding_windows(variables_train, window_size)\n",
    "# X_test, y_test = sliding_windows(variables_test, window_size)\n",
    "\n",
    "##    TEST 2-2\n",
    "\n",
    "X, y, features_names = sliding_windows(dataset, window_size, event_features)\n",
    "X_validation, y_validation, features_names_v = sliding_windows(dataset_validation, window_size, event_features)"
   ]
  },
  {
   "cell_type": "markdown",
   "metadata": {},
   "source": [
    "#### Input features"
   ]
  },
  {
   "cell_type": "code",
   "execution_count": 445,
   "metadata": {},
   "outputs": [
    {
     "name": "stdout",
     "output_type": "stream",
     "text": [
      "Features shape: (3214, 12)\n",
      "\n",
      "Features size for near crash event:  (390,)\n",
      "Features size for no near crash event:  (2824,)\n",
      "\n",
      "Sample of features: \n"
     ]
    },
    {
     "data": {
      "text/html": [
       "<div>\n",
       "<style scoped>\n",
       "    .dataframe tbody tr th:only-of-type {\n",
       "        vertical-align: middle;\n",
       "    }\n",
       "\n",
       "    .dataframe tbody tr th {\n",
       "        vertical-align: top;\n",
       "    }\n",
       "\n",
       "    .dataframe thead th {\n",
       "        text-align: right;\n",
       "    }\n",
       "</style>\n",
       "<table border=\"1\" class=\"dataframe\">\n",
       "  <thead>\n",
       "    <tr style=\"text-align: right;\">\n",
       "      <th></th>\n",
       "      <th>mean_accX</th>\n",
       "      <th>mean_velAngZ</th>\n",
       "      <th>median_accX</th>\n",
       "      <th>median_velAngZ</th>\n",
       "      <th>std_accX</th>\n",
       "      <th>std_velAngZ</th>\n",
       "      <th>max_val_accX</th>\n",
       "      <th>max_val_velAngZ</th>\n",
       "      <th>min_val_accX</th>\n",
       "      <th>min_val_velAngZ</th>\n",
       "      <th>tendency_accX</th>\n",
       "      <th>tendency_velAngZ</th>\n",
       "    </tr>\n",
       "  </thead>\n",
       "  <tbody>\n",
       "    <tr>\n",
       "      <th>0</th>\n",
       "      <td>0.017677</td>\n",
       "      <td>0.003717</td>\n",
       "      <td>-0.034174</td>\n",
       "      <td>0.001266</td>\n",
       "      <td>0.160699</td>\n",
       "      <td>0.009898</td>\n",
       "      <td>0.453325</td>\n",
       "      <td>0.02422</td>\n",
       "      <td>-0.239043</td>\n",
       "      <td>-0.018478</td>\n",
       "      <td>1.000000</td>\n",
       "      <td>1.000000</td>\n",
       "    </tr>\n",
       "    <tr>\n",
       "      <th>1</th>\n",
       "      <td>0.021302</td>\n",
       "      <td>0.003121</td>\n",
       "      <td>-0.029776</td>\n",
       "      <td>0.001266</td>\n",
       "      <td>0.160876</td>\n",
       "      <td>0.010728</td>\n",
       "      <td>0.453325</td>\n",
       "      <td>0.02422</td>\n",
       "      <td>-0.239043</td>\n",
       "      <td>-0.022877</td>\n",
       "      <td>1.205086</td>\n",
       "      <td>0.839879</td>\n",
       "    </tr>\n",
       "  </tbody>\n",
       "</table>\n",
       "</div>"
      ],
      "text/plain": [
       "   mean_accX  mean_velAngZ  median_accX  median_velAngZ  std_accX  \\\n",
       "0   0.017677      0.003717    -0.034174        0.001266  0.160699   \n",
       "1   0.021302      0.003121    -0.029776        0.001266  0.160876   \n",
       "\n",
       "   std_velAngZ  max_val_accX  max_val_velAngZ  min_val_accX  min_val_velAngZ  \\\n",
       "0     0.009898      0.453325          0.02422     -0.239043        -0.018478   \n",
       "1     0.010728      0.453325          0.02422     -0.239043        -0.022877   \n",
       "\n",
       "   tendency_accX  tendency_velAngZ  \n",
       "0       1.000000          1.000000  \n",
       "1       1.205086          0.839879  "
      ]
     },
     "execution_count": 445,
     "metadata": {},
     "output_type": "execute_result"
    }
   ],
   "source": [
    "##    TEST 1 or 2-1\n",
    "\n",
    "# print(\"Train features shape:\", X_train.shape)\n",
    "# #print(X_train[0:5])\n",
    "# print(\"Near crash event train data size: \", np.where(y_train == 1)[0].shape)\n",
    "# print(\"No near crash event train data size: \", np.where(y_train == 0)[0].shape)\n",
    "\n",
    "# print(\"\\n\")\n",
    "# print(\"Test features shape:\", X_test.shape)\n",
    "# #print(X_test[0:5])\n",
    "# print(\"Near crash event test data size: \", np.where(y_test == 1)[0].shape)\n",
    "# print(\"No near crash event test data size: \", np.where(y_test == 0)[0].shape)\n",
    "\n",
    "##    TEST 2-2\n",
    "\n",
    "print(\"Features shape:\", X.shape)\n",
    "print(\"\\nFeatures size for near crash event: \", np.where(y == 1)[0].shape)\n",
    "print(\"Features size for no near crash event: \", np.where(y == 0)[0].shape)\n",
    "print(\"\\nSample of features: \")\n",
    "pd.DataFrame(X[0:2], columns=features_names).head()\n"
   ]
  },
  {
   "cell_type": "markdown",
   "metadata": {},
   "source": [
    "## Machine Learning "
   ]
  },
  {
   "cell_type": "markdown",
   "metadata": {},
   "source": [
    "Make a Machine Learning algorithms with this librarys and this split of data"
   ]
  },
  {
   "cell_type": "code",
   "execution_count": 354,
   "metadata": {},
   "outputs": [
    {
     "name": "stdout",
     "output_type": "stream",
     "text": [
      "Train data shape: (2711, 12)\n",
      "Train label shape: (2711,)\n",
      "Near crash event train data size:  (239,)\n",
      "No near crash event train data size:  (2472,)\n",
      "\n",
      "Test data shape: (1163, 12)\n",
      "Test label shape: (1163,)\n",
      "Near crash event test data size:  (121,)\n",
      "No near crash event test data size:  (1042,)\n"
     ]
    }
   ],
   "source": [
    "from sklearn import svm\n",
    "from sklearn import tree\n",
    "from sklearn.ensemble import RandomForestClassifier\n",
    "from sklearn.model_selection import train_test_split\n",
    "\n",
    "X_train, X_test, y_train, y_test = train_test_split(X, y, test_size=0.3, train_size=0.7, random_state=300, shuffle=True)\n",
    "\n",
    "print(\"Train data shape:\", X_train.shape)\n",
    "print(\"Train label shape:\", y_train.shape)\n",
    "print(\"Near crash event train data size: \", np.where(y_train == 1)[0].shape)\n",
    "print(\"No near crash event train data size: \", np.where(y_train == 0)[0].shape)\n",
    "\n",
    "print(\"\\nTest data shape:\", X_test.shape)\n",
    "print(\"Test label shape:\", y_test.shape)\n",
    "print(\"Near crash event test data size: \", np.where(y_test == 1)[0].shape)\n",
    "print(\"No near crash event test data size: \", np.where(y_test == 0)[0].shape)"
   ]
  },
  {
   "cell_type": "markdown",
   "metadata": {},
   "source": [
    "### Support Vector Machines"
   ]
  },
  {
   "cell_type": "code",
   "execution_count": 111,
   "metadata": {},
   "outputs": [
    {
     "data": {
      "text/plain": [
       "SVC(C=10, gamma=1, probability=True)"
      ]
     },
     "execution_count": 111,
     "metadata": {},
     "output_type": "execute_result"
    }
   ],
   "source": [
    "clf_svm = svm.SVC(C=10, gamma=1, kernel='rbf', probability=True)\n",
    "clf_svm.fit(X_train, y_train)"
   ]
  },
  {
   "cell_type": "markdown",
   "metadata": {},
   "source": [
    "### Decision Trees"
   ]
  },
  {
   "cell_type": "code",
   "execution_count": 340,
   "metadata": {},
   "outputs": [
    {
     "name": "stdout",
     "output_type": "stream",
     "text": [
      "7 15\n"
     ]
    },
    {
     "data": {
      "image/png": "[encoded data removed]",
      "text/plain": [
       "<Figure size 960x400 with 1 Axes>"
      ]
     },
     "metadata": {
      "needs_background": "light"
     },
     "output_type": "display_data"
    }
   ],
   "source": [
    "clf_dt = tree.DecisionTreeClassifier(criterion = \"gini\")\n",
    "clf_dt.fit(X_train, y_train)\n",
    "\n",
    "print(clf_dt.get_depth(), clf_dt.get_n_leaves())\n",
    "\n",
    "# Check more significants variables\n",
    "def plot_feature_importances(clf, features_names):\n",
    "    c_features = len(features_names)\n",
    "    plt.barh(range(c_features), clf.feature_importances_)\n",
    "    plt.xlabel(\"Feature importance\")\n",
    "    plt.ylabel(\"Feature name\")\n",
    "    plt.yticks(np.arange(c_features), features_names)\n",
    "\n",
    "plt.figure(figsize=(12,5), dpi=80)\n",
    "plot_feature_importances(clf_dt, features_names)\n",
    "plt.show()"
   ]
  },
  {
   "cell_type": "markdown",
   "metadata": {},
   "source": [
    "#### Decision tree representation"
   ]
  },
  {
   "cell_type": "code",
   "execution_count": 95,
   "metadata": {},
   "outputs": [
    {
     "data": {
      "image/svg+xml": "<?xml version=\"1.0\" encoding=\"UTF-8\" standalone=\"no\"?>\n<!DOCTYPE svg PUBLIC \"-//W3C//DTD SVG 1.1//EN\"\n \"http://www.w3.org/Graphics/SVG/1.1/DTD/svg11.dtd\">\n<!-- Generated by graphviz version 2.40.1 (20161225.0304)\n -->\n<!-- Title: Tree Pages: 1 -->\n<svg width=\"2606pt\" height=\"1623pt\"\n viewBox=\"0.00 0.00 2606.00 1623.00\" xmlns=\"http://www.w3.org/2000/svg\" xmlns:xlink=\"http://www.w3.org/1999/xlink\">\n<g id=\"graph0\" class=\"graph\" transform=\"scale(1 1) rotate(0) translate(4 1619)\">\n<title>Tree</title>\n<polygon fill=\"#ffffff\" stroke=\"transparent\" points=\"-4,4 -4,-1619 2602,-1619 2602,4 -4,4\"/>\n<!-- 0 -->\n<g id=\"node1\" class=\"node\">\n<title>0</title>\n<path fill=\"#e88e4e\" stroke=\"#000000\" d=\"M1205,-1615C1205,-1615 1086,-1615 1086,-1615 1080,-1615 1074,-1609 1074,-1603 1074,-1603 1074,-1544 1074,-1544 1074,-1538 1080,-1532 1086,-1532 1086,-1532 1205,-1532 1205,-1532 1211,-1532 1217,-1538 1217,-1544 1217,-1544 1217,-1603 1217,-1603 1217,-1609 1211,-1615 1205,-1615\"/>\n<text text-anchor=\"start\" x=\"1082\" y=\"-1599.8\" font-family=\"Helvetica,sans-Serif\" font-size=\"14.00\" fill=\"#000000\">mean_accY ≤ &#45;1.975</text>\n<text text-anchor=\"start\" x=\"1110\" y=\"-1584.8\" font-family=\"Helvetica,sans-Serif\" font-size=\"14.00\" fill=\"#000000\">gini = 0.173</text>\n<text text-anchor=\"start\" x=\"1097\" y=\"-1569.8\" font-family=\"Helvetica,sans-Serif\" font-size=\"14.00\" fill=\"#000000\">samples = 2711</text>\n<text text-anchor=\"start\" x=\"1087.5\" y=\"-1554.8\" font-family=\"Helvetica,sans-Serif\" font-size=\"14.00\" fill=\"#000000\">value = [2451, 260]</text>\n<text text-anchor=\"start\" x=\"1100\" y=\"-1539.8\" font-family=\"Helvetica,sans-Serif\" font-size=\"14.00\" fill=\"#000000\">class = Normal</text>\n</g>\n<!-- 1 -->\n<g id=\"node2\" class=\"node\">\n<title>1</title>\n<path fill=\"#55abe9\" stroke=\"#000000\" d=\"M986.5,-1496C986.5,-1496 852.5,-1496 852.5,-1496 846.5,-1496 840.5,-1490 840.5,-1484 840.5,-1484 840.5,-1425 840.5,-1425 840.5,-1419 846.5,-1413 852.5,-1413 852.5,-1413 986.5,-1413 986.5,-1413 992.5,-1413 998.5,-1419 998.5,-1425 998.5,-1425 998.5,-1484 998.5,-1484 998.5,-1490 992.5,-1496 986.5,-1496\"/>\n<text text-anchor=\"start\" x=\"848.5\" y=\"-1480.8\" font-family=\"Helvetica,sans-Serif\" font-size=\"14.00\" fill=\"#000000\">tendency_accY ≤ 1.106</text>\n<text text-anchor=\"start\" x=\"884\" y=\"-1465.8\" font-family=\"Helvetica,sans-Serif\" font-size=\"14.00\" fill=\"#000000\">gini = 0.219</text>\n<text text-anchor=\"start\" x=\"874.5\" y=\"-1450.8\" font-family=\"Helvetica,sans-Serif\" font-size=\"14.00\" fill=\"#000000\">samples = 184</text>\n<text text-anchor=\"start\" x=\"869\" y=\"-1435.8\" font-family=\"Helvetica,sans-Serif\" font-size=\"14.00\" fill=\"#000000\">value = [23, 161]</text>\n<text text-anchor=\"start\" x=\"861\" y=\"-1420.8\" font-family=\"Helvetica,sans-Serif\" font-size=\"14.00\" fill=\"#000000\">class = Near&#45;Crash</text>\n</g>\n<!-- 0&#45;&gt;1 -->\n<g id=\"edge1\" class=\"edge\">\n<title>0&#45;&gt;1</title>\n<path fill=\"none\" stroke=\"#000000\" d=\"M1073.9922,-1535.8477C1052.8517,-1524.7162 1029.4612,-1512.3999 1007.4127,-1500.7903\"/>\n<polygon fill=\"#000000\" stroke=\"#000000\" points=\"1008.8642,-1497.5991 998.3852,-1496.0369 1005.6028,-1503.7929 1008.8642,-1497.5991\"/>\n<text text-anchor=\"middle\" x=\"1004.3097\" y=\"-1511.4392\" font-family=\"Helvetica,sans-Serif\" font-size=\"14.00\" fill=\"#000000\">True</text>\n</g>\n<!-- 24 -->\n<g id=\"node25\" class=\"node\">\n<title>24</title>\n<path fill=\"#e68641\" stroke=\"#000000\" d=\"M1433,-1496C1433,-1496 1302,-1496 1302,-1496 1296,-1496 1290,-1490 1290,-1484 1290,-1484 1290,-1425 1290,-1425 1290,-1419 1296,-1413 1302,-1413 1302,-1413 1433,-1413 1433,-1413 1439,-1413 1445,-1419 1445,-1425 1445,-1425 1445,-1484 1445,-1484 1445,-1490 1439,-1496 1433,-1496\"/>\n<text text-anchor=\"start\" x=\"1298\" y=\"-1480.8\" font-family=\"Helvetica,sans-Serif\" font-size=\"14.00\" fill=\"#000000\">min_val_accY ≤ &#45;2.654</text>\n<text text-anchor=\"start\" x=\"1332\" y=\"-1465.8\" font-family=\"Helvetica,sans-Serif\" font-size=\"14.00\" fill=\"#000000\">gini = 0.075</text>\n<text text-anchor=\"start\" x=\"1319\" y=\"-1450.8\" font-family=\"Helvetica,sans-Serif\" font-size=\"14.00\" fill=\"#000000\">samples = 2527</text>\n<text text-anchor=\"start\" x=\"1313\" y=\"-1435.8\" font-family=\"Helvetica,sans-Serif\" font-size=\"14.00\" fill=\"#000000\">value = [2428, 99]</text>\n<text text-anchor=\"start\" x=\"1322\" y=\"-1420.8\" font-family=\"Helvetica,sans-Serif\" font-size=\"14.00\" fill=\"#000000\">class = Normal</text>\n</g>\n<!-- 0&#45;&gt;24 -->\n<g id=\"edge24\" class=\"edge\">\n<title>0&#45;&gt;24</title>\n<path fill=\"none\" stroke=\"#000000\" d=\"M1217.2705,-1535.0284C1237.5552,-1524.1551 1259.8459,-1512.2065 1280.9037,-1500.9187\"/>\n<polygon fill=\"#000000\" stroke=\"#000000\" points=\"1282.6835,-1503.9359 1289.8436,-1496.1266 1279.3764,-1497.7663 1282.6835,-1503.9359\"/>\n<text text-anchor=\"middle\" x=\"1284.0606\" y=\"-1511.5723\" font-family=\"Helvetica,sans-Serif\" font-size=\"14.00\" fill=\"#000000\">False</text>\n</g>\n<!-- 2 -->\n<g id=\"node3\" class=\"node\">\n<title>2</title>\n<path fill=\"#46a4e7\" stroke=\"#000000\" d=\"M518,-1377C518,-1377 389,-1377 389,-1377 383,-1377 377,-1371 377,-1365 377,-1365 377,-1306 377,-1306 377,-1300 383,-1294 389,-1294 389,-1294 518,-1294 518,-1294 524,-1294 530,-1300 530,-1306 530,-1306 530,-1365 530,-1365 530,-1371 524,-1377 518,-1377\"/>\n<text text-anchor=\"start\" x=\"385\" y=\"-1361.8\" font-family=\"Helvetica,sans-Serif\" font-size=\"14.00\" fill=\"#000000\">median_accY ≤ &#45;5.121</text>\n<text text-anchor=\"start\" x=\"418\" y=\"-1346.8\" font-family=\"Helvetica,sans-Serif\" font-size=\"14.00\" fill=\"#000000\">gini = 0.117</text>\n<text text-anchor=\"start\" x=\"408.5\" y=\"-1331.8\" font-family=\"Helvetica,sans-Serif\" font-size=\"14.00\" fill=\"#000000\">samples = 160</text>\n<text text-anchor=\"start\" x=\"403\" y=\"-1316.8\" font-family=\"Helvetica,sans-Serif\" font-size=\"14.00\" fill=\"#000000\">value = [10, 150]</text>\n<text text-anchor=\"start\" x=\"395\" y=\"-1301.8\" font-family=\"Helvetica,sans-Serif\" font-size=\"14.00\" fill=\"#000000\">class = Near&#45;Crash</text>\n</g>\n<!-- 1&#45;&gt;2 -->\n<g id=\"edge2\" class=\"edge\">\n<title>1&#45;&gt;2</title>\n<path fill=\"none\" stroke=\"#000000\" d=\"M840.4495,-1434.3133C757.0627,-1413.0192 626.0596,-1379.5657 539.9719,-1357.5819\"/>\n<polygon fill=\"#000000\" stroke=\"#000000\" points=\"540.7791,-1354.1758 530.224,-1355.0926 539.0471,-1360.9581 540.7791,-1354.1758\"/>\n</g>\n<!-- 15 -->\n<g id=\"node16\" class=\"node\">\n<title>15</title>\n<path fill=\"#fbece1\" stroke=\"#000000\" d=\"M971.5,-1377C971.5,-1377 867.5,-1377 867.5,-1377 861.5,-1377 855.5,-1371 855.5,-1365 855.5,-1365 855.5,-1306 855.5,-1306 855.5,-1300 861.5,-1294 867.5,-1294 867.5,-1294 971.5,-1294 971.5,-1294 977.5,-1294 983.5,-1300 983.5,-1306 983.5,-1306 983.5,-1365 983.5,-1365 983.5,-1371 977.5,-1377 971.5,-1377\"/>\n<text text-anchor=\"start\" x=\"863.5\" y=\"-1361.8\" font-family=\"Helvetica,sans-Serif\" font-size=\"14.00\" fill=\"#000000\">std_speed ≤ 0.671</text>\n<text text-anchor=\"start\" x=\"884\" y=\"-1346.8\" font-family=\"Helvetica,sans-Serif\" font-size=\"14.00\" fill=\"#000000\">gini = 0.497</text>\n<text text-anchor=\"start\" x=\"878.5\" y=\"-1331.8\" font-family=\"Helvetica,sans-Serif\" font-size=\"14.00\" fill=\"#000000\">samples = 24</text>\n<text text-anchor=\"start\" x=\"872.5\" y=\"-1316.8\" font-family=\"Helvetica,sans-Serif\" font-size=\"14.00\" fill=\"#000000\">value = [13, 11]</text>\n<text text-anchor=\"start\" x=\"874\" y=\"-1301.8\" font-family=\"Helvetica,sans-Serif\" font-size=\"14.00\" fill=\"#000000\">class = Normal</text>\n</g>\n<!-- 1&#45;&gt;15 -->\n<g id=\"edge15\" class=\"edge\">\n<title>1&#45;&gt;15</title>\n<path fill=\"none\" stroke=\"#000000\" d=\"M919.5,-1412.8796C919.5,-1404.6838 919.5,-1395.9891 919.5,-1387.5013\"/>\n<polygon fill=\"#000000\" stroke=\"#000000\" points=\"923.0001,-1387.298 919.5,-1377.2981 916.0001,-1387.2981 923.0001,-1387.298\"/>\n</g>\n<!-- 3 -->\n<g id=\"node4\" class=\"node\">\n<title>3</title>\n<path fill=\"#399de5\" stroke=\"#000000\" d=\"M347,-1250.5C347,-1250.5 238,-1250.5 238,-1250.5 232,-1250.5 226,-1244.5 226,-1238.5 226,-1238.5 226,-1194.5 226,-1194.5 226,-1188.5 232,-1182.5 238,-1182.5 238,-1182.5 347,-1182.5 347,-1182.5 353,-1182.5 359,-1188.5 359,-1194.5 359,-1194.5 359,-1238.5 359,-1238.5 359,-1244.5 353,-1250.5 347,-1250.5\"/>\n<text text-anchor=\"start\" x=\"264.5\" y=\"-1235.3\" font-family=\"Helvetica,sans-Serif\" font-size=\"14.00\" fill=\"#000000\">gini = 0.0</text>\n<text text-anchor=\"start\" x=\"251.5\" y=\"-1220.3\" font-family=\"Helvetica,sans-Serif\" font-size=\"14.00\" fill=\"#000000\">samples = 98</text>\n<text text-anchor=\"start\" x=\"249.5\" y=\"-1205.3\" font-family=\"Helvetica,sans-Serif\" font-size=\"14.00\" fill=\"#000000\">value = [0, 98]</text>\n<text text-anchor=\"start\" x=\"234\" y=\"-1190.3\" font-family=\"Helvetica,sans-Serif\" font-size=\"14.00\" fill=\"#000000\">class = Near&#45;Crash</text>\n</g>\n<!-- 2&#45;&gt;3 -->\n<g id=\"edge3\" class=\"edge\">\n<title>2&#45;&gt;3</title>\n<path fill=\"none\" stroke=\"#000000\" d=\"M397.19,-1293.8796C380.8968,-1281.8368 363.1461,-1268.7167 346.9675,-1256.7586\"/>\n<polygon fill=\"#000000\" stroke=\"#000000\" points=\"348.7886,-1253.7524 338.6665,-1250.623 344.6279,-1259.3816 348.7886,-1253.7524\"/>\n</g>\n<!-- 4 -->\n<g id=\"node5\" class=\"node\">\n<title>4</title>\n<path fill=\"#5fb0ea\" stroke=\"#000000\" d=\"M518,-1258C518,-1258 389,-1258 389,-1258 383,-1258 377,-1252 377,-1246 377,-1246 377,-1187 377,-1187 377,-1181 383,-1175 389,-1175 389,-1175 518,-1175 518,-1175 524,-1175 530,-1181 530,-1187 530,-1187 530,-1246 530,-1246 530,-1252 524,-1258 518,-1258\"/>\n<text text-anchor=\"start\" x=\"385\" y=\"-1242.8\" font-family=\"Helvetica,sans-Serif\" font-size=\"14.00\" fill=\"#000000\">median_accY ≤ &#45;4.408</text>\n<text text-anchor=\"start\" x=\"418\" y=\"-1227.8\" font-family=\"Helvetica,sans-Serif\" font-size=\"14.00\" fill=\"#000000\">gini = 0.271</text>\n<text text-anchor=\"start\" x=\"412.5\" y=\"-1212.8\" font-family=\"Helvetica,sans-Serif\" font-size=\"14.00\" fill=\"#000000\">samples = 62</text>\n<text text-anchor=\"start\" x=\"406.5\" y=\"-1197.8\" font-family=\"Helvetica,sans-Serif\" font-size=\"14.00\" fill=\"#000000\">value = [10, 52]</text>\n<text text-anchor=\"start\" x=\"395\" y=\"-1182.8\" font-family=\"Helvetica,sans-Serif\" font-size=\"14.00\" fill=\"#000000\">class = Near&#45;Crash</text>\n</g>\n<!-- 2&#45;&gt;4 -->\n<g id=\"edge4\" class=\"edge\">\n<title>2&#45;&gt;4</title>\n<path fill=\"none\" stroke=\"#000000\" d=\"M453.5,-1293.8796C453.5,-1285.6838 453.5,-1276.9891 453.5,-1268.5013\"/>\n<polygon fill=\"#000000\" stroke=\"#000000\" points=\"457.0001,-1268.298 453.5,-1258.2981 450.0001,-1268.2981 457.0001,-1268.298\"/>\n</g>\n<!-- 5 -->\n<g id=\"node6\" class=\"node\">\n<title>5</title>\n<path fill=\"#f2c09c\" stroke=\"#000000\" d=\"M271.5,-1139C271.5,-1139 137.5,-1139 137.5,-1139 131.5,-1139 125.5,-1133 125.5,-1127 125.5,-1127 125.5,-1068 125.5,-1068 125.5,-1062 131.5,-1056 137.5,-1056 137.5,-1056 271.5,-1056 271.5,-1056 277.5,-1056 283.5,-1062 283.5,-1068 283.5,-1068 283.5,-1127 283.5,-1127 283.5,-1133 277.5,-1139 271.5,-1139\"/>\n<text text-anchor=\"start\" x=\"133.5\" y=\"-1123.8\" font-family=\"Helvetica,sans-Serif\" font-size=\"14.00\" fill=\"#000000\">tendency_accY ≤ 1.021</text>\n<text text-anchor=\"start\" x=\"169\" y=\"-1108.8\" font-family=\"Helvetica,sans-Serif\" font-size=\"14.00\" fill=\"#000000\">gini = 0.444</text>\n<text text-anchor=\"start\" x=\"167\" y=\"-1093.8\" font-family=\"Helvetica,sans-Serif\" font-size=\"14.00\" fill=\"#000000\">samples = 9</text>\n<text text-anchor=\"start\" x=\"165\" y=\"-1078.8\" font-family=\"Helvetica,sans-Serif\" font-size=\"14.00\" fill=\"#000000\">value = [6, 3]</text>\n<text text-anchor=\"start\" x=\"159\" y=\"-1063.8\" font-family=\"Helvetica,sans-Serif\" font-size=\"14.00\" fill=\"#000000\">class = Normal</text>\n</g>\n<!-- 4&#45;&gt;5 -->\n<g id=\"edge5\" class=\"edge\">\n<title>4&#45;&gt;5</title>\n<path fill=\"none\" stroke=\"#000000\" d=\"M376.6165,-1179.3722C373.5382,-1177.8942 370.4903,-1176.4323 367.5,-1175 343.3187,-1163.417 317.0916,-1150.9187 292.8881,-1139.411\"/>\n<polygon fill=\"#000000\" stroke=\"#000000\" points=\"294.2536,-1136.1849 283.7194,-1135.0531 291.2485,-1142.5071 294.2536,-1136.1849\"/>\n</g>\n<!-- 8 -->\n<g id=\"node9\" class=\"node\">\n<title>8</title>\n<path fill=\"#49a5e7\" stroke=\"#000000\" d=\"M523,-1139C523,-1139 384,-1139 384,-1139 378,-1139 372,-1133 372,-1127 372,-1127 372,-1068 372,-1068 372,-1062 378,-1056 384,-1056 384,-1056 523,-1056 523,-1056 529,-1056 535,-1062 535,-1068 535,-1068 535,-1127 535,-1127 535,-1133 529,-1139 523,-1139\"/>\n<text text-anchor=\"start\" x=\"380\" y=\"-1123.8\" font-family=\"Helvetica,sans-Serif\" font-size=\"14.00\" fill=\"#000000\">median_speed ≤ 23.706</text>\n<text text-anchor=\"start\" x=\"421.5\" y=\"-1108.8\" font-family=\"Helvetica,sans-Serif\" font-size=\"14.00\" fill=\"#000000\">gini = 0.14</text>\n<text text-anchor=\"start\" x=\"412.5\" y=\"-1093.8\" font-family=\"Helvetica,sans-Serif\" font-size=\"14.00\" fill=\"#000000\">samples = 53</text>\n<text text-anchor=\"start\" x=\"410.5\" y=\"-1078.8\" font-family=\"Helvetica,sans-Serif\" font-size=\"14.00\" fill=\"#000000\">value = [4, 49]</text>\n<text text-anchor=\"start\" x=\"395\" y=\"-1063.8\" font-family=\"Helvetica,sans-Serif\" font-size=\"14.00\" fill=\"#000000\">class = Near&#45;Crash</text>\n</g>\n<!-- 4&#45;&gt;8 -->\n<g id=\"edge8\" class=\"edge\">\n<title>4&#45;&gt;8</title>\n<path fill=\"none\" stroke=\"#000000\" d=\"M453.5,-1174.8796C453.5,-1166.6838 453.5,-1157.9891 453.5,-1149.5013\"/>\n<polygon fill=\"#000000\" stroke=\"#000000\" points=\"457.0001,-1149.298 453.5,-1139.2981 450.0001,-1149.2981 457.0001,-1149.298\"/>\n</g>\n<!-- 6 -->\n<g id=\"node7\" class=\"node\">\n<title>6</title>\n<path fill=\"#399de5\" stroke=\"#000000\" d=\"M121,-1012.5C121,-1012.5 12,-1012.5 12,-1012.5 6,-1012.5 0,-1006.5 0,-1000.5 0,-1000.5 0,-956.5 0,-956.5 0,-950.5 6,-944.5 12,-944.5 12,-944.5 121,-944.5 121,-944.5 127,-944.5 133,-950.5 133,-956.5 133,-956.5 133,-1000.5 133,-1000.5 133,-1006.5 127,-1012.5 121,-1012.5\"/>\n<text text-anchor=\"start\" x=\"38.5\" y=\"-997.3\" font-family=\"Helvetica,sans-Serif\" font-size=\"14.00\" fill=\"#000000\">gini = 0.0</text>\n<text text-anchor=\"start\" x=\"29\" y=\"-982.3\" font-family=\"Helvetica,sans-Serif\" font-size=\"14.00\" fill=\"#000000\">samples = 3</text>\n<text text-anchor=\"start\" x=\"27\" y=\"-967.3\" font-family=\"Helvetica,sans-Serif\" font-size=\"14.00\" fill=\"#000000\">value = [0, 3]</text>\n<text text-anchor=\"start\" x=\"8\" y=\"-952.3\" font-family=\"Helvetica,sans-Serif\" font-size=\"14.00\" fill=\"#000000\">class = Near&#45;Crash</text>\n</g>\n<!-- 5&#45;&gt;6 -->\n<g id=\"edge6\" class=\"edge\">\n<title>5&#45;&gt;6</title>\n<path fill=\"none\" stroke=\"#000000\" d=\"M156.2343,-1055.8796C142.5899,-1044.1138 127.7531,-1031.3197 114.1454,-1019.5855\"/>\n<polygon fill=\"#000000\" stroke=\"#000000\" points=\"116.1527,-1016.6948 106.2938,-1012.8149 111.5813,-1021.9961 116.1527,-1016.6948\"/>\n</g>\n<!-- 7 -->\n<g id=\"node8\" class=\"node\">\n<title>7</title>\n<path fill=\"#e58139\" stroke=\"#000000\" d=\"M246,-1012.5C246,-1012.5 163,-1012.5 163,-1012.5 157,-1012.5 151,-1006.5 151,-1000.5 151,-1000.5 151,-956.5 151,-956.5 151,-950.5 157,-944.5 163,-944.5 163,-944.5 246,-944.5 246,-944.5 252,-944.5 258,-950.5 258,-956.5 258,-956.5 258,-1000.5 258,-1000.5 258,-1006.5 252,-1012.5 246,-1012.5\"/>\n<text text-anchor=\"start\" x=\"176.5\" y=\"-997.3\" font-family=\"Helvetica,sans-Serif\" font-size=\"14.00\" fill=\"#000000\">gini = 0.0</text>\n<text text-anchor=\"start\" x=\"167\" y=\"-982.3\" font-family=\"Helvetica,sans-Serif\" font-size=\"14.00\" fill=\"#000000\">samples = 6</text>\n<text text-anchor=\"start\" x=\"165\" y=\"-967.3\" font-family=\"Helvetica,sans-Serif\" font-size=\"14.00\" fill=\"#000000\">value = [6, 0]</text>\n<text text-anchor=\"start\" x=\"159\" y=\"-952.3\" font-family=\"Helvetica,sans-Serif\" font-size=\"14.00\" fill=\"#000000\">class = Normal</text>\n</g>\n<!-- 5&#45;&gt;7 -->\n<g id=\"edge7\" class=\"edge\">\n<title>5&#45;&gt;7</title>\n<path fill=\"none\" stroke=\"#000000\" d=\"M204.5,-1055.8796C204.5,-1045.2134 204.5,-1033.7021 204.5,-1022.9015\"/>\n<polygon fill=\"#000000\" stroke=\"#000000\" points=\"208.0001,-1022.8149 204.5,-1012.8149 201.0001,-1022.815 208.0001,-1022.8149\"/>\n</g>\n<!-- 9 -->\n<g id=\"node10\" class=\"node\">\n<title>9</title>\n<path fill=\"#91c9f1\" stroke=\"#000000\" d=\"M427,-1020C427,-1020 288,-1020 288,-1020 282,-1020 276,-1014 276,-1008 276,-1008 276,-949 276,-949 276,-943 282,-937 288,-937 288,-937 427,-937 427,-937 433,-937 439,-943 439,-949 439,-949 439,-1008 439,-1008 439,-1014 433,-1020 427,-1020\"/>\n<text text-anchor=\"start\" x=\"284\" y=\"-1004.8\" font-family=\"Helvetica,sans-Serif\" font-size=\"14.00\" fill=\"#000000\">median_speed ≤ 20.632</text>\n<text text-anchor=\"start\" x=\"322\" y=\"-989.8\" font-family=\"Helvetica,sans-Serif\" font-size=\"14.00\" fill=\"#000000\">gini = 0.426</text>\n<text text-anchor=\"start\" x=\"316.5\" y=\"-974.8\" font-family=\"Helvetica,sans-Serif\" font-size=\"14.00\" fill=\"#000000\">samples = 13</text>\n<text text-anchor=\"start\" x=\"318\" y=\"-959.8\" font-family=\"Helvetica,sans-Serif\" font-size=\"14.00\" fill=\"#000000\">value = [4, 9]</text>\n<text text-anchor=\"start\" x=\"299\" y=\"-944.8\" font-family=\"Helvetica,sans-Serif\" font-size=\"14.00\" fill=\"#000000\">class = Near&#45;Crash</text>\n</g>\n<!-- 8&#45;&gt;9 -->\n<g id=\"edge9\" class=\"edge\">\n<title>8&#45;&gt;9</title>\n<path fill=\"none\" stroke=\"#000000\" d=\"M419.9239,-1055.8796C412.7309,-1046.9633 405.0616,-1037.4565 397.649,-1028.268\"/>\n<polygon fill=\"#000000\" stroke=\"#000000\" points=\"400.2224,-1025.8836 391.2195,-1020.2981 394.7742,-1030.2788 400.2224,-1025.8836\"/>\n</g>\n<!-- 14 -->\n<g id=\"node15\" class=\"node\">\n<title>14</title>\n<path fill=\"#399de5\" stroke=\"#000000\" d=\"M578,-1012.5C578,-1012.5 469,-1012.5 469,-1012.5 463,-1012.5 457,-1006.5 457,-1000.5 457,-1000.5 457,-956.5 457,-956.5 457,-950.5 463,-944.5 469,-944.5 469,-944.5 578,-944.5 578,-944.5 584,-944.5 590,-950.5 590,-956.5 590,-956.5 590,-1000.5 590,-1000.5 590,-1006.5 584,-1012.5 578,-1012.5\"/>\n<text text-anchor=\"start\" x=\"495.5\" y=\"-997.3\" font-family=\"Helvetica,sans-Serif\" font-size=\"14.00\" fill=\"#000000\">gini = 0.0</text>\n<text text-anchor=\"start\" x=\"482.5\" y=\"-982.3\" font-family=\"Helvetica,sans-Serif\" font-size=\"14.00\" fill=\"#000000\">samples = 40</text>\n<text text-anchor=\"start\" x=\"480.5\" y=\"-967.3\" font-family=\"Helvetica,sans-Serif\" font-size=\"14.00\" fill=\"#000000\">value = [0, 40]</text>\n<text text-anchor=\"start\" x=\"465\" y=\"-952.3\" font-family=\"Helvetica,sans-Serif\" font-size=\"14.00\" fill=\"#000000\">class = Near&#45;Crash</text>\n</g>\n<!-- 8&#45;&gt;14 -->\n<g id=\"edge14\" class=\"edge\">\n<title>8&#45;&gt;14</title>\n<path fill=\"none\" stroke=\"#000000\" d=\"M477.9826,-1055.8796C484.5156,-1044.7735 491.5875,-1032.7513 498.1652,-1021.5691\"/>\n<polygon fill=\"#000000\" stroke=\"#000000\" points=\"501.2613,-1023.2089 503.3147,-1012.8149 495.2277,-1019.6597 501.2613,-1023.2089\"/>\n</g>\n<!-- 10 -->\n<g id=\"node11\" class=\"node\">\n<title>10</title>\n<path fill=\"#4fa8e8\" stroke=\"#000000\" d=\"M351,-901C351,-901 210,-901 210,-901 204,-901 198,-895 198,-889 198,-889 198,-830 198,-830 198,-824 204,-818 210,-818 210,-818 351,-818 351,-818 357,-818 363,-824 363,-830 363,-830 363,-889 363,-889 363,-895 357,-901 351,-901\"/>\n<text text-anchor=\"start\" x=\"206\" y=\"-885.8\" font-family=\"Helvetica,sans-Serif\" font-size=\"14.00\" fill=\"#000000\">tendency_speed ≤ 0.961</text>\n<text text-anchor=\"start\" x=\"248.5\" y=\"-870.8\" font-family=\"Helvetica,sans-Serif\" font-size=\"14.00\" fill=\"#000000\">gini = 0.18</text>\n<text text-anchor=\"start\" x=\"239.5\" y=\"-855.8\" font-family=\"Helvetica,sans-Serif\" font-size=\"14.00\" fill=\"#000000\">samples = 10</text>\n<text text-anchor=\"start\" x=\"241\" y=\"-840.8\" font-family=\"Helvetica,sans-Serif\" font-size=\"14.00\" fill=\"#000000\">value = [1, 9]</text>\n<text text-anchor=\"start\" x=\"222\" y=\"-825.8\" font-family=\"Helvetica,sans-Serif\" font-size=\"14.00\" fill=\"#000000\">class = Near&#45;Crash</text>\n</g>\n<!-- 9&#45;&gt;10 -->\n<g id=\"edge10\" class=\"edge\">\n<title>9&#45;&gt;10</title>\n<path fill=\"none\" stroke=\"#000000\" d=\"M330.5691,-936.8796C324.9163,-928.1434 318.8967,-918.8404 313.0634,-909.8253\"/>\n<polygon fill=\"#000000\" stroke=\"#000000\" points=\"315.9169,-907.7924 307.5458,-901.2981 310.0399,-911.5952 315.9169,-907.7924\"/>\n</g>\n<!-- 13 -->\n<g id=\"node14\" class=\"node\">\n<title>13</title>\n<path fill=\"#e58139\" stroke=\"#000000\" d=\"M476,-893.5C476,-893.5 393,-893.5 393,-893.5 387,-893.5 381,-887.5 381,-881.5 381,-881.5 381,-837.5 381,-837.5 381,-831.5 387,-825.5 393,-825.5 393,-825.5 476,-825.5 476,-825.5 482,-825.5 488,-831.5 488,-837.5 488,-837.5 488,-881.5 488,-881.5 488,-887.5 482,-893.5 476,-893.5\"/>\n<text text-anchor=\"start\" x=\"406.5\" y=\"-878.3\" font-family=\"Helvetica,sans-Serif\" font-size=\"14.00\" fill=\"#000000\">gini = 0.0</text>\n<text text-anchor=\"start\" x=\"397\" y=\"-863.3\" font-family=\"Helvetica,sans-Serif\" font-size=\"14.00\" fill=\"#000000\">samples = 3</text>\n<text text-anchor=\"start\" x=\"395\" y=\"-848.3\" font-family=\"Helvetica,sans-Serif\" font-size=\"14.00\" fill=\"#000000\">value = [3, 0]</text>\n<text text-anchor=\"start\" x=\"389\" y=\"-833.3\" font-family=\"Helvetica,sans-Serif\" font-size=\"14.00\" fill=\"#000000\">class = Normal</text>\n</g>\n<!-- 9&#45;&gt;13 -->\n<g id=\"edge13\" class=\"edge\">\n<title>9&#45;&gt;13</title>\n<path fill=\"none\" stroke=\"#000000\" d=\"M384.4309,-936.8796C391.6883,-925.6636 399.5503,-913.5131 406.8465,-902.2372\"/>\n<polygon fill=\"#000000\" stroke=\"#000000\" points=\"409.8022,-904.112 412.2962,-893.8149 403.9252,-900.3093 409.8022,-904.112\"/>\n</g>\n<!-- 11 -->\n<g id=\"node12\" class=\"node\">\n<title>11</title>\n<path fill=\"#e58139\" stroke=\"#000000\" d=\"M253,-774.5C253,-774.5 170,-774.5 170,-774.5 164,-774.5 158,-768.5 158,-762.5 158,-762.5 158,-718.5 158,-718.5 158,-712.5 164,-706.5 170,-706.5 170,-706.5 253,-706.5 253,-706.5 259,-706.5 265,-712.5 265,-718.5 265,-718.5 265,-762.5 265,-762.5 265,-768.5 259,-774.5 253,-774.5\"/>\n<text text-anchor=\"start\" x=\"183.5\" y=\"-759.3\" font-family=\"Helvetica,sans-Serif\" font-size=\"14.00\" fill=\"#000000\">gini = 0.0</text>\n<text text-anchor=\"start\" x=\"174\" y=\"-744.3\" font-family=\"Helvetica,sans-Serif\" font-size=\"14.00\" fill=\"#000000\">samples = 1</text>\n<text text-anchor=\"start\" x=\"172\" y=\"-729.3\" font-family=\"Helvetica,sans-Serif\" font-size=\"14.00\" fill=\"#000000\">value = [1, 0]</text>\n<text text-anchor=\"start\" x=\"166\" y=\"-714.3\" font-family=\"Helvetica,sans-Serif\" font-size=\"14.00\" fill=\"#000000\">class = Normal</text>\n</g>\n<!-- 10&#45;&gt;11 -->\n<g id=\"edge11\" class=\"edge\">\n<title>10&#45;&gt;11</title>\n<path fill=\"none\" stroke=\"#000000\" d=\"M256.3671,-817.8796C249.9275,-806.7735 242.9566,-794.7513 236.4729,-783.5691\"/>\n<polygon fill=\"#000000\" stroke=\"#000000\" points=\"239.4409,-781.7102 231.3969,-774.8149 233.3852,-785.2215 239.4409,-781.7102\"/>\n</g>\n<!-- 12 -->\n<g id=\"node13\" class=\"node\">\n<title>12</title>\n<path fill=\"#399de5\" stroke=\"#000000\" d=\"M404,-774.5C404,-774.5 295,-774.5 295,-774.5 289,-774.5 283,-768.5 283,-762.5 283,-762.5 283,-718.5 283,-718.5 283,-712.5 289,-706.5 295,-706.5 295,-706.5 404,-706.5 404,-706.5 410,-706.5 416,-712.5 416,-718.5 416,-718.5 416,-762.5 416,-762.5 416,-768.5 410,-774.5 404,-774.5\"/>\n<text text-anchor=\"start\" x=\"321.5\" y=\"-759.3\" font-family=\"Helvetica,sans-Serif\" font-size=\"14.00\" fill=\"#000000\">gini = 0.0</text>\n<text text-anchor=\"start\" x=\"312\" y=\"-744.3\" font-family=\"Helvetica,sans-Serif\" font-size=\"14.00\" fill=\"#000000\">samples = 9</text>\n<text text-anchor=\"start\" x=\"310\" y=\"-729.3\" font-family=\"Helvetica,sans-Serif\" font-size=\"14.00\" fill=\"#000000\">value = [0, 9]</text>\n<text text-anchor=\"start\" x=\"291\" y=\"-714.3\" font-family=\"Helvetica,sans-Serif\" font-size=\"14.00\" fill=\"#000000\">class = Near&#45;Crash</text>\n</g>\n<!-- 10&#45;&gt;12 -->\n<g id=\"edge12\" class=\"edge\">\n<title>10&#45;&gt;12</title>\n<path fill=\"none\" stroke=\"#000000\" d=\"M304.6329,-817.8796C311.0725,-806.7735 318.0434,-794.7513 324.5271,-783.5691\"/>\n<polygon fill=\"#000000\" stroke=\"#000000\" points=\"327.6148,-785.2215 329.6031,-774.8149 321.5591,-781.7102 327.6148,-785.2215\"/>\n</g>\n<!-- 16 -->\n<g id=\"node17\" class=\"node\">\n<title>16</title>\n<path fill=\"#eb9e67\" stroke=\"#000000\" d=\"M895.5,-1258C895.5,-1258 797.5,-1258 797.5,-1258 791.5,-1258 785.5,-1252 785.5,-1246 785.5,-1246 785.5,-1187 785.5,-1187 785.5,-1181 791.5,-1175 797.5,-1175 797.5,-1175 895.5,-1175 895.5,-1175 901.5,-1175 907.5,-1181 907.5,-1187 907.5,-1187 907.5,-1246 907.5,-1246 907.5,-1252 901.5,-1258 895.5,-1258\"/>\n<text text-anchor=\"start\" x=\"793.5\" y=\"-1242.8\" font-family=\"Helvetica,sans-Serif\" font-size=\"14.00\" fill=\"#000000\">std_accY ≤ 2.697</text>\n<text text-anchor=\"start\" x=\"811\" y=\"-1227.8\" font-family=\"Helvetica,sans-Serif\" font-size=\"14.00\" fill=\"#000000\">gini = 0.305</text>\n<text text-anchor=\"start\" x=\"805.5\" y=\"-1212.8\" font-family=\"Helvetica,sans-Serif\" font-size=\"14.00\" fill=\"#000000\">samples = 16</text>\n<text text-anchor=\"start\" x=\"803.5\" y=\"-1197.8\" font-family=\"Helvetica,sans-Serif\" font-size=\"14.00\" fill=\"#000000\">value = [13, 3]</text>\n<text text-anchor=\"start\" x=\"801\" y=\"-1182.8\" font-family=\"Helvetica,sans-Serif\" font-size=\"14.00\" fill=\"#000000\">class = Normal</text>\n</g>\n<!-- 15&#45;&gt;16 -->\n<g id=\"edge16\" class=\"edge\">\n<title>15&#45;&gt;16</title>\n<path fill=\"none\" stroke=\"#000000\" d=\"M893.9681,-1293.8796C888.609,-1285.1434 882.9021,-1275.8404 877.3718,-1266.8253\"/>\n<polygon fill=\"#000000\" stroke=\"#000000\" points=\"880.3533,-1264.9919 872.1408,-1258.2981 874.3865,-1268.6522 880.3533,-1264.9919\"/>\n</g>\n<!-- 23 -->\n<g id=\"node24\" class=\"node\">\n<title>23</title>\n<path fill=\"#399de5\" stroke=\"#000000\" d=\"M1047,-1250.5C1047,-1250.5 938,-1250.5 938,-1250.5 932,-1250.5 926,-1244.5 926,-1238.5 926,-1238.5 926,-1194.5 926,-1194.5 926,-1188.5 932,-1182.5 938,-1182.5 938,-1182.5 1047,-1182.5 1047,-1182.5 1053,-1182.5 1059,-1188.5 1059,-1194.5 1059,-1194.5 1059,-1238.5 1059,-1238.5 1059,-1244.5 1053,-1250.5 1047,-1250.5\"/>\n<text text-anchor=\"start\" x=\"964.5\" y=\"-1235.3\" font-family=\"Helvetica,sans-Serif\" font-size=\"14.00\" fill=\"#000000\">gini = 0.0</text>\n<text text-anchor=\"start\" x=\"955\" y=\"-1220.3\" font-family=\"Helvetica,sans-Serif\" font-size=\"14.00\" fill=\"#000000\">samples = 8</text>\n<text text-anchor=\"start\" x=\"953\" y=\"-1205.3\" font-family=\"Helvetica,sans-Serif\" font-size=\"14.00\" fill=\"#000000\">value = [0, 8]</text>\n<text text-anchor=\"start\" x=\"934\" y=\"-1190.3\" font-family=\"Helvetica,sans-Serif\" font-size=\"14.00\" fill=\"#000000\">class = Near&#45;Crash</text>\n</g>\n<!-- 15&#45;&gt;23 -->\n<g id=\"edge23\" class=\"edge\">\n<title>15&#45;&gt;23</title>\n<path fill=\"none\" stroke=\"#000000\" d=\"M945.0319,-1293.8796C951.8448,-1282.7735 959.2198,-1270.7513 966.0794,-1259.5691\"/>\n<polygon fill=\"#000000\" stroke=\"#000000\" points=\"969.204,-1261.1691 971.4497,-1250.8149 963.2372,-1257.5087 969.204,-1261.1691\"/>\n</g>\n<!-- 17 -->\n<g id=\"node18\" class=\"node\">\n<title>17</title>\n<path fill=\"#bddef6\" stroke=\"#000000\" d=\"M843.5,-1139C843.5,-1139 709.5,-1139 709.5,-1139 703.5,-1139 697.5,-1133 697.5,-1127 697.5,-1127 697.5,-1068 697.5,-1068 697.5,-1062 703.5,-1056 709.5,-1056 709.5,-1056 843.5,-1056 843.5,-1056 849.5,-1056 855.5,-1062 855.5,-1068 855.5,-1068 855.5,-1127 855.5,-1127 855.5,-1133 849.5,-1139 843.5,-1139\"/>\n<text text-anchor=\"start\" x=\"705.5\" y=\"-1123.8\" font-family=\"Helvetica,sans-Serif\" font-size=\"14.00\" fill=\"#000000\">tendency_accY ≤ 1.133</text>\n<text text-anchor=\"start\" x=\"744.5\" y=\"-1108.8\" font-family=\"Helvetica,sans-Serif\" font-size=\"14.00\" fill=\"#000000\">gini = 0.48</text>\n<text text-anchor=\"start\" x=\"739\" y=\"-1093.8\" font-family=\"Helvetica,sans-Serif\" font-size=\"14.00\" fill=\"#000000\">samples = 5</text>\n<text text-anchor=\"start\" x=\"737\" y=\"-1078.8\" font-family=\"Helvetica,sans-Serif\" font-size=\"14.00\" fill=\"#000000\">value = [2, 3]</text>\n<text text-anchor=\"start\" x=\"718\" y=\"-1063.8\" font-family=\"Helvetica,sans-Serif\" font-size=\"14.00\" fill=\"#000000\">class = Near&#45;Crash</text>\n</g>\n<!-- 16&#45;&gt;17 -->\n<g id=\"edge17\" class=\"edge\">\n<title>16&#45;&gt;17</title>\n<path fill=\"none\" stroke=\"#000000\" d=\"M822.0174,-1174.8796C816.9315,-1166.2335 811.5189,-1157.0322 806.2672,-1148.1042\"/>\n<polygon fill=\"#000000\" stroke=\"#000000\" points=\"809.1741,-1146.1428 801.0871,-1139.2981 803.1406,-1149.692 809.1741,-1146.1428\"/>\n</g>\n<!-- 22 -->\n<g id=\"node23\" class=\"node\">\n<title>22</title>\n<path fill=\"#e58139\" stroke=\"#000000\" d=\"M968,-1131.5C968,-1131.5 885,-1131.5 885,-1131.5 879,-1131.5 873,-1125.5 873,-1119.5 873,-1119.5 873,-1075.5 873,-1075.5 873,-1069.5 879,-1063.5 885,-1063.5 885,-1063.5 968,-1063.5 968,-1063.5 974,-1063.5 980,-1069.5 980,-1075.5 980,-1075.5 980,-1119.5 980,-1119.5 980,-1125.5 974,-1131.5 968,-1131.5\"/>\n<text text-anchor=\"start\" x=\"898.5\" y=\"-1116.3\" font-family=\"Helvetica,sans-Serif\" font-size=\"14.00\" fill=\"#000000\">gini = 0.0</text>\n<text text-anchor=\"start\" x=\"885.5\" y=\"-1101.3\" font-family=\"Helvetica,sans-Serif\" font-size=\"14.00\" fill=\"#000000\">samples = 11</text>\n<text text-anchor=\"start\" x=\"883.5\" y=\"-1086.3\" font-family=\"Helvetica,sans-Serif\" font-size=\"14.00\" fill=\"#000000\">value = [11, 0]</text>\n<text text-anchor=\"start\" x=\"881\" y=\"-1071.3\" font-family=\"Helvetica,sans-Serif\" font-size=\"14.00\" fill=\"#000000\">class = Normal</text>\n</g>\n<!-- 16&#45;&gt;22 -->\n<g id=\"edge22\" class=\"edge\">\n<title>16&#45;&gt;22</title>\n<path fill=\"none\" stroke=\"#000000\" d=\"M874.4801,-1174.8796C882.0203,-1163.6636 890.1887,-1151.5131 897.7691,-1140.2372\"/>\n<polygon fill=\"#000000\" stroke=\"#000000\" points=\"900.7566,-1142.0667 903.4311,-1131.8149 894.9473,-1138.1612 900.7566,-1142.0667\"/>\n</g>\n<!-- 18 -->\n<g id=\"node19\" class=\"node\">\n<title>18</title>\n<path fill=\"#399de5\" stroke=\"#000000\" d=\"M729,-1012.5C729,-1012.5 620,-1012.5 620,-1012.5 614,-1012.5 608,-1006.5 608,-1000.5 608,-1000.5 608,-956.5 608,-956.5 608,-950.5 614,-944.5 620,-944.5 620,-944.5 729,-944.5 729,-944.5 735,-944.5 741,-950.5 741,-956.5 741,-956.5 741,-1000.5 741,-1000.5 741,-1006.5 735,-1012.5 729,-1012.5\"/>\n<text text-anchor=\"start\" x=\"646.5\" y=\"-997.3\" font-family=\"Helvetica,sans-Serif\" font-size=\"14.00\" fill=\"#000000\">gini = 0.0</text>\n<text text-anchor=\"start\" x=\"637\" y=\"-982.3\" font-family=\"Helvetica,sans-Serif\" font-size=\"14.00\" fill=\"#000000\">samples = 2</text>\n<text text-anchor=\"start\" x=\"635\" y=\"-967.3\" font-family=\"Helvetica,sans-Serif\" font-size=\"14.00\" fill=\"#000000\">value = [0, 2]</text>\n<text text-anchor=\"start\" x=\"616\" y=\"-952.3\" font-family=\"Helvetica,sans-Serif\" font-size=\"14.00\" fill=\"#000000\">class = Near&#45;Crash</text>\n</g>\n<!-- 17&#45;&gt;18 -->\n<g id=\"edge18\" class=\"edge\">\n<title>17&#45;&gt;18</title>\n<path fill=\"none\" stroke=\"#000000\" d=\"M740.8253,-1055.8796C731.0231,-1044.4436 720.3882,-1032.0363 710.5643,-1020.575\"/>\n<polygon fill=\"#000000\" stroke=\"#000000\" points=\"713.0782,-1018.1297 703.9128,-1012.8149 707.7633,-1022.6853 713.0782,-1018.1297\"/>\n</g>\n<!-- 19 -->\n<g id=\"node20\" class=\"node\">\n<title>19</title>\n<path fill=\"#f2c09c\" stroke=\"#000000\" d=\"M906,-1020C906,-1020 771,-1020 771,-1020 765,-1020 759,-1014 759,-1008 759,-1008 759,-949 759,-949 759,-943 765,-937 771,-937 771,-937 906,-937 906,-937 912,-937 918,-943 918,-949 918,-949 918,-1008 918,-1008 918,-1014 912,-1020 906,-1020\"/>\n<text text-anchor=\"start\" x=\"767\" y=\"-1004.8\" font-family=\"Helvetica,sans-Serif\" font-size=\"14.00\" fill=\"#000000\">max_val_accY ≤ &#45;0.352</text>\n<text text-anchor=\"start\" x=\"803\" y=\"-989.8\" font-family=\"Helvetica,sans-Serif\" font-size=\"14.00\" fill=\"#000000\">gini = 0.444</text>\n<text text-anchor=\"start\" x=\"801\" y=\"-974.8\" font-family=\"Helvetica,sans-Serif\" font-size=\"14.00\" fill=\"#000000\">samples = 3</text>\n<text text-anchor=\"start\" x=\"799\" y=\"-959.8\" font-family=\"Helvetica,sans-Serif\" font-size=\"14.00\" fill=\"#000000\">value = [2, 1]</text>\n<text text-anchor=\"start\" x=\"793\" y=\"-944.8\" font-family=\"Helvetica,sans-Serif\" font-size=\"14.00\" fill=\"#000000\">class = Normal</text>\n</g>\n<!-- 17&#45;&gt;19 -->\n<g id=\"edge19\" class=\"edge\">\n<title>17&#45;&gt;19</title>\n<path fill=\"none\" stroke=\"#000000\" d=\"M798.1846,-1055.8796C802.6423,-1047.3236 807.3834,-1038.2238 811.9894,-1029.3833\"/>\n<polygon fill=\"#000000\" stroke=\"#000000\" points=\"815.2062,-1030.7838 816.7229,-1020.2981 808.9983,-1027.5494 815.2062,-1030.7838\"/>\n</g>\n<!-- 20 -->\n<g id=\"node21\" class=\"node\">\n<title>20</title>\n<path fill=\"#399de5\" stroke=\"#000000\" d=\"M766,-893.5C766,-893.5 657,-893.5 657,-893.5 651,-893.5 645,-887.5 645,-881.5 645,-881.5 645,-837.5 645,-837.5 645,-831.5 651,-825.5 657,-825.5 657,-825.5 766,-825.5 766,-825.5 772,-825.5 778,-831.5 778,-837.5 778,-837.5 778,-881.5 778,-881.5 778,-887.5 772,-893.5 766,-893.5\"/>\n<text text-anchor=\"start\" x=\"683.5\" y=\"-878.3\" font-family=\"Helvetica,sans-Serif\" font-size=\"14.00\" fill=\"#000000\">gini = 0.0</text>\n<text text-anchor=\"start\" x=\"674\" y=\"-863.3\" font-family=\"Helvetica,sans-Serif\" font-size=\"14.00\" fill=\"#000000\">samples = 1</text>\n<text text-anchor=\"start\" x=\"672\" y=\"-848.3\" font-family=\"Helvetica,sans-Serif\" font-size=\"14.00\" fill=\"#000000\">value = [0, 1]</text>\n<text text-anchor=\"start\" x=\"653\" y=\"-833.3\" font-family=\"Helvetica,sans-Serif\" font-size=\"14.00\" fill=\"#000000\">class = Near&#45;Crash</text>\n</g>\n<!-- 19&#45;&gt;20 -->\n<g id=\"edge20\" class=\"edge\">\n<title>19&#45;&gt;20</title>\n<path fill=\"none\" stroke=\"#000000\" d=\"M794.0816,-936.8796C781.6421,-925.2237 768.1257,-912.5587 755.699,-900.9148\"/>\n<polygon fill=\"#000000\" stroke=\"#000000\" points=\"757.8121,-898.0985 748.1218,-893.8149 753.0259,-903.2065 757.8121,-898.0985\"/>\n</g>\n<!-- 21 -->\n<g id=\"node22\" class=\"node\">\n<title>21</title>\n<path fill=\"#e58139\" stroke=\"#000000\" d=\"M891,-893.5C891,-893.5 808,-893.5 808,-893.5 802,-893.5 796,-887.5 796,-881.5 796,-881.5 796,-837.5 796,-837.5 796,-831.5 802,-825.5 808,-825.5 808,-825.5 891,-825.5 891,-825.5 897,-825.5 903,-831.5 903,-837.5 903,-837.5 903,-881.5 903,-881.5 903,-887.5 897,-893.5 891,-893.5\"/>\n<text text-anchor=\"start\" x=\"821.5\" y=\"-878.3\" font-family=\"Helvetica,sans-Serif\" font-size=\"14.00\" fill=\"#000000\">gini = 0.0</text>\n<text text-anchor=\"start\" x=\"812\" y=\"-863.3\" font-family=\"Helvetica,sans-Serif\" font-size=\"14.00\" fill=\"#000000\">samples = 2</text>\n<text text-anchor=\"start\" x=\"810\" y=\"-848.3\" font-family=\"Helvetica,sans-Serif\" font-size=\"14.00\" fill=\"#000000\">value = [2, 0]</text>\n<text text-anchor=\"start\" x=\"804\" y=\"-833.3\" font-family=\"Helvetica,sans-Serif\" font-size=\"14.00\" fill=\"#000000\">class = Normal</text>\n</g>\n<!-- 19&#45;&gt;21 -->\n<g id=\"edge21\" class=\"edge\">\n<title>19&#45;&gt;21</title>\n<path fill=\"none\" stroke=\"#000000\" d=\"M842.3473,-936.8796C843.3332,-926.2134 844.3973,-914.7021 845.3957,-903.9015\"/>\n<polygon fill=\"#000000\" stroke=\"#000000\" points=\"848.8926,-904.0947 846.328,-893.8149 841.9224,-903.4503 848.8926,-904.0947\"/>\n</g>\n<!-- 25 -->\n<g id=\"node26\" class=\"node\">\n<title>25</title>\n<path fill=\"#f5cdb0\" stroke=\"#000000\" d=\"M1438,-1377C1438,-1377 1297,-1377 1297,-1377 1291,-1377 1285,-1371 1285,-1365 1285,-1365 1285,-1306 1285,-1306 1285,-1300 1291,-1294 1297,-1294 1297,-1294 1438,-1294 1438,-1294 1444,-1294 1450,-1300 1450,-1306 1450,-1306 1450,-1365 1450,-1365 1450,-1371 1444,-1377 1438,-1377\"/>\n<text text-anchor=\"start\" x=\"1293\" y=\"-1361.8\" font-family=\"Helvetica,sans-Serif\" font-size=\"14.00\" fill=\"#000000\">min_val_speed ≤ 25.548</text>\n<text text-anchor=\"start\" x=\"1332\" y=\"-1346.8\" font-family=\"Helvetica,sans-Serif\" font-size=\"14.00\" fill=\"#000000\">gini = 0.469</text>\n<text text-anchor=\"start\" x=\"1326.5\" y=\"-1331.8\" font-family=\"Helvetica,sans-Serif\" font-size=\"14.00\" fill=\"#000000\">samples = 88</text>\n<text text-anchor=\"start\" x=\"1320.5\" y=\"-1316.8\" font-family=\"Helvetica,sans-Serif\" font-size=\"14.00\" fill=\"#000000\">value = [55, 33]</text>\n<text text-anchor=\"start\" x=\"1322\" y=\"-1301.8\" font-family=\"Helvetica,sans-Serif\" font-size=\"14.00\" fill=\"#000000\">class = Normal</text>\n</g>\n<!-- 24&#45;&gt;25 -->\n<g id=\"edge25\" class=\"edge\">\n<title>24&#45;&gt;25</title>\n<path fill=\"none\" stroke=\"#000000\" d=\"M1367.5,-1412.8796C1367.5,-1404.6838 1367.5,-1395.9891 1367.5,-1387.5013\"/>\n<polygon fill=\"#000000\" stroke=\"#000000\" points=\"1371.0001,-1387.298 1367.5,-1377.2981 1364.0001,-1387.2981 1371.0001,-1387.298\"/>\n</g>\n<!-- 42 -->\n<g id=\"node43\" class=\"node\">\n<title>42</title>\n<path fill=\"#e6853f\" stroke=\"#000000\" d=\"M2015,-1377C2015,-1377 1876,-1377 1876,-1377 1870,-1377 1864,-1371 1864,-1365 1864,-1365 1864,-1306 1864,-1306 1864,-1300 1870,-1294 1876,-1294 1876,-1294 2015,-1294 2015,-1294 2021,-1294 2027,-1300 2027,-1306 2027,-1306 2027,-1365 2027,-1365 2027,-1371 2021,-1377 2015,-1377\"/>\n<text text-anchor=\"start\" x=\"1872\" y=\"-1361.8\" font-family=\"Helvetica,sans-Serif\" font-size=\"14.00\" fill=\"#000000\">median_speed ≤ 35.478</text>\n<text text-anchor=\"start\" x=\"1910\" y=\"-1346.8\" font-family=\"Helvetica,sans-Serif\" font-size=\"14.00\" fill=\"#000000\">gini = 0.053</text>\n<text text-anchor=\"start\" x=\"1897\" y=\"-1331.8\" font-family=\"Helvetica,sans-Serif\" font-size=\"14.00\" fill=\"#000000\">samples = 2439</text>\n<text text-anchor=\"start\" x=\"1891\" y=\"-1316.8\" font-family=\"Helvetica,sans-Serif\" font-size=\"14.00\" fill=\"#000000\">value = [2373, 66]</text>\n<text text-anchor=\"start\" x=\"1900\" y=\"-1301.8\" font-family=\"Helvetica,sans-Serif\" font-size=\"14.00\" fill=\"#000000\">class = Normal</text>\n</g>\n<!-- 24&#45;&gt;42 -->\n<g id=\"edge42\" class=\"edge\">\n<title>24&#45;&gt;42</title>\n<path fill=\"none\" stroke=\"#000000\" d=\"M1445.1516,-1438.5129C1551.0977,-1416.7005 1740.6468,-1377.6757 1853.5625,-1354.4283\"/>\n<polygon fill=\"#000000\" stroke=\"#000000\" points=\"1854.4837,-1357.8122 1863.5724,-1352.3674 1853.072,-1350.956 1854.4837,-1357.8122\"/>\n</g>\n<!-- 26 -->\n<g id=\"node27\" class=\"node\">\n<title>26</title>\n<path fill=\"#8ac5f0\" stroke=\"#000000\" d=\"M1347,-1258C1347,-1258 1206,-1258 1206,-1258 1200,-1258 1194,-1252 1194,-1246 1194,-1246 1194,-1187 1194,-1187 1194,-1181 1200,-1175 1206,-1175 1206,-1175 1347,-1175 1347,-1175 1353,-1175 1359,-1181 1359,-1187 1359,-1187 1359,-1246 1359,-1246 1359,-1252 1353,-1258 1347,-1258\"/>\n<text text-anchor=\"start\" x=\"1202\" y=\"-1242.8\" font-family=\"Helvetica,sans-Serif\" font-size=\"14.00\" fill=\"#000000\">tendency_speed ≤ 0.992</text>\n<text text-anchor=\"start\" x=\"1241\" y=\"-1227.8\" font-family=\"Helvetica,sans-Serif\" font-size=\"14.00\" fill=\"#000000\">gini = 0.412</text>\n<text text-anchor=\"start\" x=\"1235.5\" y=\"-1212.8\" font-family=\"Helvetica,sans-Serif\" font-size=\"14.00\" fill=\"#000000\">samples = 31</text>\n<text text-anchor=\"start\" x=\"1233.5\" y=\"-1197.8\" font-family=\"Helvetica,sans-Serif\" font-size=\"14.00\" fill=\"#000000\">value = [9, 22]</text>\n<text text-anchor=\"start\" x=\"1218\" y=\"-1182.8\" font-family=\"Helvetica,sans-Serif\" font-size=\"14.00\" fill=\"#000000\">class = Near&#45;Crash</text>\n</g>\n<!-- 25&#45;&gt;26 -->\n<g id=\"edge26\" class=\"edge\">\n<title>25&#45;&gt;26</title>\n<path fill=\"none\" stroke=\"#000000\" d=\"M1335.6726,-1293.8796C1328.8543,-1284.9633 1321.5844,-1275.4565 1314.5579,-1266.268\"/>\n<polygon fill=\"#000000\" stroke=\"#000000\" points=\"1317.318,-1264.1156 1308.4632,-1258.2981 1311.7575,-1268.3678 1317.318,-1264.1156\"/>\n</g>\n<!-- 33 -->\n<g id=\"node34\" class=\"node\">\n<title>33</title>\n<path fill=\"#eb9f68\" stroke=\"#000000\" d=\"M1530,-1258C1530,-1258 1389,-1258 1389,-1258 1383,-1258 1377,-1252 1377,-1246 1377,-1246 1377,-1187 1377,-1187 1377,-1181 1383,-1175 1389,-1175 1389,-1175 1530,-1175 1530,-1175 1536,-1175 1542,-1181 1542,-1187 1542,-1187 1542,-1246 1542,-1246 1542,-1252 1536,-1258 1530,-1258\"/>\n<text text-anchor=\"start\" x=\"1385\" y=\"-1242.8\" font-family=\"Helvetica,sans-Serif\" font-size=\"14.00\" fill=\"#000000\">tendency_speed ≤ 1.002</text>\n<text text-anchor=\"start\" x=\"1424\" y=\"-1227.8\" font-family=\"Helvetica,sans-Serif\" font-size=\"14.00\" fill=\"#000000\">gini = 0.311</text>\n<text text-anchor=\"start\" x=\"1418.5\" y=\"-1212.8\" font-family=\"Helvetica,sans-Serif\" font-size=\"14.00\" fill=\"#000000\">samples = 57</text>\n<text text-anchor=\"start\" x=\"1412.5\" y=\"-1197.8\" font-family=\"Helvetica,sans-Serif\" font-size=\"14.00\" fill=\"#000000\">value = [46, 11]</text>\n<text text-anchor=\"start\" x=\"1414\" y=\"-1182.8\" font-family=\"Helvetica,sans-Serif\" font-size=\"14.00\" fill=\"#000000\">class = Normal</text>\n</g>\n<!-- 25&#45;&gt;33 -->\n<g id=\"edge33\" class=\"edge\">\n<title>25&#45;&gt;33</title>\n<path fill=\"none\" stroke=\"#000000\" d=\"M1399.6771,-1293.8796C1406.5704,-1284.9633 1413.9202,-1275.4565 1421.0239,-1266.268\"/>\n<polygon fill=\"#000000\" stroke=\"#000000\" points=\"1423.8381,-1268.3502 1427.1855,-1258.2981 1418.3001,-1264.0687 1423.8381,-1268.3502\"/>\n</g>\n<!-- 27 -->\n<g id=\"node28\" class=\"node\">\n<title>27</title>\n<path fill=\"#f3c7a7\" stroke=\"#000000\" d=\"M1188,-1139C1188,-1139 1057,-1139 1057,-1139 1051,-1139 1045,-1133 1045,-1127 1045,-1127 1045,-1068 1045,-1068 1045,-1062 1051,-1056 1057,-1056 1057,-1056 1188,-1056 1188,-1056 1194,-1056 1200,-1062 1200,-1068 1200,-1068 1200,-1127 1200,-1127 1200,-1133 1194,-1139 1188,-1139\"/>\n<text text-anchor=\"start\" x=\"1053\" y=\"-1123.8\" font-family=\"Helvetica,sans-Serif\" font-size=\"14.00\" fill=\"#000000\">min_val_accY ≤ &#45;3.053</text>\n<text text-anchor=\"start\" x=\"1087\" y=\"-1108.8\" font-family=\"Helvetica,sans-Serif\" font-size=\"14.00\" fill=\"#000000\">gini = 0.459</text>\n<text text-anchor=\"start\" x=\"1081.5\" y=\"-1093.8\" font-family=\"Helvetica,sans-Serif\" font-size=\"14.00\" fill=\"#000000\">samples = 14</text>\n<text text-anchor=\"start\" x=\"1083\" y=\"-1078.8\" font-family=\"Helvetica,sans-Serif\" font-size=\"14.00\" fill=\"#000000\">value = [9, 5]</text>\n<text text-anchor=\"start\" x=\"1077\" y=\"-1063.8\" font-family=\"Helvetica,sans-Serif\" font-size=\"14.00\" fill=\"#000000\">class = Normal</text>\n</g>\n<!-- 26&#45;&gt;27 -->\n<g id=\"edge27\" class=\"edge\">\n<title>26&#45;&gt;27</title>\n<path fill=\"none\" stroke=\"#000000\" d=\"M1222.6383,-1174.8796C1210.3291,-1165.368 1197.1503,-1155.1843 1184.5296,-1145.432\"/>\n<polygon fill=\"#000000\" stroke=\"#000000\" points=\"1186.3843,-1142.4419 1176.3313,-1139.0969 1182.1041,-1147.9809 1186.3843,-1142.4419\"/>\n</g>\n<!-- 32 -->\n<g id=\"node33\" class=\"node\">\n<title>32</title>\n<path fill=\"#399de5\" stroke=\"#000000\" d=\"M1339,-1131.5C1339,-1131.5 1230,-1131.5 1230,-1131.5 1224,-1131.5 1218,-1125.5 1218,-1119.5 1218,-1119.5 1218,-1075.5 1218,-1075.5 1218,-1069.5 1224,-1063.5 1230,-1063.5 1230,-1063.5 1339,-1063.5 1339,-1063.5 1345,-1063.5 1351,-1069.5 1351,-1075.5 1351,-1075.5 1351,-1119.5 1351,-1119.5 1351,-1125.5 1345,-1131.5 1339,-1131.5\"/>\n<text text-anchor=\"start\" x=\"1256.5\" y=\"-1116.3\" font-family=\"Helvetica,sans-Serif\" font-size=\"14.00\" fill=\"#000000\">gini = 0.0</text>\n<text text-anchor=\"start\" x=\"1243.5\" y=\"-1101.3\" font-family=\"Helvetica,sans-Serif\" font-size=\"14.00\" fill=\"#000000\">samples = 17</text>\n<text text-anchor=\"start\" x=\"1241.5\" y=\"-1086.3\" font-family=\"Helvetica,sans-Serif\" font-size=\"14.00\" fill=\"#000000\">value = [0, 17]</text>\n<text text-anchor=\"start\" x=\"1226\" y=\"-1071.3\" font-family=\"Helvetica,sans-Serif\" font-size=\"14.00\" fill=\"#000000\">class = Near&#45;Crash</text>\n</g>\n<!-- 26&#45;&gt;32 -->\n<g id=\"edge32\" class=\"edge\">\n<title>26&#45;&gt;32</title>\n<path fill=\"none\" stroke=\"#000000\" d=\"M1279.298,-1174.8796C1280.0151,-1164.2134 1280.7889,-1152.7021 1281.515,-1141.9015\"/>\n<polygon fill=\"#000000\" stroke=\"#000000\" points=\"1285.0144,-1142.0272 1282.1931,-1131.8149 1278.0301,-1141.5576 1285.0144,-1142.0272\"/>\n</g>\n<!-- 28 -->\n<g id=\"node29\" class=\"node\">\n<title>28</title>\n<path fill=\"#e88f4f\" stroke=\"#000000\" d=\"M1071,-1020C1071,-1020 948,-1020 948,-1020 942,-1020 936,-1014 936,-1008 936,-1008 936,-949 936,-949 936,-943 942,-937 948,-937 948,-937 1071,-937 1071,-937 1077,-937 1083,-943 1083,-949 1083,-949 1083,-1008 1083,-1008 1083,-1014 1077,-1020 1071,-1020\"/>\n<text text-anchor=\"start\" x=\"944\" y=\"-1004.8\" font-family=\"Helvetica,sans-Serif\" font-size=\"14.00\" fill=\"#000000\">max_val_accY ≤ 2.51</text>\n<text text-anchor=\"start\" x=\"977.5\" y=\"-989.8\" font-family=\"Helvetica,sans-Serif\" font-size=\"14.00\" fill=\"#000000\">gini = 0.18</text>\n<text text-anchor=\"start\" x=\"968.5\" y=\"-974.8\" font-family=\"Helvetica,sans-Serif\" font-size=\"14.00\" fill=\"#000000\">samples = 10</text>\n<text text-anchor=\"start\" x=\"970\" y=\"-959.8\" font-family=\"Helvetica,sans-Serif\" font-size=\"14.00\" fill=\"#000000\">value = [9, 1]</text>\n<text text-anchor=\"start\" x=\"964\" y=\"-944.8\" font-family=\"Helvetica,sans-Serif\" font-size=\"14.00\" fill=\"#000000\">class = Normal</text>\n</g>\n<!-- 27&#45;&gt;28 -->\n<g id=\"edge28\" class=\"edge\">\n<title>27&#45;&gt;28</title>\n<path fill=\"none\" stroke=\"#000000\" d=\"M1082.9781,-1055.8796C1074.3403,-1046.7832 1065.119,-1037.0722 1056.2303,-1027.7116\"/>\n<polygon fill=\"#000000\" stroke=\"#000000\" points=\"1058.6146,-1025.1395 1049.1906,-1020.2981 1053.5385,-1029.9597 1058.6146,-1025.1395\"/>\n</g>\n<!-- 31 -->\n<g id=\"node32\" class=\"node\">\n<title>31</title>\n<path fill=\"#399de5\" stroke=\"#000000\" d=\"M1222,-1012.5C1222,-1012.5 1113,-1012.5 1113,-1012.5 1107,-1012.5 1101,-1006.5 1101,-1000.5 1101,-1000.5 1101,-956.5 1101,-956.5 1101,-950.5 1107,-944.5 1113,-944.5 1113,-944.5 1222,-944.5 1222,-944.5 1228,-944.5 1234,-950.5 1234,-956.5 1234,-956.5 1234,-1000.5 1234,-1000.5 1234,-1006.5 1228,-1012.5 1222,-1012.5\"/>\n<text text-anchor=\"start\" x=\"1139.5\" y=\"-997.3\" font-family=\"Helvetica,sans-Serif\" font-size=\"14.00\" fill=\"#000000\">gini = 0.0</text>\n<text text-anchor=\"start\" x=\"1130\" y=\"-982.3\" font-family=\"Helvetica,sans-Serif\" font-size=\"14.00\" fill=\"#000000\">samples = 4</text>\n<text text-anchor=\"start\" x=\"1128\" y=\"-967.3\" font-family=\"Helvetica,sans-Serif\" font-size=\"14.00\" fill=\"#000000\">value = [0, 4]</text>\n<text text-anchor=\"start\" x=\"1109\" y=\"-952.3\" font-family=\"Helvetica,sans-Serif\" font-size=\"14.00\" fill=\"#000000\">class = Near&#45;Crash</text>\n</g>\n<!-- 27&#45;&gt;31 -->\n<g id=\"edge31\" class=\"edge\">\n<title>27&#45;&gt;31</title>\n<path fill=\"none\" stroke=\"#000000\" d=\"M1138.2388,-1055.8796C1142.3554,-1044.9935 1146.8049,-1033.227 1150.9618,-1022.2344\"/>\n<polygon fill=\"#000000\" stroke=\"#000000\" points=\"1154.2604,-1023.4065 1154.5238,-1012.8149 1147.7129,-1020.9305 1154.2604,-1023.4065\"/>\n</g>\n<!-- 29 -->\n<g id=\"node30\" class=\"node\">\n<title>29</title>\n<path fill=\"#e58139\" stroke=\"#000000\" d=\"M1039,-893.5C1039,-893.5 956,-893.5 956,-893.5 950,-893.5 944,-887.5 944,-881.5 944,-881.5 944,-837.5 944,-837.5 944,-831.5 950,-825.5 956,-825.5 956,-825.5 1039,-825.5 1039,-825.5 1045,-825.5 1051,-831.5 1051,-837.5 1051,-837.5 1051,-881.5 1051,-881.5 1051,-887.5 1045,-893.5 1039,-893.5\"/>\n<text text-anchor=\"start\" x=\"969.5\" y=\"-878.3\" font-family=\"Helvetica,sans-Serif\" font-size=\"14.00\" fill=\"#000000\">gini = 0.0</text>\n<text text-anchor=\"start\" x=\"960\" y=\"-863.3\" font-family=\"Helvetica,sans-Serif\" font-size=\"14.00\" fill=\"#000000\">samples = 9</text>\n<text text-anchor=\"start\" x=\"958\" y=\"-848.3\" font-family=\"Helvetica,sans-Serif\" font-size=\"14.00\" fill=\"#000000\">value = [9, 0]</text>\n<text text-anchor=\"start\" x=\"952\" y=\"-833.3\" font-family=\"Helvetica,sans-Serif\" font-size=\"14.00\" fill=\"#000000\">class = Normal</text>\n</g>\n<!-- 28&#45;&gt;29 -->\n<g id=\"edge29\" class=\"edge\">\n<title>28&#45;&gt;29</title>\n<path fill=\"none\" stroke=\"#000000\" d=\"M1005.303,-936.8796C1004.2274,-926.2134 1003.0666,-914.7021 1001.9775,-903.9015\"/>\n<polygon fill=\"#000000\" stroke=\"#000000\" points=\"1005.4461,-903.4133 1000.9603,-893.8149 998.4814,-904.1157 1005.4461,-903.4133\"/>\n</g>\n<!-- 30 -->\n<g id=\"node31\" class=\"node\">\n<title>30</title>\n<path fill=\"#399de5\" stroke=\"#000000\" d=\"M1190,-893.5C1190,-893.5 1081,-893.5 1081,-893.5 1075,-893.5 1069,-887.5 1069,-881.5 1069,-881.5 1069,-837.5 1069,-837.5 1069,-831.5 1075,-825.5 1081,-825.5 1081,-825.5 1190,-825.5 1190,-825.5 1196,-825.5 1202,-831.5 1202,-837.5 1202,-837.5 1202,-881.5 1202,-881.5 1202,-887.5 1196,-893.5 1190,-893.5\"/>\n<text text-anchor=\"start\" x=\"1107.5\" y=\"-878.3\" font-family=\"Helvetica,sans-Serif\" font-size=\"14.00\" fill=\"#000000\">gini = 0.0</text>\n<text text-anchor=\"start\" x=\"1098\" y=\"-863.3\" font-family=\"Helvetica,sans-Serif\" font-size=\"14.00\" fill=\"#000000\">samples = 1</text>\n<text text-anchor=\"start\" x=\"1096\" y=\"-848.3\" font-family=\"Helvetica,sans-Serif\" font-size=\"14.00\" fill=\"#000000\">value = [0, 1]</text>\n<text text-anchor=\"start\" x=\"1077\" y=\"-833.3\" font-family=\"Helvetica,sans-Serif\" font-size=\"14.00\" fill=\"#000000\">class = Near&#45;Crash</text>\n</g>\n<!-- 28&#45;&gt;30 -->\n<g id=\"edge30\" class=\"edge\">\n<title>28&#45;&gt;30</title>\n<path fill=\"none\" stroke=\"#000000\" d=\"M1053.5687,-936.8796C1065.9102,-925.2237 1079.3202,-912.5587 1091.649,-900.9148\"/>\n<polygon fill=\"#000000\" stroke=\"#000000\" points=\"1094.2996,-903.2258 1099.1665,-893.8149 1089.4932,-898.1366 1094.2996,-903.2258\"/>\n</g>\n<!-- 34 -->\n<g id=\"node35\" class=\"node\">\n<title>34</title>\n<path fill=\"#e88f50\" stroke=\"#000000\" d=\"M1526,-1139C1526,-1139 1385,-1139 1385,-1139 1379,-1139 1373,-1133 1373,-1127 1373,-1127 1373,-1068 1373,-1068 1373,-1062 1379,-1056 1385,-1056 1385,-1056 1526,-1056 1526,-1056 1532,-1056 1538,-1062 1538,-1068 1538,-1068 1538,-1127 1538,-1127 1538,-1133 1532,-1139 1526,-1139\"/>\n<text text-anchor=\"start\" x=\"1381\" y=\"-1123.8\" font-family=\"Helvetica,sans-Serif\" font-size=\"14.00\" fill=\"#000000\">tendency_speed ≤ 0.999</text>\n<text text-anchor=\"start\" x=\"1420\" y=\"-1108.8\" font-family=\"Helvetica,sans-Serif\" font-size=\"14.00\" fill=\"#000000\">gini = 0.183</text>\n<text text-anchor=\"start\" x=\"1414.5\" y=\"-1093.8\" font-family=\"Helvetica,sans-Serif\" font-size=\"14.00\" fill=\"#000000\">samples = 49</text>\n<text text-anchor=\"start\" x=\"1412.5\" y=\"-1078.8\" font-family=\"Helvetica,sans-Serif\" font-size=\"14.00\" fill=\"#000000\">value = [44, 5]</text>\n<text text-anchor=\"start\" x=\"1410\" y=\"-1063.8\" font-family=\"Helvetica,sans-Serif\" font-size=\"14.00\" fill=\"#000000\">class = Normal</text>\n</g>\n<!-- 33&#45;&gt;34 -->\n<g id=\"edge34\" class=\"edge\">\n<title>33&#45;&gt;34</title>\n<path fill=\"none\" stroke=\"#000000\" d=\"M1458.101,-1174.8796C1457.8255,-1166.6838 1457.5332,-1157.9891 1457.2479,-1149.5013\"/>\n<polygon fill=\"#000000\" stroke=\"#000000\" points=\"1460.739,-1149.1748 1456.905,-1139.2981 1453.743,-1149.41 1460.739,-1149.1748\"/>\n</g>\n<!-- 39 -->\n<g id=\"node40\" class=\"node\">\n<title>39</title>\n<path fill=\"#7bbeee\" stroke=\"#000000\" d=\"M1709,-1139C1709,-1139 1568,-1139 1568,-1139 1562,-1139 1556,-1133 1556,-1127 1556,-1127 1556,-1068 1556,-1068 1556,-1062 1562,-1056 1568,-1056 1568,-1056 1709,-1056 1709,-1056 1715,-1056 1721,-1062 1721,-1068 1721,-1068 1721,-1127 1721,-1127 1721,-1133 1715,-1139 1709,-1139\"/>\n<text text-anchor=\"start\" x=\"1564\" y=\"-1123.8\" font-family=\"Helvetica,sans-Serif\" font-size=\"14.00\" fill=\"#000000\">tendency_speed ≤ 1.003</text>\n<text text-anchor=\"start\" x=\"1603\" y=\"-1108.8\" font-family=\"Helvetica,sans-Serif\" font-size=\"14.00\" fill=\"#000000\">gini = 0.375</text>\n<text text-anchor=\"start\" x=\"1601\" y=\"-1093.8\" font-family=\"Helvetica,sans-Serif\" font-size=\"14.00\" fill=\"#000000\">samples = 8</text>\n<text text-anchor=\"start\" x=\"1599\" y=\"-1078.8\" font-family=\"Helvetica,sans-Serif\" font-size=\"14.00\" fill=\"#000000\">value = [2, 6]</text>\n<text text-anchor=\"start\" x=\"1580\" y=\"-1063.8\" font-family=\"Helvetica,sans-Serif\" font-size=\"14.00\" fill=\"#000000\">class = Near&#45;Crash</text>\n</g>\n<!-- 33&#45;&gt;39 -->\n<g id=\"edge39\" class=\"edge\">\n<title>33&#45;&gt;39</title>\n<path fill=\"none\" stroke=\"#000000\" d=\"M1522.1055,-1174.8796C1536.6854,-1165.1868 1552.3151,-1154.7961 1567.2382,-1144.8752\"/>\n<polygon fill=\"#000000\" stroke=\"#000000\" points=\"1569.5399,-1147.5479 1575.9298,-1139.0969 1565.6645,-1141.7185 1569.5399,-1147.5479\"/>\n</g>\n<!-- 35 -->\n<g id=\"node36\" class=\"node\">\n<title>35</title>\n<path fill=\"#f3c7a7\" stroke=\"#000000\" d=\"M1395,-1020C1395,-1020 1264,-1020 1264,-1020 1258,-1020 1252,-1014 1252,-1008 1252,-1008 1252,-949 1252,-949 1252,-943 1258,-937 1264,-937 1264,-937 1395,-937 1395,-937 1401,-937 1407,-943 1407,-949 1407,-949 1407,-1008 1407,-1008 1407,-1014 1401,-1020 1395,-1020\"/>\n<text text-anchor=\"start\" x=\"1260\" y=\"-1004.8\" font-family=\"Helvetica,sans-Serif\" font-size=\"14.00\" fill=\"#000000\">max_val_accY ≤ 0.335</text>\n<text text-anchor=\"start\" x=\"1294\" y=\"-989.8\" font-family=\"Helvetica,sans-Serif\" font-size=\"14.00\" fill=\"#000000\">gini = 0.459</text>\n<text text-anchor=\"start\" x=\"1288.5\" y=\"-974.8\" font-family=\"Helvetica,sans-Serif\" font-size=\"14.00\" fill=\"#000000\">samples = 14</text>\n<text text-anchor=\"start\" x=\"1290\" y=\"-959.8\" font-family=\"Helvetica,sans-Serif\" font-size=\"14.00\" fill=\"#000000\">value = [9, 5]</text>\n<text text-anchor=\"start\" x=\"1284\" y=\"-944.8\" font-family=\"Helvetica,sans-Serif\" font-size=\"14.00\" fill=\"#000000\">class = Normal</text>\n</g>\n<!-- 34&#45;&gt;35 -->\n<g id=\"edge35\" class=\"edge\">\n<title>34&#45;&gt;35</title>\n<path fill=\"none\" stroke=\"#000000\" d=\"M1411.4313,-1055.8796C1401.7045,-1046.6931 1391.3139,-1036.8798 1381.3121,-1027.4336\"/>\n<polygon fill=\"#000000\" stroke=\"#000000\" points=\"1383.4301,-1024.6198 1373.7568,-1020.2981 1378.6237,-1029.7089 1383.4301,-1024.6198\"/>\n</g>\n<!-- 38 -->\n<g id=\"node39\" class=\"node\">\n<title>38</title>\n<path fill=\"#e58139\" stroke=\"#000000\" d=\"M1520,-1012.5C1520,-1012.5 1437,-1012.5 1437,-1012.5 1431,-1012.5 1425,-1006.5 1425,-1000.5 1425,-1000.5 1425,-956.5 1425,-956.5 1425,-950.5 1431,-944.5 1437,-944.5 1437,-944.5 1520,-944.5 1520,-944.5 1526,-944.5 1532,-950.5 1532,-956.5 1532,-956.5 1532,-1000.5 1532,-1000.5 1532,-1006.5 1526,-1012.5 1520,-1012.5\"/>\n<text text-anchor=\"start\" x=\"1450.5\" y=\"-997.3\" font-family=\"Helvetica,sans-Serif\" font-size=\"14.00\" fill=\"#000000\">gini = 0.0</text>\n<text text-anchor=\"start\" x=\"1437.5\" y=\"-982.3\" font-family=\"Helvetica,sans-Serif\" font-size=\"14.00\" fill=\"#000000\">samples = 35</text>\n<text text-anchor=\"start\" x=\"1435.5\" y=\"-967.3\" font-family=\"Helvetica,sans-Serif\" font-size=\"14.00\" fill=\"#000000\">value = [35, 0]</text>\n<text text-anchor=\"start\" x=\"1433\" y=\"-952.3\" font-family=\"Helvetica,sans-Serif\" font-size=\"14.00\" fill=\"#000000\">class = Normal</text>\n</g>\n<!-- 34&#45;&gt;38 -->\n<g id=\"edge38\" class=\"edge\">\n<title>34&#45;&gt;38</title>\n<path fill=\"none\" stroke=\"#000000\" d=\"M1463.5443,-1055.8796C1465.6058,-1045.2134 1467.8307,-1033.7021 1469.9182,-1022.9015\"/>\n<polygon fill=\"#000000\" stroke=\"#000000\" points=\"1473.4064,-1023.2974 1471.8677,-1012.8149 1466.5336,-1021.969 1473.4064,-1023.2974\"/>\n</g>\n<!-- 36 -->\n<g id=\"node37\" class=\"node\">\n<title>36</title>\n<path fill=\"#399de5\" stroke=\"#000000\" d=\"M1368,-893.5C1368,-893.5 1259,-893.5 1259,-893.5 1253,-893.5 1247,-887.5 1247,-881.5 1247,-881.5 1247,-837.5 1247,-837.5 1247,-831.5 1253,-825.5 1259,-825.5 1259,-825.5 1368,-825.5 1368,-825.5 1374,-825.5 1380,-831.5 1380,-837.5 1380,-837.5 1380,-881.5 1380,-881.5 1380,-887.5 1374,-893.5 1368,-893.5\"/>\n<text text-anchor=\"start\" x=\"1285.5\" y=\"-878.3\" font-family=\"Helvetica,sans-Serif\" font-size=\"14.00\" fill=\"#000000\">gini = 0.0</text>\n<text text-anchor=\"start\" x=\"1276\" y=\"-863.3\" font-family=\"Helvetica,sans-Serif\" font-size=\"14.00\" fill=\"#000000\">samples = 5</text>\n<text text-anchor=\"start\" x=\"1274\" y=\"-848.3\" font-family=\"Helvetica,sans-Serif\" font-size=\"14.00\" fill=\"#000000\">value = [0, 5]</text>\n<text text-anchor=\"start\" x=\"1255\" y=\"-833.3\" font-family=\"Helvetica,sans-Serif\" font-size=\"14.00\" fill=\"#000000\">class = Near&#45;Crash</text>\n</g>\n<!-- 35&#45;&gt;36 -->\n<g id=\"edge36\" class=\"edge\">\n<title>35&#45;&gt;36</title>\n<path fill=\"none\" stroke=\"#000000\" d=\"M1323.904,-936.8796C1322.4699,-926.2134 1320.9221,-914.7021 1319.47,-903.9015\"/>\n<polygon fill=\"#000000\" stroke=\"#000000\" points=\"1322.9152,-903.2593 1318.1138,-893.8149 1315.9776,-904.1922 1322.9152,-903.2593\"/>\n</g>\n<!-- 37 -->\n<g id=\"node38\" class=\"node\">\n<title>37</title>\n<path fill=\"#e58139\" stroke=\"#000000\" d=\"M1493,-893.5C1493,-893.5 1410,-893.5 1410,-893.5 1404,-893.5 1398,-887.5 1398,-881.5 1398,-881.5 1398,-837.5 1398,-837.5 1398,-831.5 1404,-825.5 1410,-825.5 1410,-825.5 1493,-825.5 1493,-825.5 1499,-825.5 1505,-831.5 1505,-837.5 1505,-837.5 1505,-881.5 1505,-881.5 1505,-887.5 1499,-893.5 1493,-893.5\"/>\n<text text-anchor=\"start\" x=\"1423.5\" y=\"-878.3\" font-family=\"Helvetica,sans-Serif\" font-size=\"14.00\" fill=\"#000000\">gini = 0.0</text>\n<text text-anchor=\"start\" x=\"1414\" y=\"-863.3\" font-family=\"Helvetica,sans-Serif\" font-size=\"14.00\" fill=\"#000000\">samples = 9</text>\n<text text-anchor=\"start\" x=\"1412\" y=\"-848.3\" font-family=\"Helvetica,sans-Serif\" font-size=\"14.00\" fill=\"#000000\">value = [9, 0]</text>\n<text text-anchor=\"start\" x=\"1406\" y=\"-833.3\" font-family=\"Helvetica,sans-Serif\" font-size=\"14.00\" fill=\"#000000\">class = Normal</text>\n</g>\n<!-- 35&#45;&gt;37 -->\n<g id=\"edge37\" class=\"edge\">\n<title>35&#45;&gt;37</title>\n<path fill=\"none\" stroke=\"#000000\" d=\"M1372.1697,-936.8796C1384.1194,-925.2237 1397.1037,-912.5587 1409.0411,-900.9148\"/>\n<polygon fill=\"#000000\" stroke=\"#000000\" points=\"1411.6053,-903.303 1416.32,-893.8149 1406.7175,-898.292 1411.6053,-903.303\"/>\n</g>\n<!-- 40 -->\n<g id=\"node41\" class=\"node\">\n<title>40</title>\n<path fill=\"#399de5\" stroke=\"#000000\" d=\"M1671,-1012.5C1671,-1012.5 1562,-1012.5 1562,-1012.5 1556,-1012.5 1550,-1006.5 1550,-1000.5 1550,-1000.5 1550,-956.5 1550,-956.5 1550,-950.5 1556,-944.5 1562,-944.5 1562,-944.5 1671,-944.5 1671,-944.5 1677,-944.5 1683,-950.5 1683,-956.5 1683,-956.5 1683,-1000.5 1683,-1000.5 1683,-1006.5 1677,-1012.5 1671,-1012.5\"/>\n<text text-anchor=\"start\" x=\"1588.5\" y=\"-997.3\" font-family=\"Helvetica,sans-Serif\" font-size=\"14.00\" fill=\"#000000\">gini = 0.0</text>\n<text text-anchor=\"start\" x=\"1579\" y=\"-982.3\" font-family=\"Helvetica,sans-Serif\" font-size=\"14.00\" fill=\"#000000\">samples = 6</text>\n<text text-anchor=\"start\" x=\"1577\" y=\"-967.3\" font-family=\"Helvetica,sans-Serif\" font-size=\"14.00\" fill=\"#000000\">value = [0, 6]</text>\n<text text-anchor=\"start\" x=\"1558\" y=\"-952.3\" font-family=\"Helvetica,sans-Serif\" font-size=\"14.00\" fill=\"#000000\">class = Near&#45;Crash</text>\n</g>\n<!-- 39&#45;&gt;40 -->\n<g id=\"edge40\" class=\"edge\">\n<title>39&#45;&gt;40</title>\n<path fill=\"none\" stroke=\"#000000\" d=\"M1630.8055,-1055.8796C1628.8336,-1045.2134 1626.7054,-1033.7021 1624.7087,-1022.9015\"/>\n<polygon fill=\"#000000\" stroke=\"#000000\" points=\"1628.1036,-1022.012 1622.8439,-1012.8149 1621.2203,-1023.2846 1628.1036,-1022.012\"/>\n</g>\n<!-- 41 -->\n<g id=\"node42\" class=\"node\">\n<title>41</title>\n<path fill=\"#e58139\" stroke=\"#000000\" d=\"M1796,-1012.5C1796,-1012.5 1713,-1012.5 1713,-1012.5 1707,-1012.5 1701,-1006.5 1701,-1000.5 1701,-1000.5 1701,-956.5 1701,-956.5 1701,-950.5 1707,-944.5 1713,-944.5 1713,-944.5 1796,-944.5 1796,-944.5 1802,-944.5 1808,-950.5 1808,-956.5 1808,-956.5 1808,-1000.5 1808,-1000.5 1808,-1006.5 1802,-1012.5 1796,-1012.5\"/>\n<text text-anchor=\"start\" x=\"1726.5\" y=\"-997.3\" font-family=\"Helvetica,sans-Serif\" font-size=\"14.00\" fill=\"#000000\">gini = 0.0</text>\n<text text-anchor=\"start\" x=\"1717\" y=\"-982.3\" font-family=\"Helvetica,sans-Serif\" font-size=\"14.00\" fill=\"#000000\">samples = 2</text>\n<text text-anchor=\"start\" x=\"1715\" y=\"-967.3\" font-family=\"Helvetica,sans-Serif\" font-size=\"14.00\" fill=\"#000000\">value = [2, 0]</text>\n<text text-anchor=\"start\" x=\"1709\" y=\"-952.3\" font-family=\"Helvetica,sans-Serif\" font-size=\"14.00\" fill=\"#000000\">class = Normal</text>\n</g>\n<!-- 39&#45;&gt;41 -->\n<g id=\"edge41\" class=\"edge\">\n<title>39&#45;&gt;41</title>\n<path fill=\"none\" stroke=\"#000000\" d=\"M1679.0712,-1055.8796C1690.326,-1044.3337 1702.5461,-1031.7976 1713.8078,-1020.2446\"/>\n<polygon fill=\"#000000\" stroke=\"#000000\" points=\"1716.5762,-1022.4188 1721.0501,-1012.8149 1711.5636,-1017.5326 1716.5762,-1022.4188\"/>\n</g>\n<!-- 43 -->\n<g id=\"node44\" class=\"node\">\n<title>43</title>\n<path fill=\"#e6843e\" stroke=\"#000000\" d=\"M2016,-1258C2016,-1258 1875,-1258 1875,-1258 1869,-1258 1863,-1252 1863,-1246 1863,-1246 1863,-1187 1863,-1187 1863,-1181 1869,-1175 1875,-1175 1875,-1175 2016,-1175 2016,-1175 2022,-1175 2028,-1181 2028,-1187 2028,-1187 2028,-1246 2028,-1246 2028,-1252 2022,-1258 2016,-1258\"/>\n<text text-anchor=\"start\" x=\"1871\" y=\"-1242.8\" font-family=\"Helvetica,sans-Serif\" font-size=\"14.00\" fill=\"#000000\">tendency_speed ≤ 1.003</text>\n<text text-anchor=\"start\" x=\"1910\" y=\"-1227.8\" font-family=\"Helvetica,sans-Serif\" font-size=\"14.00\" fill=\"#000000\">gini = 0.045</text>\n<text text-anchor=\"start\" x=\"1897\" y=\"-1212.8\" font-family=\"Helvetica,sans-Serif\" font-size=\"14.00\" fill=\"#000000\">samples = 2365</text>\n<text text-anchor=\"start\" x=\"1891\" y=\"-1197.8\" font-family=\"Helvetica,sans-Serif\" font-size=\"14.00\" fill=\"#000000\">value = [2310, 55]</text>\n<text text-anchor=\"start\" x=\"1900\" y=\"-1182.8\" font-family=\"Helvetica,sans-Serif\" font-size=\"14.00\" fill=\"#000000\">class = Normal</text>\n</g>\n<!-- 42&#45;&gt;43 -->\n<g id=\"edge43\" class=\"edge\">\n<title>42&#45;&gt;43</title>\n<path fill=\"none\" stroke=\"#000000\" d=\"M1945.5,-1293.8796C1945.5,-1285.6838 1945.5,-1276.9891 1945.5,-1268.5013\"/>\n<polygon fill=\"#000000\" stroke=\"#000000\" points=\"1949.0001,-1268.298 1945.5,-1258.2981 1942.0001,-1268.2981 1949.0001,-1268.298\"/>\n</g>\n<!-- 86 -->\n<g id=\"node87\" class=\"node\">\n<title>86</title>\n<path fill=\"#ea975c\" stroke=\"#000000\" d=\"M2259,-1258C2259,-1258 2114,-1258 2114,-1258 2108,-1258 2102,-1252 2102,-1246 2102,-1246 2102,-1187 2102,-1187 2102,-1181 2108,-1175 2114,-1175 2114,-1175 2259,-1175 2259,-1175 2265,-1175 2271,-1181 2271,-1187 2271,-1187 2271,-1246 2271,-1246 2271,-1252 2265,-1258 2259,-1258\"/>\n<text text-anchor=\"start\" x=\"2110\" y=\"-1242.8\" font-family=\"Helvetica,sans-Serif\" font-size=\"14.00\" fill=\"#000000\">max_val_speed ≤ 35.697</text>\n<text text-anchor=\"start\" x=\"2151\" y=\"-1227.8\" font-family=\"Helvetica,sans-Serif\" font-size=\"14.00\" fill=\"#000000\">gini = 0.253</text>\n<text text-anchor=\"start\" x=\"2145.5\" y=\"-1212.8\" font-family=\"Helvetica,sans-Serif\" font-size=\"14.00\" fill=\"#000000\">samples = 74</text>\n<text text-anchor=\"start\" x=\"2139.5\" y=\"-1197.8\" font-family=\"Helvetica,sans-Serif\" font-size=\"14.00\" fill=\"#000000\">value = [63, 11]</text>\n<text text-anchor=\"start\" x=\"2141\" y=\"-1182.8\" font-family=\"Helvetica,sans-Serif\" font-size=\"14.00\" fill=\"#000000\">class = Normal</text>\n</g>\n<!-- 42&#45;&gt;86 -->\n<g id=\"edge86\" class=\"edge\">\n<title>42&#45;&gt;86</title>\n<path fill=\"none\" stroke=\"#000000\" d=\"M2027.0916,-1295.212C2048.2405,-1284.7692 2071.1807,-1273.4419 2092.8932,-1262.7208\"/>\n<polygon fill=\"#000000\" stroke=\"#000000\" points=\"2094.6978,-1265.7332 2102.1147,-1258.1674 2091.5986,-1259.4566 2094.6978,-1265.7332\"/>\n</g>\n<!-- 44 -->\n<g id=\"node45\" class=\"node\">\n<title>44</title>\n<path fill=\"#e68640\" stroke=\"#000000\" d=\"M1961,-1139C1961,-1139 1820,-1139 1820,-1139 1814,-1139 1808,-1133 1808,-1127 1808,-1127 1808,-1068 1808,-1068 1808,-1062 1814,-1056 1820,-1056 1820,-1056 1961,-1056 1961,-1056 1967,-1056 1973,-1062 1973,-1068 1973,-1068 1973,-1127 1973,-1127 1973,-1133 1967,-1139 1961,-1139\"/>\n<text text-anchor=\"start\" x=\"1816\" y=\"-1123.8\" font-family=\"Helvetica,sans-Serif\" font-size=\"14.00\" fill=\"#000000\">tendency_speed ≤ 1.003</text>\n<text text-anchor=\"start\" x=\"1858.5\" y=\"-1108.8\" font-family=\"Helvetica,sans-Serif\" font-size=\"14.00\" fill=\"#000000\">gini = 0.07</text>\n<text text-anchor=\"start\" x=\"1842\" y=\"-1093.8\" font-family=\"Helvetica,sans-Serif\" font-size=\"14.00\" fill=\"#000000\">samples = 1512</text>\n<text text-anchor=\"start\" x=\"1836\" y=\"-1078.8\" font-family=\"Helvetica,sans-Serif\" font-size=\"14.00\" fill=\"#000000\">value = [1457, 55]</text>\n<text text-anchor=\"start\" x=\"1845\" y=\"-1063.8\" font-family=\"Helvetica,sans-Serif\" font-size=\"14.00\" fill=\"#000000\">class = Normal</text>\n</g>\n<!-- 43&#45;&gt;44 -->\n<g id=\"edge44\" class=\"edge\">\n<title>43&#45;&gt;44</title>\n<path fill=\"none\" stroke=\"#000000\" d=\"M1926.2637,-1174.8796C1922.3092,-1166.3236 1918.1034,-1157.2238 1914.0175,-1148.3833\"/>\n<polygon fill=\"#000000\" stroke=\"#000000\" points=\"1917.191,-1146.907 1909.8184,-1139.2981 1910.8368,-1149.8439 1917.191,-1146.907\"/>\n</g>\n<!-- 85 -->\n<g id=\"node86\" class=\"node\">\n<title>85</title>\n<path fill=\"#e58139\" stroke=\"#000000\" d=\"M2089.5,-1131.5C2089.5,-1131.5 2003.5,-1131.5 2003.5,-1131.5 1997.5,-1131.5 1991.5,-1125.5 1991.5,-1119.5 1991.5,-1119.5 1991.5,-1075.5 1991.5,-1075.5 1991.5,-1069.5 1997.5,-1063.5 2003.5,-1063.5 2003.5,-1063.5 2089.5,-1063.5 2089.5,-1063.5 2095.5,-1063.5 2101.5,-1069.5 2101.5,-1075.5 2101.5,-1075.5 2101.5,-1119.5 2101.5,-1119.5 2101.5,-1125.5 2095.5,-1131.5 2089.5,-1131.5\"/>\n<text text-anchor=\"start\" x=\"2018.5\" y=\"-1116.3\" font-family=\"Helvetica,sans-Serif\" font-size=\"14.00\" fill=\"#000000\">gini = 0.0</text>\n<text text-anchor=\"start\" x=\"2001.5\" y=\"-1101.3\" font-family=\"Helvetica,sans-Serif\" font-size=\"14.00\" fill=\"#000000\">samples = 853</text>\n<text text-anchor=\"start\" x=\"1999.5\" y=\"-1086.3\" font-family=\"Helvetica,sans-Serif\" font-size=\"14.00\" fill=\"#000000\">value = [853, 0]</text>\n<text text-anchor=\"start\" x=\"2001\" y=\"-1071.3\" font-family=\"Helvetica,sans-Serif\" font-size=\"14.00\" fill=\"#000000\">class = Normal</text>\n</g>\n<!-- 43&#45;&gt;85 -->\n<g id=\"edge85\" class=\"edge\">\n<title>43&#45;&gt;85</title>\n<path fill=\"none\" stroke=\"#000000\" d=\"M1980.8249,-1174.8796C1990.531,-1163.4436 2001.0616,-1151.0363 2010.7893,-1139.575\"/>\n<polygon fill=\"#000000\" stroke=\"#000000\" points=\"2013.5731,-1141.7039 2017.3756,-1131.8149 2008.2362,-1137.1743 2013.5731,-1141.7039\"/>\n</g>\n<!-- 45 -->\n<g id=\"node46\" class=\"node\">\n<title>45</title>\n<path fill=\"#e6853f\" stroke=\"#000000\" d=\"M1942.5,-1020C1942.5,-1020 1838.5,-1020 1838.5,-1020 1832.5,-1020 1826.5,-1014 1826.5,-1008 1826.5,-1008 1826.5,-949 1826.5,-949 1826.5,-943 1832.5,-937 1838.5,-937 1838.5,-937 1942.5,-937 1942.5,-937 1948.5,-937 1954.5,-943 1954.5,-949 1954.5,-949 1954.5,-1008 1954.5,-1008 1954.5,-1014 1948.5,-1020 1942.5,-1020\"/>\n<text text-anchor=\"start\" x=\"1834.5\" y=\"-1004.8\" font-family=\"Helvetica,sans-Serif\" font-size=\"14.00\" fill=\"#000000\">std_speed ≤ 0.363</text>\n<text text-anchor=\"start\" x=\"1855\" y=\"-989.8\" font-family=\"Helvetica,sans-Serif\" font-size=\"14.00\" fill=\"#000000\">gini = 0.057</text>\n<text text-anchor=\"start\" x=\"1842\" y=\"-974.8\" font-family=\"Helvetica,sans-Serif\" font-size=\"14.00\" fill=\"#000000\">samples = 1499</text>\n<text text-anchor=\"start\" x=\"1836\" y=\"-959.8\" font-family=\"Helvetica,sans-Serif\" font-size=\"14.00\" fill=\"#000000\">value = [1455, 44]</text>\n<text text-anchor=\"start\" x=\"1845\" y=\"-944.8\" font-family=\"Helvetica,sans-Serif\" font-size=\"14.00\" fill=\"#000000\">class = Normal</text>\n</g>\n<!-- 44&#45;&gt;45 -->\n<g id=\"edge45\" class=\"edge\">\n<title>44&#45;&gt;45</title>\n<path fill=\"none\" stroke=\"#000000\" d=\"M1890.5,-1055.8796C1890.5,-1047.6838 1890.5,-1038.9891 1890.5,-1030.5013\"/>\n<polygon fill=\"#000000\" stroke=\"#000000\" points=\"1894.0001,-1030.298 1890.5,-1020.2981 1887.0001,-1030.2981 1894.0001,-1030.298\"/>\n</g>\n<!-- 82 -->\n<g id=\"node83\" class=\"node\">\n<title>82</title>\n<path fill=\"#5dafea\" stroke=\"#000000\" d=\"M2118.5,-1020C2118.5,-1020 1984.5,-1020 1984.5,-1020 1978.5,-1020 1972.5,-1014 1972.5,-1008 1972.5,-1008 1972.5,-949 1972.5,-949 1972.5,-943 1978.5,-937 1984.5,-937 1984.5,-937 2118.5,-937 2118.5,-937 2124.5,-937 2130.5,-943 2130.5,-949 2130.5,-949 2130.5,-1008 2130.5,-1008 2130.5,-1014 2124.5,-1020 2118.5,-1020\"/>\n<text text-anchor=\"start\" x=\"1980.5\" y=\"-1004.8\" font-family=\"Helvetica,sans-Serif\" font-size=\"14.00\" fill=\"#000000\">min_val_speed ≤ 8.705</text>\n<text text-anchor=\"start\" x=\"2019.5\" y=\"-989.8\" font-family=\"Helvetica,sans-Serif\" font-size=\"14.00\" fill=\"#000000\">gini = 0.26</text>\n<text text-anchor=\"start\" x=\"2010.5\" y=\"-974.8\" font-family=\"Helvetica,sans-Serif\" font-size=\"14.00\" fill=\"#000000\">samples = 13</text>\n<text text-anchor=\"start\" x=\"2008.5\" y=\"-959.8\" font-family=\"Helvetica,sans-Serif\" font-size=\"14.00\" fill=\"#000000\">value = [2, 11]</text>\n<text text-anchor=\"start\" x=\"1993\" y=\"-944.8\" font-family=\"Helvetica,sans-Serif\" font-size=\"14.00\" fill=\"#000000\">class = Near&#45;Crash</text>\n</g>\n<!-- 44&#45;&gt;82 -->\n<g id=\"edge82\" class=\"edge\">\n<title>44&#45;&gt;82</title>\n<path fill=\"none\" stroke=\"#000000\" d=\"M1946.81,-1055.8796C1959.8012,-1046.2774 1973.719,-1035.9903 1987.0277,-1026.1534\"/>\n<polygon fill=\"#000000\" stroke=\"#000000\" points=\"1989.2604,-1028.8555 1995.2218,-1020.0969 1985.0996,-1023.2263 1989.2604,-1028.8555\"/>\n</g>\n<!-- 46 -->\n<g id=\"node47\" class=\"node\">\n<title>46</title>\n<path fill=\"#e5823b\" stroke=\"#000000\" d=\"M1708,-901C1708,-901 1581,-901 1581,-901 1575,-901 1569,-895 1569,-889 1569,-889 1569,-830 1569,-830 1569,-824 1575,-818 1581,-818 1581,-818 1708,-818 1708,-818 1714,-818 1720,-824 1720,-830 1720,-830 1720,-889 1720,-889 1720,-895 1714,-901 1708,-901\"/>\n<text text-anchor=\"start\" x=\"1577\" y=\"-885.8\" font-family=\"Helvetica,sans-Serif\" font-size=\"14.00\" fill=\"#000000\">min_val_accY ≤ 1.099</text>\n<text text-anchor=\"start\" x=\"1609\" y=\"-870.8\" font-family=\"Helvetica,sans-Serif\" font-size=\"14.00\" fill=\"#000000\">gini = 0.017</text>\n<text text-anchor=\"start\" x=\"1599.5\" y=\"-855.8\" font-family=\"Helvetica,sans-Serif\" font-size=\"14.00\" fill=\"#000000\">samples = 949</text>\n<text text-anchor=\"start\" x=\"1597.5\" y=\"-840.8\" font-family=\"Helvetica,sans-Serif\" font-size=\"14.00\" fill=\"#000000\">value = [941, 8]</text>\n<text text-anchor=\"start\" x=\"1599\" y=\"-825.8\" font-family=\"Helvetica,sans-Serif\" font-size=\"14.00\" fill=\"#000000\">class = Normal</text>\n</g>\n<!-- 45&#45;&gt;46 -->\n<g id=\"edge46\" class=\"edge\">\n<title>45&#45;&gt;46</title>\n<path fill=\"none\" stroke=\"#000000\" d=\"M1826.1057,-941.9489C1822.871,-940.2507 1819.6562,-938.5922 1816.5,-937 1788.5201,-922.8848 1757.4276,-908.4944 1729.4581,-896.0064\"/>\n<polygon fill=\"#000000\" stroke=\"#000000\" points=\"1730.6611,-892.711 1720.1015,-891.8475 1727.8178,-899.1076 1730.6611,-892.711\"/>\n</g>\n<!-- 61 -->\n<g id=\"node62\" class=\"node\">\n<title>61</title>\n<path fill=\"#e78a47\" stroke=\"#000000\" d=\"M1961,-901C1961,-901 1824,-901 1824,-901 1818,-901 1812,-895 1812,-889 1812,-889 1812,-830 1812,-830 1812,-824 1818,-818 1824,-818 1824,-818 1961,-818 1961,-818 1967,-818 1973,-824 1973,-830 1973,-830 1973,-889 1973,-889 1973,-895 1967,-901 1961,-901\"/>\n<text text-anchor=\"start\" x=\"1820\" y=\"-885.8\" font-family=\"Helvetica,sans-Serif\" font-size=\"14.00\" fill=\"#000000\">max_val_speed ≤ 2.402</text>\n<text text-anchor=\"start\" x=\"1857\" y=\"-870.8\" font-family=\"Helvetica,sans-Serif\" font-size=\"14.00\" fill=\"#000000\">gini = 0.122</text>\n<text text-anchor=\"start\" x=\"1847.5\" y=\"-855.8\" font-family=\"Helvetica,sans-Serif\" font-size=\"14.00\" fill=\"#000000\">samples = 550</text>\n<text text-anchor=\"start\" x=\"1842\" y=\"-840.8\" font-family=\"Helvetica,sans-Serif\" font-size=\"14.00\" fill=\"#000000\">value = [514, 36]</text>\n<text text-anchor=\"start\" x=\"1847\" y=\"-825.8\" font-family=\"Helvetica,sans-Serif\" font-size=\"14.00\" fill=\"#000000\">class = Normal</text>\n</g>\n<!-- 45&#45;&gt;61 -->\n<g id=\"edge61\" class=\"edge\">\n<title>45&#45;&gt;61</title>\n<path fill=\"none\" stroke=\"#000000\" d=\"M1891.1995,-936.8796C1891.3372,-928.6838 1891.4834,-919.9891 1891.626,-911.5013\"/>\n<polygon fill=\"#000000\" stroke=\"#000000\" points=\"1895.1289,-911.3555 1891.7975,-901.2981 1888.1299,-911.2378 1895.1289,-911.3555\"/>\n</g>\n<!-- 47 -->\n<g id=\"node48\" class=\"node\">\n<title>47</title>\n<path fill=\"#e58139\" stroke=\"#000000\" d=\"M1414.5,-782C1414.5,-782 1280.5,-782 1280.5,-782 1274.5,-782 1268.5,-776 1268.5,-770 1268.5,-770 1268.5,-711 1268.5,-711 1268.5,-705 1274.5,-699 1280.5,-699 1280.5,-699 1414.5,-699 1414.5,-699 1420.5,-699 1426.5,-705 1426.5,-711 1426.5,-711 1426.5,-770 1426.5,-770 1426.5,-776 1420.5,-782 1414.5,-782\"/>\n<text text-anchor=\"start\" x=\"1276.5\" y=\"-766.8\" font-family=\"Helvetica,sans-Serif\" font-size=\"14.00\" fill=\"#000000\">tendency_accY ≤ 1.173</text>\n<text text-anchor=\"start\" x=\"1312\" y=\"-751.8\" font-family=\"Helvetica,sans-Serif\" font-size=\"14.00\" fill=\"#000000\">gini = 0.005</text>\n<text text-anchor=\"start\" x=\"1302.5\" y=\"-736.8\" font-family=\"Helvetica,sans-Serif\" font-size=\"14.00\" fill=\"#000000\">samples = 831</text>\n<text text-anchor=\"start\" x=\"1300.5\" y=\"-721.8\" font-family=\"Helvetica,sans-Serif\" font-size=\"14.00\" fill=\"#000000\">value = [829, 2]</text>\n<text text-anchor=\"start\" x=\"1302\" y=\"-706.8\" font-family=\"Helvetica,sans-Serif\" font-size=\"14.00\" fill=\"#000000\">class = Normal</text>\n</g>\n<!-- 46&#45;&gt;47 -->\n<g id=\"edge47\" class=\"edge\">\n<title>46&#45;&gt;47</title>\n<path fill=\"none\" stroke=\"#000000\" d=\"M1568.7859,-829.1634C1528.3619,-812.9666 1478.3779,-792.9393 1436.1488,-776.0192\"/>\n<polygon fill=\"#000000\" stroke=\"#000000\" points=\"1437.2924,-772.707 1426.708,-772.2365 1434.6889,-779.2048 1437.2924,-772.707\"/>\n</g>\n<!-- 56 -->\n<g id=\"node57\" class=\"node\">\n<title>56</title>\n<path fill=\"#e68844\" stroke=\"#000000\" d=\"M1710,-782C1710,-782 1579,-782 1579,-782 1573,-782 1567,-776 1567,-770 1567,-770 1567,-711 1567,-711 1567,-705 1573,-699 1579,-699 1579,-699 1710,-699 1710,-699 1716,-699 1722,-705 1722,-711 1722,-711 1722,-770 1722,-770 1722,-776 1716,-782 1710,-782\"/>\n<text text-anchor=\"start\" x=\"1575\" y=\"-766.8\" font-family=\"Helvetica,sans-Serif\" font-size=\"14.00\" fill=\"#000000\">max_val_accY ≤ 1.229</text>\n<text text-anchor=\"start\" x=\"1609\" y=\"-751.8\" font-family=\"Helvetica,sans-Serif\" font-size=\"14.00\" fill=\"#000000\">gini = 0.097</text>\n<text text-anchor=\"start\" x=\"1599.5\" y=\"-736.8\" font-family=\"Helvetica,sans-Serif\" font-size=\"14.00\" fill=\"#000000\">samples = 118</text>\n<text text-anchor=\"start\" x=\"1597.5\" y=\"-721.8\" font-family=\"Helvetica,sans-Serif\" font-size=\"14.00\" fill=\"#000000\">value = [112, 6]</text>\n<text text-anchor=\"start\" x=\"1599\" y=\"-706.8\" font-family=\"Helvetica,sans-Serif\" font-size=\"14.00\" fill=\"#000000\">class = Normal</text>\n</g>\n<!-- 46&#45;&gt;56 -->\n<g id=\"edge56\" class=\"edge\">\n<title>46&#45;&gt;56</title>\n<path fill=\"none\" stroke=\"#000000\" d=\"M1644.5,-817.8796C1644.5,-809.6838 1644.5,-800.9891 1644.5,-792.5013\"/>\n<polygon fill=\"#000000\" stroke=\"#000000\" points=\"1648.0001,-792.298 1644.5,-782.2981 1641.0001,-792.2981 1648.0001,-792.298\"/>\n</g>\n<!-- 48 -->\n<g id=\"node49\" class=\"node\">\n<title>48</title>\n<path fill=\"#e58139\" stroke=\"#000000\" d=\"M1239.5,-655.5C1239.5,-655.5 1153.5,-655.5 1153.5,-655.5 1147.5,-655.5 1141.5,-649.5 1141.5,-643.5 1141.5,-643.5 1141.5,-599.5 1141.5,-599.5 1141.5,-593.5 1147.5,-587.5 1153.5,-587.5 1153.5,-587.5 1239.5,-587.5 1239.5,-587.5 1245.5,-587.5 1251.5,-593.5 1251.5,-599.5 1251.5,-599.5 1251.5,-643.5 1251.5,-643.5 1251.5,-649.5 1245.5,-655.5 1239.5,-655.5\"/>\n<text text-anchor=\"start\" x=\"1168.5\" y=\"-640.3\" font-family=\"Helvetica,sans-Serif\" font-size=\"14.00\" fill=\"#000000\">gini = 0.0</text>\n<text text-anchor=\"start\" x=\"1151.5\" y=\"-625.3\" font-family=\"Helvetica,sans-Serif\" font-size=\"14.00\" fill=\"#000000\">samples = 780</text>\n<text text-anchor=\"start\" x=\"1149.5\" y=\"-610.3\" font-family=\"Helvetica,sans-Serif\" font-size=\"14.00\" fill=\"#000000\">value = [780, 0]</text>\n<text text-anchor=\"start\" x=\"1151\" y=\"-595.3\" font-family=\"Helvetica,sans-Serif\" font-size=\"14.00\" fill=\"#000000\">class = Normal</text>\n</g>\n<!-- 47&#45;&gt;48 -->\n<g id=\"edge48\" class=\"edge\">\n<title>47&#45;&gt;48</title>\n<path fill=\"none\" stroke=\"#000000\" d=\"M1294.6875,-698.8796C1279.6183,-687.0038 1263.2197,-674.0804 1248.2166,-662.2568\"/>\n<polygon fill=\"#000000\" stroke=\"#000000\" points=\"1250.0631,-659.2557 1240.0425,-655.8149 1245.7302,-664.7536 1250.0631,-659.2557\"/>\n</g>\n<!-- 49 -->\n<g id=\"node50\" class=\"node\">\n<title>49</title>\n<path fill=\"#e68641\" stroke=\"#000000\" d=\"M1413,-663C1413,-663 1282,-663 1282,-663 1276,-663 1270,-657 1270,-651 1270,-651 1270,-592 1270,-592 1270,-586 1276,-580 1282,-580 1282,-580 1413,-580 1413,-580 1419,-580 1425,-586 1425,-592 1425,-592 1425,-651 1425,-651 1425,-657 1419,-663 1413,-663\"/>\n<text text-anchor=\"start\" x=\"1278\" y=\"-647.8\" font-family=\"Helvetica,sans-Serif\" font-size=\"14.00\" fill=\"#000000\">min_val_accY ≤ &#45;0.013</text>\n<text text-anchor=\"start\" x=\"1312\" y=\"-632.8\" font-family=\"Helvetica,sans-Serif\" font-size=\"14.00\" fill=\"#000000\">gini = 0.075</text>\n<text text-anchor=\"start\" x=\"1306.5\" y=\"-617.8\" font-family=\"Helvetica,sans-Serif\" font-size=\"14.00\" fill=\"#000000\">samples = 51</text>\n<text text-anchor=\"start\" x=\"1304.5\" y=\"-602.8\" font-family=\"Helvetica,sans-Serif\" font-size=\"14.00\" fill=\"#000000\">value = [49, 2]</text>\n<text text-anchor=\"start\" x=\"1302\" y=\"-587.8\" font-family=\"Helvetica,sans-Serif\" font-size=\"14.00\" fill=\"#000000\">class = Normal</text>\n</g>\n<!-- 47&#45;&gt;49 -->\n<g id=\"edge49\" class=\"edge\">\n<title>47&#45;&gt;49</title>\n<path fill=\"none\" stroke=\"#000000\" d=\"M1347.5,-698.8796C1347.5,-690.6838 1347.5,-681.9891 1347.5,-673.5013\"/>\n<polygon fill=\"#000000\" stroke=\"#000000\" points=\"1351.0001,-673.298 1347.5,-663.2981 1344.0001,-673.2981 1351.0001,-673.298\"/>\n</g>\n<!-- 50 -->\n<g id=\"node51\" class=\"node\">\n<title>50</title>\n<path fill=\"#e6843d\" stroke=\"#000000\" d=\"M1261,-544C1261,-544 1120,-544 1120,-544 1114,-544 1108,-538 1108,-532 1108,-532 1108,-473 1108,-473 1108,-467 1114,-461 1120,-461 1120,-461 1261,-461 1261,-461 1267,-461 1273,-467 1273,-473 1273,-473 1273,-532 1273,-532 1273,-538 1267,-544 1261,-544\"/>\n<text text-anchor=\"start\" x=\"1116\" y=\"-528.8\" font-family=\"Helvetica,sans-Serif\" font-size=\"14.00\" fill=\"#000000\">tendency_speed ≤ 0.828</text>\n<text text-anchor=\"start\" x=\"1155\" y=\"-513.8\" font-family=\"Helvetica,sans-Serif\" font-size=\"14.00\" fill=\"#000000\">gini = 0.039</text>\n<text text-anchor=\"start\" x=\"1149.5\" y=\"-498.8\" font-family=\"Helvetica,sans-Serif\" font-size=\"14.00\" fill=\"#000000\">samples = 50</text>\n<text text-anchor=\"start\" x=\"1147.5\" y=\"-483.8\" font-family=\"Helvetica,sans-Serif\" font-size=\"14.00\" fill=\"#000000\">value = [49, 1]</text>\n<text text-anchor=\"start\" x=\"1145\" y=\"-468.8\" font-family=\"Helvetica,sans-Serif\" font-size=\"14.00\" fill=\"#000000\">class = Normal</text>\n</g>\n<!-- 49&#45;&gt;50 -->\n<g id=\"edge50\" class=\"edge\">\n<title>49&#45;&gt;50</title>\n<path fill=\"none\" stroke=\"#000000\" d=\"M1292.589,-579.8796C1279.9206,-570.2774 1266.3485,-559.9903 1253.3705,-550.1534\"/>\n<polygon fill=\"#000000\" stroke=\"#000000\" points=\"1255.4636,-547.3482 1245.38,-544.0969 1251.2352,-552.9268 1255.4636,-547.3482\"/>\n</g>\n<!-- 55 -->\n<g id=\"node56\" class=\"node\">\n<title>55</title>\n<path fill=\"#399de5\" stroke=\"#000000\" d=\"M1412,-536.5C1412,-536.5 1303,-536.5 1303,-536.5 1297,-536.5 1291,-530.5 1291,-524.5 1291,-524.5 1291,-480.5 1291,-480.5 1291,-474.5 1297,-468.5 1303,-468.5 1303,-468.5 1412,-468.5 1412,-468.5 1418,-468.5 1424,-474.5 1424,-480.5 1424,-480.5 1424,-524.5 1424,-524.5 1424,-530.5 1418,-536.5 1412,-536.5\"/>\n<text text-anchor=\"start\" x=\"1329.5\" y=\"-521.3\" font-family=\"Helvetica,sans-Serif\" font-size=\"14.00\" fill=\"#000000\">gini = 0.0</text>\n<text text-anchor=\"start\" x=\"1320\" y=\"-506.3\" font-family=\"Helvetica,sans-Serif\" font-size=\"14.00\" fill=\"#000000\">samples = 1</text>\n<text text-anchor=\"start\" x=\"1318\" y=\"-491.3\" font-family=\"Helvetica,sans-Serif\" font-size=\"14.00\" fill=\"#000000\">value = [0, 1]</text>\n<text text-anchor=\"start\" x=\"1299\" y=\"-476.3\" font-family=\"Helvetica,sans-Serif\" font-size=\"14.00\" fill=\"#000000\">class = Near&#45;Crash</text>\n</g>\n<!-- 49&#45;&gt;55 -->\n<g id=\"edge55\" class=\"edge\">\n<title>49&#45;&gt;55</title>\n<path fill=\"none\" stroke=\"#000000\" d=\"M1350.9975,-579.8796C1351.8938,-569.2134 1352.8612,-557.7021 1353.7688,-546.9015\"/>\n<polygon fill=\"#000000\" stroke=\"#000000\" points=\"1357.2666,-547.0729 1354.6164,-536.8149 1350.2912,-546.4867 1357.2666,-547.0729\"/>\n</g>\n<!-- 51 -->\n<g id=\"node52\" class=\"node\">\n<title>51</title>\n<path fill=\"#ffffff\" stroke=\"#000000\" d=\"M1182.5,-425C1182.5,-425 1048.5,-425 1048.5,-425 1042.5,-425 1036.5,-419 1036.5,-413 1036.5,-413 1036.5,-354 1036.5,-354 1036.5,-348 1042.5,-342 1048.5,-342 1048.5,-342 1182.5,-342 1182.5,-342 1188.5,-342 1194.5,-348 1194.5,-354 1194.5,-354 1194.5,-413 1194.5,-413 1194.5,-419 1188.5,-425 1182.5,-425\"/>\n<text text-anchor=\"start\" x=\"1044.5\" y=\"-409.8\" font-family=\"Helvetica,sans-Serif\" font-size=\"14.00\" fill=\"#000000\">tendency_accY ≤ 1.254</text>\n<text text-anchor=\"start\" x=\"1087.5\" y=\"-394.8\" font-family=\"Helvetica,sans-Serif\" font-size=\"14.00\" fill=\"#000000\">gini = 0.5</text>\n<text text-anchor=\"start\" x=\"1078\" y=\"-379.8\" font-family=\"Helvetica,sans-Serif\" font-size=\"14.00\" fill=\"#000000\">samples = 2</text>\n<text text-anchor=\"start\" x=\"1076\" y=\"-364.8\" font-family=\"Helvetica,sans-Serif\" font-size=\"14.00\" fill=\"#000000\">value = [1, 1]</text>\n<text text-anchor=\"start\" x=\"1070\" y=\"-349.8\" font-family=\"Helvetica,sans-Serif\" font-size=\"14.00\" fill=\"#000000\">class = Normal</text>\n</g>\n<!-- 50&#45;&gt;51 -->\n<g id=\"edge51\" class=\"edge\">\n<title>50&#45;&gt;51</title>\n<path fill=\"none\" stroke=\"#000000\" d=\"M1164.2686,-460.8796C1158.7627,-452.1434 1152.8994,-442.8404 1147.2176,-433.8253\"/>\n<polygon fill=\"#000000\" stroke=\"#000000\" points=\"1150.1363,-431.8919 1141.8433,-425.2981 1144.2143,-435.6242 1150.1363,-431.8919\"/>\n</g>\n<!-- 54 -->\n<g id=\"node55\" class=\"node\">\n<title>54</title>\n<path fill=\"#e58139\" stroke=\"#000000\" d=\"M1307,-417.5C1307,-417.5 1224,-417.5 1224,-417.5 1218,-417.5 1212,-411.5 1212,-405.5 1212,-405.5 1212,-361.5 1212,-361.5 1212,-355.5 1218,-349.5 1224,-349.5 1224,-349.5 1307,-349.5 1307,-349.5 1313,-349.5 1319,-355.5 1319,-361.5 1319,-361.5 1319,-405.5 1319,-405.5 1319,-411.5 1313,-417.5 1307,-417.5\"/>\n<text text-anchor=\"start\" x=\"1237.5\" y=\"-402.3\" font-family=\"Helvetica,sans-Serif\" font-size=\"14.00\" fill=\"#000000\">gini = 0.0</text>\n<text text-anchor=\"start\" x=\"1224.5\" y=\"-387.3\" font-family=\"Helvetica,sans-Serif\" font-size=\"14.00\" fill=\"#000000\">samples = 48</text>\n<text text-anchor=\"start\" x=\"1222.5\" y=\"-372.3\" font-family=\"Helvetica,sans-Serif\" font-size=\"14.00\" fill=\"#000000\">value = [48, 0]</text>\n<text text-anchor=\"start\" x=\"1220\" y=\"-357.3\" font-family=\"Helvetica,sans-Serif\" font-size=\"14.00\" fill=\"#000000\">class = Normal</text>\n</g>\n<!-- 50&#45;&gt;54 -->\n<g id=\"edge54\" class=\"edge\">\n<title>50&#45;&gt;54</title>\n<path fill=\"none\" stroke=\"#000000\" d=\"M1216.7314,-460.8796C1223.731,-449.7735 1231.308,-437.7513 1238.3556,-426.5691\"/>\n<polygon fill=\"#000000\" stroke=\"#000000\" points=\"1241.502,-428.1411 1243.8729,-417.8149 1235.58,-424.4087 1241.502,-428.1411\"/>\n</g>\n<!-- 52 -->\n<g id=\"node53\" class=\"node\">\n<title>52</title>\n<path fill=\"#399de5\" stroke=\"#000000\" d=\"M1101,-298.5C1101,-298.5 992,-298.5 992,-298.5 986,-298.5 980,-292.5 980,-286.5 980,-286.5 980,-242.5 980,-242.5 980,-236.5 986,-230.5 992,-230.5 992,-230.5 1101,-230.5 1101,-230.5 1107,-230.5 1113,-236.5 1113,-242.5 1113,-242.5 1113,-286.5 1113,-286.5 1113,-292.5 1107,-298.5 1101,-298.5\"/>\n<text text-anchor=\"start\" x=\"1018.5\" y=\"-283.3\" font-family=\"Helvetica,sans-Serif\" font-size=\"14.00\" fill=\"#000000\">gini = 0.0</text>\n<text text-anchor=\"start\" x=\"1009\" y=\"-268.3\" font-family=\"Helvetica,sans-Serif\" font-size=\"14.00\" fill=\"#000000\">samples = 1</text>\n<text text-anchor=\"start\" x=\"1007\" y=\"-253.3\" font-family=\"Helvetica,sans-Serif\" font-size=\"14.00\" fill=\"#000000\">value = [0, 1]</text>\n<text text-anchor=\"start\" x=\"988\" y=\"-238.3\" font-family=\"Helvetica,sans-Serif\" font-size=\"14.00\" fill=\"#000000\">class = Near&#45;Crash</text>\n</g>\n<!-- 51&#45;&gt;52 -->\n<g id=\"edge52\" class=\"edge\">\n<title>51&#45;&gt;52</title>\n<path fill=\"none\" stroke=\"#000000\" d=\"M1091.3671,-341.8796C1084.9275,-330.7735 1077.9566,-318.7513 1071.4729,-307.5691\"/>\n<polygon fill=\"#000000\" stroke=\"#000000\" points=\"1074.4409,-305.7102 1066.3969,-298.8149 1068.3852,-309.2215 1074.4409,-305.7102\"/>\n</g>\n<!-- 53 -->\n<g id=\"node54\" class=\"node\">\n<title>53</title>\n<path fill=\"#e58139\" stroke=\"#000000\" d=\"M1226,-298.5C1226,-298.5 1143,-298.5 1143,-298.5 1137,-298.5 1131,-292.5 1131,-286.5 1131,-286.5 1131,-242.5 1131,-242.5 1131,-236.5 1137,-230.5 1143,-230.5 1143,-230.5 1226,-230.5 1226,-230.5 1232,-230.5 1238,-236.5 1238,-242.5 1238,-242.5 1238,-286.5 1238,-286.5 1238,-292.5 1232,-298.5 1226,-298.5\"/>\n<text text-anchor=\"start\" x=\"1156.5\" y=\"-283.3\" font-family=\"Helvetica,sans-Serif\" font-size=\"14.00\" fill=\"#000000\">gini = 0.0</text>\n<text text-anchor=\"start\" x=\"1147\" y=\"-268.3\" font-family=\"Helvetica,sans-Serif\" font-size=\"14.00\" fill=\"#000000\">samples = 1</text>\n<text text-anchor=\"start\" x=\"1145\" y=\"-253.3\" font-family=\"Helvetica,sans-Serif\" font-size=\"14.00\" fill=\"#000000\">value = [1, 0]</text>\n<text text-anchor=\"start\" x=\"1139\" y=\"-238.3\" font-family=\"Helvetica,sans-Serif\" font-size=\"14.00\" fill=\"#000000\">class = Normal</text>\n</g>\n<!-- 51&#45;&gt;53 -->\n<g id=\"edge53\" class=\"edge\">\n<title>51&#45;&gt;53</title>\n<path fill=\"none\" stroke=\"#000000\" d=\"M1139.6329,-341.8796C1146.0725,-330.7735 1153.0434,-318.7513 1159.5271,-307.5691\"/>\n<polygon fill=\"#000000\" stroke=\"#000000\" points=\"1162.6148,-309.2215 1164.6031,-298.8149 1156.5591,-305.7102 1162.6148,-309.2215\"/>\n</g>\n<!-- 57 -->\n<g id=\"node58\" class=\"node\">\n<title>57</title>\n<path fill=\"#7bbeee\" stroke=\"#000000\" d=\"M1596,-663C1596,-663 1455,-663 1455,-663 1449,-663 1443,-657 1443,-651 1443,-651 1443,-592 1443,-592 1443,-586 1449,-580 1455,-580 1455,-580 1596,-580 1596,-580 1602,-580 1608,-586 1608,-592 1608,-592 1608,-651 1608,-651 1608,-657 1602,-663 1596,-663\"/>\n<text text-anchor=\"start\" x=\"1451\" y=\"-647.8\" font-family=\"Helvetica,sans-Serif\" font-size=\"14.00\" fill=\"#000000\">tendency_speed ≤ 0.999</text>\n<text text-anchor=\"start\" x=\"1490\" y=\"-632.8\" font-family=\"Helvetica,sans-Serif\" font-size=\"14.00\" fill=\"#000000\">gini = 0.375</text>\n<text text-anchor=\"start\" x=\"1488\" y=\"-617.8\" font-family=\"Helvetica,sans-Serif\" font-size=\"14.00\" fill=\"#000000\">samples = 8</text>\n<text text-anchor=\"start\" x=\"1486\" y=\"-602.8\" font-family=\"Helvetica,sans-Serif\" font-size=\"14.00\" fill=\"#000000\">value = [2, 6]</text>\n<text text-anchor=\"start\" x=\"1467\" y=\"-587.8\" font-family=\"Helvetica,sans-Serif\" font-size=\"14.00\" fill=\"#000000\">class = Near&#45;Crash</text>\n</g>\n<!-- 56&#45;&gt;57 -->\n<g id=\"edge57\" class=\"edge\">\n<title>56&#45;&gt;57</title>\n<path fill=\"none\" stroke=\"#000000\" d=\"M1602.8796,-698.8796C1593.6931,-689.6931 1583.8798,-679.8798 1574.4336,-670.4336\"/>\n<polygon fill=\"#000000\" stroke=\"#000000\" points=\"1576.8441,-667.8943 1567.2981,-663.2981 1571.8943,-672.8441 1576.8441,-667.8943\"/>\n</g>\n<!-- 60 -->\n<g id=\"node61\" class=\"node\">\n<title>60</title>\n<path fill=\"#e58139\" stroke=\"#000000\" d=\"M1724.5,-655.5C1724.5,-655.5 1638.5,-655.5 1638.5,-655.5 1632.5,-655.5 1626.5,-649.5 1626.5,-643.5 1626.5,-643.5 1626.5,-599.5 1626.5,-599.5 1626.5,-593.5 1632.5,-587.5 1638.5,-587.5 1638.5,-587.5 1724.5,-587.5 1724.5,-587.5 1730.5,-587.5 1736.5,-593.5 1736.5,-599.5 1736.5,-599.5 1736.5,-643.5 1736.5,-643.5 1736.5,-649.5 1730.5,-655.5 1724.5,-655.5\"/>\n<text text-anchor=\"start\" x=\"1653.5\" y=\"-640.3\" font-family=\"Helvetica,sans-Serif\" font-size=\"14.00\" fill=\"#000000\">gini = 0.0</text>\n<text text-anchor=\"start\" x=\"1636.5\" y=\"-625.3\" font-family=\"Helvetica,sans-Serif\" font-size=\"14.00\" fill=\"#000000\">samples = 110</text>\n<text text-anchor=\"start\" x=\"1634.5\" y=\"-610.3\" font-family=\"Helvetica,sans-Serif\" font-size=\"14.00\" fill=\"#000000\">value = [110, 0]</text>\n<text text-anchor=\"start\" x=\"1636\" y=\"-595.3\" font-family=\"Helvetica,sans-Serif\" font-size=\"14.00\" fill=\"#000000\">class = Normal</text>\n</g>\n<!-- 56&#45;&gt;60 -->\n<g id=\"edge60\" class=\"edge\">\n<title>56&#45;&gt;60</title>\n<path fill=\"none\" stroke=\"#000000\" d=\"M1657.4408,-698.8796C1660.7914,-688.1034 1664.4101,-676.4647 1667.7983,-665.5677\"/>\n<polygon fill=\"#000000\" stroke=\"#000000\" points=\"1671.2037,-666.4032 1670.8307,-655.8149 1664.5194,-664.3248 1671.2037,-666.4032\"/>\n</g>\n<!-- 58 -->\n<g id=\"node59\" class=\"node\">\n<title>58</title>\n<path fill=\"#e58139\" stroke=\"#000000\" d=\"M1557,-536.5C1557,-536.5 1474,-536.5 1474,-536.5 1468,-536.5 1462,-530.5 1462,-524.5 1462,-524.5 1462,-480.5 1462,-480.5 1462,-474.5 1468,-468.5 1474,-468.5 1474,-468.5 1557,-468.5 1557,-468.5 1563,-468.5 1569,-474.5 1569,-480.5 1569,-480.5 1569,-524.5 1569,-524.5 1569,-530.5 1563,-536.5 1557,-536.5\"/>\n<text text-anchor=\"start\" x=\"1487.5\" y=\"-521.3\" font-family=\"Helvetica,sans-Serif\" font-size=\"14.00\" fill=\"#000000\">gini = 0.0</text>\n<text text-anchor=\"start\" x=\"1478\" y=\"-506.3\" font-family=\"Helvetica,sans-Serif\" font-size=\"14.00\" fill=\"#000000\">samples = 2</text>\n<text text-anchor=\"start\" x=\"1476\" y=\"-491.3\" font-family=\"Helvetica,sans-Serif\" font-size=\"14.00\" fill=\"#000000\">value = [2, 0]</text>\n<text text-anchor=\"start\" x=\"1470\" y=\"-476.3\" font-family=\"Helvetica,sans-Serif\" font-size=\"14.00\" fill=\"#000000\">class = Normal</text>\n</g>\n<!-- 57&#45;&gt;58 -->\n<g id=\"edge58\" class=\"edge\">\n<title>57&#45;&gt;58</title>\n<path fill=\"none\" stroke=\"#000000\" d=\"M1522.0025,-579.8796C1521.1062,-569.2134 1520.1388,-557.7021 1519.2312,-546.9015\"/>\n<polygon fill=\"#000000\" stroke=\"#000000\" points=\"1522.7088,-546.4867 1518.3836,-536.8149 1515.7334,-547.0729 1522.7088,-546.4867\"/>\n</g>\n<!-- 59 -->\n<g id=\"node60\" class=\"node\">\n<title>59</title>\n<path fill=\"#399de5\" stroke=\"#000000\" d=\"M1708,-536.5C1708,-536.5 1599,-536.5 1599,-536.5 1593,-536.5 1587,-530.5 1587,-524.5 1587,-524.5 1587,-480.5 1587,-480.5 1587,-474.5 1593,-468.5 1599,-468.5 1599,-468.5 1708,-468.5 1708,-468.5 1714,-468.5 1720,-474.5 1720,-480.5 1720,-480.5 1720,-524.5 1720,-524.5 1720,-530.5 1714,-536.5 1708,-536.5\"/>\n<text text-anchor=\"start\" x=\"1625.5\" y=\"-521.3\" font-family=\"Helvetica,sans-Serif\" font-size=\"14.00\" fill=\"#000000\">gini = 0.0</text>\n<text text-anchor=\"start\" x=\"1616\" y=\"-506.3\" font-family=\"Helvetica,sans-Serif\" font-size=\"14.00\" fill=\"#000000\">samples = 6</text>\n<text text-anchor=\"start\" x=\"1614\" y=\"-491.3\" font-family=\"Helvetica,sans-Serif\" font-size=\"14.00\" fill=\"#000000\">value = [0, 6]</text>\n<text text-anchor=\"start\" x=\"1595\" y=\"-476.3\" font-family=\"Helvetica,sans-Serif\" font-size=\"14.00\" fill=\"#000000\">class = Near&#45;Crash</text>\n</g>\n<!-- 57&#45;&gt;59 -->\n<g id=\"edge59\" class=\"edge\">\n<title>57&#45;&gt;59</title>\n<path fill=\"none\" stroke=\"#000000\" d=\"M1570.2682,-579.8796C1582.8056,-568.2237 1596.4284,-555.5587 1608.953,-543.9148\"/>\n<polygon fill=\"#000000\" stroke=\"#000000\" points=\"1611.6491,-546.1872 1616.5898,-536.8149 1606.8828,-541.0605 1611.6491,-546.1872\"/>\n</g>\n<!-- 62 -->\n<g id=\"node63\" class=\"node\">\n<title>62</title>\n<path fill=\"#eda775\" stroke=\"#000000\" d=\"M1959.5,-782C1959.5,-782 1825.5,-782 1825.5,-782 1819.5,-782 1813.5,-776 1813.5,-770 1813.5,-770 1813.5,-711 1813.5,-711 1813.5,-705 1819.5,-699 1825.5,-699 1825.5,-699 1959.5,-699 1959.5,-699 1965.5,-699 1971.5,-705 1971.5,-711 1971.5,-711 1971.5,-770 1971.5,-770 1971.5,-776 1965.5,-782 1959.5,-782\"/>\n<text text-anchor=\"start\" x=\"1821.5\" y=\"-766.8\" font-family=\"Helvetica,sans-Serif\" font-size=\"14.00\" fill=\"#000000\">tendency_speed ≤ 0.97</text>\n<text text-anchor=\"start\" x=\"1857\" y=\"-751.8\" font-family=\"Helvetica,sans-Serif\" font-size=\"14.00\" fill=\"#000000\">gini = 0.357</text>\n<text text-anchor=\"start\" x=\"1851.5\" y=\"-736.8\" font-family=\"Helvetica,sans-Serif\" font-size=\"14.00\" fill=\"#000000\">samples = 43</text>\n<text text-anchor=\"start\" x=\"1845.5\" y=\"-721.8\" font-family=\"Helvetica,sans-Serif\" font-size=\"14.00\" fill=\"#000000\">value = [33, 10]</text>\n<text text-anchor=\"start\" x=\"1847\" y=\"-706.8\" font-family=\"Helvetica,sans-Serif\" font-size=\"14.00\" fill=\"#000000\">class = Normal</text>\n</g>\n<!-- 61&#45;&gt;62 -->\n<g id=\"edge62\" class=\"edge\">\n<title>61&#45;&gt;62</title>\n<path fill=\"none\" stroke=\"#000000\" d=\"M1892.5,-817.8796C1892.5,-809.6838 1892.5,-800.9891 1892.5,-792.5013\"/>\n<polygon fill=\"#000000\" stroke=\"#000000\" points=\"1896.0001,-792.298 1892.5,-782.2981 1889.0001,-792.2981 1896.0001,-792.298\"/>\n</g>\n<!-- 65 -->\n<g id=\"node66\" class=\"node\">\n<title>65</title>\n<path fill=\"#e68844\" stroke=\"#000000\" d=\"M2159,-782C2159,-782 2014,-782 2014,-782 2008,-782 2002,-776 2002,-770 2002,-770 2002,-711 2002,-711 2002,-705 2008,-699 2014,-699 2014,-699 2159,-699 2159,-699 2165,-699 2171,-705 2171,-711 2171,-711 2171,-770 2171,-770 2171,-776 2165,-782 2159,-782\"/>\n<text text-anchor=\"start\" x=\"2010\" y=\"-766.8\" font-family=\"Helvetica,sans-Serif\" font-size=\"14.00\" fill=\"#000000\">max_val_speed ≤ 15.553</text>\n<text text-anchor=\"start\" x=\"2051\" y=\"-751.8\" font-family=\"Helvetica,sans-Serif\" font-size=\"14.00\" fill=\"#000000\">gini = 0.097</text>\n<text text-anchor=\"start\" x=\"2041.5\" y=\"-736.8\" font-family=\"Helvetica,sans-Serif\" font-size=\"14.00\" fill=\"#000000\">samples = 507</text>\n<text text-anchor=\"start\" x=\"2036\" y=\"-721.8\" font-family=\"Helvetica,sans-Serif\" font-size=\"14.00\" fill=\"#000000\">value = [481, 26]</text>\n<text text-anchor=\"start\" x=\"2041\" y=\"-706.8\" font-family=\"Helvetica,sans-Serif\" font-size=\"14.00\" fill=\"#000000\">class = Normal</text>\n</g>\n<!-- 61&#45;&gt;65 -->\n<g id=\"edge65\" class=\"edge\">\n<title>61&#45;&gt;65</title>\n<path fill=\"none\" stroke=\"#000000\" d=\"M1960.3518,-817.8796C1976.3011,-808.0962 1993.4096,-797.6019 2009.7198,-787.5971\"/>\n<polygon fill=\"#000000\" stroke=\"#000000\" points=\"2011.9925,-790.3091 2018.6865,-782.0969 2008.3323,-784.3422 2011.9925,-790.3091\"/>\n</g>\n<!-- 63 -->\n<g id=\"node64\" class=\"node\">\n<title>63</title>\n<path fill=\"#e58139\" stroke=\"#000000\" d=\"M1850,-655.5C1850,-655.5 1767,-655.5 1767,-655.5 1761,-655.5 1755,-649.5 1755,-643.5 1755,-643.5 1755,-599.5 1755,-599.5 1755,-593.5 1761,-587.5 1767,-587.5 1767,-587.5 1850,-587.5 1850,-587.5 1856,-587.5 1862,-593.5 1862,-599.5 1862,-599.5 1862,-643.5 1862,-643.5 1862,-649.5 1856,-655.5 1850,-655.5\"/>\n<text text-anchor=\"start\" x=\"1780.5\" y=\"-640.3\" font-family=\"Helvetica,sans-Serif\" font-size=\"14.00\" fill=\"#000000\">gini = 0.0</text>\n<text text-anchor=\"start\" x=\"1767.5\" y=\"-625.3\" font-family=\"Helvetica,sans-Serif\" font-size=\"14.00\" fill=\"#000000\">samples = 33</text>\n<text text-anchor=\"start\" x=\"1765.5\" y=\"-610.3\" font-family=\"Helvetica,sans-Serif\" font-size=\"14.00\" fill=\"#000000\">value = [33, 0]</text>\n<text text-anchor=\"start\" x=\"1763\" y=\"-595.3\" font-family=\"Helvetica,sans-Serif\" font-size=\"14.00\" fill=\"#000000\">class = Normal</text>\n</g>\n<!-- 62&#45;&gt;63 -->\n<g id=\"edge63\" class=\"edge\">\n<title>62&#45;&gt;63</title>\n<path fill=\"none\" stroke=\"#000000\" d=\"M1863.1209,-698.8796C1855.2037,-687.6636 1846.6269,-675.5131 1838.6675,-664.2372\"/>\n<polygon fill=\"#000000\" stroke=\"#000000\" points=\"1841.3486,-661.9662 1832.7223,-655.8149 1835.6298,-666.003 1841.3486,-661.9662\"/>\n</g>\n<!-- 64 -->\n<g id=\"node65\" class=\"node\">\n<title>64</title>\n<path fill=\"#399de5\" stroke=\"#000000\" d=\"M2001,-655.5C2001,-655.5 1892,-655.5 1892,-655.5 1886,-655.5 1880,-649.5 1880,-643.5 1880,-643.5 1880,-599.5 1880,-599.5 1880,-593.5 1886,-587.5 1892,-587.5 1892,-587.5 2001,-587.5 2001,-587.5 2007,-587.5 2013,-593.5 2013,-599.5 2013,-599.5 2013,-643.5 2013,-643.5 2013,-649.5 2007,-655.5 2001,-655.5\"/>\n<text text-anchor=\"start\" x=\"1918.5\" y=\"-640.3\" font-family=\"Helvetica,sans-Serif\" font-size=\"14.00\" fill=\"#000000\">gini = 0.0</text>\n<text text-anchor=\"start\" x=\"1905.5\" y=\"-625.3\" font-family=\"Helvetica,sans-Serif\" font-size=\"14.00\" fill=\"#000000\">samples = 10</text>\n<text text-anchor=\"start\" x=\"1903.5\" y=\"-610.3\" font-family=\"Helvetica,sans-Serif\" font-size=\"14.00\" fill=\"#000000\">value = [0, 10]</text>\n<text text-anchor=\"start\" x=\"1888\" y=\"-595.3\" font-family=\"Helvetica,sans-Serif\" font-size=\"14.00\" fill=\"#000000\">class = Near&#45;Crash</text>\n</g>\n<!-- 62&#45;&gt;64 -->\n<g id=\"edge64\" class=\"edge\">\n<title>62&#45;&gt;64</title>\n<path fill=\"none\" stroke=\"#000000\" d=\"M1911.3866,-698.8796C1916.3265,-687.9935 1921.6659,-676.227 1926.6541,-665.2344\"/>\n<polygon fill=\"#000000\" stroke=\"#000000\" points=\"1929.9834,-666.3675 1930.9285,-655.8149 1923.609,-663.4749 1929.9834,-666.3675\"/>\n</g>\n<!-- 66 -->\n<g id=\"node67\" class=\"node\">\n<title>66</title>\n<path fill=\"#e58139\" stroke=\"#000000\" d=\"M2129.5,-655.5C2129.5,-655.5 2043.5,-655.5 2043.5,-655.5 2037.5,-655.5 2031.5,-649.5 2031.5,-643.5 2031.5,-643.5 2031.5,-599.5 2031.5,-599.5 2031.5,-593.5 2037.5,-587.5 2043.5,-587.5 2043.5,-587.5 2129.5,-587.5 2129.5,-587.5 2135.5,-587.5 2141.5,-593.5 2141.5,-599.5 2141.5,-599.5 2141.5,-643.5 2141.5,-643.5 2141.5,-649.5 2135.5,-655.5 2129.5,-655.5\"/>\n<text text-anchor=\"start\" x=\"2058.5\" y=\"-640.3\" font-family=\"Helvetica,sans-Serif\" font-size=\"14.00\" fill=\"#000000\">gini = 0.0</text>\n<text text-anchor=\"start\" x=\"2041.5\" y=\"-625.3\" font-family=\"Helvetica,sans-Serif\" font-size=\"14.00\" fill=\"#000000\">samples = 214</text>\n<text text-anchor=\"start\" x=\"2039.5\" y=\"-610.3\" font-family=\"Helvetica,sans-Serif\" font-size=\"14.00\" fill=\"#000000\">value = [214, 0]</text>\n<text text-anchor=\"start\" x=\"2041\" y=\"-595.3\" font-family=\"Helvetica,sans-Serif\" font-size=\"14.00\" fill=\"#000000\">class = Normal</text>\n</g>\n<!-- 65&#45;&gt;66 -->\n<g id=\"edge66\" class=\"edge\">\n<title>65&#45;&gt;66</title>\n<path fill=\"none\" stroke=\"#000000\" d=\"M2086.5,-698.8796C2086.5,-688.2134 2086.5,-676.7021 2086.5,-665.9015\"/>\n<polygon fill=\"#000000\" stroke=\"#000000\" points=\"2090.0001,-665.8149 2086.5,-655.8149 2083.0001,-665.815 2090.0001,-665.8149\"/>\n</g>\n<!-- 67 -->\n<g id=\"node68\" class=\"node\">\n<title>67</title>\n<path fill=\"#e88d4c\" stroke=\"#000000\" d=\"M2305.5,-663C2305.5,-663 2171.5,-663 2171.5,-663 2165.5,-663 2159.5,-657 2159.5,-651 2159.5,-651 2159.5,-592 2159.5,-592 2159.5,-586 2165.5,-580 2171.5,-580 2171.5,-580 2305.5,-580 2305.5,-580 2311.5,-580 2317.5,-586 2317.5,-592 2317.5,-592 2317.5,-651 2317.5,-651 2317.5,-657 2311.5,-663 2305.5,-663\"/>\n<text text-anchor=\"start\" x=\"2167.5\" y=\"-647.8\" font-family=\"Helvetica,sans-Serif\" font-size=\"14.00\" fill=\"#000000\">min_val_speed ≤ 2.401</text>\n<text text-anchor=\"start\" x=\"2203\" y=\"-632.8\" font-family=\"Helvetica,sans-Serif\" font-size=\"14.00\" fill=\"#000000\">gini = 0.162</text>\n<text text-anchor=\"start\" x=\"2193.5\" y=\"-617.8\" font-family=\"Helvetica,sans-Serif\" font-size=\"14.00\" fill=\"#000000\">samples = 293</text>\n<text text-anchor=\"start\" x=\"2188\" y=\"-602.8\" font-family=\"Helvetica,sans-Serif\" font-size=\"14.00\" fill=\"#000000\">value = [267, 26]</text>\n<text text-anchor=\"start\" x=\"2193\" y=\"-587.8\" font-family=\"Helvetica,sans-Serif\" font-size=\"14.00\" fill=\"#000000\">class = Normal</text>\n</g>\n<!-- 65&#45;&gt;67 -->\n<g id=\"edge67\" class=\"edge\">\n<title>65&#45;&gt;67</title>\n<path fill=\"none\" stroke=\"#000000\" d=\"M2139.6622,-698.8796C2151.8115,-689.368 2164.8192,-679.1843 2177.276,-669.432\"/>\n<polygon fill=\"#000000\" stroke=\"#000000\" points=\"2179.6514,-672.0173 2185.3678,-663.0969 2175.3362,-666.5055 2179.6514,-672.0173\"/>\n</g>\n<!-- 68 -->\n<g id=\"node69\" class=\"node\">\n<title>68</title>\n<path fill=\"#399de5\" stroke=\"#000000\" d=\"M2218,-536.5C2218,-536.5 2109,-536.5 2109,-536.5 2103,-536.5 2097,-530.5 2097,-524.5 2097,-524.5 2097,-480.5 2097,-480.5 2097,-474.5 2103,-468.5 2109,-468.5 2109,-468.5 2218,-468.5 2218,-468.5 2224,-468.5 2230,-474.5 2230,-480.5 2230,-480.5 2230,-524.5 2230,-524.5 2230,-530.5 2224,-536.5 2218,-536.5\"/>\n<text text-anchor=\"start\" x=\"2135.5\" y=\"-521.3\" font-family=\"Helvetica,sans-Serif\" font-size=\"14.00\" fill=\"#000000\">gini = 0.0</text>\n<text text-anchor=\"start\" x=\"2122.5\" y=\"-506.3\" font-family=\"Helvetica,sans-Serif\" font-size=\"14.00\" fill=\"#000000\">samples = 12</text>\n<text text-anchor=\"start\" x=\"2120.5\" y=\"-491.3\" font-family=\"Helvetica,sans-Serif\" font-size=\"14.00\" fill=\"#000000\">value = [0, 12]</text>\n<text text-anchor=\"start\" x=\"2105\" y=\"-476.3\" font-family=\"Helvetica,sans-Serif\" font-size=\"14.00\" fill=\"#000000\">class = Near&#45;Crash</text>\n</g>\n<!-- 67&#45;&gt;68 -->\n<g id=\"edge68\" class=\"edge\">\n<title>67&#45;&gt;68</title>\n<path fill=\"none\" stroke=\"#000000\" d=\"M2212.2686,-579.8796C2205.269,-568.7735 2197.692,-556.7513 2190.6444,-545.5691\"/>\n<polygon fill=\"#000000\" stroke=\"#000000\" points=\"2193.42,-543.4087 2185.1271,-536.8149 2187.498,-547.1411 2193.42,-543.4087\"/>\n</g>\n<!-- 69 -->\n<g id=\"node70\" class=\"node\">\n<title>69</title>\n<path fill=\"#e68843\" stroke=\"#000000\" d=\"M2367,-544C2367,-544 2260,-544 2260,-544 2254,-544 2248,-538 2248,-532 2248,-532 2248,-473 2248,-473 2248,-467 2254,-461 2260,-461 2260,-461 2367,-461 2367,-461 2373,-461 2379,-467 2379,-473 2379,-473 2379,-532 2379,-532 2379,-538 2373,-544 2367,-544\"/>\n<text text-anchor=\"start\" x=\"2256\" y=\"-528.8\" font-family=\"Helvetica,sans-Serif\" font-size=\"14.00\" fill=\"#000000\">mean_accY ≤ 1.12</text>\n<text text-anchor=\"start\" x=\"2278\" y=\"-513.8\" font-family=\"Helvetica,sans-Serif\" font-size=\"14.00\" fill=\"#000000\">gini = 0.095</text>\n<text text-anchor=\"start\" x=\"2268.5\" y=\"-498.8\" font-family=\"Helvetica,sans-Serif\" font-size=\"14.00\" fill=\"#000000\">samples = 281</text>\n<text text-anchor=\"start\" x=\"2263\" y=\"-483.8\" font-family=\"Helvetica,sans-Serif\" font-size=\"14.00\" fill=\"#000000\">value = [267, 14]</text>\n<text text-anchor=\"start\" x=\"2268\" y=\"-468.8\" font-family=\"Helvetica,sans-Serif\" font-size=\"14.00\" fill=\"#000000\">class = Normal</text>\n</g>\n<!-- 67&#45;&gt;69 -->\n<g id=\"edge69\" class=\"edge\">\n<title>67&#45;&gt;69</title>\n<path fill=\"none\" stroke=\"#000000\" d=\"M2264.7314,-579.8796C2270.2373,-571.1434 2276.1006,-561.8404 2281.7824,-552.8253\"/>\n<polygon fill=\"#000000\" stroke=\"#000000\" points=\"2284.7857,-554.6242 2287.1567,-544.2981 2278.8637,-550.8919 2284.7857,-554.6242\"/>\n</g>\n<!-- 70 -->\n<g id=\"node71\" class=\"node\">\n<title>70</title>\n<path fill=\"#e5823b\" stroke=\"#000000\" d=\"M2292,-425C2292,-425 2167,-425 2167,-425 2161,-425 2155,-419 2155,-413 2155,-413 2155,-354 2155,-354 2155,-348 2161,-342 2167,-342 2167,-342 2292,-342 2292,-342 2298,-342 2304,-348 2304,-354 2304,-354 2304,-413 2304,-413 2304,-419 2298,-425 2292,-425\"/>\n<text text-anchor=\"start\" x=\"2163\" y=\"-409.8\" font-family=\"Helvetica,sans-Serif\" font-size=\"14.00\" fill=\"#000000\">median_accY ≤ 1.034</text>\n<text text-anchor=\"start\" x=\"2194\" y=\"-394.8\" font-family=\"Helvetica,sans-Serif\" font-size=\"14.00\" fill=\"#000000\">gini = 0.017</text>\n<text text-anchor=\"start\" x=\"2184.5\" y=\"-379.8\" font-family=\"Helvetica,sans-Serif\" font-size=\"14.00\" fill=\"#000000\">samples = 240</text>\n<text text-anchor=\"start\" x=\"2182.5\" y=\"-364.8\" font-family=\"Helvetica,sans-Serif\" font-size=\"14.00\" fill=\"#000000\">value = [238, 2]</text>\n<text text-anchor=\"start\" x=\"2184\" y=\"-349.8\" font-family=\"Helvetica,sans-Serif\" font-size=\"14.00\" fill=\"#000000\">class = Normal</text>\n</g>\n<!-- 69&#45;&gt;70 -->\n<g id=\"edge70\" class=\"edge\">\n<title>69&#45;&gt;70</title>\n<path fill=\"none\" stroke=\"#000000\" d=\"M2284.1209,-460.8796C2277.8906,-452.0534 2271.2519,-442.6485 2264.827,-433.5466\"/>\n<polygon fill=\"#000000\" stroke=\"#000000\" points=\"2267.6308,-431.4494 2259.0045,-425.2981 2261.912,-435.4862 2267.6308,-431.4494\"/>\n</g>\n<!-- 75 -->\n<g id=\"node76\" class=\"node\">\n<title>75</title>\n<path fill=\"#f0b58b\" stroke=\"#000000\" d=\"M2456,-425C2456,-425 2337,-425 2337,-425 2331,-425 2325,-419 2325,-413 2325,-413 2325,-354 2325,-354 2325,-348 2331,-342 2337,-342 2337,-342 2456,-342 2456,-342 2462,-342 2468,-348 2468,-354 2468,-354 2468,-413 2468,-413 2468,-419 2462,-425 2456,-425\"/>\n<text text-anchor=\"start\" x=\"2333\" y=\"-409.8\" font-family=\"Helvetica,sans-Serif\" font-size=\"14.00\" fill=\"#000000\">min_val_accY ≤ 1.08</text>\n<text text-anchor=\"start\" x=\"2361\" y=\"-394.8\" font-family=\"Helvetica,sans-Serif\" font-size=\"14.00\" fill=\"#000000\">gini = 0.414</text>\n<text text-anchor=\"start\" x=\"2355.5\" y=\"-379.8\" font-family=\"Helvetica,sans-Serif\" font-size=\"14.00\" fill=\"#000000\">samples = 41</text>\n<text text-anchor=\"start\" x=\"2349.5\" y=\"-364.8\" font-family=\"Helvetica,sans-Serif\" font-size=\"14.00\" fill=\"#000000\">value = [29, 12]</text>\n<text text-anchor=\"start\" x=\"2351\" y=\"-349.8\" font-family=\"Helvetica,sans-Serif\" font-size=\"14.00\" fill=\"#000000\">class = Normal</text>\n</g>\n<!-- 69&#45;&gt;75 -->\n<g id=\"edge75\" class=\"edge\">\n<title>69&#45;&gt;75</title>\n<path fill=\"none\" stroke=\"#000000\" d=\"M2342.5294,-460.8796C2348.6855,-452.0534 2355.2451,-442.6485 2361.5936,-433.5466\"/>\n<polygon fill=\"#000000\" stroke=\"#000000\" points=\"2364.4967,-435.5024 2367.3467,-425.2981 2358.7552,-431.4978 2364.4967,-435.5024\"/>\n</g>\n<!-- 71 -->\n<g id=\"node72\" class=\"node\">\n<title>71</title>\n<path fill=\"#e58139\" stroke=\"#000000\" d=\"M2116.5,-298.5C2116.5,-298.5 2030.5,-298.5 2030.5,-298.5 2024.5,-298.5 2018.5,-292.5 2018.5,-286.5 2018.5,-286.5 2018.5,-242.5 2018.5,-242.5 2018.5,-236.5 2024.5,-230.5 2030.5,-230.5 2030.5,-230.5 2116.5,-230.5 2116.5,-230.5 2122.5,-230.5 2128.5,-236.5 2128.5,-242.5 2128.5,-242.5 2128.5,-286.5 2128.5,-286.5 2128.5,-292.5 2122.5,-298.5 2116.5,-298.5\"/>\n<text text-anchor=\"start\" x=\"2045.5\" y=\"-283.3\" font-family=\"Helvetica,sans-Serif\" font-size=\"14.00\" fill=\"#000000\">gini = 0.0</text>\n<text text-anchor=\"start\" x=\"2028.5\" y=\"-268.3\" font-family=\"Helvetica,sans-Serif\" font-size=\"14.00\" fill=\"#000000\">samples = 218</text>\n<text text-anchor=\"start\" x=\"2026.5\" y=\"-253.3\" font-family=\"Helvetica,sans-Serif\" font-size=\"14.00\" fill=\"#000000\">value = [218, 0]</text>\n<text text-anchor=\"start\" x=\"2028\" y=\"-238.3\" font-family=\"Helvetica,sans-Serif\" font-size=\"14.00\" fill=\"#000000\">class = Normal</text>\n</g>\n<!-- 70&#45;&gt;71 -->\n<g id=\"edge71\" class=\"edge\">\n<title>70&#45;&gt;71</title>\n<path fill=\"none\" stroke=\"#000000\" d=\"M2174.9388,-341.8796C2159.1516,-329.8368 2141.9521,-316.7167 2126.2759,-304.7586\"/>\n<polygon fill=\"#000000\" stroke=\"#000000\" points=\"2128.3063,-301.9053 2118.2327,-298.623 2124.0608,-307.4709 2128.3063,-301.9053\"/>\n</g>\n<!-- 72 -->\n<g id=\"node73\" class=\"node\">\n<title>72</title>\n<path fill=\"#e88e4d\" stroke=\"#000000\" d=\"M2300,-306C2300,-306 2159,-306 2159,-306 2153,-306 2147,-300 2147,-294 2147,-294 2147,-235 2147,-235 2147,-229 2153,-223 2159,-223 2159,-223 2300,-223 2300,-223 2306,-223 2312,-229 2312,-235 2312,-235 2312,-294 2312,-294 2312,-300 2306,-306 2300,-306\"/>\n<text text-anchor=\"start\" x=\"2155\" y=\"-290.8\" font-family=\"Helvetica,sans-Serif\" font-size=\"14.00\" fill=\"#000000\">min_val_speed ≤ 20.053</text>\n<text text-anchor=\"start\" x=\"2194\" y=\"-275.8\" font-family=\"Helvetica,sans-Serif\" font-size=\"14.00\" fill=\"#000000\">gini = 0.165</text>\n<text text-anchor=\"start\" x=\"2188.5\" y=\"-260.8\" font-family=\"Helvetica,sans-Serif\" font-size=\"14.00\" fill=\"#000000\">samples = 22</text>\n<text text-anchor=\"start\" x=\"2186.5\" y=\"-245.8\" font-family=\"Helvetica,sans-Serif\" font-size=\"14.00\" fill=\"#000000\">value = [20, 2]</text>\n<text text-anchor=\"start\" x=\"2184\" y=\"-230.8\" font-family=\"Helvetica,sans-Serif\" font-size=\"14.00\" fill=\"#000000\">class = Normal</text>\n</g>\n<!-- 70&#45;&gt;72 -->\n<g id=\"edge72\" class=\"edge\">\n<title>70&#45;&gt;72</title>\n<path fill=\"none\" stroke=\"#000000\" d=\"M2229.5,-341.8796C2229.5,-333.6838 2229.5,-324.9891 2229.5,-316.5013\"/>\n<polygon fill=\"#000000\" stroke=\"#000000\" points=\"2233.0001,-316.298 2229.5,-306.2981 2226.0001,-316.2981 2233.0001,-316.298\"/>\n</g>\n<!-- 73 -->\n<g id=\"node74\" class=\"node\">\n<title>73</title>\n<path fill=\"#e58139\" stroke=\"#000000\" d=\"M2135,-179.5C2135,-179.5 2052,-179.5 2052,-179.5 2046,-179.5 2040,-173.5 2040,-167.5 2040,-167.5 2040,-123.5 2040,-123.5 2040,-117.5 2046,-111.5 2052,-111.5 2052,-111.5 2135,-111.5 2135,-111.5 2141,-111.5 2147,-117.5 2147,-123.5 2147,-123.5 2147,-167.5 2147,-167.5 2147,-173.5 2141,-179.5 2135,-179.5\"/>\n<text text-anchor=\"start\" x=\"2065.5\" y=\"-164.3\" font-family=\"Helvetica,sans-Serif\" font-size=\"14.00\" fill=\"#000000\">gini = 0.0</text>\n<text text-anchor=\"start\" x=\"2052.5\" y=\"-149.3\" font-family=\"Helvetica,sans-Serif\" font-size=\"14.00\" fill=\"#000000\">samples = 20</text>\n<text text-anchor=\"start\" x=\"2050.5\" y=\"-134.3\" font-family=\"Helvetica,sans-Serif\" font-size=\"14.00\" fill=\"#000000\">value = [20, 0]</text>\n<text text-anchor=\"start\" x=\"2048\" y=\"-119.3\" font-family=\"Helvetica,sans-Serif\" font-size=\"14.00\" fill=\"#000000\">class = Normal</text>\n</g>\n<!-- 72&#45;&gt;73 -->\n<g id=\"edge73\" class=\"edge\">\n<title>72&#45;&gt;73</title>\n<path fill=\"none\" stroke=\"#000000\" d=\"M2181.9338,-222.8796C2168.4872,-211.1138 2153.8653,-198.3197 2140.4549,-186.5855\"/>\n<polygon fill=\"#000000\" stroke=\"#000000\" points=\"2142.5476,-183.766 2132.7171,-179.8149 2137.9381,-189.034 2142.5476,-183.766\"/>\n</g>\n<!-- 74 -->\n<g id=\"node75\" class=\"node\">\n<title>74</title>\n<path fill=\"#399de5\" stroke=\"#000000\" d=\"M2286,-179.5C2286,-179.5 2177,-179.5 2177,-179.5 2171,-179.5 2165,-173.5 2165,-167.5 2165,-167.5 2165,-123.5 2165,-123.5 2165,-117.5 2171,-111.5 2177,-111.5 2177,-111.5 2286,-111.5 2286,-111.5 2292,-111.5 2298,-117.5 2298,-123.5 2298,-123.5 2298,-167.5 2298,-167.5 2298,-173.5 2292,-179.5 2286,-179.5\"/>\n<text text-anchor=\"start\" x=\"2203.5\" y=\"-164.3\" font-family=\"Helvetica,sans-Serif\" font-size=\"14.00\" fill=\"#000000\">gini = 0.0</text>\n<text text-anchor=\"start\" x=\"2194\" y=\"-149.3\" font-family=\"Helvetica,sans-Serif\" font-size=\"14.00\" fill=\"#000000\">samples = 2</text>\n<text text-anchor=\"start\" x=\"2192\" y=\"-134.3\" font-family=\"Helvetica,sans-Serif\" font-size=\"14.00\" fill=\"#000000\">value = [0, 2]</text>\n<text text-anchor=\"start\" x=\"2173\" y=\"-119.3\" font-family=\"Helvetica,sans-Serif\" font-size=\"14.00\" fill=\"#000000\">class = Near&#45;Crash</text>\n</g>\n<!-- 72&#45;&gt;74 -->\n<g id=\"edge74\" class=\"edge\">\n<title>72&#45;&gt;74</title>\n<path fill=\"none\" stroke=\"#000000\" d=\"M2230.1995,-222.8796C2230.3788,-212.2134 2230.5722,-200.7021 2230.7538,-189.9015\"/>\n<polygon fill=\"#000000\" stroke=\"#000000\" points=\"2234.2546,-189.8724 2230.9233,-179.8149 2227.2556,-189.7547 2234.2546,-189.8724\"/>\n</g>\n<!-- 76 -->\n<g id=\"node77\" class=\"node\">\n<title>76</title>\n<path fill=\"#8bc6f0\" stroke=\"#000000\" d=\"M2451,-306C2451,-306 2342,-306 2342,-306 2336,-306 2330,-300 2330,-294 2330,-294 2330,-235 2330,-235 2330,-229 2336,-223 2342,-223 2342,-223 2451,-223 2451,-223 2457,-223 2463,-229 2463,-235 2463,-235 2463,-294 2463,-294 2463,-300 2457,-306 2451,-306\"/>\n<text text-anchor=\"start\" x=\"2340.5\" y=\"-290.8\" font-family=\"Helvetica,sans-Serif\" font-size=\"14.00\" fill=\"#000000\">std_speed ≤ 1.901</text>\n<text text-anchor=\"start\" x=\"2361\" y=\"-275.8\" font-family=\"Helvetica,sans-Serif\" font-size=\"14.00\" fill=\"#000000\">gini = 0.415</text>\n<text text-anchor=\"start\" x=\"2355.5\" y=\"-260.8\" font-family=\"Helvetica,sans-Serif\" font-size=\"14.00\" fill=\"#000000\">samples = 17</text>\n<text text-anchor=\"start\" x=\"2353.5\" y=\"-245.8\" font-family=\"Helvetica,sans-Serif\" font-size=\"14.00\" fill=\"#000000\">value = [5, 12]</text>\n<text text-anchor=\"start\" x=\"2338\" y=\"-230.8\" font-family=\"Helvetica,sans-Serif\" font-size=\"14.00\" fill=\"#000000\">class = Near&#45;Crash</text>\n</g>\n<!-- 75&#45;&gt;76 -->\n<g id=\"edge76\" class=\"edge\">\n<title>75&#45;&gt;76</title>\n<path fill=\"none\" stroke=\"#000000\" d=\"M2396.5,-341.8796C2396.5,-333.6838 2396.5,-324.9891 2396.5,-316.5013\"/>\n<polygon fill=\"#000000\" stroke=\"#000000\" points=\"2400.0001,-316.298 2396.5,-306.2981 2393.0001,-316.2981 2400.0001,-316.298\"/>\n</g>\n<!-- 81 -->\n<g id=\"node82\" class=\"node\">\n<title>81</title>\n<path fill=\"#e58139\" stroke=\"#000000\" d=\"M2576,-298.5C2576,-298.5 2493,-298.5 2493,-298.5 2487,-298.5 2481,-292.5 2481,-286.5 2481,-286.5 2481,-242.5 2481,-242.5 2481,-236.5 2487,-230.5 2493,-230.5 2493,-230.5 2576,-230.5 2576,-230.5 2582,-230.5 2588,-236.5 2588,-242.5 2588,-242.5 2588,-286.5 2588,-286.5 2588,-292.5 2582,-298.5 2576,-298.5\"/>\n<text text-anchor=\"start\" x=\"2506.5\" y=\"-283.3\" font-family=\"Helvetica,sans-Serif\" font-size=\"14.00\" fill=\"#000000\">gini = 0.0</text>\n<text text-anchor=\"start\" x=\"2493.5\" y=\"-268.3\" font-family=\"Helvetica,sans-Serif\" font-size=\"14.00\" fill=\"#000000\">samples = 24</text>\n<text text-anchor=\"start\" x=\"2491.5\" y=\"-253.3\" font-family=\"Helvetica,sans-Serif\" font-size=\"14.00\" fill=\"#000000\">value = [24, 0]</text>\n<text text-anchor=\"start\" x=\"2489\" y=\"-238.3\" font-family=\"Helvetica,sans-Serif\" font-size=\"14.00\" fill=\"#000000\">class = Normal</text>\n</g>\n<!-- 75&#45;&gt;81 -->\n<g id=\"edge81\" class=\"edge\">\n<title>75&#45;&gt;81</title>\n<path fill=\"none\" stroke=\"#000000\" d=\"M2444.7657,-341.8796C2458.4101,-330.1138 2473.2469,-317.3197 2486.8546,-305.5855\"/>\n<polygon fill=\"#000000\" stroke=\"#000000\" points=\"2489.4187,-307.9961 2494.7062,-298.8149 2484.8473,-302.6948 2489.4187,-307.9961\"/>\n</g>\n<!-- 77 -->\n<g id=\"node78\" class=\"node\">\n<title>77</title>\n<path fill=\"#49a5e7\" stroke=\"#000000\" d=\"M2461,-187C2461,-187 2330,-187 2330,-187 2324,-187 2318,-181 2318,-175 2318,-175 2318,-116 2318,-116 2318,-110 2324,-104 2330,-104 2330,-104 2461,-104 2461,-104 2467,-104 2473,-110 2473,-116 2473,-116 2473,-175 2473,-175 2473,-181 2467,-187 2461,-187\"/>\n<text text-anchor=\"start\" x=\"2326\" y=\"-171.8\" font-family=\"Helvetica,sans-Serif\" font-size=\"14.00\" fill=\"#000000\">max_val_accY ≤ 3.151</text>\n<text text-anchor=\"start\" x=\"2360\" y=\"-156.8\" font-family=\"Helvetica,sans-Serif\" font-size=\"14.00\" fill=\"#000000\">gini = 0.142</text>\n<text text-anchor=\"start\" x=\"2354.5\" y=\"-141.8\" font-family=\"Helvetica,sans-Serif\" font-size=\"14.00\" fill=\"#000000\">samples = 13</text>\n<text text-anchor=\"start\" x=\"2352.5\" y=\"-126.8\" font-family=\"Helvetica,sans-Serif\" font-size=\"14.00\" fill=\"#000000\">value = [1, 12]</text>\n<text text-anchor=\"start\" x=\"2337\" y=\"-111.8\" font-family=\"Helvetica,sans-Serif\" font-size=\"14.00\" fill=\"#000000\">class = Near&#45;Crash</text>\n</g>\n<!-- 76&#45;&gt;77 -->\n<g id=\"edge77\" class=\"edge\">\n<title>76&#45;&gt;77</title>\n<path fill=\"none\" stroke=\"#000000\" d=\"M2396.1502,-222.8796C2396.0814,-214.6838 2396.0083,-205.9891 2395.937,-197.5013\"/>\n<polygon fill=\"#000000\" stroke=\"#000000\" points=\"2399.4352,-197.2683 2395.8512,-187.2981 2392.4355,-197.3272 2399.4352,-197.2683\"/>\n</g>\n<!-- 80 -->\n<g id=\"node81\" class=\"node\">\n<title>80</title>\n<path fill=\"#e58139\" stroke=\"#000000\" d=\"M2586,-179.5C2586,-179.5 2503,-179.5 2503,-179.5 2497,-179.5 2491,-173.5 2491,-167.5 2491,-167.5 2491,-123.5 2491,-123.5 2491,-117.5 2497,-111.5 2503,-111.5 2503,-111.5 2586,-111.5 2586,-111.5 2592,-111.5 2598,-117.5 2598,-123.5 2598,-123.5 2598,-167.5 2598,-167.5 2598,-173.5 2592,-179.5 2586,-179.5\"/>\n<text text-anchor=\"start\" x=\"2516.5\" y=\"-164.3\" font-family=\"Helvetica,sans-Serif\" font-size=\"14.00\" fill=\"#000000\">gini = 0.0</text>\n<text text-anchor=\"start\" x=\"2507\" y=\"-149.3\" font-family=\"Helvetica,sans-Serif\" font-size=\"14.00\" fill=\"#000000\">samples = 4</text>\n<text text-anchor=\"start\" x=\"2505\" y=\"-134.3\" font-family=\"Helvetica,sans-Serif\" font-size=\"14.00\" fill=\"#000000\">value = [4, 0]</text>\n<text text-anchor=\"start\" x=\"2499\" y=\"-119.3\" font-family=\"Helvetica,sans-Serif\" font-size=\"14.00\" fill=\"#000000\">class = Normal</text>\n</g>\n<!-- 76&#45;&gt;80 -->\n<g id=\"edge80\" class=\"edge\">\n<title>76&#45;&gt;80</title>\n<path fill=\"none\" stroke=\"#000000\" d=\"M2448.2632,-222.8796C2463.0331,-211.0038 2479.1059,-198.0804 2493.8108,-186.2568\"/>\n<polygon fill=\"#000000\" stroke=\"#000000\" points=\"2496.2225,-188.8088 2501.8226,-179.8149 2491.8361,-183.3535 2496.2225,-188.8088\"/>\n</g>\n<!-- 78 -->\n<g id=\"node79\" class=\"node\">\n<title>78</title>\n<path fill=\"#399de5\" stroke=\"#000000\" d=\"M2381,-68C2381,-68 2272,-68 2272,-68 2266,-68 2260,-62 2260,-56 2260,-56 2260,-12 2260,-12 2260,-6 2266,0 2272,0 2272,0 2381,0 2381,0 2387,0 2393,-6 2393,-12 2393,-12 2393,-56 2393,-56 2393,-62 2387,-68 2381,-68\"/>\n<text text-anchor=\"start\" x=\"2298.5\" y=\"-52.8\" font-family=\"Helvetica,sans-Serif\" font-size=\"14.00\" fill=\"#000000\">gini = 0.0</text>\n<text text-anchor=\"start\" x=\"2285.5\" y=\"-37.8\" font-family=\"Helvetica,sans-Serif\" font-size=\"14.00\" fill=\"#000000\">samples = 12</text>\n<text text-anchor=\"start\" x=\"2283.5\" y=\"-22.8\" font-family=\"Helvetica,sans-Serif\" font-size=\"14.00\" fill=\"#000000\">value = [0, 12]</text>\n<text text-anchor=\"start\" x=\"2268\" y=\"-7.8\" font-family=\"Helvetica,sans-Serif\" font-size=\"14.00\" fill=\"#000000\">class = Near&#45;Crash</text>\n</g>\n<!-- 77&#45;&gt;78 -->\n<g id=\"edge78\" class=\"edge\">\n<title>77&#45;&gt;78</title>\n<path fill=\"none\" stroke=\"#000000\" d=\"M2369.8069,-103.9815C2364.3469,-95.1585 2358.5716,-85.8258 2353.0793,-76.9506\"/>\n<polygon fill=\"#000000\" stroke=\"#000000\" points=\"2355.942,-74.9254 2347.7035,-68.2637 2349.9896,-78.609 2355.942,-74.9254\"/>\n</g>\n<!-- 79 -->\n<g id=\"node80\" class=\"node\">\n<title>79</title>\n<path fill=\"#e58139\" stroke=\"#000000\" d=\"M2506,-68C2506,-68 2423,-68 2423,-68 2417,-68 2411,-62 2411,-56 2411,-56 2411,-12 2411,-12 2411,-6 2417,0 2423,0 2423,0 2506,0 2506,0 2512,0 2518,-6 2518,-12 2518,-12 2518,-56 2518,-56 2518,-62 2512,-68 2506,-68\"/>\n<text text-anchor=\"start\" x=\"2436.5\" y=\"-52.8\" font-family=\"Helvetica,sans-Serif\" font-size=\"14.00\" fill=\"#000000\">gini = 0.0</text>\n<text text-anchor=\"start\" x=\"2427\" y=\"-37.8\" font-family=\"Helvetica,sans-Serif\" font-size=\"14.00\" fill=\"#000000\">samples = 1</text>\n<text text-anchor=\"start\" x=\"2425\" y=\"-22.8\" font-family=\"Helvetica,sans-Serif\" font-size=\"14.00\" fill=\"#000000\">value = [1, 0]</text>\n<text text-anchor=\"start\" x=\"2419\" y=\"-7.8\" font-family=\"Helvetica,sans-Serif\" font-size=\"14.00\" fill=\"#000000\">class = Normal</text>\n</g>\n<!-- 77&#45;&gt;79 -->\n<g id=\"edge79\" class=\"edge\">\n<title>77&#45;&gt;79</title>\n<path fill=\"none\" stroke=\"#000000\" d=\"M2421.1931,-103.9815C2426.6531,-95.1585 2432.4284,-85.8258 2437.9207,-76.9506\"/>\n<polygon fill=\"#000000\" stroke=\"#000000\" points=\"2441.0104,-78.609 2443.2965,-68.2637 2435.058,-74.9254 2441.0104,-78.609\"/>\n</g>\n<!-- 83 -->\n<g id=\"node84\" class=\"node\">\n<title>83</title>\n<path fill=\"#e58139\" stroke=\"#000000\" d=\"M2090,-893.5C2090,-893.5 2007,-893.5 2007,-893.5 2001,-893.5 1995,-887.5 1995,-881.5 1995,-881.5 1995,-837.5 1995,-837.5 1995,-831.5 2001,-825.5 2007,-825.5 2007,-825.5 2090,-825.5 2090,-825.5 2096,-825.5 2102,-831.5 2102,-837.5 2102,-837.5 2102,-881.5 2102,-881.5 2102,-887.5 2096,-893.5 2090,-893.5\"/>\n<text text-anchor=\"start\" x=\"2020.5\" y=\"-878.3\" font-family=\"Helvetica,sans-Serif\" font-size=\"14.00\" fill=\"#000000\">gini = 0.0</text>\n<text text-anchor=\"start\" x=\"2011\" y=\"-863.3\" font-family=\"Helvetica,sans-Serif\" font-size=\"14.00\" fill=\"#000000\">samples = 2</text>\n<text text-anchor=\"start\" x=\"2009\" y=\"-848.3\" font-family=\"Helvetica,sans-Serif\" font-size=\"14.00\" fill=\"#000000\">value = [2, 0]</text>\n<text text-anchor=\"start\" x=\"2003\" y=\"-833.3\" font-family=\"Helvetica,sans-Serif\" font-size=\"14.00\" fill=\"#000000\">class = Normal</text>\n</g>\n<!-- 82&#45;&gt;83 -->\n<g id=\"edge83\" class=\"edge\">\n<title>82&#45;&gt;83</title>\n<path fill=\"none\" stroke=\"#000000\" d=\"M2050.4507,-936.8796C2050.1818,-926.2134 2049.8916,-914.7021 2049.6194,-903.9015\"/>\n<polygon fill=\"#000000\" stroke=\"#000000\" points=\"2053.1161,-903.7235 2049.3651,-893.8149 2046.1183,-903.9 2053.1161,-903.7235\"/>\n</g>\n<!-- 84 -->\n<g id=\"node85\" class=\"node\">\n<title>84</title>\n<path fill=\"#399de5\" stroke=\"#000000\" d=\"M2241,-893.5C2241,-893.5 2132,-893.5 2132,-893.5 2126,-893.5 2120,-887.5 2120,-881.5 2120,-881.5 2120,-837.5 2120,-837.5 2120,-831.5 2126,-825.5 2132,-825.5 2132,-825.5 2241,-825.5 2241,-825.5 2247,-825.5 2253,-831.5 2253,-837.5 2253,-837.5 2253,-881.5 2253,-881.5 2253,-887.5 2247,-893.5 2241,-893.5\"/>\n<text text-anchor=\"start\" x=\"2158.5\" y=\"-878.3\" font-family=\"Helvetica,sans-Serif\" font-size=\"14.00\" fill=\"#000000\">gini = 0.0</text>\n<text text-anchor=\"start\" x=\"2145.5\" y=\"-863.3\" font-family=\"Helvetica,sans-Serif\" font-size=\"14.00\" fill=\"#000000\">samples = 11</text>\n<text text-anchor=\"start\" x=\"2143.5\" y=\"-848.3\" font-family=\"Helvetica,sans-Serif\" font-size=\"14.00\" fill=\"#000000\">value = [0, 11]</text>\n<text text-anchor=\"start\" x=\"2128\" y=\"-833.3\" font-family=\"Helvetica,sans-Serif\" font-size=\"14.00\" fill=\"#000000\">class = Near&#45;Crash</text>\n</g>\n<!-- 82&#45;&gt;84 -->\n<g id=\"edge84\" class=\"edge\">\n<title>82&#45;&gt;84</title>\n<path fill=\"none\" stroke=\"#000000\" d=\"M2098.7164,-936.8796C2112.0642,-925.1138 2126.5785,-912.3197 2139.8904,-900.5855\"/>\n<polygon fill=\"#000000\" stroke=\"#000000\" points=\"2142.384,-903.0531 2147.5713,-893.8149 2137.7552,-897.8019 2142.384,-903.0531\"/>\n</g>\n<!-- 87 -->\n<g id=\"node88\" class=\"node\">\n<title>87</title>\n<path fill=\"#399de5\" stroke=\"#000000\" d=\"M2241,-1131.5C2241,-1131.5 2132,-1131.5 2132,-1131.5 2126,-1131.5 2120,-1125.5 2120,-1119.5 2120,-1119.5 2120,-1075.5 2120,-1075.5 2120,-1069.5 2126,-1063.5 2132,-1063.5 2132,-1063.5 2241,-1063.5 2241,-1063.5 2247,-1063.5 2253,-1069.5 2253,-1075.5 2253,-1075.5 2253,-1119.5 2253,-1119.5 2253,-1125.5 2247,-1131.5 2241,-1131.5\"/>\n<text text-anchor=\"start\" x=\"2158.5\" y=\"-1116.3\" font-family=\"Helvetica,sans-Serif\" font-size=\"14.00\" fill=\"#000000\">gini = 0.0</text>\n<text text-anchor=\"start\" x=\"2145.5\" y=\"-1101.3\" font-family=\"Helvetica,sans-Serif\" font-size=\"14.00\" fill=\"#000000\">samples = 11</text>\n<text text-anchor=\"start\" x=\"2143.5\" y=\"-1086.3\" font-family=\"Helvetica,sans-Serif\" font-size=\"14.00\" fill=\"#000000\">value = [0, 11]</text>\n<text text-anchor=\"start\" x=\"2128\" y=\"-1071.3\" font-family=\"Helvetica,sans-Serif\" font-size=\"14.00\" fill=\"#000000\">class = Near&#45;Crash</text>\n</g>\n<!-- 86&#45;&gt;87 -->\n<g id=\"edge87\" class=\"edge\">\n<title>86&#45;&gt;87</title>\n<path fill=\"none\" stroke=\"#000000\" d=\"M2186.5,-1174.8796C2186.5,-1164.2134 2186.5,-1152.7021 2186.5,-1141.9015\"/>\n<polygon fill=\"#000000\" stroke=\"#000000\" points=\"2190.0001,-1141.8149 2186.5,-1131.8149 2183.0001,-1141.815 2190.0001,-1141.8149\"/>\n</g>\n<!-- 88 -->\n<g id=\"node89\" class=\"node\">\n<title>88</title>\n<path fill=\"#e58139\" stroke=\"#000000\" d=\"M2366,-1131.5C2366,-1131.5 2283,-1131.5 2283,-1131.5 2277,-1131.5 2271,-1125.5 2271,-1119.5 2271,-1119.5 2271,-1075.5 2271,-1075.5 2271,-1069.5 2277,-1063.5 2283,-1063.5 2283,-1063.5 2366,-1063.5 2366,-1063.5 2372,-1063.5 2378,-1069.5 2378,-1075.5 2378,-1075.5 2378,-1119.5 2378,-1119.5 2378,-1125.5 2372,-1131.5 2366,-1131.5\"/>\n<text text-anchor=\"start\" x=\"2296.5\" y=\"-1116.3\" font-family=\"Helvetica,sans-Serif\" font-size=\"14.00\" fill=\"#000000\">gini = 0.0</text>\n<text text-anchor=\"start\" x=\"2283.5\" y=\"-1101.3\" font-family=\"Helvetica,sans-Serif\" font-size=\"14.00\" fill=\"#000000\">samples = 63</text>\n<text text-anchor=\"start\" x=\"2281.5\" y=\"-1086.3\" font-family=\"Helvetica,sans-Serif\" font-size=\"14.00\" fill=\"#000000\">value = [63, 0]</text>\n<text text-anchor=\"start\" x=\"2279\" y=\"-1071.3\" font-family=\"Helvetica,sans-Serif\" font-size=\"14.00\" fill=\"#000000\">class = Normal</text>\n</g>\n<!-- 86&#45;&gt;88 -->\n<g id=\"edge88\" class=\"edge\">\n<title>86&#45;&gt;88</title>\n<path fill=\"none\" stroke=\"#000000\" d=\"M2234.7657,-1174.8796C2248.4101,-1163.1138 2263.2469,-1150.3197 2276.8546,-1138.5855\"/>\n<polygon fill=\"#000000\" stroke=\"#000000\" points=\"2279.4187,-1140.9961 2284.7062,-1131.8149 2274.8473,-1135.6948 2279.4187,-1140.9961\"/>\n</g>\n</g>\n</svg>\n",
      "text/plain": [
       "<graphviz.files.Source at 0x7ff90cf15700>"
      ]
     },
     "execution_count": 95,
     "metadata": {},
     "output_type": "execute_result"
    }
   ],
   "source": [
    "import graphviz\n",
    "dot_data = tree.export_graphviz(clf_dt, out_file=None, \n",
    "                                feature_names=features_names,\n",
    "                                class_names=[\"Normal\", \"Near-Crash\"],\n",
    "                                filled=True, rounded=True,  \n",
    "                                special_characters=True) \n",
    "graph = graphviz.Source(dot_data)\n",
    "graph"
   ]
  },
  {
   "cell_type": "markdown",
   "metadata": {},
   "source": [
    "### Random forest"
   ]
  },
  {
   "cell_type": "code",
   "execution_count": 112,
   "metadata": {},
   "outputs": [
    {
     "data": {
      "text/plain": [
       "RandomForestClassifier(n_estimators=200)"
      ]
     },
     "execution_count": 112,
     "metadata": {},
     "output_type": "execute_result"
    }
   ],
   "source": [
    "clf_rf = RandomForestClassifier(n_estimators=200)\n",
    "clf_rf.fit(X_train, y_train)"
   ]
  },
  {
   "cell_type": "markdown",
   "metadata": {},
   "source": [
    "### Test ML algorithm"
   ]
  },
  {
   "cell_type": "code",
   "execution_count": 63,
   "metadata": {},
   "outputs": [
    {
     "name": "stdout",
     "output_type": "stream",
     "text": [
      "\n",
      "Classifier Name:  SVC\n",
      "Accuracy: 0.976631\n",
      "Precision: 0.934783\n",
      "Recall: 0.826923\n",
      "F1: 0.877551\n",
      "AUC: 0.994166\n",
      "Count total data predicted: Near Crash = 92, Normal = 935\n",
      "\n",
      "Classifier Name:  DecisionTreeClassifier\n",
      "Accuracy: 0.992210\n",
      "Precision: 0.980000\n",
      "Recall: 0.942308\n",
      "F1: 0.960784\n",
      "AUC: 0.968872\n",
      "Count total data predicted: Near Crash = 100, Normal = 927\n",
      "\n",
      "Classifier Name:  RandomForestClassifier\n",
      "Accuracy: 0.991237\n",
      "Precision: 0.952381\n",
      "Recall: 0.961538\n",
      "F1: 0.956938\n",
      "AUC: 0.999589\n",
      "Count total data predicted: Near Crash = 105, Normal = 922\n"
     ]
    }
   ],
   "source": [
    "from sklearn.metrics import accuracy_score, precision_score, recall_score, f1_score, roc_auc_score\n",
    "from collections import Counter\n",
    "\"\"\"\n",
    "Accuracy = TP + TN / (TP + TN + FP + FN)\n",
    "Precision = TP / (TP + FP)\n",
    "Recall = TP / (TP + FN)  Also known as sensitivity, or True Positive Rate\n",
    "F1 = 2 * Precision * Recall / (Precision + Recall)\n",
    "\"\"\"\n",
    "\n",
    "for clf in (clf_svm, clf_dt, clf_rf):\n",
    "    y_predict = clf.predict(X_test)\n",
    "    y_predict_proba = clf.predict_proba(X_test)[:,1]\n",
    "    print(\"\\nClassifier Name: \",clf.__class__.__name__)\n",
    "\n",
    "    print('Accuracy: {:.6f}'.format(accuracy_score(y_test, y_predict)))\n",
    "    print('Precision: {:.6f}'.format(precision_score(y_test, y_predict)))\n",
    "    print('Recall: {:.6f}'.format(recall_score(y_test, y_predict)))\n",
    "    print('F1: {:.6f}'.format(f1_score(y_test, y_predict)))\n",
    "    print('AUC: {:.6f}'.format(roc_auc_score(y_test, y_predict_proba)))\n",
    "    print(\"Count total data predicted: Near Crash = {}, Normal = {}\".format(Counter(y_predict)[1], Counter(y_predict)[0]))\n",
    "\n",
    "\n",
    "#y_predict = clf_svm.predict(X)\n",
    "#print(Counter(y), Counter(y_predict))"
   ]
  },
  {
   "cell_type": "markdown",
   "metadata": {},
   "source": [
    "#### Confusion matrix"
   ]
  },
  {
   "cell_type": "code",
   "execution_count": 113,
   "metadata": {},
   "outputs": [
    {
     "name": "stdout",
     "output_type": "stream",
     "text": [
      "\n",
      "Classifier Name:  SVC\n"
     ]
    },
    {
     "data": {
      "image/png": "[encoded data removed]",
      "text/plain": [
       "<Figure size 432x288 with 2 Axes>"
      ]
     },
     "metadata": {
      "needs_background": "light"
     },
     "output_type": "display_data"
    },
    {
     "name": "stdout",
     "output_type": "stream",
     "text": [
      "\n",
      "Classifier Name:  DecisionTreeClassifier\n"
     ]
    },
    {
     "data": {
      "image/png": "[encoded data removed]",
      "text/plain": [
       "<Figure size 432x288 with 2 Axes>"
      ]
     },
     "metadata": {
      "needs_background": "light"
     },
     "output_type": "display_data"
    },
    {
     "name": "stdout",
     "output_type": "stream",
     "text": [
      "\n",
      "Classifier Name:  RandomForestClassifier\n"
     ]
    },
    {
     "data": {
      "image/png": "[encoded data removed]",
      "text/plain": [
       "<Figure size 432x288 with 2 Axes>"
      ]
     },
     "metadata": {
      "needs_background": "light"
     },
     "output_type": "display_data"
    }
   ],
   "source": [
    "from sklearn.metrics import confusion_matrix\n",
    "import matplotlib.pyplot as plt\n",
    "from sklearn.metrics import ConfusionMatrixDisplay\n",
    "\n",
    "for clf in (clf_svm, clf_dt, clf_rf):\n",
    "    print(\"\\nClassifier Name: \",clf.__class__.__name__)\n",
    "    y_predict = clf.predict(X_test)\n",
    "    cf_matrix = confusion_matrix(y_test, y_predict)\n",
    "    #print(y_validation, y_predict)\n",
    "    disp = ConfusionMatrixDisplay(cf_matrix)\n",
    "    disp.plot()\n",
    "    plt.show()"
   ]
  },
  {
   "cell_type": "markdown",
   "metadata": {},
   "source": [
    "#### Roc curves and Area Under Curve (AUC)"
   ]
  },
  {
   "cell_type": "code",
   "execution_count": 15,
   "metadata": {},
   "outputs": [],
   "source": [
    "from sklearn.metrics import roc_curve, auc\n",
    "\n",
    "def plot_roc_curve(clf, X_test, y_test):\n",
    "    clf_name = \"\".join(c for c in clf.__class__.__name__ if c.isupper())\n",
    "    y_score = clf.predict_proba(X_test)[:,1]\n",
    "    fpr, tpr, _ = roc_curve(y_test, y_score)\n",
    "    #print(\"Tasa de falsos positivos: {}, Tasa de verdaderos positivos: {}\".format(fpr, tpr))\n",
    "    roc_auc = auc(fpr, tpr)\n",
    "    accuracy = clf.score(X_test, y_test)\n",
    "    plt.plot(fpr, tpr, lw=3, alpha=0.7, \n",
    "             label='Algorithm {} (acc={:0.6f}, area={:0.6f})'.format(clf_name, accuracy, roc_auc))"
   ]
  },
  {
   "cell_type": "code",
   "execution_count": 16,
   "metadata": {},
   "outputs": [
    {
     "name": "stdout",
     "output_type": "stream",
     "text": [
      "Tasa de falsos positivos: [0.00000000e+00 0.00000000e+00 0.00000000e+00 9.47867299e-04\n",
      " 9.47867299e-04 1.89573460e-03 1.89573460e-03 2.84360190e-03\n",
      " 2.84360190e-03 3.79146919e-03 3.79146919e-03 5.68720379e-03\n",
      " 5.68720379e-03 8.53080569e-03 2.18009479e-02 2.18009479e-02\n",
      " 3.50710900e-02 3.50710900e-02 7.62085308e-01 7.62085308e-01\n",
      " 9.96208531e-01 1.00000000e+00], Tasa de verdaderos positivos: [0.         0.00925926 0.11111111 0.11111111 0.69444444 0.69444444\n",
      " 0.73148148 0.73148148 0.7962963  0.7962963  0.9537037  0.9537037\n",
      " 0.97222222 0.97222222 0.97222222 0.98148148 0.98148148 0.99074074\n",
      " 0.99074074 1.         1.         1.        ]\n",
      "Tasa de falsos positivos: [0.         0.00853081 1.        ], Tasa de verdaderos positivos: [0.         0.93518519 1.        ]\n",
      "Tasa de falsos positivos: [0.00000000e+00 0.00000000e+00 0.00000000e+00 0.00000000e+00\n",
      " 0.00000000e+00 0.00000000e+00 0.00000000e+00 0.00000000e+00\n",
      " 0.00000000e+00 0.00000000e+00 0.00000000e+00 0.00000000e+00\n",
      " 0.00000000e+00 0.00000000e+00 9.47867299e-04 9.47867299e-04\n",
      " 9.47867299e-04 9.47867299e-04 9.47867299e-04 9.47867299e-04\n",
      " 9.47867299e-04 9.47867299e-04 9.47867299e-04 9.47867299e-04\n",
      " 9.47867299e-04 9.47867299e-04 9.47867299e-04 9.47867299e-04\n",
      " 1.89573460e-03 1.89573460e-03 2.84360190e-03 2.84360190e-03\n",
      " 3.79146919e-03 3.79146919e-03 6.63507109e-03 6.63507109e-03\n",
      " 1.42180095e-02 1.80094787e-02 1.89573460e-02 2.08530806e-02\n",
      " 2.36966825e-02 2.93838863e-02 4.07582938e-02 4.36018957e-02\n",
      " 4.73933649e-02 5.21327014e-02 5.87677725e-02 6.72985782e-02\n",
      " 7.86729858e-02 9.19431280e-02 1.23222749e-01 1.70616114e-01\n",
      " 2.85308057e-01 1.00000000e+00], Tasa de verdaderos positivos: [0.         0.19444444 0.24074074 0.30555556 0.32407407 0.37037037\n",
      " 0.42592593 0.46296296 0.48148148 0.5        0.51851852 0.53703704\n",
      " 0.56481481 0.58333333 0.58333333 0.59259259 0.61111111 0.62037037\n",
      " 0.65740741 0.73148148 0.75       0.75925926 0.81481481 0.83333333\n",
      " 0.85185185 0.86111111 0.87962963 0.88888889 0.88888889 0.90740741\n",
      " 0.90740741 0.9537037  0.96296296 0.98148148 0.98148148 1.\n",
      " 1.         1.         1.         1.         1.         1.\n",
      " 1.         1.         1.         1.         1.         1.\n",
      " 1.         1.         1.         1.         1.         1.        ]\n"
     ]
    },
    {
     "data": {
      "image/png": "[encoded data removed]",
      "text/plain": [
       "<Figure size 432x288 with 1 Axes>"
      ]
     },
     "metadata": {
      "needs_background": "light"
     },
     "output_type": "display_data"
    }
   ],
   "source": [
    "plt.figure()\n",
    "plt.xlim([-0.01, 1.00])\n",
    "plt.ylim([-0.01, 1.01])\n",
    "\n",
    "for clf in (clf_svm, clf_dt, clf_rf):\n",
    "    plot_roc_curve(clf, X_test, y_test)\n",
    "\n",
    "plt.xlabel('False Positive Rate', fontsize=16)\n",
    "plt.ylabel('True Positive Rate (Recall)', fontsize=16)\n",
    "plt.plot([0, 1], [0, 1], color='k', lw=0.5, linestyle='--')\n",
    "plt.legend(loc=\"lower right\", fontsize=11)\n",
    "plt.title('ROC curve: ', fontsize=16)\n",
    "plt.show()"
   ]
  },
  {
   "cell_type": "markdown",
   "metadata": {},
   "source": [
    "### Optimize algorithms"
   ]
  },
  {
   "cell_type": "code",
   "execution_count": 15,
   "metadata": {},
   "outputs": [
    {
     "name": "stdout",
     "output_type": "stream",
     "text": [
      "Parameters SVM:  {'C': 30, 'break_ties': False, 'cache_size': 200, 'class_weight': None, 'coef0': 0.0, 'decision_function_shape': 'ovr', 'degree': 3, 'gamma': 0.5, 'kernel': 'rbf', 'max_iter': -1, 'probability': True, 'random_state': 10, 'shrinking': True, 'tol': 0.001, 'verbose': False}\n",
      "\n",
      "Parameters DT:  {'ccp_alpha': 0.0, 'class_weight': None, 'criterion': 'gini', 'max_depth': None, 'max_features': None, 'max_leaf_nodes': None, 'min_impurity_decrease': 0.0, 'min_impurity_split': None, 'min_samples_leaf': 1, 'min_samples_split': 2, 'min_weight_fraction_leaf': 0.0, 'presort': 'deprecated', 'random_state': None, 'splitter': 'best'}\n",
      "\n",
      "Parameters RF:  {'bootstrap': True, 'ccp_alpha': 0.0, 'class_weight': None, 'criterion': 'gini', 'max_depth': None, 'max_features': 'auto', 'max_leaf_nodes': None, 'max_samples': None, 'min_impurity_decrease': 0.0, 'min_impurity_split': None, 'min_samples_leaf': 1, 'min_samples_split': 2, 'min_weight_fraction_leaf': 0.0, 'n_estimators': 200, 'n_jobs': None, 'oob_score': False, 'random_state': None, 'verbose': 0, 'warm_start': False}\n"
     ]
    }
   ],
   "source": [
    "print(\"Parameters SVM: \", clf_svm.get_params())\n",
    "print(\"\\nParameters DT: \", clf_dt.get_params())\n",
    "print(\"\\nParameters RF: \", clf_rf.get_params())\n",
    "#{'max_depth': [11,10,9,8,7,6,5], 'max_leaf_nodes': [20,19,18,17,16,15], 'min_samples_split': [1,2,3,4,5], 'min_samples_leaf':[1,2,3,4,5], 'class_weight': [None, 'balanced']}"
   ]
  },
  {
   "cell_type": "code",
   "execution_count": 446,
   "metadata": {},
   "outputs": [
    {
     "name": "stdout",
     "output_type": "stream",
     "text": [
      "\n",
      "\n",
      "Best parameter (max. f1): {'class_weight': 'balanced', 'max_samples': 0.95, 'n_estimators': 300}\n",
      "Best score (f1): 0.9696095485722935\n",
      "\n",
      "\n",
      "Best parameter (max. precision): {'class_weight': 'balanced', 'max_samples': 0.9, 'n_estimators': 200}\n",
      "Best score (precision): 0.9719824772742625\n",
      "\n",
      "\n",
      "Best parameter (max. recall): {'class_weight': 'balanced', 'max_samples': None, 'n_estimators': 300}\n",
      "Best score (recall): 0.9699974427581644\n",
      "\n",
      "\n",
      "Best parameter (max. roc_auc): {'class_weight': None, 'max_samples': None, 'n_estimators': 300}\n",
      "Best score (roc_auc): 0.9993450816762778\n"
     ]
    }
   ],
   "source": [
    "from sklearn.model_selection import GridSearchCV, RandomizedSearchCV\n",
    "from sklearn.model_selection import KFold, StratifiedKFold, ShuffleSplit, StratifiedShuffleSplit\n",
    "from scipy.stats import expon as sp_expon\n",
    "from scipy.stats import randint as sp_randint\n",
    "\n",
    "X_train, X_test, y_train, y_test = train_test_split(X, y, test_size=0.3, train_size=0.7, random_state=160, shuffle=True)\n",
    "#clf = svm.SVC(kernel='rbf')\n",
    "#clf = tree.DecisionTreeClassifier(criterion = \"gini\")\n",
    "clf = RandomForestClassifier(n_jobs=2)\n",
    "split = KFold(n_splits=5, shuffle=True, random_state=320)\n",
    "\n",
    "#grid_values = {'C': [0.01, 0.05, 0.1, 1, 10, 100, 1000], 'gamma': [0.001, 0.005, 0.01, 0.05, 0.1, 1, 10]} # SVM case\n",
    "#grid_values = {'max_depth':[2,3,4,5,6,7,8,9,10], 'max_leaf_nodes': [5,6,10,15,20,25,30,40,50,60], 'class_weight': [None, 'balanced']} # DT case\n",
    "grid_values = {'max_samples':[0.9, 0.95, None], 'n_estimators': [100, 200, 300], 'class_weight': [None, 'balanced']} # RF case\n",
    "\n",
    "# RandomizedSearchCV alternative\n",
    "#n_estimators = sp_expon(scale=100)\n",
    "#max_depth = sp_randint(1, 40)\n",
    "#param_dist = {\n",
    "#    \"gamma\": sp_expon(scale = 10),\n",
    "#    \"C\": sp_expon(scale = 10)\n",
    "#}\n",
    "scores = ['f1', 'precision', 'recall', 'roc_auc']\n",
    "for score in scores:\n",
    "    grid_clf = GridSearchCV(clf, param_grid = grid_values, cv=split,  scoring = score)\n",
    "    grid_clf.fit(X, y)\n",
    "    print('\\n\\nBest parameter (max. {}): {}'.format(score, grid_clf.best_params_))\n",
    "    print('Best score ({}): {}'.format(score, grid_clf.best_score_))"
   ]
  },
  {
   "cell_type": "code",
   "execution_count": 450,
   "metadata": {},
   "outputs": [
    {
     "name": "stdout",
     "output_type": "stream",
     "text": [
      "\n",
      "Estimator:  RandomForestClassifier\n",
      "Cross-validation (accuracy) 0.9906643798781994\n",
      "Cross-validation (F1) 0.9621445865878954\n",
      "Cross-validation (precision) 0.9593079388944474\n",
      "Cross-validation (recall) 0.9627252829579147\n",
      "Cross-validation (AUC) 0.9992648317237485\n"
     ]
    }
   ],
   "source": [
    "from sklearn.model_selection import KFold, StratifiedKFold, ShuffleSplit, StratifiedShuffleSplit\n",
    "\n",
    "#clf = svm.SVC(C= 100, gamma= 0.01, kernel='rbf', probability=True) \"balanced\"\n",
    "#clf = tree.DecisionTreeClassifier(criterion = \"gini\", class_weight=None, max_depth=4, max_leaf_nodes=30)\n",
    "clf = RandomForestClassifier(n_jobs=2, class_weight=None, max_samples=None, n_estimators=300)\n",
    "\n",
    "cv = KFold(n_splits=5, shuffle=True, random_state=320)\n",
    "#cv = StratifiedKFold(n_splits=5, shuffle=True, random_state=150)\n",
    "#cv = ShuffleSplit(n_splits=5, test_size=0.3, random_state=5)  # Make a shuffle split beacuase the data is unbalanced\n",
    "#cv = StratifiedShuffleSplit(n_splits=5)\n",
    "\n",
    "#for clf in (clf_svm,clf_dt,clf_rf):\n",
    "print(\"\\nEstimator: \",clf.__class__.__name__)\n",
    "print('Cross-validation (accuracy)', cross_val_score(clf, X, y, cv=cv).mean())\n",
    "print('Cross-validation (F1)', cross_val_score(clf, X, y, cv=cv, scoring = 'f1').mean())\n",
    "print('Cross-validation (precision)', cross_val_score(clf, X, y, cv=cv, scoring = 'precision').mean())\n",
    "print('Cross-validation (recall)', cross_val_score(clf, X, y, cv=cv, scoring = 'recall').mean())\n",
    "print('Cross-validation (AUC)', cross_val_score(clf, X, y, cv=cv, scoring = 'roc_auc').mean())"
   ]
  },
  {
   "cell_type": "code",
   "execution_count": 33,
   "metadata": {},
   "outputs": [
    {
     "data": {
      "text/plain": [
       "[(0.0, 0.0, 0.026717715832258224),\n",
       " (0.0, 0.0, 0.002811170329213989),\n",
       " (0.0, 0.0, 3.5891322203243184e-06),\n",
       " (0.0, 0.0, 0.03718512034307072),\n",
       " (1.0, 1.0, 0.9932646248554848),\n",
       " (0.0, 0.0, 5.880812186837592e-06),\n",
       " (0.0, 0.0, 0.0003091054731649595),\n",
       " (0.0, 0.0, 1.738266248894623e-07),\n",
       " (0.0, 0.0, 0.0028459964447262415),\n",
       " (0.0, 0.0, 0.026576680426346314),\n",
       " (0.0, 0.0, 8.793170046213386e-05),\n",
       " (0.0, 0.0, 0.00021705241929323568),\n",
       " (0.0, 0.0, 1.2554277143485653e-05),\n",
       " (0.0, 0.0, 0.018475541229286806),\n",
       " (0.0, 0.0, 0.011719568486356653),\n",
       " (0.0, 0.0, 3.885348770152377e-06),\n",
       " (1.0, 1.0, 0.9107705756236444),\n",
       " (0.0, 0.0, 0.0002973665039336311),\n",
       " (0.0, 0.0, 0.00018371356175025114),\n",
       " (0.0, 0.0, 0.001004576819888119),\n",
       " (0.0, 0.0, 6.687172909149326e-05),\n",
       " (0.0, 0.0, 0.025663145262257932),\n",
       " (0.0, 0.0, 0.0007070648946760622),\n",
       " (0.0, 0.0, 0.00014912120128252043),\n",
       " (0.0, 0.0, 0.0001188681273956779),\n",
       " (0.0, 0.0, 0.01104358063083808),\n",
       " (1.0, 1.0, 0.9860210426005136),\n",
       " (0.0, 0.0, 0.0014146937335905053),\n",
       " (0.0, 0.0, 0.004595994410306086),\n",
       " (0.0, 0.0, 0.0014477684520126728),\n",
       " (0.0, 0.0, 9.781564715573611e-06),\n",
       " (0.0, 0.0, 6.330536081347802e-05),\n",
       " (0.0, 0.0, 7.91850809591001e-05),\n",
       " (0.0, 0.0, 4.199144256796371e-05),\n",
       " (0.0, 0.0, 0.0010280789972281724),\n",
       " (0.0, 0.0, 7.144821307485818e-06),\n",
       " (0.0, 0.0, 4.5788403661719394e-06),\n",
       " (1.0, 1.0, 0.8317047849977556),\n",
       " (0.0, 0.0, 0.00025097158233762496),\n",
       " (0.0, 0.0, 0.0003903784675649824),\n",
       " (0.0, 0.0, 0.00020912416701280708),\n",
       " (0.0, 0.0, 9.054241381829531e-06),\n",
       " (0.0, 0.0, 0.005147907657377559),\n",
       " (0.0, 0.0, 0.024988258568848013),\n",
       " (0.0, 0.0, 0.026768877199587534),\n",
       " (0.0, 0.0, 0.01696859526759374),\n",
       " (0.0, 0.0, 0.00024148518443358862),\n",
       " (0.0, 0.0, 1.0000000994736041e-07),\n",
       " (0.0, 0.0, 0.00023921451120877517),\n",
       " (0.0, 0.0, 4.9983627804272285e-06),\n",
       " (0.0, 0.0, 6.446234039955907e-05),\n",
       " (0.0, 0.0, 0.004313820995380485),\n",
       " (0.0, 0.0, 9.935350386914092e-07),\n",
       " (0.0, 0.0, 0.05738271748742815),\n",
       " (0.0, 0.0, 1.0000000994736041e-07),\n",
       " (0.0, 0.0, 6.383206864218817e-06),\n",
       " (0.0, 0.0, 0.00022407890677200764),\n",
       " (0.0, 0.0, 0.026654183197743056),\n",
       " (0.0, 0.0, 0.0003735660272566435),\n",
       " (0.0, 0.0, 1.3322813953320391e-05)]"
      ]
     },
     "execution_count": 33,
     "metadata": {},
     "output_type": "execute_result"
    }
   ],
   "source": [
    "clf.fit(X_train, y_train)\n",
    "y_predict = clf.predict(X_test)\n",
    "y_prob = clf.predict_proba(X_test)\n",
    "\n",
    "y_proba_list = list(zip(y_test[40:100], y_predict[40:100], y_prob[40:100,1] ))\n",
    "y_proba_list"
   ]
  },
  {
   "cell_type": "code",
   "execution_count": null,
   "metadata": {},
   "outputs": [
    {
     "name": "stdout",
     "output_type": "stream",
     "text": [
      "              precision    recall  f1-score   support\n",
      "\n",
      "      Normal       0.99      1.00      0.99      1067\n",
      "  Near Crash       0.95      0.88      0.91        96\n",
      "\n",
      "    accuracy                           0.99      1163\n",
      "   macro avg       0.97      0.94      0.95      1163\n",
      "weighted avg       0.99      0.99      0.99      1163\n",
      "\n"
     ]
    }
   ],
   "source": [
    "from sklearn.metrics import classification_report\n",
    "\n",
    "print(classification_report(y_test, y_predict, target_names=['Normal', 'Near Crash']))"
   ]
  },
  {
   "cell_type": "code",
   "execution_count": 21,
   "metadata": {},
   "outputs": [
    {
     "name": "stdout",
     "output_type": "stream",
     "text": [
      "[1.00000000e-03 7.74263683e-03 5.99484250e-02 4.64158883e-01\n",
      " 3.59381366e+00 2.78255940e+01 2.15443469e+02 1.66810054e+03\n",
      " 1.29154967e+04 1.00000000e+05]\n"
     ]
    },
    {
     "data": {
      "image/png": "[encoded data removed]",
      "text/plain": [
       "<Figure size 432x288 with 1 Axes>"
      ]
     },
     "metadata": {
      "needs_background": "light"
     },
     "output_type": "display_data"
    }
   ],
   "source": [
    "from sklearn.model_selection import validation_curve\n",
    "\n",
    "#clf_svm = svm.SVC(kernel='rbf', random_state=0)\n",
    "clf_svm = svm.SVC(gamma=0.02, kernel='rbf', probability=True)\n",
    "#clf_dt = tree.DecisionTreeClassifier(criterion = \"gini\", max_depth=None, max_leaf_nodes=None)\n",
    "param_range = np.logspace(-3, 5, 10)\n",
    "print(param_range)\n",
    "train_scores, test_scores = validation_curve(clf_svm, X, y,\n",
    "                                            param_name='C',\n",
    "                                            param_range=param_range, cv=cv, scoring = 'recall')\n",
    "plt.figure()\n",
    "\n",
    "train_scores_mean = np.mean(train_scores, axis=1)\n",
    "train_scores_std = np.std(train_scores, axis=1)\n",
    "test_scores_mean = np.mean(test_scores, axis=1)\n",
    "test_scores_std = np.std(test_scores, axis=1)\n",
    "\n",
    "plt.title('Validation Curve with SVM')\n",
    "plt.xlabel('$\\gamma$ (gamma)')\n",
    "plt.ylabel('Score')\n",
    "plt.ylim(0.0, 1.1)\n",
    "lw = 2\n",
    "\n",
    "plt.semilogx(param_range, train_scores_mean, label='Training score',\n",
    "            color='darkorange', lw=lw)\n",
    "\n",
    "plt.fill_between(param_range, train_scores_mean - train_scores_std,\n",
    "                train_scores_mean + train_scores_std, alpha=0.2,\n",
    "                color='darkorange', lw=lw)\n",
    "\n",
    "plt.semilogx(param_range, test_scores_mean, label='Cross-validation score',\n",
    "            color='navy', lw=lw)\n",
    "\n",
    "plt.fill_between(param_range, test_scores_mean - test_scores_std,\n",
    "                test_scores_mean + test_scores_std, alpha=0.2,\n",
    "                color='navy', lw=lw)\n",
    "\n",
    "plt.legend(loc='best')\n",
    "plt.show()\n",
    "\n",
    "#grid_values = [{'gamma': [0.01, 0.05, 0.1, 0.5, 1], 'C': [0.01, 0.05, 0.1, 0.5, 1]},\n",
    "#               {'gamma': [0.005, 0.01, 0.05, 0.1, 0.5], 'C': [100, 500, 1000, 1500]}, \n",
    "#               {'gamma': [0.1, 0.5, 1, 5, 10], 'C': [0.1, 0.5, 1, 5, 10]}]\n",
    "\n",
    "#"
   ]
  },
  {
   "cell_type": "markdown",
   "metadata": {},
   "source": [
    "# Sliding window with frames"
   ]
  },
  {
   "cell_type": "code",
   "execution_count": null,
   "metadata": {},
   "outputs": [
    {
     "data": {
      "text/plain": [
       "'\\ndef trend(arr):\\n    \"\"\"This function calculates the trend with the unique loopback option for this type of calculation\\n\\n    This tendency is not make for frame form, for this reason the equation is this: register(i)/last_register\\n    where \"i\" is the position of a register\\n\\n    Note: I calculate the first tendency how last_register/last_register = 1, \\n    this data appear in all first values of all rows in the slide window\\n    \"\"\"\\n    t = [arr[-i]/arr[-1] for i in range(1, len(arr)+1)]\\n    #mean[::-1]/mean[-1]\\n    #for i in range(1,len(array)+1):\\n    #    t.append(array[-i]/array[-1])\\n    return np.array(t)\\n\\nvariables_trend = np.apply_along_axis(trend, axis=2, arr=measured_variables)\\nvariables_trend = variables_trend.reshape(variables_trend.shape[0], variables_trend.shape[1]*ws)   # Son 20 para la speed y 20 para la accY\\nprint(\"\\nSample of sliding window process for tendency\")\\nprint(\"Tendency slide window shape: \", variables_trend.shape)\\nprint(\"Tendency:\\n {}\".format(variables_trend[0:2,:]))\\n'"
      ]
     },
     "execution_count": 71,
     "metadata": {},
     "output_type": "execute_result"
    }
   ],
   "source": [
    "# Tendency\n",
    "'''\n",
    "def trend(arr):\n",
    "    \"\"\"This function calculates the trend with the unique loopback option for this type of calculation\n",
    "\n",
    "    This tendency is not make for frame form, for this reason the equation is this: register(i)/last_register\n",
    "    where \"i\" is the position of a register\n",
    "\n",
    "    Note: I calculate the first tendency how last_register/last_register = 1, \n",
    "    this data appear in all first values of all rows in the slide window\n",
    "    \"\"\"\n",
    "    t = [arr[-i]/arr[-1] for i in range(1, len(arr)+1)]\n",
    "    #mean[::-1]/mean[-1]\n",
    "    #for i in range(1,len(array)+1):\n",
    "    #    t.append(array[-i]/array[-1])\n",
    "    return np.array(t)\n",
    "\n",
    "variables_trend = np.apply_along_axis(trend, axis=2, arr=measured_variables)\n",
    "variables_trend = variables_trend.reshape(variables_trend.shape[0], variables_trend.shape[1]*ws)   # Son 20 para la speed y 20 para la accY\n",
    "print(\"\\nSample of sliding window process for tendency\")\n",
    "print(\"Tendency slide window shape: \", variables_trend.shape)\n",
    "print(\"Tendency:\\n {}\".format(variables_trend[0:2,:]))\n",
    "'''"
   ]
  },
  {
   "cell_type": "code",
   "execution_count": null,
   "metadata": {},
   "outputs": [
    {
     "data": {
      "text/plain": [
       "'\\ndef means_loopback(array):\\n    \"\"\"This functions calculate the means with loop back option\\n    \"\"\"\\n    means = []\\n    for i in range(1,len(array)+1):\\n        means.append(array[-i:].mean())\\n    return np.array(means)\\n\\nprint(\"data to get loop back mean: \\n\", measured_variables[0:2,:,:])\\n# mean loopback test\\nmean_lb = np.apply_along_axis(means_loopback, 2, measured_variables[0:2,:,:])\\nprint(\"Mean loopback: \\n\",mean_lb)\\n'"
      ]
     },
     "execution_count": 72,
     "metadata": {},
     "output_type": "execute_result"
    }
   ],
   "source": [
    "# tendency\n",
    "'''\n",
    "def means_loopback(array):\n",
    "    \"\"\"This functions calculate the means with loop back option\n",
    "    \"\"\"\n",
    "    means = []\n",
    "    for i in range(1,len(array)+1):\n",
    "        means.append(array[-i:].mean())\n",
    "    return np.array(means)\n",
    "\n",
    "print(\"data to get loop back mean: \\n\", measured_variables[0:2,:,:])\n",
    "# mean loopback test\n",
    "mean_lb = np.apply_along_axis(means_loopback, 2, measured_variables[0:2,:,:])\n",
    "print(\"Mean loopback: \\n\",mean_lb)\n",
    "'''"
   ]
  }
 ],
 "metadata": {
  "interpreter": {
   "hash": "2d115bf10b0e668dcb87190753a806b5148f318a8c43dcc71050cbada9401607"
  },
  "kernelspec": {
   "display_name": "Python 3.9.7 ('tesis')",
   "language": "python",
   "name": "python3"
  },
  "language_info": {
   "codemirror_mode": {
    "name": "ipython",
    "version": 3
   },
   "file_extension": ".py",
   "mimetype": "text/x-python",
   "name": "python",
   "nbconvert_exporter": "python",
   "pygments_lexer": "ipython3",
   "version": "3.9.7"
  },
  "orig_nbformat": 4
 },
 "nbformat": 4,
 "nbformat_minor": 2
}
