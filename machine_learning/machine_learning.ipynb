{
 "cells": [
  {
   "cell_type": "markdown",
   "metadata": {},
   "source": [
    "# Machine Learning process"
   ]
  },
  {
   "cell_type": "markdown",
   "metadata": {},
   "source": [
    "### Imports"
   ]
  },
  {
   "cell_type": "code",
   "execution_count": 1,
   "metadata": {},
   "outputs": [],
   "source": [
    "import numpy as np\n",
    "import pandas as pd\n",
    "from scipy import stats as st\n",
    "import matplotlib.pyplot as plt\n",
    "from tqdm import tqdm\n",
    "import glob\n",
    "import itertools\n",
    "from sklearn.model_selection import train_test_split"
   ]
  },
  {
   "cell_type": "markdown",
   "metadata": {},
   "source": [
    "### Load data"
   ]
  },
  {
   "cell_type": "code",
   "execution_count": 9,
   "metadata": {},
   "outputs": [
    {
     "name": "stdout",
     "output_type": "stream",
     "text": [
      "All data size:  (3893, 17)\n",
      "Near crash event data size:  (371,)\n",
      "No near crash event data size:  (3522,)\n"
     ]
    },
    {
     "data": {
      "text/html": [
       "<div>\n",
       "<style scoped>\n",
       "    .dataframe tbody tr th:only-of-type {\n",
       "        vertical-align: middle;\n",
       "    }\n",
       "\n",
       "    .dataframe tbody tr th {\n",
       "        vertical-align: top;\n",
       "    }\n",
       "\n",
       "    .dataframe thead th {\n",
       "        text-align: right;\n",
       "    }\n",
       "</style>\n",
       "<table border=\"1\" class=\"dataframe\">\n",
       "  <thead>\n",
       "    <tr style=\"text-align: right;\">\n",
       "      <th></th>\n",
       "      <th>accX</th>\n",
       "      <th>accY</th>\n",
       "      <th>accZ</th>\n",
       "      <th>eventClass</th>\n",
       "      <th>idTrip</th>\n",
       "      <th>idVehicle</th>\n",
       "      <th>latitude</th>\n",
       "      <th>longitude</th>\n",
       "      <th>magX</th>\n",
       "      <th>magY</th>\n",
       "      <th>magZ</th>\n",
       "      <th>route</th>\n",
       "      <th>speed</th>\n",
       "      <th>timestamp</th>\n",
       "      <th>velAngX</th>\n",
       "      <th>velAngY</th>\n",
       "      <th>velAngZ</th>\n",
       "    </tr>\n",
       "    <tr>\n",
       "      <th>id</th>\n",
       "      <th></th>\n",
       "      <th></th>\n",
       "      <th></th>\n",
       "      <th></th>\n",
       "      <th></th>\n",
       "      <th></th>\n",
       "      <th></th>\n",
       "      <th></th>\n",
       "      <th></th>\n",
       "      <th></th>\n",
       "      <th></th>\n",
       "      <th></th>\n",
       "      <th></th>\n",
       "      <th></th>\n",
       "      <th></th>\n",
       "      <th></th>\n",
       "      <th></th>\n",
       "    </tr>\n",
       "  </thead>\n",
       "  <tbody>\n",
       "    <tr>\n",
       "      <th>32845</th>\n",
       "      <td>0.346099</td>\n",
       "      <td>0.070198</td>\n",
       "      <td>9.624315</td>\n",
       "      <td>0</td>\n",
       "      <td>7</td>\n",
       "      <td>Nissan March (Xiaomi Redmi Note 9S)</td>\n",
       "      <td>0.834003</td>\n",
       "      <td>-77.650027</td>\n",
       "      <td>17.012911</td>\n",
       "      <td>-36.339381</td>\n",
       "      <td>58.393587</td>\n",
       "      <td>Frenada repentina</td>\n",
       "      <td>11.969349</td>\n",
       "      <td>2022-02-02 20:01:54.474000-05:00</td>\n",
       "      <td>0.003772</td>\n",
       "      <td>0.008679</td>\n",
       "      <td>0.004936</td>\n",
       "    </tr>\n",
       "    <tr>\n",
       "      <th>32846</th>\n",
       "      <td>0.332630</td>\n",
       "      <td>0.228663</td>\n",
       "      <td>9.626677</td>\n",
       "      <td>0</td>\n",
       "      <td>7</td>\n",
       "      <td>Nissan March (Xiaomi Redmi Note 9S)</td>\n",
       "      <td>0.834003</td>\n",
       "      <td>-77.650027</td>\n",
       "      <td>17.007483</td>\n",
       "      <td>-36.351898</td>\n",
       "      <td>58.403046</td>\n",
       "      <td>Frenada repentina</td>\n",
       "      <td>11.969349</td>\n",
       "      <td>2022-02-02 20:01:54.523000-05:00</td>\n",
       "      <td>0.004849</td>\n",
       "      <td>0.008580</td>\n",
       "      <td>0.004002</td>\n",
       "    </tr>\n",
       "    <tr>\n",
       "      <th>32847</th>\n",
       "      <td>0.347030</td>\n",
       "      <td>0.102652</td>\n",
       "      <td>9.635826</td>\n",
       "      <td>0</td>\n",
       "      <td>7</td>\n",
       "      <td>Nissan March (Xiaomi Redmi Note 9S)</td>\n",
       "      <td>0.834003</td>\n",
       "      <td>-77.650027</td>\n",
       "      <td>17.115962</td>\n",
       "      <td>-36.166384</td>\n",
       "      <td>58.259435</td>\n",
       "      <td>Frenada repentina</td>\n",
       "      <td>11.969349</td>\n",
       "      <td>2022-02-02 20:01:54.573000-05:00</td>\n",
       "      <td>0.002411</td>\n",
       "      <td>0.009508</td>\n",
       "      <td>0.001526</td>\n",
       "    </tr>\n",
       "    <tr>\n",
       "      <th>32848</th>\n",
       "      <td>0.339322</td>\n",
       "      <td>0.322767</td>\n",
       "      <td>9.615295</td>\n",
       "      <td>0</td>\n",
       "      <td>7</td>\n",
       "      <td>Nissan March (Xiaomi Redmi Note 9S)</td>\n",
       "      <td>0.834003</td>\n",
       "      <td>-77.650027</td>\n",
       "      <td>17.133944</td>\n",
       "      <td>-36.124541</td>\n",
       "      <td>58.227670</td>\n",
       "      <td>Frenada repentina</td>\n",
       "      <td>11.969349</td>\n",
       "      <td>2022-02-02 20:01:54.623000-05:00</td>\n",
       "      <td>0.004636</td>\n",
       "      <td>0.009561</td>\n",
       "      <td>0.000243</td>\n",
       "    </tr>\n",
       "    <tr>\n",
       "      <th>32849</th>\n",
       "      <td>0.323775</td>\n",
       "      <td>0.208919</td>\n",
       "      <td>9.623269</td>\n",
       "      <td>0</td>\n",
       "      <td>7</td>\n",
       "      <td>Nissan March (Xiaomi Redmi Note 9S)</td>\n",
       "      <td>0.834003</td>\n",
       "      <td>-77.650027</td>\n",
       "      <td>17.215184</td>\n",
       "      <td>-35.984128</td>\n",
       "      <td>58.118212</td>\n",
       "      <td>Frenada repentina</td>\n",
       "      <td>11.969349</td>\n",
       "      <td>2022-02-02 20:01:54.674000-05:00</td>\n",
       "      <td>0.003937</td>\n",
       "      <td>0.016739</td>\n",
       "      <td>-0.000274</td>\n",
       "    </tr>\n",
       "    <tr>\n",
       "      <th>...</th>\n",
       "      <td>...</td>\n",
       "      <td>...</td>\n",
       "      <td>...</td>\n",
       "      <td>...</td>\n",
       "      <td>...</td>\n",
       "      <td>...</td>\n",
       "      <td>...</td>\n",
       "      <td>...</td>\n",
       "      <td>...</td>\n",
       "      <td>...</td>\n",
       "      <td>...</td>\n",
       "      <td>...</td>\n",
       "      <td>...</td>\n",
       "      <td>...</td>\n",
       "      <td>...</td>\n",
       "      <td>...</td>\n",
       "      <td>...</td>\n",
       "    </tr>\n",
       "    <tr>\n",
       "      <th>6043</th>\n",
       "      <td>-0.147757</td>\n",
       "      <td>0.372108</td>\n",
       "      <td>9.587312</td>\n",
       "      <td>0</td>\n",
       "      <td>8</td>\n",
       "      <td>Nissan March (Xiaomi Redmi Note 9S)</td>\n",
       "      <td>0.834021</td>\n",
       "      <td>-77.649971</td>\n",
       "      <td>5.249560</td>\n",
       "      <td>-42.765878</td>\n",
       "      <td>59.910675</td>\n",
       "      <td>Frenada repentina</td>\n",
       "      <td>4.455676</td>\n",
       "      <td>2022-01-23 18:51:44.161000-05:00</td>\n",
       "      <td>-0.007760</td>\n",
       "      <td>0.004642</td>\n",
       "      <td>-0.000040</td>\n",
       "    </tr>\n",
       "    <tr>\n",
       "      <th>6044</th>\n",
       "      <td>-0.146176</td>\n",
       "      <td>0.795273</td>\n",
       "      <td>9.642961</td>\n",
       "      <td>0</td>\n",
       "      <td>8</td>\n",
       "      <td>Nissan March (Xiaomi Redmi Note 9S)</td>\n",
       "      <td>0.834021</td>\n",
       "      <td>-77.649971</td>\n",
       "      <td>4.842095</td>\n",
       "      <td>-42.631307</td>\n",
       "      <td>60.340371</td>\n",
       "      <td>Frenada repentina</td>\n",
       "      <td>4.455676</td>\n",
       "      <td>2022-01-23 18:51:44.212000-05:00</td>\n",
       "      <td>0.008748</td>\n",
       "      <td>0.006942</td>\n",
       "      <td>-0.000812</td>\n",
       "    </tr>\n",
       "    <tr>\n",
       "      <th>6045</th>\n",
       "      <td>-0.210525</td>\n",
       "      <td>0.939888</td>\n",
       "      <td>9.710958</td>\n",
       "      <td>0</td>\n",
       "      <td>8</td>\n",
       "      <td>Nissan March (Xiaomi Redmi Note 9S)</td>\n",
       "      <td>0.834021</td>\n",
       "      <td>-77.649971</td>\n",
       "      <td>4.692880</td>\n",
       "      <td>-43.168732</td>\n",
       "      <td>60.724920</td>\n",
       "      <td>Frenada repentina</td>\n",
       "      <td>4.455676</td>\n",
       "      <td>2022-01-23 18:51:44.261000-05:00</td>\n",
       "      <td>0.023007</td>\n",
       "      <td>0.004906</td>\n",
       "      <td>0.000350</td>\n",
       "    </tr>\n",
       "    <tr>\n",
       "      <th>6046</th>\n",
       "      <td>-0.239964</td>\n",
       "      <td>1.159494</td>\n",
       "      <td>9.729133</td>\n",
       "      <td>0</td>\n",
       "      <td>8</td>\n",
       "      <td>Nissan March (Xiaomi Redmi Note 9S)</td>\n",
       "      <td>0.834021</td>\n",
       "      <td>-77.649971</td>\n",
       "      <td>4.848911</td>\n",
       "      <td>-43.285368</td>\n",
       "      <td>60.528950</td>\n",
       "      <td>Frenada repentina</td>\n",
       "      <td>4.455676</td>\n",
       "      <td>2022-01-23 18:51:44.312000-05:00</td>\n",
       "      <td>0.027260</td>\n",
       "      <td>-0.000712</td>\n",
       "      <td>0.001181</td>\n",
       "    </tr>\n",
       "    <tr>\n",
       "      <th>6047</th>\n",
       "      <td>-0.309958</td>\n",
       "      <td>1.264374</td>\n",
       "      <td>9.829216</td>\n",
       "      <td>0</td>\n",
       "      <td>8</td>\n",
       "      <td>Nissan March (Xiaomi Redmi Note 9S)</td>\n",
       "      <td>0.834021</td>\n",
       "      <td>-77.649971</td>\n",
       "      <td>5.014822</td>\n",
       "      <td>-43.398651</td>\n",
       "      <td>60.216157</td>\n",
       "      <td>Frenada repentina</td>\n",
       "      <td>4.455676</td>\n",
       "      <td>2022-01-23 18:51:44.361000-05:00</td>\n",
       "      <td>0.022511</td>\n",
       "      <td>-0.009833</td>\n",
       "      <td>0.003322</td>\n",
       "    </tr>\n",
       "  </tbody>\n",
       "</table>\n",
       "<p>3893 rows × 17 columns</p>\n",
       "</div>"
      ],
      "text/plain": [
       "           accX      accY      accZ  eventClass  idTrip  \\\n",
       "id                                                        \n",
       "32845  0.346099  0.070198  9.624315           0       7   \n",
       "32846  0.332630  0.228663  9.626677           0       7   \n",
       "32847  0.347030  0.102652  9.635826           0       7   \n",
       "32848  0.339322  0.322767  9.615295           0       7   \n",
       "32849  0.323775  0.208919  9.623269           0       7   \n",
       "...         ...       ...       ...         ...     ...   \n",
       "6043  -0.147757  0.372108  9.587312           0       8   \n",
       "6044  -0.146176  0.795273  9.642961           0       8   \n",
       "6045  -0.210525  0.939888  9.710958           0       8   \n",
       "6046  -0.239964  1.159494  9.729133           0       8   \n",
       "6047  -0.309958  1.264374  9.829216           0       8   \n",
       "\n",
       "                                 idVehicle  latitude  longitude       magX  \\\n",
       "id                                                                           \n",
       "32845  Nissan March (Xiaomi Redmi Note 9S)  0.834003 -77.650027  17.012911   \n",
       "32846  Nissan March (Xiaomi Redmi Note 9S)  0.834003 -77.650027  17.007483   \n",
       "32847  Nissan March (Xiaomi Redmi Note 9S)  0.834003 -77.650027  17.115962   \n",
       "32848  Nissan March (Xiaomi Redmi Note 9S)  0.834003 -77.650027  17.133944   \n",
       "32849  Nissan March (Xiaomi Redmi Note 9S)  0.834003 -77.650027  17.215184   \n",
       "...                                    ...       ...        ...        ...   \n",
       "6043   Nissan March (Xiaomi Redmi Note 9S)  0.834021 -77.649971   5.249560   \n",
       "6044   Nissan March (Xiaomi Redmi Note 9S)  0.834021 -77.649971   4.842095   \n",
       "6045   Nissan March (Xiaomi Redmi Note 9S)  0.834021 -77.649971   4.692880   \n",
       "6046   Nissan March (Xiaomi Redmi Note 9S)  0.834021 -77.649971   4.848911   \n",
       "6047   Nissan March (Xiaomi Redmi Note 9S)  0.834021 -77.649971   5.014822   \n",
       "\n",
       "            magY       magZ              route      speed  \\\n",
       "id                                                          \n",
       "32845 -36.339381  58.393587  Frenada repentina  11.969349   \n",
       "32846 -36.351898  58.403046  Frenada repentina  11.969349   \n",
       "32847 -36.166384  58.259435  Frenada repentina  11.969349   \n",
       "32848 -36.124541  58.227670  Frenada repentina  11.969349   \n",
       "32849 -35.984128  58.118212  Frenada repentina  11.969349   \n",
       "...          ...        ...                ...        ...   \n",
       "6043  -42.765878  59.910675  Frenada repentina   4.455676   \n",
       "6044  -42.631307  60.340371  Frenada repentina   4.455676   \n",
       "6045  -43.168732  60.724920  Frenada repentina   4.455676   \n",
       "6046  -43.285368  60.528950  Frenada repentina   4.455676   \n",
       "6047  -43.398651  60.216157  Frenada repentina   4.455676   \n",
       "\n",
       "                              timestamp   velAngX   velAngY   velAngZ  \n",
       "id                                                                     \n",
       "32845  2022-02-02 20:01:54.474000-05:00  0.003772  0.008679  0.004936  \n",
       "32846  2022-02-02 20:01:54.523000-05:00  0.004849  0.008580  0.004002  \n",
       "32847  2022-02-02 20:01:54.573000-05:00  0.002411  0.009508  0.001526  \n",
       "32848  2022-02-02 20:01:54.623000-05:00  0.004636  0.009561  0.000243  \n",
       "32849  2022-02-02 20:01:54.674000-05:00  0.003937  0.016739 -0.000274  \n",
       "...                                 ...       ...       ...       ...  \n",
       "6043   2022-01-23 18:51:44.161000-05:00 -0.007760  0.004642 -0.000040  \n",
       "6044   2022-01-23 18:51:44.212000-05:00  0.008748  0.006942 -0.000812  \n",
       "6045   2022-01-23 18:51:44.261000-05:00  0.023007  0.004906  0.000350  \n",
       "6046   2022-01-23 18:51:44.312000-05:00  0.027260 -0.000712  0.001181  \n",
       "6047   2022-01-23 18:51:44.361000-05:00  0.022511 -0.009833  0.003322  \n",
       "\n",
       "[3893 rows x 17 columns]"
      ]
     },
     "execution_count": 9,
     "metadata": {},
     "output_type": "execute_result"
    }
   ],
   "source": [
    "##       TEST 1:\n",
    "## Selecting a CSV for train and another CSV to test\n",
    "\n",
    "# df_train = pd.read_csv('./filtered_data/smartphone_02-Feb-2022-20-22_cambio de línea agresivo izquierda_Data-Mv2MN6xv2W3Rv1Rmb_Z.csv')\n",
    "# df_test = pd.read_csv('./filtered_data/smartphone_02-Feb-2022-20-19_cambio de línea agresivo izquierda_Data-Mv2L_EBJR_gDU3LpwVs.csv')\n",
    "\n",
    "\n",
    "##       TEST 2:\n",
    "## Joining all CSVs of a particular event\n",
    "\n",
    "device = 'smartphone'\n",
    "event = 'frenada repentina'\n",
    "files_to_read = glob.glob('./filtered_data/{}*{}*.csv'.format(device, event))\n",
    "\n",
    "df = pd.DataFrame()\n",
    "for file in files_to_read:\n",
    "    df = pd.concat([df, pd.read_csv(file)])\n",
    "df = df.set_index('id')\n",
    "\n",
    "##       TEST 2-1:\n",
    "## Spliting the TEST 2 dataframe in train and test\n",
    "\n",
    "# df_train, df_test = train_test_split(df, test_size=0.3, train_size=0.7, random_state=0, shuffle=False)\n",
    "# print(\"Train data size: \", df_train.shape)\n",
    "# print(\"Near crash event train data size: \", df_train[\"eventClass\"][df_train[\"eventClass\"] == 1].shape)\n",
    "# print(\"No near crash event train data size: \", df_train[\"eventClass\"][df_train[\"eventClass\"] == 0].shape)\n",
    "\n",
    "# print(\"\\nTest data size: \", df_test.shape)\n",
    "# print(\"Near crash event test data size: \", df_test[\"eventClass\"][df_test[\"eventClass\"] == 1].shape)\n",
    "# print(\"No near crash event test data size: \", df_test[\"eventClass\"][df_test[\"eventClass\"] == 0].shape)\n",
    "\n",
    "##      TEST 2-2:\n",
    "## Don't split the TEST 2 dataframe!\n",
    "\n",
    "print(\"All data size: \", df.shape)\n",
    "print(\"Near crash event data size: \", df[\"eventClass\"][df[\"eventClass\"] == 1].shape)\n",
    "print(\"No near crash event data size: \", df[\"eventClass\"][df[\"eventClass\"] == 0].shape)\n",
    "\n",
    "# Show dataframe\n",
    "df"
   ]
  },
  {
   "cell_type": "markdown",
   "metadata": {},
   "source": [
    "### Select the interest variables"
   ]
  },
  {
   "cell_type": "code",
   "execution_count": 10,
   "metadata": {},
   "outputs": [
    {
     "name": "stdout",
     "output_type": "stream",
     "text": [
      "All data shape for the selected features:  (3893, 3)\n"
     ]
    }
   ],
   "source": [
    "# Features = [\"speed\",\"accX\",\"accY\",\"magX\",\"magY\",\"magZ\", \"velAngX\",\"velAngY\",\"velAngZ\",\"timestamp\",\"eventClass\"]\n",
    "# Always put \"eventClass\" at the end:\n",
    "\n",
    "event_features = [\"speed\",\"accY\"]\n",
    "event_features_label = [*event_features,  \"eventClass\"]\n",
    "dataset = df[event_features_label].to_numpy()\n",
    "print(\"All data shape for the selected features: \",dataset.shape)\n",
    "\n",
    "##    TEST 1 or 2-1\n",
    "## Run the following code for the mentioned TEST\n",
    "## Don't run in the TEST 2-2\n",
    "\n",
    "# dataset_train = df_train[event_features_label].to_numpy()\n",
    "# print(\"Shape of training data for the selected features: \", dataset_train.shape)\n",
    "\n",
    "# dataset_test = df_test[event_features_label].to_numpy()\n",
    "# print(\"Shape of testing data for the selected features: \", dataset_test.shape)"
   ]
  },
  {
   "cell_type": "markdown",
   "metadata": {},
   "source": [
    "### Make a sliding window\n",
    "\n",
    "The sliding window have this shape:\n",
    "\n",
    "$ rows = m - ws + 1 \\\\  columns = ws \\\\ pages = d$\n",
    "\n",
    "![](https://es.mathworks.com/help/matlab/math/nddemo_02_es.gif)\n",
    "\n",
    "Where:\n",
    "- ***m***:  Is the dataset rows number\n",
    "- ***ws***: Is the window size\n",
    "- ***d***:  Is the number of feature of the data\n"
   ]
  },
  {
   "cell_type": "markdown",
   "metadata": {},
   "source": [
    "#### Naive alternative\n",
    "Sliding window without frames"
   ]
  },
  {
   "cell_type": "code",
   "execution_count": 11,
   "metadata": {},
   "outputs": [],
   "source": [
    "def sliding_windows(dataset, window_size, event_features=\"X\"):\n",
    "      \n",
    "      #     In 2-dimensional dataset:\n",
    "      # Axis 0 -> Goes through the rows\n",
    "      # Axis 1 -> Goes through the Cols\n",
    "      sld_window = np.lib.stride_tricks.sliding_window_view(dataset, window_size, axis=0) #[::1, :] Add this for define window step\n",
    "      print(\"\\nSliding windows shape: \",sld_window.shape)\n",
    "\n",
    "      # Spliting the dataset (features, label)\n",
    "      separator = dataset.shape[1] - 1 # Split the last page corresponding to the eventClass\n",
    "      features_data = sld_window[:, 0:separator, :]\n",
    "      label_data = sld_window[:, separator, :]\n",
    "\n",
    "      # Processing the sliding window\n",
    "      # Get the mean, median, std, max and min value\n",
    "      mean = features_data.mean(axis=2)\n",
    "      median = np.median(features_data, axis=2)\n",
    "      std = features_data.std(axis=2)\n",
    "      max_val = features_data.max(axis=2)\n",
    "      min_val = features_data.min(axis=2)\n",
    "      # Get tendency\n",
    "      divider = np.array([mean[0], *mean[:-1]])\n",
    "      tendency = mean/np.where(divider == 0, 1, divider)\n",
    "      # Get the label via the mode\n",
    "      label = st.mode(label_data, axis=1)[0]\n",
    "\n",
    "      # Check processed sliding window\n",
    "      print(\"Processed sliding window shape: \" +\n",
    "            \"mean={}, median={}, std={}, max_val={}, min_val={}, tendency={}, label={}\"\n",
    "            .format(mean.shape, median.shape, std.shape, max_val.shape, min_val.shape, tendency.shape, label.shape))\n",
    "\n",
    "      # Concatenate processed sliding window\n",
    "      sld_window_features = np.concatenate((mean, median, std, max_val, min_val, tendency), axis=1)\n",
    "      # Reshape label for sklearn standard\n",
    "      label = label.reshape(label.shape[0])\n",
    "\n",
    "      # Make the features names\n",
    "      e_n = len(event_features) # Events number\n",
    "      measurements_names = [[\"mean\"]*e_n, [\"median\"]*e_n, [\"std\"]*e_n, [\"max_val\"]*e_n, [\"min_val\"]*e_n, [\"tendency\"]*e_n]\n",
    "      measurements_names = list(itertools.chain(*measurements_names))\n",
    "      events_names = event_features*(len(measurements_names)//e_n)\n",
    "      sld_window_features_names = list(map('_'.join, zip(measurements_names, events_names)))\n",
    "\n",
    "      return (sld_window_features, label, sld_window_features_names)\n"
   ]
  },
  {
   "cell_type": "code",
   "execution_count": 15,
   "metadata": {},
   "outputs": [
    {
     "name": "stdout",
     "output_type": "stream",
     "text": [
      "\n",
      "Sliding windows shape:  (3874, 3, 20)\n",
      "Processed sliding window shape: mean=(3874, 2), median=(3874, 2), std=(3874, 2), max_val=(3874, 2), min_val=(3874, 2), tendency=(3874, 2), label=(3874, 1)\n"
     ]
    }
   ],
   "source": [
    "window_size = 20\n",
    "\n",
    "##    TEST 1, 2-1\n",
    "\n",
    "# X_train, y_train = sliding_windows(variables_train, window_size)\n",
    "# X_test, y_test = sliding_windows(variables_test, window_size)\n",
    "\n",
    "##    TEST 2-2\n",
    "\n",
    "X, y, features_names = sliding_windows(dataset, window_size, event_features)"
   ]
  },
  {
   "cell_type": "markdown",
   "metadata": {},
   "source": [
    "#### Input features"
   ]
  },
  {
   "cell_type": "code",
   "execution_count": 16,
   "metadata": {},
   "outputs": [
    {
     "name": "stdout",
     "output_type": "stream",
     "text": [
      "Features shape: (3874, 12)\n",
      "\n",
      "Near crash event train data size:  (360,)\n",
      "No near crash event train data size:  (3514,)\n",
      "Sample of features: \n",
      "\n"
     ]
    },
    {
     "data": {
      "text/html": [
       "<div>\n",
       "<style scoped>\n",
       "    .dataframe tbody tr th:only-of-type {\n",
       "        vertical-align: middle;\n",
       "    }\n",
       "\n",
       "    .dataframe tbody tr th {\n",
       "        vertical-align: top;\n",
       "    }\n",
       "\n",
       "    .dataframe thead th {\n",
       "        text-align: right;\n",
       "    }\n",
       "</style>\n",
       "<table border=\"1\" class=\"dataframe\">\n",
       "  <thead>\n",
       "    <tr style=\"text-align: right;\">\n",
       "      <th></th>\n",
       "      <th>mean_speed</th>\n",
       "      <th>mean_accY</th>\n",
       "      <th>median_speed</th>\n",
       "      <th>median_accY</th>\n",
       "      <th>std_speed</th>\n",
       "      <th>std_accY</th>\n",
       "      <th>max_val_speed</th>\n",
       "      <th>max_val_accY</th>\n",
       "      <th>min_val_speed</th>\n",
       "      <th>min_val_accY</th>\n",
       "      <th>tendency_speed</th>\n",
       "      <th>tendency_accY</th>\n",
       "    </tr>\n",
       "  </thead>\n",
       "  <tbody>\n",
       "    <tr>\n",
       "      <th>0</th>\n",
       "      <td>11.969349</td>\n",
       "      <td>-0.058163</td>\n",
       "      <td>11.969349</td>\n",
       "      <td>-0.154606</td>\n",
       "      <td>0.0</td>\n",
       "      <td>0.215023</td>\n",
       "      <td>11.969349</td>\n",
       "      <td>0.322767</td>\n",
       "      <td>11.969349</td>\n",
       "      <td>-0.358329</td>\n",
       "      <td>1.0</td>\n",
       "      <td>1.000000</td>\n",
       "    </tr>\n",
       "    <tr>\n",
       "      <th>1</th>\n",
       "      <td>11.969349</td>\n",
       "      <td>-0.052625</td>\n",
       "      <td>11.969349</td>\n",
       "      <td>-0.154606</td>\n",
       "      <td>0.0</td>\n",
       "      <td>0.219634</td>\n",
       "      <td>11.969349</td>\n",
       "      <td>0.322767</td>\n",
       "      <td>11.969349</td>\n",
       "      <td>-0.358329</td>\n",
       "      <td>1.0</td>\n",
       "      <td>0.904795</td>\n",
       "    </tr>\n",
       "  </tbody>\n",
       "</table>\n",
       "</div>"
      ],
      "text/plain": [
       "   mean_speed  mean_accY  median_speed  median_accY  std_speed  std_accY  \\\n",
       "0   11.969349  -0.058163     11.969349    -0.154606        0.0  0.215023   \n",
       "1   11.969349  -0.052625     11.969349    -0.154606        0.0  0.219634   \n",
       "\n",
       "   max_val_speed  max_val_accY  min_val_speed  min_val_accY  tendency_speed  \\\n",
       "0      11.969349      0.322767      11.969349     -0.358329             1.0   \n",
       "1      11.969349      0.322767      11.969349     -0.358329             1.0   \n",
       "\n",
       "   tendency_accY  \n",
       "0       1.000000  \n",
       "1       0.904795  "
      ]
     },
     "execution_count": 16,
     "metadata": {},
     "output_type": "execute_result"
    }
   ],
   "source": [
    "##    TEST 1 or 2-1\n",
    "\n",
    "# print(\"Train features shape:\", X_train.shape)\n",
    "# #print(X_train[0:5])\n",
    "# print(\"Near crash event train data size: \", np.where(y_train == 1)[0].shape)\n",
    "# print(\"No near crash event train data size: \", np.where(y_train == 0)[0].shape)\n",
    "\n",
    "# print(\"\\n\")\n",
    "# print(\"Test features shape:\", X_test.shape)\n",
    "# #print(X_test[0:5])\n",
    "# print(\"Near crash event test data size: \", np.where(y_test == 1)[0].shape)\n",
    "# print(\"No near crash event test data size: \", np.where(y_test == 0)[0].shape)\n",
    "\n",
    "##    TEST 2-2\n",
    "\n",
    "print(\"Features shape:\", X.shape)\n",
    "print(\"\\nNear crash event train data size: \", np.where(y == 1)[0].shape)\n",
    "print(\"No near crash event train data size: \", np.where(y == 0)[0].shape)\n",
    "print(\"Sample of features: \\n\")\n",
    "pd.DataFrame(X[0:2], columns=features_names).head()\n"
   ]
  },
  {
   "cell_type": "markdown",
   "metadata": {},
   "source": [
    "## Machine Learning "
   ]
  },
  {
   "cell_type": "markdown",
   "metadata": {},
   "source": [
    "Make a Machine Learning algorithms with this librarys and this split of data"
   ]
  },
  {
   "cell_type": "code",
   "execution_count": 17,
   "metadata": {},
   "outputs": [],
   "source": [
    "from sklearn import svm\n",
    "from sklearn import tree\n",
    "from sklearn.ensemble import RandomForestClassifier\n",
    "from sklearn.model_selection import train_test_split\n",
    "\n",
    "X_train, X_test, y_train, y_test = train_test_split(X, y, test_size=0.3, train_size=0.7, random_state=15, shuffle=True)"
   ]
  },
  {
   "cell_type": "markdown",
   "metadata": {},
   "source": [
    "### Support Vector Machines"
   ]
  },
  {
   "cell_type": "code",
   "execution_count": 36,
   "metadata": {},
   "outputs": [
    {
     "data": {
      "text/plain": [
       "SVC(C=2, gamma=0.5, random_state=0)"
      ]
     },
     "execution_count": 36,
     "metadata": {},
     "output_type": "execute_result"
    }
   ],
   "source": [
    "clf_svm = svm.SVC(C=2, gamma=0.5, kernel='rbf', random_state=0)\n",
    "clf_svm.fit(X_train, y_train)"
   ]
  },
  {
   "cell_type": "markdown",
   "metadata": {},
   "source": [
    "### Decision Trees"
   ]
  },
  {
   "cell_type": "code",
   "execution_count": 19,
   "metadata": {},
   "outputs": [
    {
     "data": {
      "image/png": "[encoded data removed]",
      "text/plain": [
       "<Figure size 960x400 with 1 Axes>"
      ]
     },
     "metadata": {
      "needs_background": "light"
     },
     "output_type": "display_data"
    }
   ],
   "source": [
    "clf_dt = tree.DecisionTreeClassifier(criterion = \"gini\", max_depth=None, max_leaf_nodes=None)\n",
    "clf_dt.fit(X_train, y_train)\n",
    "\n",
    "# Check more significants variables\n",
    "def plot_feature_importances(clf, features_names):\n",
    "    c_features = len(features_names)\n",
    "    plt.barh(range(c_features), clf.feature_importances_)\n",
    "    plt.xlabel(\"Feature importance\")\n",
    "    plt.ylabel(\"Feature name\")\n",
    "    plt.yticks(np.arange(c_features), features_names)\n",
    "\n",
    "plt.figure(figsize=(12,5), dpi=80)\n",
    "plot_feature_importances(clf_dt, features_names)\n",
    "plt.show()"
   ]
  },
  {
   "cell_type": "markdown",
   "metadata": {},
   "source": [
    "Decision tree representation"
   ]
  },
  {
   "cell_type": "code",
   "execution_count": 20,
   "metadata": {},
   "outputs": [
    {
     "data": {
      "image/svg+xml": "<?xml version=\"1.0\" encoding=\"UTF-8\" standalone=\"no\"?>\n<!DOCTYPE svg PUBLIC \"-//W3C//DTD SVG 1.1//EN\"\n \"http://www.w3.org/Graphics/SVG/1.1/DTD/svg11.dtd\">\n<!-- Generated by graphviz version 2.40.1 (20161225.0304)\n -->\n<!-- Title: Tree Pages: 1 -->\n<svg width=\"3148pt\" height=\"1385pt\"\n viewBox=\"0.00 0.00 3148.00 1385.00\" xmlns=\"http://www.w3.org/2000/svg\" xmlns:xlink=\"http://www.w3.org/1999/xlink\">\n<g id=\"graph0\" class=\"graph\" transform=\"scale(1 1) rotate(0) translate(4 1381)\">\n<title>Tree</title>\n<polygon fill=\"#ffffff\" stroke=\"transparent\" points=\"-4,4 -4,-1381 3144,-1381 3144,4 -4,4\"/>\n<!-- 0 -->\n<g id=\"node1\" class=\"node\">\n<title>0</title>\n<path fill=\"#e88f4e\" stroke=\"#000000\" d=\"M1041,-1377C1041,-1377 922,-1377 922,-1377 916,-1377 910,-1371 910,-1365 910,-1365 910,-1306 910,-1306 910,-1300 916,-1294 922,-1294 922,-1294 1041,-1294 1041,-1294 1047,-1294 1053,-1300 1053,-1306 1053,-1306 1053,-1365 1053,-1365 1053,-1371 1047,-1377 1041,-1377\"/>\n<text text-anchor=\"start\" x=\"918\" y=\"-1361.8\" font-family=\"Helvetica,sans-Serif\" font-size=\"14.00\" fill=\"#000000\">mean_accY ≤ &#45;1.975</text>\n<text text-anchor=\"start\" x=\"946\" y=\"-1346.8\" font-family=\"Helvetica,sans-Serif\" font-size=\"14.00\" fill=\"#000000\">gini = 0.176</text>\n<text text-anchor=\"start\" x=\"933\" y=\"-1331.8\" font-family=\"Helvetica,sans-Serif\" font-size=\"14.00\" fill=\"#000000\">samples = 2711</text>\n<text text-anchor=\"start\" x=\"923.5\" y=\"-1316.8\" font-family=\"Helvetica,sans-Serif\" font-size=\"14.00\" fill=\"#000000\">value = [2447, 264]</text>\n<text text-anchor=\"start\" x=\"936\" y=\"-1301.8\" font-family=\"Helvetica,sans-Serif\" font-size=\"14.00\" fill=\"#000000\">class = Normal</text>\n</g>\n<!-- 1 -->\n<g id=\"node2\" class=\"node\">\n<title>1</title>\n<path fill=\"#54aae9\" stroke=\"#000000\" d=\"M735,-1258C735,-1258 616,-1258 616,-1258 610,-1258 604,-1252 604,-1246 604,-1246 604,-1187 604,-1187 604,-1181 610,-1175 616,-1175 616,-1175 735,-1175 735,-1175 741,-1175 747,-1181 747,-1187 747,-1187 747,-1246 747,-1246 747,-1252 741,-1258 735,-1258\"/>\n<text text-anchor=\"start\" x=\"612\" y=\"-1242.8\" font-family=\"Helvetica,sans-Serif\" font-size=\"14.00\" fill=\"#000000\">tendency_accY ≤ 1.1</text>\n<text text-anchor=\"start\" x=\"643.5\" y=\"-1227.8\" font-family=\"Helvetica,sans-Serif\" font-size=\"14.00\" fill=\"#000000\">gini = 0.21</text>\n<text text-anchor=\"start\" x=\"630.5\" y=\"-1212.8\" font-family=\"Helvetica,sans-Serif\" font-size=\"14.00\" fill=\"#000000\">samples = 193</text>\n<text text-anchor=\"start\" x=\"625\" y=\"-1197.8\" font-family=\"Helvetica,sans-Serif\" font-size=\"14.00\" fill=\"#000000\">value = [23, 170]</text>\n<text text-anchor=\"start\" x=\"617\" y=\"-1182.8\" font-family=\"Helvetica,sans-Serif\" font-size=\"14.00\" fill=\"#000000\">class = Near&#45;Crash</text>\n</g>\n<!-- 0&#45;&gt;1 -->\n<g id=\"edge1\" class=\"edge\">\n<title>0&#45;&gt;1</title>\n<path fill=\"none\" stroke=\"#000000\" d=\"M909.7566,-1307.5998C863.8002,-1289.7279 804.0651,-1266.4975 756.4189,-1247.9685\"/>\n<polygon fill=\"#000000\" stroke=\"#000000\" points=\"757.6472,-1244.6908 747.0585,-1244.3283 755.11,-1251.2149 757.6472,-1244.6908\"/>\n<text text-anchor=\"middle\" x=\"755.1133\" y=\"-1258.9346\" font-family=\"Helvetica,sans-Serif\" font-size=\"14.00\" fill=\"#000000\">True</text>\n</g>\n<!-- 22 -->\n<g id=\"node23\" class=\"node\">\n<title>22</title>\n<path fill=\"#e68641\" stroke=\"#000000\" d=\"M1355,-1258C1355,-1258 1224,-1258 1224,-1258 1218,-1258 1212,-1252 1212,-1246 1212,-1246 1212,-1187 1212,-1187 1212,-1181 1218,-1175 1224,-1175 1224,-1175 1355,-1175 1355,-1175 1361,-1175 1367,-1181 1367,-1187 1367,-1187 1367,-1246 1367,-1246 1367,-1252 1361,-1258 1355,-1258\"/>\n<text text-anchor=\"start\" x=\"1220\" y=\"-1242.8\" font-family=\"Helvetica,sans-Serif\" font-size=\"14.00\" fill=\"#000000\">min_val_accY ≤ &#45;1.692</text>\n<text text-anchor=\"start\" x=\"1254\" y=\"-1227.8\" font-family=\"Helvetica,sans-Serif\" font-size=\"14.00\" fill=\"#000000\">gini = 0.072</text>\n<text text-anchor=\"start\" x=\"1241\" y=\"-1212.8\" font-family=\"Helvetica,sans-Serif\" font-size=\"14.00\" fill=\"#000000\">samples = 2518</text>\n<text text-anchor=\"start\" x=\"1235\" y=\"-1197.8\" font-family=\"Helvetica,sans-Serif\" font-size=\"14.00\" fill=\"#000000\">value = [2424, 94]</text>\n<text text-anchor=\"start\" x=\"1244\" y=\"-1182.8\" font-family=\"Helvetica,sans-Serif\" font-size=\"14.00\" fill=\"#000000\">class = Normal</text>\n</g>\n<!-- 0&#45;&gt;22 -->\n<g id=\"edge22\" class=\"edge\">\n<title>0&#45;&gt;22</title>\n<path fill=\"none\" stroke=\"#000000\" d=\"M1053.3236,-1307.75C1097.8088,-1290.5625 1155.232,-1268.3763 1202.3172,-1250.1843\"/>\n<polygon fill=\"#000000\" stroke=\"#000000\" points=\"1203.8274,-1253.353 1211.894,-1246.4842 1201.3046,-1246.8234 1203.8274,-1253.353\"/>\n<text text-anchor=\"middle\" x=\"1203.799\" y=\"-1261.0727\" font-family=\"Helvetica,sans-Serif\" font-size=\"14.00\" fill=\"#000000\">False</text>\n</g>\n<!-- 2 -->\n<g id=\"node3\" class=\"node\">\n<title>2</title>\n<path fill=\"#44a3e6\" stroke=\"#000000\" d=\"M352,-1139C352,-1139 223,-1139 223,-1139 217,-1139 211,-1133 211,-1127 211,-1127 211,-1068 211,-1068 211,-1062 217,-1056 223,-1056 223,-1056 352,-1056 352,-1056 358,-1056 364,-1062 364,-1068 364,-1068 364,-1127 364,-1127 364,-1133 358,-1139 352,-1139\"/>\n<text text-anchor=\"start\" x=\"219\" y=\"-1123.8\" font-family=\"Helvetica,sans-Serif\" font-size=\"14.00\" fill=\"#000000\">median_accY ≤ &#45;4.587</text>\n<text text-anchor=\"start\" x=\"252\" y=\"-1108.8\" font-family=\"Helvetica,sans-Serif\" font-size=\"14.00\" fill=\"#000000\">gini = 0.101</text>\n<text text-anchor=\"start\" x=\"242.5\" y=\"-1093.8\" font-family=\"Helvetica,sans-Serif\" font-size=\"14.00\" fill=\"#000000\">samples = 168</text>\n<text text-anchor=\"start\" x=\"240.5\" y=\"-1078.8\" font-family=\"Helvetica,sans-Serif\" font-size=\"14.00\" fill=\"#000000\">value = [9, 159]</text>\n<text text-anchor=\"start\" x=\"229\" y=\"-1063.8\" font-family=\"Helvetica,sans-Serif\" font-size=\"14.00\" fill=\"#000000\">class = Near&#45;Crash</text>\n</g>\n<!-- 1&#45;&gt;2 -->\n<g id=\"edge2\" class=\"edge\">\n<title>1&#45;&gt;2</title>\n<path fill=\"none\" stroke=\"#000000\" d=\"M603.8827,-1194.5349C538.8435,-1174.5873 442.7865,-1145.1265 373.5902,-1123.904\"/>\n<polygon fill=\"#000000\" stroke=\"#000000\" points=\"374.5974,-1120.552 364.0106,-1120.9659 372.5448,-1127.2443 374.5974,-1120.552\"/>\n</g>\n<!-- 11 -->\n<g id=\"node12\" class=\"node\">\n<title>11</title>\n<path fill=\"#f9e4d5\" stroke=\"#000000\" d=\"M738.5,-1139C738.5,-1139 612.5,-1139 612.5,-1139 606.5,-1139 600.5,-1133 600.5,-1127 600.5,-1127 600.5,-1068 600.5,-1068 600.5,-1062 606.5,-1056 612.5,-1056 612.5,-1056 738.5,-1056 738.5,-1056 744.5,-1056 750.5,-1062 750.5,-1068 750.5,-1068 750.5,-1127 750.5,-1127 750.5,-1133 744.5,-1139 738.5,-1139\"/>\n<text text-anchor=\"start\" x=\"608.5\" y=\"-1123.8\" font-family=\"Helvetica,sans-Serif\" font-size=\"14.00\" fill=\"#000000\">tendency_speed ≤ 1.0</text>\n<text text-anchor=\"start\" x=\"640\" y=\"-1108.8\" font-family=\"Helvetica,sans-Serif\" font-size=\"14.00\" fill=\"#000000\">gini = 0.493</text>\n<text text-anchor=\"start\" x=\"634.5\" y=\"-1093.8\" font-family=\"Helvetica,sans-Serif\" font-size=\"14.00\" fill=\"#000000\">samples = 25</text>\n<text text-anchor=\"start\" x=\"628.5\" y=\"-1078.8\" font-family=\"Helvetica,sans-Serif\" font-size=\"14.00\" fill=\"#000000\">value = [14, 11]</text>\n<text text-anchor=\"start\" x=\"630\" y=\"-1063.8\" font-family=\"Helvetica,sans-Serif\" font-size=\"14.00\" fill=\"#000000\">class = Normal</text>\n</g>\n<!-- 1&#45;&gt;11 -->\n<g id=\"edge11\" class=\"edge\">\n<title>1&#45;&gt;11</title>\n<path fill=\"none\" stroke=\"#000000\" d=\"M675.5,-1174.8796C675.5,-1166.6838 675.5,-1157.9891 675.5,-1149.5013\"/>\n<polygon fill=\"#000000\" stroke=\"#000000\" points=\"679.0001,-1149.298 675.5,-1139.2981 672.0001,-1149.2981 679.0001,-1149.298\"/>\n</g>\n<!-- 3 -->\n<g id=\"node4\" class=\"node\">\n<title>3</title>\n<path fill=\"#399de5\" stroke=\"#000000\" d=\"M181,-1012.5C181,-1012.5 72,-1012.5 72,-1012.5 66,-1012.5 60,-1006.5 60,-1000.5 60,-1000.5 60,-956.5 60,-956.5 60,-950.5 66,-944.5 72,-944.5 72,-944.5 181,-944.5 181,-944.5 187,-944.5 193,-950.5 193,-956.5 193,-956.5 193,-1000.5 193,-1000.5 193,-1006.5 187,-1012.5 181,-1012.5\"/>\n<text text-anchor=\"start\" x=\"98.5\" y=\"-997.3\" font-family=\"Helvetica,sans-Serif\" font-size=\"14.00\" fill=\"#000000\">gini = 0.0</text>\n<text text-anchor=\"start\" x=\"81.5\" y=\"-982.3\" font-family=\"Helvetica,sans-Serif\" font-size=\"14.00\" fill=\"#000000\">samples = 113</text>\n<text text-anchor=\"start\" x=\"79.5\" y=\"-967.3\" font-family=\"Helvetica,sans-Serif\" font-size=\"14.00\" fill=\"#000000\">value = [0, 113]</text>\n<text text-anchor=\"start\" x=\"68\" y=\"-952.3\" font-family=\"Helvetica,sans-Serif\" font-size=\"14.00\" fill=\"#000000\">class = Near&#45;Crash</text>\n</g>\n<!-- 2&#45;&gt;3 -->\n<g id=\"edge3\" class=\"edge\">\n<title>2&#45;&gt;3</title>\n<path fill=\"none\" stroke=\"#000000\" d=\"M231.19,-1055.8796C214.8968,-1043.8368 197.1461,-1030.7167 180.9675,-1018.7586\"/>\n<polygon fill=\"#000000\" stroke=\"#000000\" points=\"182.7886,-1015.7524 172.6665,-1012.623 178.6279,-1021.3816 182.7886,-1015.7524\"/>\n</g>\n<!-- 4 -->\n<g id=\"node5\" class=\"node\">\n<title>4</title>\n<path fill=\"#60b0ea\" stroke=\"#000000\" d=\"M352,-1020C352,-1020 223,-1020 223,-1020 217,-1020 211,-1014 211,-1008 211,-1008 211,-949 211,-949 211,-943 217,-937 223,-937 223,-937 352,-937 352,-937 358,-937 364,-943 364,-949 364,-949 364,-1008 364,-1008 364,-1014 358,-1020 352,-1020\"/>\n<text text-anchor=\"start\" x=\"219\" y=\"-1004.8\" font-family=\"Helvetica,sans-Serif\" font-size=\"14.00\" fill=\"#000000\">median_accY ≤ &#45;4.495</text>\n<text text-anchor=\"start\" x=\"252\" y=\"-989.8\" font-family=\"Helvetica,sans-Serif\" font-size=\"14.00\" fill=\"#000000\">gini = 0.274</text>\n<text text-anchor=\"start\" x=\"246.5\" y=\"-974.8\" font-family=\"Helvetica,sans-Serif\" font-size=\"14.00\" fill=\"#000000\">samples = 55</text>\n<text text-anchor=\"start\" x=\"244.5\" y=\"-959.8\" font-family=\"Helvetica,sans-Serif\" font-size=\"14.00\" fill=\"#000000\">value = [9, 46]</text>\n<text text-anchor=\"start\" x=\"229\" y=\"-944.8\" font-family=\"Helvetica,sans-Serif\" font-size=\"14.00\" fill=\"#000000\">class = Near&#45;Crash</text>\n</g>\n<!-- 2&#45;&gt;4 -->\n<g id=\"edge4\" class=\"edge\">\n<title>2&#45;&gt;4</title>\n<path fill=\"none\" stroke=\"#000000\" d=\"M287.5,-1055.8796C287.5,-1047.6838 287.5,-1038.9891 287.5,-1030.5013\"/>\n<polygon fill=\"#000000\" stroke=\"#000000\" points=\"291.0001,-1030.298 287.5,-1020.2981 284.0001,-1030.2981 291.0001,-1030.298\"/>\n</g>\n<!-- 5 -->\n<g id=\"node6\" class=\"node\">\n<title>5</title>\n<path fill=\"#e58139\" stroke=\"#000000\" d=\"M176,-893.5C176,-893.5 93,-893.5 93,-893.5 87,-893.5 81,-887.5 81,-881.5 81,-881.5 81,-837.5 81,-837.5 81,-831.5 87,-825.5 93,-825.5 93,-825.5 176,-825.5 176,-825.5 182,-825.5 188,-831.5 188,-837.5 188,-837.5 188,-881.5 188,-881.5 188,-887.5 182,-893.5 176,-893.5\"/>\n<text text-anchor=\"start\" x=\"106.5\" y=\"-878.3\" font-family=\"Helvetica,sans-Serif\" font-size=\"14.00\" fill=\"#000000\">gini = 0.0</text>\n<text text-anchor=\"start\" x=\"97\" y=\"-863.3\" font-family=\"Helvetica,sans-Serif\" font-size=\"14.00\" fill=\"#000000\">samples = 6</text>\n<text text-anchor=\"start\" x=\"95\" y=\"-848.3\" font-family=\"Helvetica,sans-Serif\" font-size=\"14.00\" fill=\"#000000\">value = [6, 0]</text>\n<text text-anchor=\"start\" x=\"89\" y=\"-833.3\" font-family=\"Helvetica,sans-Serif\" font-size=\"14.00\" fill=\"#000000\">class = Normal</text>\n</g>\n<!-- 4&#45;&gt;5 -->\n<g id=\"edge5\" class=\"edge\">\n<title>4&#45;&gt;5</title>\n<path fill=\"none\" stroke=\"#000000\" d=\"M233.988,-936.8796C218.7192,-925.0038 202.1034,-912.0804 186.9016,-900.2568\"/>\n<polygon fill=\"#000000\" stroke=\"#000000\" points=\"188.6616,-897.1916 178.6192,-893.8149 184.3639,-902.7171 188.6616,-897.1916\"/>\n</g>\n<!-- 6 -->\n<g id=\"node7\" class=\"node\">\n<title>6</title>\n<path fill=\"#46a3e7\" stroke=\"#000000\" d=\"M357,-901C357,-901 218,-901 218,-901 212,-901 206,-895 206,-889 206,-889 206,-830 206,-830 206,-824 212,-818 218,-818 218,-818 357,-818 357,-818 363,-818 369,-824 369,-830 369,-830 369,-889 369,-889 369,-895 363,-901 357,-901\"/>\n<text text-anchor=\"start\" x=\"214\" y=\"-885.8\" font-family=\"Helvetica,sans-Serif\" font-size=\"14.00\" fill=\"#000000\">median_speed ≤ 22.954</text>\n<text text-anchor=\"start\" x=\"252\" y=\"-870.8\" font-family=\"Helvetica,sans-Serif\" font-size=\"14.00\" fill=\"#000000\">gini = 0.115</text>\n<text text-anchor=\"start\" x=\"246.5\" y=\"-855.8\" font-family=\"Helvetica,sans-Serif\" font-size=\"14.00\" fill=\"#000000\">samples = 49</text>\n<text text-anchor=\"start\" x=\"244.5\" y=\"-840.8\" font-family=\"Helvetica,sans-Serif\" font-size=\"14.00\" fill=\"#000000\">value = [3, 46]</text>\n<text text-anchor=\"start\" x=\"229\" y=\"-825.8\" font-family=\"Helvetica,sans-Serif\" font-size=\"14.00\" fill=\"#000000\">class = Near&#45;Crash</text>\n</g>\n<!-- 4&#45;&gt;6 -->\n<g id=\"edge6\" class=\"edge\">\n<title>4&#45;&gt;6</title>\n<path fill=\"none\" stroke=\"#000000\" d=\"M287.5,-936.8796C287.5,-928.6838 287.5,-919.9891 287.5,-911.5013\"/>\n<polygon fill=\"#000000\" stroke=\"#000000\" points=\"291.0001,-911.298 287.5,-901.2981 284.0001,-911.2981 291.0001,-911.298\"/>\n</g>\n<!-- 7 -->\n<g id=\"node8\" class=\"node\">\n<title>7</title>\n<path fill=\"#8ec7f0\" stroke=\"#000000\" d=\"M195,-782C195,-782 50,-782 50,-782 44,-782 38,-776 38,-770 38,-770 38,-711 38,-711 38,-705 44,-699 50,-699 50,-699 195,-699 195,-699 201,-699 207,-705 207,-711 207,-711 207,-770 207,-770 207,-776 201,-782 195,-782\"/>\n<text text-anchor=\"start\" x=\"46\" y=\"-766.8\" font-family=\"Helvetica,sans-Serif\" font-size=\"14.00\" fill=\"#000000\">max_val_speed ≤ 30.995</text>\n<text text-anchor=\"start\" x=\"90.5\" y=\"-751.8\" font-family=\"Helvetica,sans-Serif\" font-size=\"14.00\" fill=\"#000000\">gini = 0.42</text>\n<text text-anchor=\"start\" x=\"81.5\" y=\"-736.8\" font-family=\"Helvetica,sans-Serif\" font-size=\"14.00\" fill=\"#000000\">samples = 10</text>\n<text text-anchor=\"start\" x=\"83\" y=\"-721.8\" font-family=\"Helvetica,sans-Serif\" font-size=\"14.00\" fill=\"#000000\">value = [3, 7]</text>\n<text text-anchor=\"start\" x=\"64\" y=\"-706.8\" font-family=\"Helvetica,sans-Serif\" font-size=\"14.00\" fill=\"#000000\">class = Near&#45;Crash</text>\n</g>\n<!-- 6&#45;&gt;7 -->\n<g id=\"edge7\" class=\"edge\">\n<title>6&#45;&gt;7</title>\n<path fill=\"none\" stroke=\"#000000\" d=\"M229.791,-817.8796C216.477,-808.2774 202.2134,-797.9903 188.5741,-788.1534\"/>\n<polygon fill=\"#000000\" stroke=\"#000000\" points=\"190.3345,-785.1077 180.1764,-782.0969 186.2398,-790.7852 190.3345,-785.1077\"/>\n</g>\n<!-- 10 -->\n<g id=\"node11\" class=\"node\">\n<title>10</title>\n<path fill=\"#399de5\" stroke=\"#000000\" d=\"M346,-774.5C346,-774.5 237,-774.5 237,-774.5 231,-774.5 225,-768.5 225,-762.5 225,-762.5 225,-718.5 225,-718.5 225,-712.5 231,-706.5 237,-706.5 237,-706.5 346,-706.5 346,-706.5 352,-706.5 358,-712.5 358,-718.5 358,-718.5 358,-762.5 358,-762.5 358,-768.5 352,-774.5 346,-774.5\"/>\n<text text-anchor=\"start\" x=\"263.5\" y=\"-759.3\" font-family=\"Helvetica,sans-Serif\" font-size=\"14.00\" fill=\"#000000\">gini = 0.0</text>\n<text text-anchor=\"start\" x=\"250.5\" y=\"-744.3\" font-family=\"Helvetica,sans-Serif\" font-size=\"14.00\" fill=\"#000000\">samples = 39</text>\n<text text-anchor=\"start\" x=\"248.5\" y=\"-729.3\" font-family=\"Helvetica,sans-Serif\" font-size=\"14.00\" fill=\"#000000\">value = [0, 39]</text>\n<text text-anchor=\"start\" x=\"233\" y=\"-714.3\" font-family=\"Helvetica,sans-Serif\" font-size=\"14.00\" fill=\"#000000\">class = Near&#45;Crash</text>\n</g>\n<!-- 6&#45;&gt;10 -->\n<g id=\"edge10\" class=\"edge\">\n<title>6&#45;&gt;10</title>\n<path fill=\"none\" stroke=\"#000000\" d=\"M288.899,-817.8796C289.2575,-807.2134 289.6445,-795.7021 290.0075,-784.9015\"/>\n<polygon fill=\"#000000\" stroke=\"#000000\" points=\"293.5085,-784.9269 290.3466,-774.8149 286.5125,-784.6917 293.5085,-784.9269\"/>\n</g>\n<!-- 8 -->\n<g id=\"node9\" class=\"node\">\n<title>8</title>\n<path fill=\"#e58139\" stroke=\"#000000\" d=\"M95,-655.5C95,-655.5 12,-655.5 12,-655.5 6,-655.5 0,-649.5 0,-643.5 0,-643.5 0,-599.5 0,-599.5 0,-593.5 6,-587.5 12,-587.5 12,-587.5 95,-587.5 95,-587.5 101,-587.5 107,-593.5 107,-599.5 107,-599.5 107,-643.5 107,-643.5 107,-649.5 101,-655.5 95,-655.5\"/>\n<text text-anchor=\"start\" x=\"25.5\" y=\"-640.3\" font-family=\"Helvetica,sans-Serif\" font-size=\"14.00\" fill=\"#000000\">gini = 0.0</text>\n<text text-anchor=\"start\" x=\"16\" y=\"-625.3\" font-family=\"Helvetica,sans-Serif\" font-size=\"14.00\" fill=\"#000000\">samples = 3</text>\n<text text-anchor=\"start\" x=\"14\" y=\"-610.3\" font-family=\"Helvetica,sans-Serif\" font-size=\"14.00\" fill=\"#000000\">value = [3, 0]</text>\n<text text-anchor=\"start\" x=\"8\" y=\"-595.3\" font-family=\"Helvetica,sans-Serif\" font-size=\"14.00\" fill=\"#000000\">class = Normal</text>\n</g>\n<!-- 7&#45;&gt;8 -->\n<g id=\"edge8\" class=\"edge\">\n<title>7&#45;&gt;8</title>\n<path fill=\"none\" stroke=\"#000000\" d=\"M98.3671,-698.8796C91.9275,-687.7735 84.9566,-675.7513 78.4729,-664.5691\"/>\n<polygon fill=\"#000000\" stroke=\"#000000\" points=\"81.4409,-662.7102 73.3969,-655.8149 75.3852,-666.2215 81.4409,-662.7102\"/>\n</g>\n<!-- 9 -->\n<g id=\"node10\" class=\"node\">\n<title>9</title>\n<path fill=\"#399de5\" stroke=\"#000000\" d=\"M246,-655.5C246,-655.5 137,-655.5 137,-655.5 131,-655.5 125,-649.5 125,-643.5 125,-643.5 125,-599.5 125,-599.5 125,-593.5 131,-587.5 137,-587.5 137,-587.5 246,-587.5 246,-587.5 252,-587.5 258,-593.5 258,-599.5 258,-599.5 258,-643.5 258,-643.5 258,-649.5 252,-655.5 246,-655.5\"/>\n<text text-anchor=\"start\" x=\"163.5\" y=\"-640.3\" font-family=\"Helvetica,sans-Serif\" font-size=\"14.00\" fill=\"#000000\">gini = 0.0</text>\n<text text-anchor=\"start\" x=\"154\" y=\"-625.3\" font-family=\"Helvetica,sans-Serif\" font-size=\"14.00\" fill=\"#000000\">samples = 7</text>\n<text text-anchor=\"start\" x=\"152\" y=\"-610.3\" font-family=\"Helvetica,sans-Serif\" font-size=\"14.00\" fill=\"#000000\">value = [0, 7]</text>\n<text text-anchor=\"start\" x=\"133\" y=\"-595.3\" font-family=\"Helvetica,sans-Serif\" font-size=\"14.00\" fill=\"#000000\">class = Near&#45;Crash</text>\n</g>\n<!-- 7&#45;&gt;9 -->\n<g id=\"edge9\" class=\"edge\">\n<title>7&#45;&gt;9</title>\n<path fill=\"none\" stroke=\"#000000\" d=\"M146.6329,-698.8796C153.0725,-687.7735 160.0434,-675.7513 166.5271,-664.5691\"/>\n<polygon fill=\"#000000\" stroke=\"#000000\" points=\"169.6148,-666.2215 171.6031,-655.8149 163.5591,-662.7102 169.6148,-666.2215\"/>\n</g>\n<!-- 12 -->\n<g id=\"node13\" class=\"node\">\n<title>12</title>\n<path fill=\"#eb9e67\" stroke=\"#000000\" d=\"M644.5,-1020C644.5,-1020 540.5,-1020 540.5,-1020 534.5,-1020 528.5,-1014 528.5,-1008 528.5,-1008 528.5,-949 528.5,-949 528.5,-943 534.5,-937 540.5,-937 540.5,-937 644.5,-937 644.5,-937 650.5,-937 656.5,-943 656.5,-949 656.5,-949 656.5,-1008 656.5,-1008 656.5,-1014 650.5,-1020 644.5,-1020\"/>\n<text text-anchor=\"start\" x=\"536.5\" y=\"-1004.8\" font-family=\"Helvetica,sans-Serif\" font-size=\"14.00\" fill=\"#000000\">std_speed ≤ 0.671</text>\n<text text-anchor=\"start\" x=\"557\" y=\"-989.8\" font-family=\"Helvetica,sans-Serif\" font-size=\"14.00\" fill=\"#000000\">gini = 0.305</text>\n<text text-anchor=\"start\" x=\"551.5\" y=\"-974.8\" font-family=\"Helvetica,sans-Serif\" font-size=\"14.00\" fill=\"#000000\">samples = 16</text>\n<text text-anchor=\"start\" x=\"549.5\" y=\"-959.8\" font-family=\"Helvetica,sans-Serif\" font-size=\"14.00\" fill=\"#000000\">value = [13, 3]</text>\n<text text-anchor=\"start\" x=\"547\" y=\"-944.8\" font-family=\"Helvetica,sans-Serif\" font-size=\"14.00\" fill=\"#000000\">class = Normal</text>\n</g>\n<!-- 11&#45;&gt;12 -->\n<g id=\"edge12\" class=\"edge\">\n<title>11&#45;&gt;12</title>\n<path fill=\"none\" stroke=\"#000000\" d=\"M646.4706,-1055.8796C640.3145,-1047.0534 633.7549,-1037.6485 627.4064,-1028.5466\"/>\n<polygon fill=\"#000000\" stroke=\"#000000\" points=\"630.2448,-1026.4978 621.6533,-1020.2981 624.5033,-1030.5024 630.2448,-1026.4978\"/>\n</g>\n<!-- 19 -->\n<g id=\"node20\" class=\"node\">\n<title>19</title>\n<path fill=\"#52a9e8\" stroke=\"#000000\" d=\"M832,-1020C832,-1020 687,-1020 687,-1020 681,-1020 675,-1014 675,-1008 675,-1008 675,-949 675,-949 675,-943 681,-937 687,-937 687,-937 832,-937 832,-937 838,-937 844,-943 844,-949 844,-949 844,-1008 844,-1008 844,-1014 838,-1020 832,-1020\"/>\n<text text-anchor=\"start\" x=\"683\" y=\"-1004.8\" font-family=\"Helvetica,sans-Serif\" font-size=\"14.00\" fill=\"#000000\">max_val_speed ≤ 35.344</text>\n<text text-anchor=\"start\" x=\"724\" y=\"-989.8\" font-family=\"Helvetica,sans-Serif\" font-size=\"14.00\" fill=\"#000000\">gini = 0.198</text>\n<text text-anchor=\"start\" x=\"722\" y=\"-974.8\" font-family=\"Helvetica,sans-Serif\" font-size=\"14.00\" fill=\"#000000\">samples = 9</text>\n<text text-anchor=\"start\" x=\"720\" y=\"-959.8\" font-family=\"Helvetica,sans-Serif\" font-size=\"14.00\" fill=\"#000000\">value = [1, 8]</text>\n<text text-anchor=\"start\" x=\"701\" y=\"-944.8\" font-family=\"Helvetica,sans-Serif\" font-size=\"14.00\" fill=\"#000000\">class = Near&#45;Crash</text>\n</g>\n<!-- 11&#45;&gt;19 -->\n<g id=\"edge19\" class=\"edge\">\n<title>11&#45;&gt;19</title>\n<path fill=\"none\" stroke=\"#000000\" d=\"M704.8791,-1055.8796C711.1094,-1047.0534 717.7481,-1037.6485 724.173,-1028.5466\"/>\n<polygon fill=\"#000000\" stroke=\"#000000\" points=\"727.088,-1030.4862 729.9955,-1020.2981 721.3692,-1026.4494 727.088,-1030.4862\"/>\n</g>\n<!-- 13 -->\n<g id=\"node14\" class=\"node\">\n<title>13</title>\n<path fill=\"#e78b48\" stroke=\"#000000\" d=\"M503.5,-901C503.5,-901 399.5,-901 399.5,-901 393.5,-901 387.5,-895 387.5,-889 387.5,-889 387.5,-830 387.5,-830 387.5,-824 393.5,-818 399.5,-818 399.5,-818 503.5,-818 503.5,-818 509.5,-818 515.5,-824 515.5,-830 515.5,-830 515.5,-889 515.5,-889 515.5,-895 509.5,-901 503.5,-901\"/>\n<text text-anchor=\"start\" x=\"395.5\" y=\"-885.8\" font-family=\"Helvetica,sans-Serif\" font-size=\"14.00\" fill=\"#000000\">std_speed ≤ 0.016</text>\n<text text-anchor=\"start\" x=\"416\" y=\"-870.8\" font-family=\"Helvetica,sans-Serif\" font-size=\"14.00\" fill=\"#000000\">gini = 0.133</text>\n<text text-anchor=\"start\" x=\"410.5\" y=\"-855.8\" font-family=\"Helvetica,sans-Serif\" font-size=\"14.00\" fill=\"#000000\">samples = 14</text>\n<text text-anchor=\"start\" x=\"408.5\" y=\"-840.8\" font-family=\"Helvetica,sans-Serif\" font-size=\"14.00\" fill=\"#000000\">value = [13, 1]</text>\n<text text-anchor=\"start\" x=\"406\" y=\"-825.8\" font-family=\"Helvetica,sans-Serif\" font-size=\"14.00\" fill=\"#000000\">class = Normal</text>\n</g>\n<!-- 12&#45;&gt;13 -->\n<g id=\"edge13\" class=\"edge\">\n<title>12&#45;&gt;13</title>\n<path fill=\"none\" stroke=\"#000000\" d=\"M543.185,-936.8796C532.0868,-927.513 520.2165,-917.4948 508.8223,-907.8784\"/>\n<polygon fill=\"#000000\" stroke=\"#000000\" points=\"510.925,-905.0731 501.0254,-901.2981 506.4101,-910.4225 510.925,-905.0731\"/>\n</g>\n<!-- 18 -->\n<g id=\"node19\" class=\"node\">\n<title>18</title>\n<path fill=\"#399de5\" stroke=\"#000000\" d=\"M655,-893.5C655,-893.5 546,-893.5 546,-893.5 540,-893.5 534,-887.5 534,-881.5 534,-881.5 534,-837.5 534,-837.5 534,-831.5 540,-825.5 546,-825.5 546,-825.5 655,-825.5 655,-825.5 661,-825.5 667,-831.5 667,-837.5 667,-837.5 667,-881.5 667,-881.5 667,-887.5 661,-893.5 655,-893.5\"/>\n<text text-anchor=\"start\" x=\"572.5\" y=\"-878.3\" font-family=\"Helvetica,sans-Serif\" font-size=\"14.00\" fill=\"#000000\">gini = 0.0</text>\n<text text-anchor=\"start\" x=\"563\" y=\"-863.3\" font-family=\"Helvetica,sans-Serif\" font-size=\"14.00\" fill=\"#000000\">samples = 2</text>\n<text text-anchor=\"start\" x=\"561\" y=\"-848.3\" font-family=\"Helvetica,sans-Serif\" font-size=\"14.00\" fill=\"#000000\">value = [0, 2]</text>\n<text text-anchor=\"start\" x=\"542\" y=\"-833.3\" font-family=\"Helvetica,sans-Serif\" font-size=\"14.00\" fill=\"#000000\">class = Near&#45;Crash</text>\n</g>\n<!-- 12&#45;&gt;18 -->\n<g id=\"edge18\" class=\"edge\">\n<title>12&#45;&gt;18</title>\n<path fill=\"none\" stroke=\"#000000\" d=\"M595.298,-936.8796C596.0151,-926.2134 596.7889,-914.7021 597.515,-903.9015\"/>\n<polygon fill=\"#000000\" stroke=\"#000000\" points=\"601.0144,-904.0272 598.1931,-893.8149 594.0301,-903.5576 601.0144,-904.0272\"/>\n</g>\n<!-- 14 -->\n<g id=\"node15\" class=\"node\">\n<title>14</title>\n<path fill=\"#ffffff\" stroke=\"#000000\" d=\"M499.5,-782C499.5,-782 395.5,-782 395.5,-782 389.5,-782 383.5,-776 383.5,-770 383.5,-770 383.5,-711 383.5,-711 383.5,-705 389.5,-699 395.5,-699 395.5,-699 499.5,-699 499.5,-699 505.5,-699 511.5,-705 511.5,-711 511.5,-711 511.5,-770 511.5,-770 511.5,-776 505.5,-782 499.5,-782\"/>\n<text text-anchor=\"start\" x=\"391.5\" y=\"-766.8\" font-family=\"Helvetica,sans-Serif\" font-size=\"14.00\" fill=\"#000000\">std_speed ≤ 0.007</text>\n<text text-anchor=\"start\" x=\"419.5\" y=\"-751.8\" font-family=\"Helvetica,sans-Serif\" font-size=\"14.00\" fill=\"#000000\">gini = 0.5</text>\n<text text-anchor=\"start\" x=\"410\" y=\"-736.8\" font-family=\"Helvetica,sans-Serif\" font-size=\"14.00\" fill=\"#000000\">samples = 2</text>\n<text text-anchor=\"start\" x=\"408\" y=\"-721.8\" font-family=\"Helvetica,sans-Serif\" font-size=\"14.00\" fill=\"#000000\">value = [1, 1]</text>\n<text text-anchor=\"start\" x=\"402\" y=\"-706.8\" font-family=\"Helvetica,sans-Serif\" font-size=\"14.00\" fill=\"#000000\">class = Normal</text>\n</g>\n<!-- 13&#45;&gt;14 -->\n<g id=\"edge14\" class=\"edge\">\n<title>13&#45;&gt;14</title>\n<path fill=\"none\" stroke=\"#000000\" d=\"M450.101,-817.8796C449.8255,-809.6838 449.5332,-800.9891 449.2479,-792.5013\"/>\n<polygon fill=\"#000000\" stroke=\"#000000\" points=\"452.739,-792.1748 448.905,-782.2981 445.743,-792.41 452.739,-792.1748\"/>\n</g>\n<!-- 17 -->\n<g id=\"node18\" class=\"node\">\n<title>17</title>\n<path fill=\"#e58139\" stroke=\"#000000\" d=\"M625,-774.5C625,-774.5 542,-774.5 542,-774.5 536,-774.5 530,-768.5 530,-762.5 530,-762.5 530,-718.5 530,-718.5 530,-712.5 536,-706.5 542,-706.5 542,-706.5 625,-706.5 625,-706.5 631,-706.5 637,-712.5 637,-718.5 637,-718.5 637,-762.5 637,-762.5 637,-768.5 631,-774.5 625,-774.5\"/>\n<text text-anchor=\"start\" x=\"555.5\" y=\"-759.3\" font-family=\"Helvetica,sans-Serif\" font-size=\"14.00\" fill=\"#000000\">gini = 0.0</text>\n<text text-anchor=\"start\" x=\"542.5\" y=\"-744.3\" font-family=\"Helvetica,sans-Serif\" font-size=\"14.00\" fill=\"#000000\">samples = 12</text>\n<text text-anchor=\"start\" x=\"540.5\" y=\"-729.3\" font-family=\"Helvetica,sans-Serif\" font-size=\"14.00\" fill=\"#000000\">value = [12, 0]</text>\n<text text-anchor=\"start\" x=\"538\" y=\"-714.3\" font-family=\"Helvetica,sans-Serif\" font-size=\"14.00\" fill=\"#000000\">class = Normal</text>\n</g>\n<!-- 13&#45;&gt;17 -->\n<g id=\"edge17\" class=\"edge\">\n<title>13&#45;&gt;17</title>\n<path fill=\"none\" stroke=\"#000000\" d=\"M497.6672,-817.8796C510.7183,-806.1138 524.9101,-793.3197 537.9261,-781.5855\"/>\n<polygon fill=\"#000000\" stroke=\"#000000\" points=\"540.3526,-784.1104 545.4364,-774.8149 535.6654,-778.9113 540.3526,-784.1104\"/>\n</g>\n<!-- 15 -->\n<g id=\"node16\" class=\"node\">\n<title>15</title>\n<path fill=\"#e58139\" stroke=\"#000000\" d=\"M434,-655.5C434,-655.5 351,-655.5 351,-655.5 345,-655.5 339,-649.5 339,-643.5 339,-643.5 339,-599.5 339,-599.5 339,-593.5 345,-587.5 351,-587.5 351,-587.5 434,-587.5 434,-587.5 440,-587.5 446,-593.5 446,-599.5 446,-599.5 446,-643.5 446,-643.5 446,-649.5 440,-655.5 434,-655.5\"/>\n<text text-anchor=\"start\" x=\"364.5\" y=\"-640.3\" font-family=\"Helvetica,sans-Serif\" font-size=\"14.00\" fill=\"#000000\">gini = 0.0</text>\n<text text-anchor=\"start\" x=\"355\" y=\"-625.3\" font-family=\"Helvetica,sans-Serif\" font-size=\"14.00\" fill=\"#000000\">samples = 1</text>\n<text text-anchor=\"start\" x=\"353\" y=\"-610.3\" font-family=\"Helvetica,sans-Serif\" font-size=\"14.00\" fill=\"#000000\">value = [1, 0]</text>\n<text text-anchor=\"start\" x=\"347\" y=\"-595.3\" font-family=\"Helvetica,sans-Serif\" font-size=\"14.00\" fill=\"#000000\">class = Normal</text>\n</g>\n<!-- 14&#45;&gt;15 -->\n<g id=\"edge15\" class=\"edge\">\n<title>14&#45;&gt;15</title>\n<path fill=\"none\" stroke=\"#000000\" d=\"M428.2637,-698.8796C423.1814,-687.8835 417.6841,-675.9893 412.5595,-664.9015\"/>\n<polygon fill=\"#000000\" stroke=\"#000000\" points=\"415.7324,-663.4239 408.3598,-655.8149 409.3782,-666.3607 415.7324,-663.4239\"/>\n</g>\n<!-- 16 -->\n<g id=\"node17\" class=\"node\">\n<title>16</title>\n<path fill=\"#399de5\" stroke=\"#000000\" d=\"M585,-655.5C585,-655.5 476,-655.5 476,-655.5 470,-655.5 464,-649.5 464,-643.5 464,-643.5 464,-599.5 464,-599.5 464,-593.5 470,-587.5 476,-587.5 476,-587.5 585,-587.5 585,-587.5 591,-587.5 597,-593.5 597,-599.5 597,-599.5 597,-643.5 597,-643.5 597,-649.5 591,-655.5 585,-655.5\"/>\n<text text-anchor=\"start\" x=\"502.5\" y=\"-640.3\" font-family=\"Helvetica,sans-Serif\" font-size=\"14.00\" fill=\"#000000\">gini = 0.0</text>\n<text text-anchor=\"start\" x=\"493\" y=\"-625.3\" font-family=\"Helvetica,sans-Serif\" font-size=\"14.00\" fill=\"#000000\">samples = 1</text>\n<text text-anchor=\"start\" x=\"491\" y=\"-610.3\" font-family=\"Helvetica,sans-Serif\" font-size=\"14.00\" fill=\"#000000\">value = [0, 1]</text>\n<text text-anchor=\"start\" x=\"472\" y=\"-595.3\" font-family=\"Helvetica,sans-Serif\" font-size=\"14.00\" fill=\"#000000\">class = Near&#45;Crash</text>\n</g>\n<!-- 14&#45;&gt;16 -->\n<g id=\"edge16\" class=\"edge\">\n<title>14&#45;&gt;16</title>\n<path fill=\"none\" stroke=\"#000000\" d=\"M476.5294,-698.8796C484.3523,-687.6636 492.827,-675.5131 500.6917,-664.2372\"/>\n<polygon fill=\"#000000\" stroke=\"#000000\" points=\"503.716,-666.0192 506.5661,-655.8149 497.9746,-662.0147 503.716,-666.0192\"/>\n</g>\n<!-- 20 -->\n<g id=\"node21\" class=\"node\">\n<title>20</title>\n<path fill=\"#399de5\" stroke=\"#000000\" d=\"M806,-893.5C806,-893.5 697,-893.5 697,-893.5 691,-893.5 685,-887.5 685,-881.5 685,-881.5 685,-837.5 685,-837.5 685,-831.5 691,-825.5 697,-825.5 697,-825.5 806,-825.5 806,-825.5 812,-825.5 818,-831.5 818,-837.5 818,-837.5 818,-881.5 818,-881.5 818,-887.5 812,-893.5 806,-893.5\"/>\n<text text-anchor=\"start\" x=\"723.5\" y=\"-878.3\" font-family=\"Helvetica,sans-Serif\" font-size=\"14.00\" fill=\"#000000\">gini = 0.0</text>\n<text text-anchor=\"start\" x=\"714\" y=\"-863.3\" font-family=\"Helvetica,sans-Serif\" font-size=\"14.00\" fill=\"#000000\">samples = 8</text>\n<text text-anchor=\"start\" x=\"712\" y=\"-848.3\" font-family=\"Helvetica,sans-Serif\" font-size=\"14.00\" fill=\"#000000\">value = [0, 8]</text>\n<text text-anchor=\"start\" x=\"693\" y=\"-833.3\" font-family=\"Helvetica,sans-Serif\" font-size=\"14.00\" fill=\"#000000\">class = Near&#45;Crash</text>\n</g>\n<!-- 19&#45;&gt;20 -->\n<g id=\"edge20\" class=\"edge\">\n<title>19&#45;&gt;20</title>\n<path fill=\"none\" stroke=\"#000000\" d=\"M756.702,-936.8796C755.9849,-926.2134 755.2111,-914.7021 754.485,-903.9015\"/>\n<polygon fill=\"#000000\" stroke=\"#000000\" points=\"757.9699,-903.5576 753.8069,-893.8149 750.9856,-904.0272 757.9699,-903.5576\"/>\n</g>\n<!-- 21 -->\n<g id=\"node22\" class=\"node\">\n<title>21</title>\n<path fill=\"#e58139\" stroke=\"#000000\" d=\"M931,-893.5C931,-893.5 848,-893.5 848,-893.5 842,-893.5 836,-887.5 836,-881.5 836,-881.5 836,-837.5 836,-837.5 836,-831.5 842,-825.5 848,-825.5 848,-825.5 931,-825.5 931,-825.5 937,-825.5 943,-831.5 943,-837.5 943,-837.5 943,-881.5 943,-881.5 943,-887.5 937,-893.5 931,-893.5\"/>\n<text text-anchor=\"start\" x=\"861.5\" y=\"-878.3\" font-family=\"Helvetica,sans-Serif\" font-size=\"14.00\" fill=\"#000000\">gini = 0.0</text>\n<text text-anchor=\"start\" x=\"852\" y=\"-863.3\" font-family=\"Helvetica,sans-Serif\" font-size=\"14.00\" fill=\"#000000\">samples = 1</text>\n<text text-anchor=\"start\" x=\"850\" y=\"-848.3\" font-family=\"Helvetica,sans-Serif\" font-size=\"14.00\" fill=\"#000000\">value = [1, 0]</text>\n<text text-anchor=\"start\" x=\"844\" y=\"-833.3\" font-family=\"Helvetica,sans-Serif\" font-size=\"14.00\" fill=\"#000000\">class = Normal</text>\n</g>\n<!-- 19&#45;&gt;21 -->\n<g id=\"edge21\" class=\"edge\">\n<title>19&#45;&gt;21</title>\n<path fill=\"none\" stroke=\"#000000\" d=\"M804.9677,-936.8796C817.8211,-925.1138 831.7979,-912.3197 844.6166,-900.5855\"/>\n<polygon fill=\"#000000\" stroke=\"#000000\" points=\"847.0001,-903.1488 852.0131,-893.8149 842.2736,-897.9854 847.0001,-903.1488\"/>\n</g>\n<!-- 23 -->\n<g id=\"node24\" class=\"node\">\n<title>23</title>\n<path fill=\"#f2c09c\" stroke=\"#000000\" d=\"M1360,-1139C1360,-1139 1219,-1139 1219,-1139 1213,-1139 1207,-1133 1207,-1127 1207,-1127 1207,-1068 1207,-1068 1207,-1062 1213,-1056 1219,-1056 1219,-1056 1360,-1056 1360,-1056 1366,-1056 1372,-1062 1372,-1068 1372,-1068 1372,-1127 1372,-1127 1372,-1133 1366,-1139 1360,-1139\"/>\n<text text-anchor=\"start\" x=\"1215\" y=\"-1123.8\" font-family=\"Helvetica,sans-Serif\" font-size=\"14.00\" fill=\"#000000\">min_val_speed ≤ 17.924</text>\n<text text-anchor=\"start\" x=\"1254\" y=\"-1108.8\" font-family=\"Helvetica,sans-Serif\" font-size=\"14.00\" fill=\"#000000\">gini = 0.444</text>\n<text text-anchor=\"start\" x=\"1244.5\" y=\"-1093.8\" font-family=\"Helvetica,sans-Serif\" font-size=\"14.00\" fill=\"#000000\">samples = 114</text>\n<text text-anchor=\"start\" x=\"1242.5\" y=\"-1078.8\" font-family=\"Helvetica,sans-Serif\" font-size=\"14.00\" fill=\"#000000\">value = [76, 38]</text>\n<text text-anchor=\"start\" x=\"1244\" y=\"-1063.8\" font-family=\"Helvetica,sans-Serif\" font-size=\"14.00\" fill=\"#000000\">class = Normal</text>\n</g>\n<!-- 22&#45;&gt;23 -->\n<g id=\"edge23\" class=\"edge\">\n<title>22&#45;&gt;23</title>\n<path fill=\"none\" stroke=\"#000000\" d=\"M1289.5,-1174.8796C1289.5,-1166.6838 1289.5,-1157.9891 1289.5,-1149.5013\"/>\n<polygon fill=\"#000000\" stroke=\"#000000\" points=\"1293.0001,-1149.298 1289.5,-1139.2981 1286.0001,-1149.2981 1293.0001,-1149.298\"/>\n</g>\n<!-- 44 -->\n<g id=\"node45\" class=\"node\">\n<title>44</title>\n<path fill=\"#e6843e\" stroke=\"#000000\" d=\"M2125,-1139C2125,-1139 1984,-1139 1984,-1139 1978,-1139 1972,-1133 1972,-1127 1972,-1127 1972,-1068 1972,-1068 1972,-1062 1978,-1056 1984,-1056 1984,-1056 2125,-1056 2125,-1056 2131,-1056 2137,-1062 2137,-1068 2137,-1068 2137,-1127 2137,-1127 2137,-1133 2131,-1139 2125,-1139\"/>\n<text text-anchor=\"start\" x=\"1980\" y=\"-1123.8\" font-family=\"Helvetica,sans-Serif\" font-size=\"14.00\" fill=\"#000000\">tendency_speed ≤ 1.003</text>\n<text text-anchor=\"start\" x=\"2019\" y=\"-1108.8\" font-family=\"Helvetica,sans-Serif\" font-size=\"14.00\" fill=\"#000000\">gini = 0.046</text>\n<text text-anchor=\"start\" x=\"2006\" y=\"-1093.8\" font-family=\"Helvetica,sans-Serif\" font-size=\"14.00\" fill=\"#000000\">samples = 2404</text>\n<text text-anchor=\"start\" x=\"2000\" y=\"-1078.8\" font-family=\"Helvetica,sans-Serif\" font-size=\"14.00\" fill=\"#000000\">value = [2348, 56]</text>\n<text text-anchor=\"start\" x=\"2009\" y=\"-1063.8\" font-family=\"Helvetica,sans-Serif\" font-size=\"14.00\" fill=\"#000000\">class = Normal</text>\n</g>\n<!-- 22&#45;&gt;44 -->\n<g id=\"edge44\" class=\"edge\">\n<title>22&#45;&gt;44</title>\n<path fill=\"none\" stroke=\"#000000\" d=\"M1367.0622,-1204.4348C1508.8144,-1182.3844 1809.1228,-1135.6698 1961.5537,-1111.9583\"/>\n<polygon fill=\"#000000\" stroke=\"#000000\" points=\"1962.4798,-1115.3564 1971.823,-1110.3609 1961.4038,-1108.4396 1962.4798,-1115.3564\"/>\n</g>\n<!-- 24 -->\n<g id=\"node25\" class=\"node\">\n<title>24</title>\n<path fill=\"#5caeea\" stroke=\"#000000\" d=\"M1270,-1020C1270,-1020 1125,-1020 1125,-1020 1119,-1020 1113,-1014 1113,-1008 1113,-1008 1113,-949 1113,-949 1113,-943 1119,-937 1125,-937 1125,-937 1270,-937 1270,-937 1276,-937 1282,-943 1282,-949 1282,-949 1282,-1008 1282,-1008 1282,-1014 1276,-1020 1270,-1020\"/>\n<text text-anchor=\"start\" x=\"1121\" y=\"-1004.8\" font-family=\"Helvetica,sans-Serif\" font-size=\"14.00\" fill=\"#000000\">max_val_speed ≤ 34.033</text>\n<text text-anchor=\"start\" x=\"1162\" y=\"-989.8\" font-family=\"Helvetica,sans-Serif\" font-size=\"14.00\" fill=\"#000000\">gini = 0.255</text>\n<text text-anchor=\"start\" x=\"1156.5\" y=\"-974.8\" font-family=\"Helvetica,sans-Serif\" font-size=\"14.00\" fill=\"#000000\">samples = 20</text>\n<text text-anchor=\"start\" x=\"1154.5\" y=\"-959.8\" font-family=\"Helvetica,sans-Serif\" font-size=\"14.00\" fill=\"#000000\">value = [3, 17]</text>\n<text text-anchor=\"start\" x=\"1139\" y=\"-944.8\" font-family=\"Helvetica,sans-Serif\" font-size=\"14.00\" fill=\"#000000\">class = Near&#45;Crash</text>\n</g>\n<!-- 23&#45;&gt;24 -->\n<g id=\"edge24\" class=\"edge\">\n<title>23&#45;&gt;24</title>\n<path fill=\"none\" stroke=\"#000000\" d=\"M1257.3229,-1055.8796C1250.4296,-1046.9633 1243.0798,-1037.4565 1235.9761,-1028.268\"/>\n<polygon fill=\"#000000\" stroke=\"#000000\" points=\"1238.6999,-1026.0687 1229.8145,-1020.2981 1233.1619,-1030.3502 1238.6999,-1026.0687\"/>\n</g>\n<!-- 29 -->\n<g id=\"node30\" class=\"node\">\n<title>29</title>\n<path fill=\"#eca572\" stroke=\"#000000\" d=\"M1453,-1020C1453,-1020 1312,-1020 1312,-1020 1306,-1020 1300,-1014 1300,-1008 1300,-1008 1300,-949 1300,-949 1300,-943 1306,-937 1312,-937 1312,-937 1453,-937 1453,-937 1459,-937 1465,-943 1465,-949 1465,-949 1465,-1008 1465,-1008 1465,-1014 1459,-1020 1453,-1020\"/>\n<text text-anchor=\"start\" x=\"1308\" y=\"-1004.8\" font-family=\"Helvetica,sans-Serif\" font-size=\"14.00\" fill=\"#000000\">tendency_speed ≤ 1.002</text>\n<text text-anchor=\"start\" x=\"1347\" y=\"-989.8\" font-family=\"Helvetica,sans-Serif\" font-size=\"14.00\" fill=\"#000000\">gini = 0.347</text>\n<text text-anchor=\"start\" x=\"1341.5\" y=\"-974.8\" font-family=\"Helvetica,sans-Serif\" font-size=\"14.00\" fill=\"#000000\">samples = 94</text>\n<text text-anchor=\"start\" x=\"1335.5\" y=\"-959.8\" font-family=\"Helvetica,sans-Serif\" font-size=\"14.00\" fill=\"#000000\">value = [73, 21]</text>\n<text text-anchor=\"start\" x=\"1337\" y=\"-944.8\" font-family=\"Helvetica,sans-Serif\" font-size=\"14.00\" fill=\"#000000\">class = Normal</text>\n</g>\n<!-- 23&#45;&gt;29 -->\n<g id=\"edge29\" class=\"edge\">\n<title>23&#45;&gt;29</title>\n<path fill=\"none\" stroke=\"#000000\" d=\"M1322.0269,-1055.8796C1328.9951,-1046.9633 1336.4247,-1037.4565 1343.6056,-1028.268\"/>\n<polygon fill=\"#000000\" stroke=\"#000000\" points=\"1346.4343,-1030.3326 1349.8343,-1020.2981 1340.9188,-1026.0221 1346.4343,-1030.3326\"/>\n</g>\n<!-- 25 -->\n<g id=\"node26\" class=\"node\">\n<title>25</title>\n<path fill=\"#45a3e7\" stroke=\"#000000\" d=\"M1114,-901C1114,-901 973,-901 973,-901 967,-901 961,-895 961,-889 961,-889 961,-830 961,-830 961,-824 967,-818 973,-818 973,-818 1114,-818 1114,-818 1120,-818 1126,-824 1126,-830 1126,-830 1126,-889 1126,-889 1126,-895 1120,-901 1114,-901\"/>\n<text text-anchor=\"start\" x=\"969\" y=\"-885.8\" font-family=\"Helvetica,sans-Serif\" font-size=\"14.00\" fill=\"#000000\">tendency_speed ≤ 0.932</text>\n<text text-anchor=\"start\" x=\"1008\" y=\"-870.8\" font-family=\"Helvetica,sans-Serif\" font-size=\"14.00\" fill=\"#000000\">gini = 0.105</text>\n<text text-anchor=\"start\" x=\"1002.5\" y=\"-855.8\" font-family=\"Helvetica,sans-Serif\" font-size=\"14.00\" fill=\"#000000\">samples = 18</text>\n<text text-anchor=\"start\" x=\"1000.5\" y=\"-840.8\" font-family=\"Helvetica,sans-Serif\" font-size=\"14.00\" fill=\"#000000\">value = [1, 17]</text>\n<text text-anchor=\"start\" x=\"985\" y=\"-825.8\" font-family=\"Helvetica,sans-Serif\" font-size=\"14.00\" fill=\"#000000\">class = Near&#45;Crash</text>\n</g>\n<!-- 24&#45;&gt;25 -->\n<g id=\"edge25\" class=\"edge\">\n<title>24&#45;&gt;25</title>\n<path fill=\"none\" stroke=\"#000000\" d=\"M1143.6383,-936.8796C1131.3291,-927.368 1118.1503,-917.1843 1105.5296,-907.432\"/>\n<polygon fill=\"#000000\" stroke=\"#000000\" points=\"1107.3843,-904.4419 1097.3313,-901.0969 1103.1041,-909.9809 1107.3843,-904.4419\"/>\n</g>\n<!-- 28 -->\n<g id=\"node29\" class=\"node\">\n<title>28</title>\n<path fill=\"#e58139\" stroke=\"#000000\" d=\"M1239,-893.5C1239,-893.5 1156,-893.5 1156,-893.5 1150,-893.5 1144,-887.5 1144,-881.5 1144,-881.5 1144,-837.5 1144,-837.5 1144,-831.5 1150,-825.5 1156,-825.5 1156,-825.5 1239,-825.5 1239,-825.5 1245,-825.5 1251,-831.5 1251,-837.5 1251,-837.5 1251,-881.5 1251,-881.5 1251,-887.5 1245,-893.5 1239,-893.5\"/>\n<text text-anchor=\"start\" x=\"1169.5\" y=\"-878.3\" font-family=\"Helvetica,sans-Serif\" font-size=\"14.00\" fill=\"#000000\">gini = 0.0</text>\n<text text-anchor=\"start\" x=\"1160\" y=\"-863.3\" font-family=\"Helvetica,sans-Serif\" font-size=\"14.00\" fill=\"#000000\">samples = 2</text>\n<text text-anchor=\"start\" x=\"1158\" y=\"-848.3\" font-family=\"Helvetica,sans-Serif\" font-size=\"14.00\" fill=\"#000000\">value = [2, 0]</text>\n<text text-anchor=\"start\" x=\"1152\" y=\"-833.3\" font-family=\"Helvetica,sans-Serif\" font-size=\"14.00\" fill=\"#000000\">class = Normal</text>\n</g>\n<!-- 24&#45;&gt;28 -->\n<g id=\"edge28\" class=\"edge\">\n<title>24&#45;&gt;28</title>\n<path fill=\"none\" stroke=\"#000000\" d=\"M1197.5,-936.8796C1197.5,-926.2134 1197.5,-914.7021 1197.5,-903.9015\"/>\n<polygon fill=\"#000000\" stroke=\"#000000\" points=\"1201.0001,-903.8149 1197.5,-893.8149 1194.0001,-903.815 1201.0001,-903.8149\"/>\n</g>\n<!-- 26 -->\n<g id=\"node27\" class=\"node\">\n<title>26</title>\n<path fill=\"#e58139\" stroke=\"#000000\" d=\"M947,-774.5C947,-774.5 864,-774.5 864,-774.5 858,-774.5 852,-768.5 852,-762.5 852,-762.5 852,-718.5 852,-718.5 852,-712.5 858,-706.5 864,-706.5 864,-706.5 947,-706.5 947,-706.5 953,-706.5 959,-712.5 959,-718.5 959,-718.5 959,-762.5 959,-762.5 959,-768.5 953,-774.5 947,-774.5\"/>\n<text text-anchor=\"start\" x=\"877.5\" y=\"-759.3\" font-family=\"Helvetica,sans-Serif\" font-size=\"14.00\" fill=\"#000000\">gini = 0.0</text>\n<text text-anchor=\"start\" x=\"868\" y=\"-744.3\" font-family=\"Helvetica,sans-Serif\" font-size=\"14.00\" fill=\"#000000\">samples = 1</text>\n<text text-anchor=\"start\" x=\"866\" y=\"-729.3\" font-family=\"Helvetica,sans-Serif\" font-size=\"14.00\" fill=\"#000000\">value = [1, 0]</text>\n<text text-anchor=\"start\" x=\"860\" y=\"-714.3\" font-family=\"Helvetica,sans-Serif\" font-size=\"14.00\" fill=\"#000000\">class = Normal</text>\n</g>\n<!-- 25&#45;&gt;26 -->\n<g id=\"edge26\" class=\"edge\">\n<title>25&#45;&gt;26</title>\n<path fill=\"none\" stroke=\"#000000\" d=\"M995.2343,-817.8796C981.5899,-806.1138 966.7531,-793.3197 953.1454,-781.5855\"/>\n<polygon fill=\"#000000\" stroke=\"#000000\" points=\"955.1527,-778.6948 945.2938,-774.8149 950.5813,-783.9961 955.1527,-778.6948\"/>\n</g>\n<!-- 27 -->\n<g id=\"node28\" class=\"node\">\n<title>27</title>\n<path fill=\"#399de5\" stroke=\"#000000\" d=\"M1098,-774.5C1098,-774.5 989,-774.5 989,-774.5 983,-774.5 977,-768.5 977,-762.5 977,-762.5 977,-718.5 977,-718.5 977,-712.5 983,-706.5 989,-706.5 989,-706.5 1098,-706.5 1098,-706.5 1104,-706.5 1110,-712.5 1110,-718.5 1110,-718.5 1110,-762.5 1110,-762.5 1110,-768.5 1104,-774.5 1098,-774.5\"/>\n<text text-anchor=\"start\" x=\"1015.5\" y=\"-759.3\" font-family=\"Helvetica,sans-Serif\" font-size=\"14.00\" fill=\"#000000\">gini = 0.0</text>\n<text text-anchor=\"start\" x=\"1002.5\" y=\"-744.3\" font-family=\"Helvetica,sans-Serif\" font-size=\"14.00\" fill=\"#000000\">samples = 17</text>\n<text text-anchor=\"start\" x=\"1000.5\" y=\"-729.3\" font-family=\"Helvetica,sans-Serif\" font-size=\"14.00\" fill=\"#000000\">value = [0, 17]</text>\n<text text-anchor=\"start\" x=\"985\" y=\"-714.3\" font-family=\"Helvetica,sans-Serif\" font-size=\"14.00\" fill=\"#000000\">class = Near&#45;Crash</text>\n</g>\n<!-- 25&#45;&gt;27 -->\n<g id=\"edge27\" class=\"edge\">\n<title>25&#45;&gt;27</title>\n<path fill=\"none\" stroke=\"#000000\" d=\"M1043.5,-817.8796C1043.5,-807.2134 1043.5,-795.7021 1043.5,-784.9015\"/>\n<polygon fill=\"#000000\" stroke=\"#000000\" points=\"1047.0001,-784.8149 1043.5,-774.8149 1040.0001,-784.815 1047.0001,-784.8149\"/>\n</g>\n<!-- 30 -->\n<g id=\"node31\" class=\"node\">\n<title>30</title>\n<path fill=\"#e99558\" stroke=\"#000000\" d=\"M1448,-901C1448,-901 1317,-901 1317,-901 1311,-901 1305,-895 1305,-889 1305,-889 1305,-830 1305,-830 1305,-824 1311,-818 1317,-818 1317,-818 1448,-818 1448,-818 1454,-818 1460,-824 1460,-830 1460,-830 1460,-889 1460,-889 1460,-895 1454,-901 1448,-901\"/>\n<text text-anchor=\"start\" x=\"1313\" y=\"-885.8\" font-family=\"Helvetica,sans-Serif\" font-size=\"14.00\" fill=\"#000000\">max_val_accY ≤ 2.108</text>\n<text text-anchor=\"start\" x=\"1347\" y=\"-870.8\" font-family=\"Helvetica,sans-Serif\" font-size=\"14.00\" fill=\"#000000\">gini = 0.232</text>\n<text text-anchor=\"start\" x=\"1341.5\" y=\"-855.8\" font-family=\"Helvetica,sans-Serif\" font-size=\"14.00\" fill=\"#000000\">samples = 82</text>\n<text text-anchor=\"start\" x=\"1335.5\" y=\"-840.8\" font-family=\"Helvetica,sans-Serif\" font-size=\"14.00\" fill=\"#000000\">value = [71, 11]</text>\n<text text-anchor=\"start\" x=\"1337\" y=\"-825.8\" font-family=\"Helvetica,sans-Serif\" font-size=\"14.00\" fill=\"#000000\">class = Normal</text>\n</g>\n<!-- 29&#45;&gt;30 -->\n<g id=\"edge30\" class=\"edge\">\n<title>29&#45;&gt;30</title>\n<path fill=\"none\" stroke=\"#000000\" d=\"M1382.5,-936.8796C1382.5,-928.6838 1382.5,-919.9891 1382.5,-911.5013\"/>\n<polygon fill=\"#000000\" stroke=\"#000000\" points=\"1386.0001,-911.298 1382.5,-901.2981 1379.0001,-911.2981 1386.0001,-911.298\"/>\n</g>\n<!-- 39 -->\n<g id=\"node40\" class=\"node\">\n<title>39</title>\n<path fill=\"#61b1ea\" stroke=\"#000000\" d=\"M1636,-901C1636,-901 1527,-901 1527,-901 1521,-901 1515,-895 1515,-889 1515,-889 1515,-830 1515,-830 1515,-824 1521,-818 1527,-818 1527,-818 1636,-818 1636,-818 1642,-818 1648,-824 1648,-830 1648,-830 1648,-889 1648,-889 1648,-895 1642,-901 1636,-901\"/>\n<text text-anchor=\"start\" x=\"1525.5\" y=\"-885.8\" font-family=\"Helvetica,sans-Serif\" font-size=\"14.00\" fill=\"#000000\">std_speed ≤ 0.779</text>\n<text text-anchor=\"start\" x=\"1546\" y=\"-870.8\" font-family=\"Helvetica,sans-Serif\" font-size=\"14.00\" fill=\"#000000\">gini = 0.278</text>\n<text text-anchor=\"start\" x=\"1540.5\" y=\"-855.8\" font-family=\"Helvetica,sans-Serif\" font-size=\"14.00\" fill=\"#000000\">samples = 12</text>\n<text text-anchor=\"start\" x=\"1538.5\" y=\"-840.8\" font-family=\"Helvetica,sans-Serif\" font-size=\"14.00\" fill=\"#000000\">value = [2, 10]</text>\n<text text-anchor=\"start\" x=\"1523\" y=\"-825.8\" font-family=\"Helvetica,sans-Serif\" font-size=\"14.00\" fill=\"#000000\">class = Near&#45;Crash</text>\n</g>\n<!-- 29&#45;&gt;39 -->\n<g id=\"edge39\" class=\"edge\">\n<title>29&#45;&gt;39</title>\n<path fill=\"none\" stroke=\"#000000\" d=\"M1452.1005,-936.8796C1469.6308,-926.3966 1488.5262,-915.0974 1506.3166,-904.4589\"/>\n<polygon fill=\"#000000\" stroke=\"#000000\" points=\"1508.1643,-907.4321 1514.9506,-899.2959 1504.5717,-901.4243 1508.1643,-907.4321\"/>\n</g>\n<!-- 31 -->\n<g id=\"node32\" class=\"node\">\n<title>31</title>\n<path fill=\"#e68742\" stroke=\"#000000\" d=\"M1271,-782C1271,-782 1140,-782 1140,-782 1134,-782 1128,-776 1128,-770 1128,-770 1128,-711 1128,-711 1128,-705 1134,-699 1140,-699 1140,-699 1271,-699 1271,-699 1277,-699 1283,-705 1283,-711 1283,-711 1283,-770 1283,-770 1283,-776 1277,-782 1271,-782\"/>\n<text text-anchor=\"start\" x=\"1136\" y=\"-766.8\" font-family=\"Helvetica,sans-Serif\" font-size=\"14.00\" fill=\"#000000\">max_val_accY ≤ 0.296</text>\n<text text-anchor=\"start\" x=\"1170\" y=\"-751.8\" font-family=\"Helvetica,sans-Serif\" font-size=\"14.00\" fill=\"#000000\">gini = 0.084</text>\n<text text-anchor=\"start\" x=\"1164.5\" y=\"-736.8\" font-family=\"Helvetica,sans-Serif\" font-size=\"14.00\" fill=\"#000000\">samples = 68</text>\n<text text-anchor=\"start\" x=\"1162.5\" y=\"-721.8\" font-family=\"Helvetica,sans-Serif\" font-size=\"14.00\" fill=\"#000000\">value = [65, 3]</text>\n<text text-anchor=\"start\" x=\"1160\" y=\"-706.8\" font-family=\"Helvetica,sans-Serif\" font-size=\"14.00\" fill=\"#000000\">class = Normal</text>\n</g>\n<!-- 30&#45;&gt;31 -->\n<g id=\"edge31\" class=\"edge\">\n<title>30&#45;&gt;31</title>\n<path fill=\"none\" stroke=\"#000000\" d=\"M1320.594,-817.8796C1306.177,-808.1868 1290.722,-797.7961 1275.9656,-787.8752\"/>\n<polygon fill=\"#000000\" stroke=\"#000000\" points=\"1277.6227,-784.7718 1267.3711,-782.0969 1273.7171,-790.581 1277.6227,-784.7718\"/>\n</g>\n<!-- 36 -->\n<g id=\"node37\" class=\"node\">\n<title>36</title>\n<path fill=\"#cee6f8\" stroke=\"#000000\" d=\"M1454,-782C1454,-782 1313,-782 1313,-782 1307,-782 1301,-776 1301,-770 1301,-770 1301,-711 1301,-711 1301,-705 1307,-699 1313,-699 1313,-699 1454,-699 1454,-699 1460,-699 1466,-705 1466,-711 1466,-711 1466,-770 1466,-770 1466,-776 1460,-782 1454,-782\"/>\n<text text-anchor=\"start\" x=\"1309\" y=\"-766.8\" font-family=\"Helvetica,sans-Serif\" font-size=\"14.00\" fill=\"#000000\">min_val_speed ≤ 30.019</text>\n<text text-anchor=\"start\" x=\"1351.5\" y=\"-751.8\" font-family=\"Helvetica,sans-Serif\" font-size=\"14.00\" fill=\"#000000\">gini = 0.49</text>\n<text text-anchor=\"start\" x=\"1342.5\" y=\"-736.8\" font-family=\"Helvetica,sans-Serif\" font-size=\"14.00\" fill=\"#000000\">samples = 14</text>\n<text text-anchor=\"start\" x=\"1344\" y=\"-721.8\" font-family=\"Helvetica,sans-Serif\" font-size=\"14.00\" fill=\"#000000\">value = [6, 8]</text>\n<text text-anchor=\"start\" x=\"1325\" y=\"-706.8\" font-family=\"Helvetica,sans-Serif\" font-size=\"14.00\" fill=\"#000000\">class = Near&#45;Crash</text>\n</g>\n<!-- 30&#45;&gt;36 -->\n<g id=\"edge36\" class=\"edge\">\n<title>30&#45;&gt;36</title>\n<path fill=\"none\" stroke=\"#000000\" d=\"M1382.8498,-817.8796C1382.9186,-809.6838 1382.9917,-800.9891 1383.063,-792.5013\"/>\n<polygon fill=\"#000000\" stroke=\"#000000\" points=\"1386.5645,-792.3272 1383.1488,-782.2981 1379.5648,-792.2683 1386.5645,-792.3272\"/>\n</g>\n<!-- 32 -->\n<g id=\"node33\" class=\"node\">\n<title>32</title>\n<path fill=\"#e99558\" stroke=\"#000000\" d=\"M1084,-663C1084,-663 955,-663 955,-663 949,-663 943,-657 943,-651 943,-651 943,-592 943,-592 943,-586 949,-580 955,-580 955,-580 1084,-580 1084,-580 1090,-580 1096,-586 1096,-592 1096,-592 1096,-651 1096,-651 1096,-657 1090,-663 1084,-663\"/>\n<text text-anchor=\"start\" x=\"951\" y=\"-647.8\" font-family=\"Helvetica,sans-Serif\" font-size=\"14.00\" fill=\"#000000\">median_accY ≤ &#45;0.512</text>\n<text text-anchor=\"start\" x=\"984\" y=\"-632.8\" font-family=\"Helvetica,sans-Serif\" font-size=\"14.00\" fill=\"#000000\">gini = 0.236</text>\n<text text-anchor=\"start\" x=\"978.5\" y=\"-617.8\" font-family=\"Helvetica,sans-Serif\" font-size=\"14.00\" fill=\"#000000\">samples = 22</text>\n<text text-anchor=\"start\" x=\"976.5\" y=\"-602.8\" font-family=\"Helvetica,sans-Serif\" font-size=\"14.00\" fill=\"#000000\">value = [19, 3]</text>\n<text text-anchor=\"start\" x=\"974\" y=\"-587.8\" font-family=\"Helvetica,sans-Serif\" font-size=\"14.00\" fill=\"#000000\">class = Normal</text>\n</g>\n<!-- 31&#45;&gt;32 -->\n<g id=\"edge32\" class=\"edge\">\n<title>31&#45;&gt;32</title>\n<path fill=\"none\" stroke=\"#000000\" d=\"M1140.4462,-698.8796C1125.1546,-689.0962 1108.7516,-678.6019 1093.114,-668.5971\"/>\n<polygon fill=\"#000000\" stroke=\"#000000\" points=\"1094.8268,-665.538 1084.517,-663.0969 1091.0543,-671.4345 1094.8268,-665.538\"/>\n</g>\n<!-- 35 -->\n<g id=\"node36\" class=\"node\">\n<title>35</title>\n<path fill=\"#e58139\" stroke=\"#000000\" d=\"M1209,-655.5C1209,-655.5 1126,-655.5 1126,-655.5 1120,-655.5 1114,-649.5 1114,-643.5 1114,-643.5 1114,-599.5 1114,-599.5 1114,-593.5 1120,-587.5 1126,-587.5 1126,-587.5 1209,-587.5 1209,-587.5 1215,-587.5 1221,-593.5 1221,-599.5 1221,-599.5 1221,-643.5 1221,-643.5 1221,-649.5 1215,-655.5 1209,-655.5\"/>\n<text text-anchor=\"start\" x=\"1139.5\" y=\"-640.3\" font-family=\"Helvetica,sans-Serif\" font-size=\"14.00\" fill=\"#000000\">gini = 0.0</text>\n<text text-anchor=\"start\" x=\"1126.5\" y=\"-625.3\" font-family=\"Helvetica,sans-Serif\" font-size=\"14.00\" fill=\"#000000\">samples = 46</text>\n<text text-anchor=\"start\" x=\"1124.5\" y=\"-610.3\" font-family=\"Helvetica,sans-Serif\" font-size=\"14.00\" fill=\"#000000\">value = [46, 0]</text>\n<text text-anchor=\"start\" x=\"1122\" y=\"-595.3\" font-family=\"Helvetica,sans-Serif\" font-size=\"14.00\" fill=\"#000000\">class = Normal</text>\n</g>\n<!-- 31&#45;&gt;35 -->\n<g id=\"edge35\" class=\"edge\">\n<title>31&#45;&gt;35</title>\n<path fill=\"none\" stroke=\"#000000\" d=\"M1192.2094,-698.8796C1188.7683,-688.1034 1185.0517,-676.4647 1181.5721,-665.5677\"/>\n<polygon fill=\"#000000\" stroke=\"#000000\" points=\"1184.8339,-664.2763 1178.4577,-655.8149 1178.1656,-666.4057 1184.8339,-664.2763\"/>\n</g>\n<!-- 33 -->\n<g id=\"node34\" class=\"node\">\n<title>33</title>\n<path fill=\"#e58139\" stroke=\"#000000\" d=\"M992,-536.5C992,-536.5 909,-536.5 909,-536.5 903,-536.5 897,-530.5 897,-524.5 897,-524.5 897,-480.5 897,-480.5 897,-474.5 903,-468.5 909,-468.5 909,-468.5 992,-468.5 992,-468.5 998,-468.5 1004,-474.5 1004,-480.5 1004,-480.5 1004,-524.5 1004,-524.5 1004,-530.5 998,-536.5 992,-536.5\"/>\n<text text-anchor=\"start\" x=\"922.5\" y=\"-521.3\" font-family=\"Helvetica,sans-Serif\" font-size=\"14.00\" fill=\"#000000\">gini = 0.0</text>\n<text text-anchor=\"start\" x=\"909.5\" y=\"-506.3\" font-family=\"Helvetica,sans-Serif\" font-size=\"14.00\" fill=\"#000000\">samples = 19</text>\n<text text-anchor=\"start\" x=\"907.5\" y=\"-491.3\" font-family=\"Helvetica,sans-Serif\" font-size=\"14.00\" fill=\"#000000\">value = [19, 0]</text>\n<text text-anchor=\"start\" x=\"905\" y=\"-476.3\" font-family=\"Helvetica,sans-Serif\" font-size=\"14.00\" fill=\"#000000\">class = Normal</text>\n</g>\n<!-- 32&#45;&gt;33 -->\n<g id=\"edge33\" class=\"edge\">\n<title>32&#45;&gt;33</title>\n<path fill=\"none\" stroke=\"#000000\" d=\"M995.3671,-579.8796C988.9275,-568.7735 981.9566,-556.7513 975.4729,-545.5691\"/>\n<polygon fill=\"#000000\" stroke=\"#000000\" points=\"978.4409,-543.7102 970.3969,-536.8149 972.3852,-547.2215 978.4409,-543.7102\"/>\n</g>\n<!-- 34 -->\n<g id=\"node35\" class=\"node\">\n<title>34</title>\n<path fill=\"#399de5\" stroke=\"#000000\" d=\"M1143,-536.5C1143,-536.5 1034,-536.5 1034,-536.5 1028,-536.5 1022,-530.5 1022,-524.5 1022,-524.5 1022,-480.5 1022,-480.5 1022,-474.5 1028,-468.5 1034,-468.5 1034,-468.5 1143,-468.5 1143,-468.5 1149,-468.5 1155,-474.5 1155,-480.5 1155,-480.5 1155,-524.5 1155,-524.5 1155,-530.5 1149,-536.5 1143,-536.5\"/>\n<text text-anchor=\"start\" x=\"1060.5\" y=\"-521.3\" font-family=\"Helvetica,sans-Serif\" font-size=\"14.00\" fill=\"#000000\">gini = 0.0</text>\n<text text-anchor=\"start\" x=\"1051\" y=\"-506.3\" font-family=\"Helvetica,sans-Serif\" font-size=\"14.00\" fill=\"#000000\">samples = 3</text>\n<text text-anchor=\"start\" x=\"1049\" y=\"-491.3\" font-family=\"Helvetica,sans-Serif\" font-size=\"14.00\" fill=\"#000000\">value = [0, 3]</text>\n<text text-anchor=\"start\" x=\"1030\" y=\"-476.3\" font-family=\"Helvetica,sans-Serif\" font-size=\"14.00\" fill=\"#000000\">class = Near&#45;Crash</text>\n</g>\n<!-- 32&#45;&gt;34 -->\n<g id=\"edge34\" class=\"edge\">\n<title>32&#45;&gt;34</title>\n<path fill=\"none\" stroke=\"#000000\" d=\"M1043.6329,-579.8796C1050.0725,-568.7735 1057.0434,-556.7513 1063.5271,-545.5691\"/>\n<polygon fill=\"#000000\" stroke=\"#000000\" points=\"1066.6148,-547.2215 1068.6031,-536.8149 1060.5591,-543.7102 1066.6148,-547.2215\"/>\n</g>\n<!-- 37 -->\n<g id=\"node38\" class=\"node\">\n<title>37</title>\n<path fill=\"#399de5\" stroke=\"#000000\" d=\"M1360,-655.5C1360,-655.5 1251,-655.5 1251,-655.5 1245,-655.5 1239,-649.5 1239,-643.5 1239,-643.5 1239,-599.5 1239,-599.5 1239,-593.5 1245,-587.5 1251,-587.5 1251,-587.5 1360,-587.5 1360,-587.5 1366,-587.5 1372,-593.5 1372,-599.5 1372,-599.5 1372,-643.5 1372,-643.5 1372,-649.5 1366,-655.5 1360,-655.5\"/>\n<text text-anchor=\"start\" x=\"1277.5\" y=\"-640.3\" font-family=\"Helvetica,sans-Serif\" font-size=\"14.00\" fill=\"#000000\">gini = 0.0</text>\n<text text-anchor=\"start\" x=\"1268\" y=\"-625.3\" font-family=\"Helvetica,sans-Serif\" font-size=\"14.00\" fill=\"#000000\">samples = 8</text>\n<text text-anchor=\"start\" x=\"1266\" y=\"-610.3\" font-family=\"Helvetica,sans-Serif\" font-size=\"14.00\" fill=\"#000000\">value = [0, 8]</text>\n<text text-anchor=\"start\" x=\"1247\" y=\"-595.3\" font-family=\"Helvetica,sans-Serif\" font-size=\"14.00\" fill=\"#000000\">class = Near&#45;Crash</text>\n</g>\n<!-- 36&#45;&gt;37 -->\n<g id=\"edge37\" class=\"edge\">\n<title>36&#45;&gt;37</title>\n<path fill=\"none\" stroke=\"#000000\" d=\"M1356.2194,-698.8796C1348.8677,-687.6636 1340.9036,-675.5131 1333.5126,-664.2372\"/>\n<polygon fill=\"#000000\" stroke=\"#000000\" points=\"1336.4014,-662.2598 1327.9921,-655.8149 1330.5469,-666.0972 1336.4014,-662.2598\"/>\n</g>\n<!-- 38 -->\n<g id=\"node39\" class=\"node\">\n<title>38</title>\n<path fill=\"#e58139\" stroke=\"#000000\" d=\"M1485,-655.5C1485,-655.5 1402,-655.5 1402,-655.5 1396,-655.5 1390,-649.5 1390,-643.5 1390,-643.5 1390,-599.5 1390,-599.5 1390,-593.5 1396,-587.5 1402,-587.5 1402,-587.5 1485,-587.5 1485,-587.5 1491,-587.5 1497,-593.5 1497,-599.5 1497,-599.5 1497,-643.5 1497,-643.5 1497,-649.5 1491,-655.5 1485,-655.5\"/>\n<text text-anchor=\"start\" x=\"1415.5\" y=\"-640.3\" font-family=\"Helvetica,sans-Serif\" font-size=\"14.00\" fill=\"#000000\">gini = 0.0</text>\n<text text-anchor=\"start\" x=\"1406\" y=\"-625.3\" font-family=\"Helvetica,sans-Serif\" font-size=\"14.00\" fill=\"#000000\">samples = 6</text>\n<text text-anchor=\"start\" x=\"1404\" y=\"-610.3\" font-family=\"Helvetica,sans-Serif\" font-size=\"14.00\" fill=\"#000000\">value = [6, 0]</text>\n<text text-anchor=\"start\" x=\"1398\" y=\"-595.3\" font-family=\"Helvetica,sans-Serif\" font-size=\"14.00\" fill=\"#000000\">class = Normal</text>\n</g>\n<!-- 36&#45;&gt;38 -->\n<g id=\"edge38\" class=\"edge\">\n<title>36&#45;&gt;38</title>\n<path fill=\"none\" stroke=\"#000000\" d=\"M1404.4851,-698.8796C1410.0293,-687.8835 1416.0264,-675.9893 1421.6169,-664.9015\"/>\n<polygon fill=\"#000000\" stroke=\"#000000\" points=\"1424.8214,-666.3199 1426.1984,-655.8149 1418.5709,-663.1684 1424.8214,-666.3199\"/>\n</g>\n<!-- 40 -->\n<g id=\"node41\" class=\"node\">\n<title>40</title>\n<path fill=\"#f2c09c\" stroke=\"#000000\" d=\"M1630,-782C1630,-782 1533,-782 1533,-782 1527,-782 1521,-776 1521,-770 1521,-770 1521,-711 1521,-711 1521,-705 1527,-699 1533,-699 1533,-699 1630,-699 1630,-699 1636,-699 1642,-705 1642,-711 1642,-711 1642,-770 1642,-770 1642,-776 1636,-782 1630,-782\"/>\n<text text-anchor=\"start\" x=\"1529\" y=\"-766.8\" font-family=\"Helvetica,sans-Serif\" font-size=\"14.00\" fill=\"#000000\">std_speed ≤ 0.63</text>\n<text text-anchor=\"start\" x=\"1546\" y=\"-751.8\" font-family=\"Helvetica,sans-Serif\" font-size=\"14.00\" fill=\"#000000\">gini = 0.444</text>\n<text text-anchor=\"start\" x=\"1544\" y=\"-736.8\" font-family=\"Helvetica,sans-Serif\" font-size=\"14.00\" fill=\"#000000\">samples = 3</text>\n<text text-anchor=\"start\" x=\"1542\" y=\"-721.8\" font-family=\"Helvetica,sans-Serif\" font-size=\"14.00\" fill=\"#000000\">value = [2, 1]</text>\n<text text-anchor=\"start\" x=\"1536\" y=\"-706.8\" font-family=\"Helvetica,sans-Serif\" font-size=\"14.00\" fill=\"#000000\">class = Normal</text>\n</g>\n<!-- 39&#45;&gt;40 -->\n<g id=\"edge40\" class=\"edge\">\n<title>39&#45;&gt;40</title>\n<path fill=\"none\" stroke=\"#000000\" d=\"M1581.5,-817.8796C1581.5,-809.6838 1581.5,-800.9891 1581.5,-792.5013\"/>\n<polygon fill=\"#000000\" stroke=\"#000000\" points=\"1585.0001,-792.298 1581.5,-782.2981 1578.0001,-792.2981 1585.0001,-792.298\"/>\n</g>\n<!-- 43 -->\n<g id=\"node44\" class=\"node\">\n<title>43</title>\n<path fill=\"#399de5\" stroke=\"#000000\" d=\"M1781,-774.5C1781,-774.5 1672,-774.5 1672,-774.5 1666,-774.5 1660,-768.5 1660,-762.5 1660,-762.5 1660,-718.5 1660,-718.5 1660,-712.5 1666,-706.5 1672,-706.5 1672,-706.5 1781,-706.5 1781,-706.5 1787,-706.5 1793,-712.5 1793,-718.5 1793,-718.5 1793,-762.5 1793,-762.5 1793,-768.5 1787,-774.5 1781,-774.5\"/>\n<text text-anchor=\"start\" x=\"1698.5\" y=\"-759.3\" font-family=\"Helvetica,sans-Serif\" font-size=\"14.00\" fill=\"#000000\">gini = 0.0</text>\n<text text-anchor=\"start\" x=\"1689\" y=\"-744.3\" font-family=\"Helvetica,sans-Serif\" font-size=\"14.00\" fill=\"#000000\">samples = 9</text>\n<text text-anchor=\"start\" x=\"1687\" y=\"-729.3\" font-family=\"Helvetica,sans-Serif\" font-size=\"14.00\" fill=\"#000000\">value = [0, 9]</text>\n<text text-anchor=\"start\" x=\"1668\" y=\"-714.3\" font-family=\"Helvetica,sans-Serif\" font-size=\"14.00\" fill=\"#000000\">class = Near&#45;Crash</text>\n</g>\n<!-- 39&#45;&gt;43 -->\n<g id=\"edge43\" class=\"edge\">\n<title>39&#45;&gt;43</title>\n<path fill=\"none\" stroke=\"#000000\" d=\"M1632.214,-817.8796C1646.6844,-806.0038 1662.4314,-793.0804 1676.8383,-781.2568\"/>\n<polygon fill=\"#000000\" stroke=\"#000000\" points=\"1679.178,-783.8645 1684.6877,-774.8149 1674.7372,-778.4534 1679.178,-783.8645\"/>\n</g>\n<!-- 41 -->\n<g id=\"node42\" class=\"node\">\n<title>41</title>\n<path fill=\"#399de5\" stroke=\"#000000\" d=\"M1636,-655.5C1636,-655.5 1527,-655.5 1527,-655.5 1521,-655.5 1515,-649.5 1515,-643.5 1515,-643.5 1515,-599.5 1515,-599.5 1515,-593.5 1521,-587.5 1527,-587.5 1527,-587.5 1636,-587.5 1636,-587.5 1642,-587.5 1648,-593.5 1648,-599.5 1648,-599.5 1648,-643.5 1648,-643.5 1648,-649.5 1642,-655.5 1636,-655.5\"/>\n<text text-anchor=\"start\" x=\"1553.5\" y=\"-640.3\" font-family=\"Helvetica,sans-Serif\" font-size=\"14.00\" fill=\"#000000\">gini = 0.0</text>\n<text text-anchor=\"start\" x=\"1544\" y=\"-625.3\" font-family=\"Helvetica,sans-Serif\" font-size=\"14.00\" fill=\"#000000\">samples = 1</text>\n<text text-anchor=\"start\" x=\"1542\" y=\"-610.3\" font-family=\"Helvetica,sans-Serif\" font-size=\"14.00\" fill=\"#000000\">value = [0, 1]</text>\n<text text-anchor=\"start\" x=\"1523\" y=\"-595.3\" font-family=\"Helvetica,sans-Serif\" font-size=\"14.00\" fill=\"#000000\">class = Near&#45;Crash</text>\n</g>\n<!-- 40&#45;&gt;41 -->\n<g id=\"edge41\" class=\"edge\">\n<title>40&#45;&gt;41</title>\n<path fill=\"none\" stroke=\"#000000\" d=\"M1581.5,-698.8796C1581.5,-688.2134 1581.5,-676.7021 1581.5,-665.9015\"/>\n<polygon fill=\"#000000\" stroke=\"#000000\" points=\"1585.0001,-665.8149 1581.5,-655.8149 1578.0001,-665.815 1585.0001,-665.8149\"/>\n</g>\n<!-- 42 -->\n<g id=\"node43\" class=\"node\">\n<title>42</title>\n<path fill=\"#e58139\" stroke=\"#000000\" d=\"M1761,-655.5C1761,-655.5 1678,-655.5 1678,-655.5 1672,-655.5 1666,-649.5 1666,-643.5 1666,-643.5 1666,-599.5 1666,-599.5 1666,-593.5 1672,-587.5 1678,-587.5 1678,-587.5 1761,-587.5 1761,-587.5 1767,-587.5 1773,-593.5 1773,-599.5 1773,-599.5 1773,-643.5 1773,-643.5 1773,-649.5 1767,-655.5 1761,-655.5\"/>\n<text text-anchor=\"start\" x=\"1691.5\" y=\"-640.3\" font-family=\"Helvetica,sans-Serif\" font-size=\"14.00\" fill=\"#000000\">gini = 0.0</text>\n<text text-anchor=\"start\" x=\"1682\" y=\"-625.3\" font-family=\"Helvetica,sans-Serif\" font-size=\"14.00\" fill=\"#000000\">samples = 2</text>\n<text text-anchor=\"start\" x=\"1680\" y=\"-610.3\" font-family=\"Helvetica,sans-Serif\" font-size=\"14.00\" fill=\"#000000\">value = [2, 0]</text>\n<text text-anchor=\"start\" x=\"1674\" y=\"-595.3\" font-family=\"Helvetica,sans-Serif\" font-size=\"14.00\" fill=\"#000000\">class = Normal</text>\n</g>\n<!-- 40&#45;&gt;42 -->\n<g id=\"edge42\" class=\"edge\">\n<title>40&#45;&gt;42</title>\n<path fill=\"none\" stroke=\"#000000\" d=\"M1629.7657,-698.8796C1643.4101,-687.1138 1658.2469,-674.3197 1671.8546,-662.5855\"/>\n<polygon fill=\"#000000\" stroke=\"#000000\" points=\"1674.4187,-664.9961 1679.7062,-655.8149 1669.8473,-659.6948 1674.4187,-664.9961\"/>\n</g>\n<!-- 45 -->\n<g id=\"node46\" class=\"node\">\n<title>45</title>\n<path fill=\"#e68641\" stroke=\"#000000\" d=\"M2125,-1020C2125,-1020 1984,-1020 1984,-1020 1978,-1020 1972,-1014 1972,-1008 1972,-1008 1972,-949 1972,-949 1972,-943 1978,-937 1984,-937 1984,-937 2125,-937 2125,-937 2131,-937 2137,-943 2137,-949 2137,-949 2137,-1008 2137,-1008 2137,-1014 2131,-1020 2125,-1020\"/>\n<text text-anchor=\"start\" x=\"1980\" y=\"-1004.8\" font-family=\"Helvetica,sans-Serif\" font-size=\"14.00\" fill=\"#000000\">tendency_speed ≤ 1.003</text>\n<text text-anchor=\"start\" x=\"2022.5\" y=\"-989.8\" font-family=\"Helvetica,sans-Serif\" font-size=\"14.00\" fill=\"#000000\">gini = 0.07</text>\n<text text-anchor=\"start\" x=\"2006\" y=\"-974.8\" font-family=\"Helvetica,sans-Serif\" font-size=\"14.00\" fill=\"#000000\">samples = 1534</text>\n<text text-anchor=\"start\" x=\"2000\" y=\"-959.8\" font-family=\"Helvetica,sans-Serif\" font-size=\"14.00\" fill=\"#000000\">value = [1478, 56]</text>\n<text text-anchor=\"start\" x=\"2009\" y=\"-944.8\" font-family=\"Helvetica,sans-Serif\" font-size=\"14.00\" fill=\"#000000\">class = Normal</text>\n</g>\n<!-- 44&#45;&gt;45 -->\n<g id=\"edge45\" class=\"edge\">\n<title>44&#45;&gt;45</title>\n<path fill=\"none\" stroke=\"#000000\" d=\"M2054.5,-1055.8796C2054.5,-1047.6838 2054.5,-1038.9891 2054.5,-1030.5013\"/>\n<polygon fill=\"#000000\" stroke=\"#000000\" points=\"2058.0001,-1030.298 2054.5,-1020.2981 2051.0001,-1030.2981 2058.0001,-1030.298\"/>\n</g>\n<!-- 88 -->\n<g id=\"node89\" class=\"node\">\n<title>88</title>\n<path fill=\"#e58139\" stroke=\"#000000\" d=\"M2253.5,-1012.5C2253.5,-1012.5 2167.5,-1012.5 2167.5,-1012.5 2161.5,-1012.5 2155.5,-1006.5 2155.5,-1000.5 2155.5,-1000.5 2155.5,-956.5 2155.5,-956.5 2155.5,-950.5 2161.5,-944.5 2167.5,-944.5 2167.5,-944.5 2253.5,-944.5 2253.5,-944.5 2259.5,-944.5 2265.5,-950.5 2265.5,-956.5 2265.5,-956.5 2265.5,-1000.5 2265.5,-1000.5 2265.5,-1006.5 2259.5,-1012.5 2253.5,-1012.5\"/>\n<text text-anchor=\"start\" x=\"2182.5\" y=\"-997.3\" font-family=\"Helvetica,sans-Serif\" font-size=\"14.00\" fill=\"#000000\">gini = 0.0</text>\n<text text-anchor=\"start\" x=\"2165.5\" y=\"-982.3\" font-family=\"Helvetica,sans-Serif\" font-size=\"14.00\" fill=\"#000000\">samples = 870</text>\n<text text-anchor=\"start\" x=\"2163.5\" y=\"-967.3\" font-family=\"Helvetica,sans-Serif\" font-size=\"14.00\" fill=\"#000000\">value = [870, 0]</text>\n<text text-anchor=\"start\" x=\"2165\" y=\"-952.3\" font-family=\"Helvetica,sans-Serif\" font-size=\"14.00\" fill=\"#000000\">class = Normal</text>\n</g>\n<!-- 44&#45;&gt;88 -->\n<g id=\"edge88\" class=\"edge\">\n<title>44&#45;&gt;88</title>\n<path fill=\"none\" stroke=\"#000000\" d=\"M2109.0612,-1055.8796C2124.8484,-1043.8368 2142.0479,-1030.7167 2157.7241,-1018.7586\"/>\n<polygon fill=\"#000000\" stroke=\"#000000\" points=\"2159.9392,-1021.4709 2165.7673,-1012.623 2155.6937,-1015.9053 2159.9392,-1021.4709\"/>\n</g>\n<!-- 46 -->\n<g id=\"node47\" class=\"node\">\n<title>46</title>\n<path fill=\"#e6853f\" stroke=\"#000000\" d=\"M2120,-901C2120,-901 1989,-901 1989,-901 1983,-901 1977,-895 1977,-889 1977,-889 1977,-830 1977,-830 1977,-824 1983,-818 1989,-818 1989,-818 2120,-818 2120,-818 2126,-818 2132,-824 2132,-830 2132,-830 2132,-889 2132,-889 2132,-895 2126,-901 2120,-901\"/>\n<text text-anchor=\"start\" x=\"1985\" y=\"-885.8\" font-family=\"Helvetica,sans-Serif\" font-size=\"14.00\" fill=\"#000000\">min_val_accY ≤ &#45;1.158</text>\n<text text-anchor=\"start\" x=\"2022.5\" y=\"-870.8\" font-family=\"Helvetica,sans-Serif\" font-size=\"14.00\" fill=\"#000000\">gini = 0.06</text>\n<text text-anchor=\"start\" x=\"2006\" y=\"-855.8\" font-family=\"Helvetica,sans-Serif\" font-size=\"14.00\" fill=\"#000000\">samples = 1524</text>\n<text text-anchor=\"start\" x=\"2000\" y=\"-840.8\" font-family=\"Helvetica,sans-Serif\" font-size=\"14.00\" fill=\"#000000\">value = [1477, 47]</text>\n<text text-anchor=\"start\" x=\"2009\" y=\"-825.8\" font-family=\"Helvetica,sans-Serif\" font-size=\"14.00\" fill=\"#000000\">class = Normal</text>\n</g>\n<!-- 45&#45;&gt;46 -->\n<g id=\"edge46\" class=\"edge\">\n<title>45&#45;&gt;46</title>\n<path fill=\"none\" stroke=\"#000000\" d=\"M2054.5,-936.8796C2054.5,-928.6838 2054.5,-919.9891 2054.5,-911.5013\"/>\n<polygon fill=\"#000000\" stroke=\"#000000\" points=\"2058.0001,-911.298 2054.5,-901.2981 2051.0001,-911.2981 2058.0001,-911.298\"/>\n</g>\n<!-- 85 -->\n<g id=\"node86\" class=\"node\">\n<title>85</title>\n<path fill=\"#4fa8e8\" stroke=\"#000000\" d=\"M2359,-901C2359,-901 2238,-901 2238,-901 2232,-901 2226,-895 2226,-889 2226,-889 2226,-830 2226,-830 2226,-824 2232,-818 2238,-818 2238,-818 2359,-818 2359,-818 2365,-818 2371,-824 2371,-830 2371,-830 2371,-889 2371,-889 2371,-895 2365,-901 2359,-901\"/>\n<text text-anchor=\"start\" x=\"2234\" y=\"-885.8\" font-family=\"Helvetica,sans-Serif\" font-size=\"14.00\" fill=\"#000000\">mean_speed ≤ 8.961</text>\n<text text-anchor=\"start\" x=\"2266.5\" y=\"-870.8\" font-family=\"Helvetica,sans-Serif\" font-size=\"14.00\" fill=\"#000000\">gini = 0.18</text>\n<text text-anchor=\"start\" x=\"2257.5\" y=\"-855.8\" font-family=\"Helvetica,sans-Serif\" font-size=\"14.00\" fill=\"#000000\">samples = 10</text>\n<text text-anchor=\"start\" x=\"2259\" y=\"-840.8\" font-family=\"Helvetica,sans-Serif\" font-size=\"14.00\" fill=\"#000000\">value = [1, 9]</text>\n<text text-anchor=\"start\" x=\"2240\" y=\"-825.8\" font-family=\"Helvetica,sans-Serif\" font-size=\"14.00\" fill=\"#000000\">class = Near&#45;Crash</text>\n</g>\n<!-- 45&#45;&gt;85 -->\n<g id=\"edge85\" class=\"edge\">\n<title>45&#45;&gt;85</title>\n<path fill=\"none\" stroke=\"#000000\" d=\"M2137.1073,-938.212C2162.7189,-925.7211 2190.9252,-911.9647 2216.4958,-899.4939\"/>\n<polygon fill=\"#000000\" stroke=\"#000000\" points=\"2218.3338,-902.4916 2225.7876,-894.9622 2215.2653,-896.2 2218.3338,-902.4916\"/>\n</g>\n<!-- 47 -->\n<g id=\"node48\" class=\"node\">\n<title>47</title>\n<path fill=\"#f5d0b5\" stroke=\"#000000\" d=\"M2031.5,-782C2031.5,-782 1927.5,-782 1927.5,-782 1921.5,-782 1915.5,-776 1915.5,-770 1915.5,-770 1915.5,-711 1915.5,-711 1915.5,-705 1921.5,-699 1927.5,-699 1927.5,-699 2031.5,-699 2031.5,-699 2037.5,-699 2043.5,-705 2043.5,-711 2043.5,-711 2043.5,-770 2043.5,-770 2043.5,-776 2037.5,-782 2031.5,-782\"/>\n<text text-anchor=\"start\" x=\"1923.5\" y=\"-766.8\" font-family=\"Helvetica,sans-Serif\" font-size=\"14.00\" fill=\"#000000\">std_speed ≤ 5.143</text>\n<text text-anchor=\"start\" x=\"1944\" y=\"-751.8\" font-family=\"Helvetica,sans-Serif\" font-size=\"14.00\" fill=\"#000000\">gini = 0.473</text>\n<text text-anchor=\"start\" x=\"1938.5\" y=\"-736.8\" font-family=\"Helvetica,sans-Serif\" font-size=\"14.00\" fill=\"#000000\">samples = 13</text>\n<text text-anchor=\"start\" x=\"1940\" y=\"-721.8\" font-family=\"Helvetica,sans-Serif\" font-size=\"14.00\" fill=\"#000000\">value = [8, 5]</text>\n<text text-anchor=\"start\" x=\"1934\" y=\"-706.8\" font-family=\"Helvetica,sans-Serif\" font-size=\"14.00\" fill=\"#000000\">class = Normal</text>\n</g>\n<!-- 46&#45;&gt;47 -->\n<g id=\"edge47\" class=\"edge\">\n<title>46&#45;&gt;47</title>\n<path fill=\"none\" stroke=\"#000000\" d=\"M2028.2686,-817.8796C2022.7627,-809.1434 2016.8994,-799.8404 2011.2176,-790.8253\"/>\n<polygon fill=\"#000000\" stroke=\"#000000\" points=\"2014.1363,-788.8919 2005.8433,-782.2981 2008.2143,-792.6242 2014.1363,-788.8919\"/>\n</g>\n<!-- 50 -->\n<g id=\"node51\" class=\"node\">\n<title>50</title>\n<path fill=\"#e6853f\" stroke=\"#000000\" d=\"M2215,-782C2215,-782 2074,-782 2074,-782 2068,-782 2062,-776 2062,-770 2062,-770 2062,-711 2062,-711 2062,-705 2068,-699 2074,-699 2074,-699 2215,-699 2215,-699 2221,-699 2227,-705 2227,-711 2227,-711 2227,-770 2227,-770 2227,-776 2221,-782 2215,-782\"/>\n<text text-anchor=\"start\" x=\"2070\" y=\"-766.8\" font-family=\"Helvetica,sans-Serif\" font-size=\"14.00\" fill=\"#000000\">min_val_speed ≤ 17.323</text>\n<text text-anchor=\"start\" x=\"2109\" y=\"-751.8\" font-family=\"Helvetica,sans-Serif\" font-size=\"14.00\" fill=\"#000000\">gini = 0.054</text>\n<text text-anchor=\"start\" x=\"2096\" y=\"-736.8\" font-family=\"Helvetica,sans-Serif\" font-size=\"14.00\" fill=\"#000000\">samples = 1511</text>\n<text text-anchor=\"start\" x=\"2090\" y=\"-721.8\" font-family=\"Helvetica,sans-Serif\" font-size=\"14.00\" fill=\"#000000\">value = [1469, 42]</text>\n<text text-anchor=\"start\" x=\"2099\" y=\"-706.8\" font-family=\"Helvetica,sans-Serif\" font-size=\"14.00\" fill=\"#000000\">class = Normal</text>\n</g>\n<!-- 46&#45;&gt;50 -->\n<g id=\"edge50\" class=\"edge\">\n<title>46&#45;&gt;50</title>\n<path fill=\"none\" stroke=\"#000000\" d=\"M2085.9776,-817.8796C2092.6529,-809.0534 2099.7658,-799.6485 2106.6496,-790.5466\"/>\n<polygon fill=\"#000000\" stroke=\"#000000\" points=\"2109.6474,-792.3852 2112.888,-782.2981 2104.0643,-788.1626 2109.6474,-792.3852\"/>\n</g>\n<!-- 48 -->\n<g id=\"node49\" class=\"node\">\n<title>48</title>\n<path fill=\"#e58139\" stroke=\"#000000\" d=\"M1886,-655.5C1886,-655.5 1803,-655.5 1803,-655.5 1797,-655.5 1791,-649.5 1791,-643.5 1791,-643.5 1791,-599.5 1791,-599.5 1791,-593.5 1797,-587.5 1803,-587.5 1803,-587.5 1886,-587.5 1886,-587.5 1892,-587.5 1898,-593.5 1898,-599.5 1898,-599.5 1898,-643.5 1898,-643.5 1898,-649.5 1892,-655.5 1886,-655.5\"/>\n<text text-anchor=\"start\" x=\"1816.5\" y=\"-640.3\" font-family=\"Helvetica,sans-Serif\" font-size=\"14.00\" fill=\"#000000\">gini = 0.0</text>\n<text text-anchor=\"start\" x=\"1807\" y=\"-625.3\" font-family=\"Helvetica,sans-Serif\" font-size=\"14.00\" fill=\"#000000\">samples = 8</text>\n<text text-anchor=\"start\" x=\"1805\" y=\"-610.3\" font-family=\"Helvetica,sans-Serif\" font-size=\"14.00\" fill=\"#000000\">value = [8, 0]</text>\n<text text-anchor=\"start\" x=\"1799\" y=\"-595.3\" font-family=\"Helvetica,sans-Serif\" font-size=\"14.00\" fill=\"#000000\">class = Normal</text>\n</g>\n<!-- 47&#45;&gt;48 -->\n<g id=\"edge48\" class=\"edge\">\n<title>47&#45;&gt;48</title>\n<path fill=\"none\" stroke=\"#000000\" d=\"M1932.2836,-698.8796C1918.9358,-687.1138 1904.4215,-674.3197 1891.1096,-662.5855\"/>\n<polygon fill=\"#000000\" stroke=\"#000000\" points=\"1893.2448,-659.8019 1883.4287,-655.8149 1888.616,-665.0531 1893.2448,-659.8019\"/>\n</g>\n<!-- 49 -->\n<g id=\"node50\" class=\"node\">\n<title>49</title>\n<path fill=\"#399de5\" stroke=\"#000000\" d=\"M2037,-655.5C2037,-655.5 1928,-655.5 1928,-655.5 1922,-655.5 1916,-649.5 1916,-643.5 1916,-643.5 1916,-599.5 1916,-599.5 1916,-593.5 1922,-587.5 1928,-587.5 1928,-587.5 2037,-587.5 2037,-587.5 2043,-587.5 2049,-593.5 2049,-599.5 2049,-599.5 2049,-643.5 2049,-643.5 2049,-649.5 2043,-655.5 2037,-655.5\"/>\n<text text-anchor=\"start\" x=\"1954.5\" y=\"-640.3\" font-family=\"Helvetica,sans-Serif\" font-size=\"14.00\" fill=\"#000000\">gini = 0.0</text>\n<text text-anchor=\"start\" x=\"1945\" y=\"-625.3\" font-family=\"Helvetica,sans-Serif\" font-size=\"14.00\" fill=\"#000000\">samples = 5</text>\n<text text-anchor=\"start\" x=\"1943\" y=\"-610.3\" font-family=\"Helvetica,sans-Serif\" font-size=\"14.00\" fill=\"#000000\">value = [0, 5]</text>\n<text text-anchor=\"start\" x=\"1924\" y=\"-595.3\" font-family=\"Helvetica,sans-Serif\" font-size=\"14.00\" fill=\"#000000\">class = Near&#45;Crash</text>\n</g>\n<!-- 47&#45;&gt;49 -->\n<g id=\"edge49\" class=\"edge\">\n<title>47&#45;&gt;49</title>\n<path fill=\"none\" stroke=\"#000000\" d=\"M1980.5493,-698.8796C1980.8182,-688.2134 1981.1084,-676.7021 1981.3806,-665.9015\"/>\n<polygon fill=\"#000000\" stroke=\"#000000\" points=\"1984.8817,-665.9 1981.6349,-655.8149 1977.8839,-665.7235 1984.8817,-665.9\"/>\n</g>\n<!-- 51 -->\n<g id=\"node52\" class=\"node\">\n<title>51</title>\n<path fill=\"#e5833c\" stroke=\"#000000\" d=\"M2210,-663C2210,-663 2079,-663 2079,-663 2073,-663 2067,-657 2067,-651 2067,-651 2067,-592 2067,-592 2067,-586 2073,-580 2079,-580 2079,-580 2210,-580 2210,-580 2216,-580 2222,-586 2222,-592 2222,-592 2222,-651 2222,-651 2222,-657 2216,-663 2210,-663\"/>\n<text text-anchor=\"start\" x=\"2075\" y=\"-647.8\" font-family=\"Helvetica,sans-Serif\" font-size=\"14.00\" fill=\"#000000\">max_val_accY ≤ 0.971</text>\n<text text-anchor=\"start\" x=\"2109\" y=\"-632.8\" font-family=\"Helvetica,sans-Serif\" font-size=\"14.00\" fill=\"#000000\">gini = 0.028</text>\n<text text-anchor=\"start\" x=\"2096\" y=\"-617.8\" font-family=\"Helvetica,sans-Serif\" font-size=\"14.00\" fill=\"#000000\">samples = 1205</text>\n<text text-anchor=\"start\" x=\"2090\" y=\"-602.8\" font-family=\"Helvetica,sans-Serif\" font-size=\"14.00\" fill=\"#000000\">value = [1188, 17]</text>\n<text text-anchor=\"start\" x=\"2099\" y=\"-587.8\" font-family=\"Helvetica,sans-Serif\" font-size=\"14.00\" fill=\"#000000\">class = Normal</text>\n</g>\n<!-- 50&#45;&gt;51 -->\n<g id=\"edge51\" class=\"edge\">\n<title>50&#45;&gt;51</title>\n<path fill=\"none\" stroke=\"#000000\" d=\"M2144.5,-698.8796C2144.5,-690.6838 2144.5,-681.9891 2144.5,-673.5013\"/>\n<polygon fill=\"#000000\" stroke=\"#000000\" points=\"2148.0001,-673.298 2144.5,-663.2981 2141.0001,-673.2981 2148.0001,-673.298\"/>\n</g>\n<!-- 70 -->\n<g id=\"node71\" class=\"node\">\n<title>70</title>\n<path fill=\"#e78c4b\" stroke=\"#000000\" d=\"M2434,-663C2434,-663 2307,-663 2307,-663 2301,-663 2295,-657 2295,-651 2295,-651 2295,-592 2295,-592 2295,-586 2301,-580 2307,-580 2307,-580 2434,-580 2434,-580 2440,-580 2446,-586 2446,-592 2446,-592 2446,-651 2446,-651 2446,-657 2440,-663 2434,-663\"/>\n<text text-anchor=\"start\" x=\"2303\" y=\"-647.8\" font-family=\"Helvetica,sans-Serif\" font-size=\"14.00\" fill=\"#000000\">min_val_accY ≤ 0.534</text>\n<text text-anchor=\"start\" x=\"2338.5\" y=\"-632.8\" font-family=\"Helvetica,sans-Serif\" font-size=\"14.00\" fill=\"#000000\">gini = 0.15</text>\n<text text-anchor=\"start\" x=\"2325.5\" y=\"-617.8\" font-family=\"Helvetica,sans-Serif\" font-size=\"14.00\" fill=\"#000000\">samples = 306</text>\n<text text-anchor=\"start\" x=\"2320\" y=\"-602.8\" font-family=\"Helvetica,sans-Serif\" font-size=\"14.00\" fill=\"#000000\">value = [281, 25]</text>\n<text text-anchor=\"start\" x=\"2325\" y=\"-587.8\" font-family=\"Helvetica,sans-Serif\" font-size=\"14.00\" fill=\"#000000\">class = Normal</text>\n</g>\n<!-- 50&#45;&gt;70 -->\n<g id=\"edge70\" class=\"edge\">\n<title>50&#45;&gt;70</title>\n<path fill=\"none\" stroke=\"#000000\" d=\"M2223.5438,-698.8796C2243.7241,-688.2537 2265.4971,-676.7891 2285.9417,-666.0241\"/>\n<polygon fill=\"#000000\" stroke=\"#000000\" points=\"2287.7036,-669.0519 2294.9212,-661.2959 2284.4422,-662.8581 2287.7036,-669.0519\"/>\n</g>\n<!-- 52 -->\n<g id=\"node53\" class=\"node\">\n<title>52</title>\n<path fill=\"#e78945\" stroke=\"#000000\" d=\"M1961,-544C1961,-544 1830,-544 1830,-544 1824,-544 1818,-538 1818,-532 1818,-532 1818,-473 1818,-473 1818,-467 1824,-461 1830,-461 1830,-461 1961,-461 1961,-461 1967,-461 1973,-467 1973,-473 1973,-473 1973,-532 1973,-532 1973,-538 1967,-544 1961,-544\"/>\n<text text-anchor=\"start\" x=\"1826\" y=\"-528.8\" font-family=\"Helvetica,sans-Serif\" font-size=\"14.00\" fill=\"#000000\">max_val_accY ≤ 0.967</text>\n<text text-anchor=\"start\" x=\"1860\" y=\"-513.8\" font-family=\"Helvetica,sans-Serif\" font-size=\"14.00\" fill=\"#000000\">gini = 0.108</text>\n<text text-anchor=\"start\" x=\"1850.5\" y=\"-498.8\" font-family=\"Helvetica,sans-Serif\" font-size=\"14.00\" fill=\"#000000\">samples = 279</text>\n<text text-anchor=\"start\" x=\"1845\" y=\"-483.8\" font-family=\"Helvetica,sans-Serif\" font-size=\"14.00\" fill=\"#000000\">value = [263, 16]</text>\n<text text-anchor=\"start\" x=\"1850\" y=\"-468.8\" font-family=\"Helvetica,sans-Serif\" font-size=\"14.00\" fill=\"#000000\">class = Normal</text>\n</g>\n<!-- 51&#45;&gt;52 -->\n<g id=\"edge52\" class=\"edge\">\n<title>51&#45;&gt;52</title>\n<path fill=\"none\" stroke=\"#000000\" d=\"M2066.7391,-584.3371C2039.9449,-571.5319 2009.772,-557.1119 1982.3025,-543.9839\"/>\n<polygon fill=\"#000000\" stroke=\"#000000\" points=\"1983.631,-540.7397 1973.0992,-539.5856 1980.6125,-547.0555 1983.631,-540.7397\"/>\n</g>\n<!-- 65 -->\n<g id=\"node66\" class=\"node\">\n<title>65</title>\n<path fill=\"#e58139\" stroke=\"#000000\" d=\"M2215,-544C2215,-544 2074,-544 2074,-544 2068,-544 2062,-538 2062,-532 2062,-532 2062,-473 2062,-473 2062,-467 2068,-461 2074,-461 2074,-461 2215,-461 2215,-461 2221,-461 2227,-467 2227,-473 2227,-473 2227,-532 2227,-532 2227,-538 2221,-544 2215,-544\"/>\n<text text-anchor=\"start\" x=\"2070\" y=\"-528.8\" font-family=\"Helvetica,sans-Serif\" font-size=\"14.00\" fill=\"#000000\">tendency_speed ≤ 1.003</text>\n<text text-anchor=\"start\" x=\"2109\" y=\"-513.8\" font-family=\"Helvetica,sans-Serif\" font-size=\"14.00\" fill=\"#000000\">gini = 0.002</text>\n<text text-anchor=\"start\" x=\"2099.5\" y=\"-498.8\" font-family=\"Helvetica,sans-Serif\" font-size=\"14.00\" fill=\"#000000\">samples = 926</text>\n<text text-anchor=\"start\" x=\"2097.5\" y=\"-483.8\" font-family=\"Helvetica,sans-Serif\" font-size=\"14.00\" fill=\"#000000\">value = [925, 1]</text>\n<text text-anchor=\"start\" x=\"2099\" y=\"-468.8\" font-family=\"Helvetica,sans-Serif\" font-size=\"14.00\" fill=\"#000000\">class = Normal</text>\n</g>\n<!-- 51&#45;&gt;65 -->\n<g id=\"edge65\" class=\"edge\">\n<title>51&#45;&gt;65</title>\n<path fill=\"none\" stroke=\"#000000\" d=\"M2144.5,-579.8796C2144.5,-571.6838 2144.5,-562.9891 2144.5,-554.5013\"/>\n<polygon fill=\"#000000\" stroke=\"#000000\" points=\"2148.0001,-554.298 2144.5,-544.2981 2141.0001,-554.2981 2148.0001,-554.298\"/>\n</g>\n<!-- 53 -->\n<g id=\"node54\" class=\"node\">\n<title>53</title>\n<path fill=\"#e6843e\" stroke=\"#000000\" d=\"M1799,-425C1799,-425 1658,-425 1658,-425 1652,-425 1646,-419 1646,-413 1646,-413 1646,-354 1646,-354 1646,-348 1652,-342 1658,-342 1658,-342 1799,-342 1799,-342 1805,-342 1811,-348 1811,-354 1811,-354 1811,-413 1811,-413 1811,-419 1805,-425 1799,-425\"/>\n<text text-anchor=\"start\" x=\"1654\" y=\"-409.8\" font-family=\"Helvetica,sans-Serif\" font-size=\"14.00\" fill=\"#000000\">tendency_speed ≤ 0.904</text>\n<text text-anchor=\"start\" x=\"1693\" y=\"-394.8\" font-family=\"Helvetica,sans-Serif\" font-size=\"14.00\" fill=\"#000000\">gini = 0.051</text>\n<text text-anchor=\"start\" x=\"1683.5\" y=\"-379.8\" font-family=\"Helvetica,sans-Serif\" font-size=\"14.00\" fill=\"#000000\">samples = 270</text>\n<text text-anchor=\"start\" x=\"1681.5\" y=\"-364.8\" font-family=\"Helvetica,sans-Serif\" font-size=\"14.00\" fill=\"#000000\">value = [263, 7]</text>\n<text text-anchor=\"start\" x=\"1683\" y=\"-349.8\" font-family=\"Helvetica,sans-Serif\" font-size=\"14.00\" fill=\"#000000\">class = Normal</text>\n</g>\n<!-- 52&#45;&gt;53 -->\n<g id=\"edge53\" class=\"edge\">\n<title>52&#45;&gt;53</title>\n<path fill=\"none\" stroke=\"#000000\" d=\"M1837.0915,-460.8796C1823.6161,-451.2774 1809.1797,-440.9903 1795.375,-431.1534\"/>\n<polygon fill=\"#000000\" stroke=\"#000000\" points=\"1797.0506,-428.0497 1786.8755,-425.0969 1792.9883,-433.7505 1797.0506,-428.0497\"/>\n</g>\n<!-- 64 -->\n<g id=\"node65\" class=\"node\">\n<title>64</title>\n<path fill=\"#399de5\" stroke=\"#000000\" d=\"M1950,-417.5C1950,-417.5 1841,-417.5 1841,-417.5 1835,-417.5 1829,-411.5 1829,-405.5 1829,-405.5 1829,-361.5 1829,-361.5 1829,-355.5 1835,-349.5 1841,-349.5 1841,-349.5 1950,-349.5 1950,-349.5 1956,-349.5 1962,-355.5 1962,-361.5 1962,-361.5 1962,-405.5 1962,-405.5 1962,-411.5 1956,-417.5 1950,-417.5\"/>\n<text text-anchor=\"start\" x=\"1867.5\" y=\"-402.3\" font-family=\"Helvetica,sans-Serif\" font-size=\"14.00\" fill=\"#000000\">gini = 0.0</text>\n<text text-anchor=\"start\" x=\"1858\" y=\"-387.3\" font-family=\"Helvetica,sans-Serif\" font-size=\"14.00\" fill=\"#000000\">samples = 9</text>\n<text text-anchor=\"start\" x=\"1856\" y=\"-372.3\" font-family=\"Helvetica,sans-Serif\" font-size=\"14.00\" fill=\"#000000\">value = [0, 9]</text>\n<text text-anchor=\"start\" x=\"1837\" y=\"-357.3\" font-family=\"Helvetica,sans-Serif\" font-size=\"14.00\" fill=\"#000000\">class = Near&#45;Crash</text>\n</g>\n<!-- 52&#45;&gt;64 -->\n<g id=\"edge64\" class=\"edge\">\n<title>52&#45;&gt;64</title>\n<path fill=\"none\" stroke=\"#000000\" d=\"M1895.5,-460.8796C1895.5,-450.2134 1895.5,-438.7021 1895.5,-427.9015\"/>\n<polygon fill=\"#000000\" stroke=\"#000000\" points=\"1899.0001,-427.8149 1895.5,-417.8149 1892.0001,-427.815 1899.0001,-427.8149\"/>\n</g>\n<!-- 54 -->\n<g id=\"node55\" class=\"node\">\n<title>54</title>\n<path fill=\"#f8e0ce\" stroke=\"#000000\" d=\"M1699.5,-306C1699.5,-306 1601.5,-306 1601.5,-306 1595.5,-306 1589.5,-300 1589.5,-294 1589.5,-294 1589.5,-235 1589.5,-235 1589.5,-229 1595.5,-223 1601.5,-223 1601.5,-223 1699.5,-223 1699.5,-223 1705.5,-223 1711.5,-229 1711.5,-235 1711.5,-235 1711.5,-294 1711.5,-294 1711.5,-300 1705.5,-306 1699.5,-306\"/>\n<text text-anchor=\"start\" x=\"1597.5\" y=\"-290.8\" font-family=\"Helvetica,sans-Serif\" font-size=\"14.00\" fill=\"#000000\">std_accY ≤ 0.129</text>\n<text text-anchor=\"start\" x=\"1618.5\" y=\"-275.8\" font-family=\"Helvetica,sans-Serif\" font-size=\"14.00\" fill=\"#000000\">gini = 0.49</text>\n<text text-anchor=\"start\" x=\"1609.5\" y=\"-260.8\" font-family=\"Helvetica,sans-Serif\" font-size=\"14.00\" fill=\"#000000\">samples = 14</text>\n<text text-anchor=\"start\" x=\"1611\" y=\"-245.8\" font-family=\"Helvetica,sans-Serif\" font-size=\"14.00\" fill=\"#000000\">value = [8, 6]</text>\n<text text-anchor=\"start\" x=\"1605\" y=\"-230.8\" font-family=\"Helvetica,sans-Serif\" font-size=\"14.00\" fill=\"#000000\">class = Normal</text>\n</g>\n<!-- 53&#45;&gt;54 -->\n<g id=\"edge54\" class=\"edge\">\n<title>53&#45;&gt;54</title>\n<path fill=\"none\" stroke=\"#000000\" d=\"M1701.2194,-341.8796C1695.4932,-333.1434 1689.3954,-323.8404 1683.4863,-314.8253\"/>\n<polygon fill=\"#000000\" stroke=\"#000000\" points=\"1686.3063,-312.7429 1677.8971,-306.2981 1680.4518,-316.5803 1686.3063,-312.7429\"/>\n</g>\n<!-- 59 -->\n<g id=\"node60\" class=\"node\">\n<title>59</title>\n<path fill=\"#e5813a\" stroke=\"#000000\" d=\"M1873,-306C1873,-306 1742,-306 1742,-306 1736,-306 1730,-300 1730,-294 1730,-294 1730,-235 1730,-235 1730,-229 1736,-223 1742,-223 1742,-223 1873,-223 1873,-223 1879,-223 1885,-229 1885,-235 1885,-235 1885,-294 1885,-294 1885,-300 1879,-306 1873,-306\"/>\n<text text-anchor=\"start\" x=\"1738\" y=\"-290.8\" font-family=\"Helvetica,sans-Serif\" font-size=\"14.00\" fill=\"#000000\">min_val_accY ≤ &#45;0.013</text>\n<text text-anchor=\"start\" x=\"1772\" y=\"-275.8\" font-family=\"Helvetica,sans-Serif\" font-size=\"14.00\" fill=\"#000000\">gini = 0.008</text>\n<text text-anchor=\"start\" x=\"1762.5\" y=\"-260.8\" font-family=\"Helvetica,sans-Serif\" font-size=\"14.00\" fill=\"#000000\">samples = 256</text>\n<text text-anchor=\"start\" x=\"1760.5\" y=\"-245.8\" font-family=\"Helvetica,sans-Serif\" font-size=\"14.00\" fill=\"#000000\">value = [255, 1]</text>\n<text text-anchor=\"start\" x=\"1762\" y=\"-230.8\" font-family=\"Helvetica,sans-Serif\" font-size=\"14.00\" fill=\"#000000\">class = Normal</text>\n</g>\n<!-- 53&#45;&gt;59 -->\n<g id=\"edge59\" class=\"edge\">\n<title>53&#45;&gt;59</title>\n<path fill=\"none\" stroke=\"#000000\" d=\"M1756.1304,-341.8796C1761.93,-333.1434 1768.1059,-323.8404 1774.0908,-314.8253\"/>\n<polygon fill=\"#000000\" stroke=\"#000000\" points=\"1777.1368,-316.5652 1779.7517,-306.2981 1771.3049,-312.6935 1777.1368,-316.5652\"/>\n</g>\n<!-- 55 -->\n<g id=\"node56\" class=\"node\">\n<title>55</title>\n<path fill=\"#e58139\" stroke=\"#000000\" d=\"M1549,-179.5C1549,-179.5 1466,-179.5 1466,-179.5 1460,-179.5 1454,-173.5 1454,-167.5 1454,-167.5 1454,-123.5 1454,-123.5 1454,-117.5 1460,-111.5 1466,-111.5 1466,-111.5 1549,-111.5 1549,-111.5 1555,-111.5 1561,-117.5 1561,-123.5 1561,-123.5 1561,-167.5 1561,-167.5 1561,-173.5 1555,-179.5 1549,-179.5\"/>\n<text text-anchor=\"start\" x=\"1479.5\" y=\"-164.3\" font-family=\"Helvetica,sans-Serif\" font-size=\"14.00\" fill=\"#000000\">gini = 0.0</text>\n<text text-anchor=\"start\" x=\"1470\" y=\"-149.3\" font-family=\"Helvetica,sans-Serif\" font-size=\"14.00\" fill=\"#000000\">samples = 7</text>\n<text text-anchor=\"start\" x=\"1468\" y=\"-134.3\" font-family=\"Helvetica,sans-Serif\" font-size=\"14.00\" fill=\"#000000\">value = [7, 0]</text>\n<text text-anchor=\"start\" x=\"1462\" y=\"-119.3\" font-family=\"Helvetica,sans-Serif\" font-size=\"14.00\" fill=\"#000000\">class = Normal</text>\n</g>\n<!-- 54&#45;&gt;55 -->\n<g id=\"edge55\" class=\"edge\">\n<title>54&#45;&gt;55</title>\n<path fill=\"none\" stroke=\"#000000\" d=\"M1600.4855,-222.8796C1586.2147,-211.0038 1570.6849,-198.0804 1556.4767,-186.2568\"/>\n<polygon fill=\"#000000\" stroke=\"#000000\" points=\"1558.661,-183.5212 1548.7356,-179.8149 1554.1834,-188.9019 1558.661,-183.5212\"/>\n</g>\n<!-- 56 -->\n<g id=\"node57\" class=\"node\">\n<title>56</title>\n<path fill=\"#5aade9\" stroke=\"#000000\" d=\"M1716,-187C1716,-187 1591,-187 1591,-187 1585,-187 1579,-181 1579,-175 1579,-175 1579,-116 1579,-116 1579,-110 1585,-104 1591,-104 1591,-104 1716,-104 1716,-104 1722,-104 1728,-110 1728,-116 1728,-116 1728,-175 1728,-175 1728,-181 1722,-187 1716,-187\"/>\n<text text-anchor=\"start\" x=\"1587\" y=\"-171.8\" font-family=\"Helvetica,sans-Serif\" font-size=\"14.00\" fill=\"#000000\">median_accY ≤ 0.471</text>\n<text text-anchor=\"start\" x=\"1618\" y=\"-156.8\" font-family=\"Helvetica,sans-Serif\" font-size=\"14.00\" fill=\"#000000\">gini = 0.245</text>\n<text text-anchor=\"start\" x=\"1616\" y=\"-141.8\" font-family=\"Helvetica,sans-Serif\" font-size=\"14.00\" fill=\"#000000\">samples = 7</text>\n<text text-anchor=\"start\" x=\"1614\" y=\"-126.8\" font-family=\"Helvetica,sans-Serif\" font-size=\"14.00\" fill=\"#000000\">value = [1, 6]</text>\n<text text-anchor=\"start\" x=\"1595\" y=\"-111.8\" font-family=\"Helvetica,sans-Serif\" font-size=\"14.00\" fill=\"#000000\">class = Near&#45;Crash</text>\n</g>\n<!-- 54&#45;&gt;56 -->\n<g id=\"edge56\" class=\"edge\">\n<title>54&#45;&gt;56</title>\n<path fill=\"none\" stroke=\"#000000\" d=\"M1651.5493,-222.8796C1651.7559,-214.6838 1651.9751,-205.9891 1652.189,-197.5013\"/>\n<polygon fill=\"#000000\" stroke=\"#000000\" points=\"1655.693,-197.3831 1652.4463,-187.2981 1648.6953,-197.2067 1655.693,-197.3831\"/>\n</g>\n<!-- 57 -->\n<g id=\"node58\" class=\"node\">\n<title>57</title>\n<path fill=\"#399de5\" stroke=\"#000000\" d=\"M1646,-68C1646,-68 1537,-68 1537,-68 1531,-68 1525,-62 1525,-56 1525,-56 1525,-12 1525,-12 1525,-6 1531,0 1537,0 1537,0 1646,0 1646,0 1652,0 1658,-6 1658,-12 1658,-12 1658,-56 1658,-56 1658,-62 1652,-68 1646,-68\"/>\n<text text-anchor=\"start\" x=\"1563.5\" y=\"-52.8\" font-family=\"Helvetica,sans-Serif\" font-size=\"14.00\" fill=\"#000000\">gini = 0.0</text>\n<text text-anchor=\"start\" x=\"1554\" y=\"-37.8\" font-family=\"Helvetica,sans-Serif\" font-size=\"14.00\" fill=\"#000000\">samples = 6</text>\n<text text-anchor=\"start\" x=\"1552\" y=\"-22.8\" font-family=\"Helvetica,sans-Serif\" font-size=\"14.00\" fill=\"#000000\">value = [0, 6]</text>\n<text text-anchor=\"start\" x=\"1533\" y=\"-7.8\" font-family=\"Helvetica,sans-Serif\" font-size=\"14.00\" fill=\"#000000\">class = Near&#45;Crash</text>\n</g>\n<!-- 56&#45;&gt;57 -->\n<g id=\"edge57\" class=\"edge\">\n<title>56&#45;&gt;57</title>\n<path fill=\"none\" stroke=\"#000000\" d=\"M1630.4135,-103.9815C1625.5585,-95.2504 1620.426,-86.0202 1615.5371,-77.2281\"/>\n<polygon fill=\"#000000\" stroke=\"#000000\" points=\"1618.4712,-75.3025 1610.5524,-68.2637 1612.3533,-78.7043 1618.4712,-75.3025\"/>\n</g>\n<!-- 58 -->\n<g id=\"node59\" class=\"node\">\n<title>58</title>\n<path fill=\"#e58139\" stroke=\"#000000\" d=\"M1771,-68C1771,-68 1688,-68 1688,-68 1682,-68 1676,-62 1676,-56 1676,-56 1676,-12 1676,-12 1676,-6 1682,0 1688,0 1688,0 1771,0 1771,0 1777,0 1783,-6 1783,-12 1783,-12 1783,-56 1783,-56 1783,-62 1777,-68 1771,-68\"/>\n<text text-anchor=\"start\" x=\"1701.5\" y=\"-52.8\" font-family=\"Helvetica,sans-Serif\" font-size=\"14.00\" fill=\"#000000\">gini = 0.0</text>\n<text text-anchor=\"start\" x=\"1692\" y=\"-37.8\" font-family=\"Helvetica,sans-Serif\" font-size=\"14.00\" fill=\"#000000\">samples = 1</text>\n<text text-anchor=\"start\" x=\"1690\" y=\"-22.8\" font-family=\"Helvetica,sans-Serif\" font-size=\"14.00\" fill=\"#000000\">value = [1, 0]</text>\n<text text-anchor=\"start\" x=\"1684\" y=\"-7.8\" font-family=\"Helvetica,sans-Serif\" font-size=\"14.00\" fill=\"#000000\">class = Normal</text>\n</g>\n<!-- 56&#45;&gt;58 -->\n<g id=\"edge58\" class=\"edge\">\n<title>56&#45;&gt;58</title>\n<path fill=\"none\" stroke=\"#000000\" d=\"M1681.7996,-103.9815C1687.8762,-95.0666 1694.3074,-85.6313 1700.4132,-76.6734\"/>\n<polygon fill=\"#000000\" stroke=\"#000000\" points=\"1703.4052,-78.498 1706.1454,-68.2637 1697.6211,-74.5555 1703.4052,-78.498\"/>\n</g>\n<!-- 60 -->\n<g id=\"node61\" class=\"node\">\n<title>60</title>\n<path fill=\"#e58139\" stroke=\"#000000\" d=\"M1848.5,-179.5C1848.5,-179.5 1762.5,-179.5 1762.5,-179.5 1756.5,-179.5 1750.5,-173.5 1750.5,-167.5 1750.5,-167.5 1750.5,-123.5 1750.5,-123.5 1750.5,-117.5 1756.5,-111.5 1762.5,-111.5 1762.5,-111.5 1848.5,-111.5 1848.5,-111.5 1854.5,-111.5 1860.5,-117.5 1860.5,-123.5 1860.5,-123.5 1860.5,-167.5 1860.5,-167.5 1860.5,-173.5 1854.5,-179.5 1848.5,-179.5\"/>\n<text text-anchor=\"start\" x=\"1777.5\" y=\"-164.3\" font-family=\"Helvetica,sans-Serif\" font-size=\"14.00\" fill=\"#000000\">gini = 0.0</text>\n<text text-anchor=\"start\" x=\"1760.5\" y=\"-149.3\" font-family=\"Helvetica,sans-Serif\" font-size=\"14.00\" fill=\"#000000\">samples = 248</text>\n<text text-anchor=\"start\" x=\"1758.5\" y=\"-134.3\" font-family=\"Helvetica,sans-Serif\" font-size=\"14.00\" fill=\"#000000\">value = [248, 0]</text>\n<text text-anchor=\"start\" x=\"1760\" y=\"-119.3\" font-family=\"Helvetica,sans-Serif\" font-size=\"14.00\" fill=\"#000000\">class = Normal</text>\n</g>\n<!-- 59&#45;&gt;60 -->\n<g id=\"edge60\" class=\"edge\">\n<title>59&#45;&gt;60</title>\n<path fill=\"none\" stroke=\"#000000\" d=\"M1806.8005,-222.8796C1806.6212,-212.2134 1806.4278,-200.7021 1806.2462,-189.9015\"/>\n<polygon fill=\"#000000\" stroke=\"#000000\" points=\"1809.7444,-189.7547 1806.0767,-179.8149 1802.7454,-189.8724 1809.7444,-189.7547\"/>\n</g>\n<!-- 61 -->\n<g id=\"node62\" class=\"node\">\n<title>61</title>\n<path fill=\"#e99355\" stroke=\"#000000\" d=\"M2012,-187C2012,-187 1891,-187 1891,-187 1885,-187 1879,-181 1879,-175 1879,-175 1879,-116 1879,-116 1879,-110 1885,-104 1891,-104 1891,-104 2012,-104 2012,-104 2018,-104 2024,-110 2024,-116 2024,-116 2024,-175 2024,-175 2024,-181 2018,-187 2012,-187\"/>\n<text text-anchor=\"start\" x=\"1887\" y=\"-171.8\" font-family=\"Helvetica,sans-Serif\" font-size=\"14.00\" fill=\"#000000\">mean_speed ≤ 2.379</text>\n<text text-anchor=\"start\" x=\"1916\" y=\"-156.8\" font-family=\"Helvetica,sans-Serif\" font-size=\"14.00\" fill=\"#000000\">gini = 0.219</text>\n<text text-anchor=\"start\" x=\"1914\" y=\"-141.8\" font-family=\"Helvetica,sans-Serif\" font-size=\"14.00\" fill=\"#000000\">samples = 8</text>\n<text text-anchor=\"start\" x=\"1912\" y=\"-126.8\" font-family=\"Helvetica,sans-Serif\" font-size=\"14.00\" fill=\"#000000\">value = [7, 1]</text>\n<text text-anchor=\"start\" x=\"1906\" y=\"-111.8\" font-family=\"Helvetica,sans-Serif\" font-size=\"14.00\" fill=\"#000000\">class = Normal</text>\n</g>\n<!-- 59&#45;&gt;61 -->\n<g id=\"edge61\" class=\"edge\">\n<title>59&#45;&gt;61</title>\n<path fill=\"none\" stroke=\"#000000\" d=\"M1857.8642,-222.8796C1869.1985,-213.513 1881.3215,-203.4948 1892.9581,-193.8784\"/>\n<polygon fill=\"#000000\" stroke=\"#000000\" points=\"1895.4419,-196.3663 1900.9208,-187.2981 1890.9827,-190.9703 1895.4419,-196.3663\"/>\n</g>\n<!-- 62 -->\n<g id=\"node63\" class=\"node\">\n<title>62</title>\n<path fill=\"#399de5\" stroke=\"#000000\" d=\"M1931,-68C1931,-68 1822,-68 1822,-68 1816,-68 1810,-62 1810,-56 1810,-56 1810,-12 1810,-12 1810,-6 1816,0 1822,0 1822,0 1931,0 1931,0 1937,0 1943,-6 1943,-12 1943,-12 1943,-56 1943,-56 1943,-62 1937,-68 1931,-68\"/>\n<text text-anchor=\"start\" x=\"1848.5\" y=\"-52.8\" font-family=\"Helvetica,sans-Serif\" font-size=\"14.00\" fill=\"#000000\">gini = 0.0</text>\n<text text-anchor=\"start\" x=\"1839\" y=\"-37.8\" font-family=\"Helvetica,sans-Serif\" font-size=\"14.00\" fill=\"#000000\">samples = 1</text>\n<text text-anchor=\"start\" x=\"1837\" y=\"-22.8\" font-family=\"Helvetica,sans-Serif\" font-size=\"14.00\" fill=\"#000000\">value = [0, 1]</text>\n<text text-anchor=\"start\" x=\"1818\" y=\"-7.8\" font-family=\"Helvetica,sans-Serif\" font-size=\"14.00\" fill=\"#000000\">class = Near&#45;Crash</text>\n</g>\n<!-- 61&#45;&gt;62 -->\n<g id=\"edge62\" class=\"edge\">\n<title>61&#45;&gt;62</title>\n<path fill=\"none\" stroke=\"#000000\" d=\"M1923.5728,-103.9815C1917.5762,-95.0666 1911.2296,-85.6313 1905.2041,-76.6734\"/>\n<polygon fill=\"#000000\" stroke=\"#000000\" points=\"1908.0328,-74.6078 1899.5473,-68.2637 1902.2245,-78.5147 1908.0328,-74.6078\"/>\n</g>\n<!-- 63 -->\n<g id=\"node64\" class=\"node\">\n<title>63</title>\n<path fill=\"#e58139\" stroke=\"#000000\" d=\"M2056,-68C2056,-68 1973,-68 1973,-68 1967,-68 1961,-62 1961,-56 1961,-56 1961,-12 1961,-12 1961,-6 1967,0 1973,0 1973,0 2056,0 2056,0 2062,0 2068,-6 2068,-12 2068,-12 2068,-56 2068,-56 2068,-62 2062,-68 2056,-68\"/>\n<text text-anchor=\"start\" x=\"1986.5\" y=\"-52.8\" font-family=\"Helvetica,sans-Serif\" font-size=\"14.00\" fill=\"#000000\">gini = 0.0</text>\n<text text-anchor=\"start\" x=\"1977\" y=\"-37.8\" font-family=\"Helvetica,sans-Serif\" font-size=\"14.00\" fill=\"#000000\">samples = 7</text>\n<text text-anchor=\"start\" x=\"1975\" y=\"-22.8\" font-family=\"Helvetica,sans-Serif\" font-size=\"14.00\" fill=\"#000000\">value = [7, 0]</text>\n<text text-anchor=\"start\" x=\"1969\" y=\"-7.8\" font-family=\"Helvetica,sans-Serif\" font-size=\"14.00\" fill=\"#000000\">class = Normal</text>\n</g>\n<!-- 61&#45;&gt;63 -->\n<g id=\"edge63\" class=\"edge\">\n<title>61&#45;&gt;63</title>\n<path fill=\"none\" stroke=\"#000000\" d=\"M1974.9589,-103.9815C1979.8922,-95.2504 1985.1074,-86.0202 1990.0752,-77.2281\"/>\n<polygon fill=\"#000000\" stroke=\"#000000\" points=\"1993.2681,-78.6918 1995.1403,-68.2637 1987.1737,-75.2483 1993.2681,-78.6918\"/>\n</g>\n<!-- 66 -->\n<g id=\"node67\" class=\"node\">\n<title>66</title>\n<path fill=\"#e58139\" stroke=\"#000000\" d=\"M2078.5,-417.5C2078.5,-417.5 1992.5,-417.5 1992.5,-417.5 1986.5,-417.5 1980.5,-411.5 1980.5,-405.5 1980.5,-405.5 1980.5,-361.5 1980.5,-361.5 1980.5,-355.5 1986.5,-349.5 1992.5,-349.5 1992.5,-349.5 2078.5,-349.5 2078.5,-349.5 2084.5,-349.5 2090.5,-355.5 2090.5,-361.5 2090.5,-361.5 2090.5,-405.5 2090.5,-405.5 2090.5,-411.5 2084.5,-417.5 2078.5,-417.5\"/>\n<text text-anchor=\"start\" x=\"2007.5\" y=\"-402.3\" font-family=\"Helvetica,sans-Serif\" font-size=\"14.00\" fill=\"#000000\">gini = 0.0</text>\n<text text-anchor=\"start\" x=\"1990.5\" y=\"-387.3\" font-family=\"Helvetica,sans-Serif\" font-size=\"14.00\" fill=\"#000000\">samples = 923</text>\n<text text-anchor=\"start\" x=\"1988.5\" y=\"-372.3\" font-family=\"Helvetica,sans-Serif\" font-size=\"14.00\" fill=\"#000000\">value = [923, 0]</text>\n<text text-anchor=\"start\" x=\"1990\" y=\"-357.3\" font-family=\"Helvetica,sans-Serif\" font-size=\"14.00\" fill=\"#000000\">class = Normal</text>\n</g>\n<!-- 65&#45;&gt;66 -->\n<g id=\"edge66\" class=\"edge\">\n<title>65&#45;&gt;66</title>\n<path fill=\"none\" stroke=\"#000000\" d=\"M2106.3771,-460.8796C2095.8014,-449.3337 2084.3188,-436.7976 2073.7367,-425.2446\"/>\n<polygon fill=\"#000000\" stroke=\"#000000\" points=\"2076.2667,-422.825 2066.9313,-417.8149 2071.1049,-427.5531 2076.2667,-422.825\"/>\n</g>\n<!-- 67 -->\n<g id=\"node68\" class=\"node\">\n<title>67</title>\n<path fill=\"#f2c09c\" stroke=\"#000000\" d=\"M2246,-425C2246,-425 2121,-425 2121,-425 2115,-425 2109,-419 2109,-413 2109,-413 2109,-354 2109,-354 2109,-348 2115,-342 2121,-342 2121,-342 2246,-342 2246,-342 2252,-342 2258,-348 2258,-354 2258,-354 2258,-413 2258,-413 2258,-419 2252,-425 2246,-425\"/>\n<text text-anchor=\"start\" x=\"2117\" y=\"-409.8\" font-family=\"Helvetica,sans-Serif\" font-size=\"14.00\" fill=\"#000000\">median_accY ≤ 1.069</text>\n<text text-anchor=\"start\" x=\"2148\" y=\"-394.8\" font-family=\"Helvetica,sans-Serif\" font-size=\"14.00\" fill=\"#000000\">gini = 0.444</text>\n<text text-anchor=\"start\" x=\"2146\" y=\"-379.8\" font-family=\"Helvetica,sans-Serif\" font-size=\"14.00\" fill=\"#000000\">samples = 3</text>\n<text text-anchor=\"start\" x=\"2144\" y=\"-364.8\" font-family=\"Helvetica,sans-Serif\" font-size=\"14.00\" fill=\"#000000\">value = [2, 1]</text>\n<text text-anchor=\"start\" x=\"2138\" y=\"-349.8\" font-family=\"Helvetica,sans-Serif\" font-size=\"14.00\" fill=\"#000000\">class = Normal</text>\n</g>\n<!-- 65&#45;&gt;67 -->\n<g id=\"edge67\" class=\"edge\">\n<title>65&#45;&gt;67</title>\n<path fill=\"none\" stroke=\"#000000\" d=\"M2158.1403,-460.8796C2160.8853,-452.5037 2163.8012,-443.6067 2166.6409,-434.942\"/>\n<polygon fill=\"#000000\" stroke=\"#000000\" points=\"2170.013,-435.8908 2169.8015,-425.2981 2163.3611,-433.7107 2170.013,-435.8908\"/>\n</g>\n<!-- 68 -->\n<g id=\"node69\" class=\"node\">\n<title>68</title>\n<path fill=\"#399de5\" stroke=\"#000000\" d=\"M2110,-298.5C2110,-298.5 2001,-298.5 2001,-298.5 1995,-298.5 1989,-292.5 1989,-286.5 1989,-286.5 1989,-242.5 1989,-242.5 1989,-236.5 1995,-230.5 2001,-230.5 2001,-230.5 2110,-230.5 2110,-230.5 2116,-230.5 2122,-236.5 2122,-242.5 2122,-242.5 2122,-286.5 2122,-286.5 2122,-292.5 2116,-298.5 2110,-298.5\"/>\n<text text-anchor=\"start\" x=\"2027.5\" y=\"-283.3\" font-family=\"Helvetica,sans-Serif\" font-size=\"14.00\" fill=\"#000000\">gini = 0.0</text>\n<text text-anchor=\"start\" x=\"2018\" y=\"-268.3\" font-family=\"Helvetica,sans-Serif\" font-size=\"14.00\" fill=\"#000000\">samples = 1</text>\n<text text-anchor=\"start\" x=\"2016\" y=\"-253.3\" font-family=\"Helvetica,sans-Serif\" font-size=\"14.00\" fill=\"#000000\">value = [0, 1]</text>\n<text text-anchor=\"start\" x=\"1997\" y=\"-238.3\" font-family=\"Helvetica,sans-Serif\" font-size=\"14.00\" fill=\"#000000\">class = Near&#45;Crash</text>\n</g>\n<!-- 67&#45;&gt;68 -->\n<g id=\"edge68\" class=\"edge\">\n<title>67&#45;&gt;68</title>\n<path fill=\"none\" stroke=\"#000000\" d=\"M2138.7318,-341.8796C2126.1944,-330.2237 2112.5716,-317.5587 2100.047,-305.9148\"/>\n<polygon fill=\"#000000\" stroke=\"#000000\" points=\"2102.1172,-303.0605 2092.4102,-298.8149 2097.3509,-308.1872 2102.1172,-303.0605\"/>\n</g>\n<!-- 69 -->\n<g id=\"node70\" class=\"node\">\n<title>69</title>\n<path fill=\"#e58139\" stroke=\"#000000\" d=\"M2235,-298.5C2235,-298.5 2152,-298.5 2152,-298.5 2146,-298.5 2140,-292.5 2140,-286.5 2140,-286.5 2140,-242.5 2140,-242.5 2140,-236.5 2146,-230.5 2152,-230.5 2152,-230.5 2235,-230.5 2235,-230.5 2241,-230.5 2247,-236.5 2247,-242.5 2247,-242.5 2247,-286.5 2247,-286.5 2247,-292.5 2241,-298.5 2235,-298.5\"/>\n<text text-anchor=\"start\" x=\"2165.5\" y=\"-283.3\" font-family=\"Helvetica,sans-Serif\" font-size=\"14.00\" fill=\"#000000\">gini = 0.0</text>\n<text text-anchor=\"start\" x=\"2156\" y=\"-268.3\" font-family=\"Helvetica,sans-Serif\" font-size=\"14.00\" fill=\"#000000\">samples = 2</text>\n<text text-anchor=\"start\" x=\"2154\" y=\"-253.3\" font-family=\"Helvetica,sans-Serif\" font-size=\"14.00\" fill=\"#000000\">value = [2, 0]</text>\n<text text-anchor=\"start\" x=\"2148\" y=\"-238.3\" font-family=\"Helvetica,sans-Serif\" font-size=\"14.00\" fill=\"#000000\">class = Normal</text>\n</g>\n<!-- 67&#45;&gt;69 -->\n<g id=\"edge69\" class=\"edge\">\n<title>67&#45;&gt;69</title>\n<path fill=\"none\" stroke=\"#000000\" d=\"M2186.9975,-341.8796C2187.8938,-331.2134 2188.8612,-319.7021 2189.7688,-308.9015\"/>\n<polygon fill=\"#000000\" stroke=\"#000000\" points=\"2193.2666,-309.0729 2190.6164,-298.8149 2186.2912,-308.4867 2193.2666,-309.0729\"/>\n</g>\n<!-- 71 -->\n<g id=\"node72\" class=\"node\">\n<title>71</title>\n<path fill=\"#e5823a\" stroke=\"#000000\" d=\"M2419.5,-544C2419.5,-544 2321.5,-544 2321.5,-544 2315.5,-544 2309.5,-538 2309.5,-532 2309.5,-532 2309.5,-473 2309.5,-473 2309.5,-467 2315.5,-461 2321.5,-461 2321.5,-461 2419.5,-461 2419.5,-461 2425.5,-461 2431.5,-467 2431.5,-473 2431.5,-473 2431.5,-532 2431.5,-532 2431.5,-538 2425.5,-544 2419.5,-544\"/>\n<text text-anchor=\"start\" x=\"2317.5\" y=\"-528.8\" font-family=\"Helvetica,sans-Serif\" font-size=\"14.00\" fill=\"#000000\">std_accY ≤ 0.788</text>\n<text text-anchor=\"start\" x=\"2335\" y=\"-513.8\" font-family=\"Helvetica,sans-Serif\" font-size=\"14.00\" fill=\"#000000\">gini = 0.008</text>\n<text text-anchor=\"start\" x=\"2325.5\" y=\"-498.8\" font-family=\"Helvetica,sans-Serif\" font-size=\"14.00\" fill=\"#000000\">samples = 238</text>\n<text text-anchor=\"start\" x=\"2323.5\" y=\"-483.8\" font-family=\"Helvetica,sans-Serif\" font-size=\"14.00\" fill=\"#000000\">value = [237, 1]</text>\n<text text-anchor=\"start\" x=\"2325\" y=\"-468.8\" font-family=\"Helvetica,sans-Serif\" font-size=\"14.00\" fill=\"#000000\">class = Normal</text>\n</g>\n<!-- 70&#45;&gt;71 -->\n<g id=\"edge71\" class=\"edge\">\n<title>70&#45;&gt;71</title>\n<path fill=\"none\" stroke=\"#000000\" d=\"M2370.5,-579.8796C2370.5,-571.6838 2370.5,-562.9891 2370.5,-554.5013\"/>\n<polygon fill=\"#000000\" stroke=\"#000000\" points=\"2374.0001,-554.298 2370.5,-544.2981 2367.0001,-554.2981 2374.0001,-554.298\"/>\n</g>\n<!-- 76 -->\n<g id=\"node77\" class=\"node\">\n<title>76</title>\n<path fill=\"#f3c6a5\" stroke=\"#000000\" d=\"M2751.5,-544C2751.5,-544 2647.5,-544 2647.5,-544 2641.5,-544 2635.5,-538 2635.5,-532 2635.5,-532 2635.5,-473 2635.5,-473 2635.5,-467 2641.5,-461 2647.5,-461 2647.5,-461 2751.5,-461 2751.5,-461 2757.5,-461 2763.5,-467 2763.5,-473 2763.5,-473 2763.5,-532 2763.5,-532 2763.5,-538 2757.5,-544 2751.5,-544\"/>\n<text text-anchor=\"start\" x=\"2643.5\" y=\"-528.8\" font-family=\"Helvetica,sans-Serif\" font-size=\"14.00\" fill=\"#000000\">std_speed ≤ 0.565</text>\n<text text-anchor=\"start\" x=\"2664\" y=\"-513.8\" font-family=\"Helvetica,sans-Serif\" font-size=\"14.00\" fill=\"#000000\">gini = 0.457</text>\n<text text-anchor=\"start\" x=\"2658.5\" y=\"-498.8\" font-family=\"Helvetica,sans-Serif\" font-size=\"14.00\" fill=\"#000000\">samples = 68</text>\n<text text-anchor=\"start\" x=\"2652.5\" y=\"-483.8\" font-family=\"Helvetica,sans-Serif\" font-size=\"14.00\" fill=\"#000000\">value = [44, 24]</text>\n<text text-anchor=\"start\" x=\"2654\" y=\"-468.8\" font-family=\"Helvetica,sans-Serif\" font-size=\"14.00\" fill=\"#000000\">class = Normal</text>\n</g>\n<!-- 70&#45;&gt;76 -->\n<g id=\"edge76\" class=\"edge\">\n<title>70&#45;&gt;76</title>\n<path fill=\"none\" stroke=\"#000000\" d=\"M2446.3923,-594.0496C2500.3669,-574.5268 2572.4821,-548.4426 2625.9269,-529.1116\"/>\n<polygon fill=\"#000000\" stroke=\"#000000\" points=\"2627.1304,-532.3982 2635.3437,-525.7055 2624.7494,-525.8156 2627.1304,-532.3982\"/>\n</g>\n<!-- 72 -->\n<g id=\"node73\" class=\"node\">\n<title>72</title>\n<path fill=\"#e58139\" stroke=\"#000000\" d=\"M2374.5,-417.5C2374.5,-417.5 2288.5,-417.5 2288.5,-417.5 2282.5,-417.5 2276.5,-411.5 2276.5,-405.5 2276.5,-405.5 2276.5,-361.5 2276.5,-361.5 2276.5,-355.5 2282.5,-349.5 2288.5,-349.5 2288.5,-349.5 2374.5,-349.5 2374.5,-349.5 2380.5,-349.5 2386.5,-355.5 2386.5,-361.5 2386.5,-361.5 2386.5,-405.5 2386.5,-405.5 2386.5,-411.5 2380.5,-417.5 2374.5,-417.5\"/>\n<text text-anchor=\"start\" x=\"2303.5\" y=\"-402.3\" font-family=\"Helvetica,sans-Serif\" font-size=\"14.00\" fill=\"#000000\">gini = 0.0</text>\n<text text-anchor=\"start\" x=\"2286.5\" y=\"-387.3\" font-family=\"Helvetica,sans-Serif\" font-size=\"14.00\" fill=\"#000000\">samples = 235</text>\n<text text-anchor=\"start\" x=\"2284.5\" y=\"-372.3\" font-family=\"Helvetica,sans-Serif\" font-size=\"14.00\" fill=\"#000000\">value = [235, 0]</text>\n<text text-anchor=\"start\" x=\"2286\" y=\"-357.3\" font-family=\"Helvetica,sans-Serif\" font-size=\"14.00\" fill=\"#000000\">class = Normal</text>\n</g>\n<!-- 71&#45;&gt;72 -->\n<g id=\"edge72\" class=\"edge\">\n<title>71&#45;&gt;72</title>\n<path fill=\"none\" stroke=\"#000000\" d=\"M2356.8597,-460.8796C2353.328,-450.1034 2349.5136,-438.4647 2345.9424,-427.5677\"/>\n<polygon fill=\"#000000\" stroke=\"#000000\" points=\"2349.1864,-426.2276 2342.7461,-417.8149 2342.5345,-428.4077 2349.1864,-426.2276\"/>\n</g>\n<!-- 73 -->\n<g id=\"node74\" class=\"node\">\n<title>73</title>\n<path fill=\"#f2c09c\" stroke=\"#000000\" d=\"M2514,-425C2514,-425 2417,-425 2417,-425 2411,-425 2405,-419 2405,-413 2405,-413 2405,-354 2405,-354 2405,-348 2411,-342 2417,-342 2417,-342 2514,-342 2514,-342 2520,-342 2526,-348 2526,-354 2526,-354 2526,-413 2526,-413 2526,-419 2520,-425 2514,-425\"/>\n<text text-anchor=\"start\" x=\"2413\" y=\"-409.8\" font-family=\"Helvetica,sans-Serif\" font-size=\"14.00\" fill=\"#000000\">std_speed ≤ 0.65</text>\n<text text-anchor=\"start\" x=\"2430\" y=\"-394.8\" font-family=\"Helvetica,sans-Serif\" font-size=\"14.00\" fill=\"#000000\">gini = 0.444</text>\n<text text-anchor=\"start\" x=\"2428\" y=\"-379.8\" font-family=\"Helvetica,sans-Serif\" font-size=\"14.00\" fill=\"#000000\">samples = 3</text>\n<text text-anchor=\"start\" x=\"2426\" y=\"-364.8\" font-family=\"Helvetica,sans-Serif\" font-size=\"14.00\" fill=\"#000000\">value = [2, 1]</text>\n<text text-anchor=\"start\" x=\"2420\" y=\"-349.8\" font-family=\"Helvetica,sans-Serif\" font-size=\"14.00\" fill=\"#000000\">class = Normal</text>\n</g>\n<!-- 71&#45;&gt;73 -->\n<g id=\"edge73\" class=\"edge\">\n<title>71&#45;&gt;73</title>\n<path fill=\"none\" stroke=\"#000000\" d=\"M2403.7264,-460.8796C2410.8444,-451.9633 2418.4339,-442.4565 2425.7692,-433.268\"/>\n<polygon fill=\"#000000\" stroke=\"#000000\" points=\"2428.6281,-435.2968 2432.1318,-425.2981 2423.1575,-430.9295 2428.6281,-435.2968\"/>\n</g>\n<!-- 74 -->\n<g id=\"node75\" class=\"node\">\n<title>74</title>\n<path fill=\"#e58139\" stroke=\"#000000\" d=\"M2369,-298.5C2369,-298.5 2286,-298.5 2286,-298.5 2280,-298.5 2274,-292.5 2274,-286.5 2274,-286.5 2274,-242.5 2274,-242.5 2274,-236.5 2280,-230.5 2286,-230.5 2286,-230.5 2369,-230.5 2369,-230.5 2375,-230.5 2381,-236.5 2381,-242.5 2381,-242.5 2381,-286.5 2381,-286.5 2381,-292.5 2375,-298.5 2369,-298.5\"/>\n<text text-anchor=\"start\" x=\"2299.5\" y=\"-283.3\" font-family=\"Helvetica,sans-Serif\" font-size=\"14.00\" fill=\"#000000\">gini = 0.0</text>\n<text text-anchor=\"start\" x=\"2290\" y=\"-268.3\" font-family=\"Helvetica,sans-Serif\" font-size=\"14.00\" fill=\"#000000\">samples = 2</text>\n<text text-anchor=\"start\" x=\"2288\" y=\"-253.3\" font-family=\"Helvetica,sans-Serif\" font-size=\"14.00\" fill=\"#000000\">value = [2, 0]</text>\n<text text-anchor=\"start\" x=\"2282\" y=\"-238.3\" font-family=\"Helvetica,sans-Serif\" font-size=\"14.00\" fill=\"#000000\">class = Normal</text>\n</g>\n<!-- 73&#45;&gt;74 -->\n<g id=\"edge74\" class=\"edge\">\n<title>73&#45;&gt;74</title>\n<path fill=\"none\" stroke=\"#000000\" d=\"M2417.2343,-341.8796C2403.5899,-330.1138 2388.7531,-317.3197 2375.1454,-305.5855\"/>\n<polygon fill=\"#000000\" stroke=\"#000000\" points=\"2377.1527,-302.6948 2367.2938,-298.8149 2372.5813,-307.9961 2377.1527,-302.6948\"/>\n</g>\n<!-- 75 -->\n<g id=\"node76\" class=\"node\">\n<title>75</title>\n<path fill=\"#399de5\" stroke=\"#000000\" d=\"M2520,-298.5C2520,-298.5 2411,-298.5 2411,-298.5 2405,-298.5 2399,-292.5 2399,-286.5 2399,-286.5 2399,-242.5 2399,-242.5 2399,-236.5 2405,-230.5 2411,-230.5 2411,-230.5 2520,-230.5 2520,-230.5 2526,-230.5 2532,-236.5 2532,-242.5 2532,-242.5 2532,-286.5 2532,-286.5 2532,-292.5 2526,-298.5 2520,-298.5\"/>\n<text text-anchor=\"start\" x=\"2437.5\" y=\"-283.3\" font-family=\"Helvetica,sans-Serif\" font-size=\"14.00\" fill=\"#000000\">gini = 0.0</text>\n<text text-anchor=\"start\" x=\"2428\" y=\"-268.3\" font-family=\"Helvetica,sans-Serif\" font-size=\"14.00\" fill=\"#000000\">samples = 1</text>\n<text text-anchor=\"start\" x=\"2426\" y=\"-253.3\" font-family=\"Helvetica,sans-Serif\" font-size=\"14.00\" fill=\"#000000\">value = [0, 1]</text>\n<text text-anchor=\"start\" x=\"2407\" y=\"-238.3\" font-family=\"Helvetica,sans-Serif\" font-size=\"14.00\" fill=\"#000000\">class = Near&#45;Crash</text>\n</g>\n<!-- 73&#45;&gt;75 -->\n<g id=\"edge75\" class=\"edge\">\n<title>73&#45;&gt;75</title>\n<path fill=\"none\" stroke=\"#000000\" d=\"M2465.5,-341.8796C2465.5,-331.2134 2465.5,-319.7021 2465.5,-308.9015\"/>\n<polygon fill=\"#000000\" stroke=\"#000000\" points=\"2469.0001,-308.8149 2465.5,-298.8149 2462.0001,-308.815 2469.0001,-308.8149\"/>\n</g>\n<!-- 77 -->\n<g id=\"node78\" class=\"node\">\n<title>77</title>\n<path fill=\"#ea995f\" stroke=\"#000000\" d=\"M2744.5,-425C2744.5,-425 2654.5,-425 2654.5,-425 2648.5,-425 2642.5,-419 2642.5,-413 2642.5,-413 2642.5,-354 2642.5,-354 2642.5,-348 2648.5,-342 2654.5,-342 2654.5,-342 2744.5,-342 2744.5,-342 2750.5,-342 2756.5,-348 2756.5,-354 2756.5,-354 2756.5,-413 2756.5,-413 2756.5,-419 2750.5,-425 2744.5,-425\"/>\n<text text-anchor=\"start\" x=\"2650.5\" y=\"-409.8\" font-family=\"Helvetica,sans-Serif\" font-size=\"14.00\" fill=\"#000000\">std_accY ≤ 0.03</text>\n<text text-anchor=\"start\" x=\"2664\" y=\"-394.8\" font-family=\"Helvetica,sans-Serif\" font-size=\"14.00\" fill=\"#000000\">gini = 0.269</text>\n<text text-anchor=\"start\" x=\"2658.5\" y=\"-379.8\" font-family=\"Helvetica,sans-Serif\" font-size=\"14.00\" fill=\"#000000\">samples = 50</text>\n<text text-anchor=\"start\" x=\"2656.5\" y=\"-364.8\" font-family=\"Helvetica,sans-Serif\" font-size=\"14.00\" fill=\"#000000\">value = [42, 8]</text>\n<text text-anchor=\"start\" x=\"2654\" y=\"-349.8\" font-family=\"Helvetica,sans-Serif\" font-size=\"14.00\" fill=\"#000000\">class = Normal</text>\n</g>\n<!-- 76&#45;&gt;77 -->\n<g id=\"edge77\" class=\"edge\">\n<title>76&#45;&gt;77</title>\n<path fill=\"none\" stroke=\"#000000\" d=\"M2699.5,-460.8796C2699.5,-452.6838 2699.5,-443.9891 2699.5,-435.5013\"/>\n<polygon fill=\"#000000\" stroke=\"#000000\" points=\"2703.0001,-435.298 2699.5,-425.2981 2696.0001,-435.2981 2703.0001,-435.298\"/>\n</g>\n<!-- 82 -->\n<g id=\"node83\" class=\"node\">\n<title>82</title>\n<path fill=\"#52a9e8\" stroke=\"#000000\" d=\"M3008,-425C3008,-425 2889,-425 2889,-425 2883,-425 2877,-419 2877,-413 2877,-413 2877,-354 2877,-354 2877,-348 2883,-342 2889,-342 2889,-342 3008,-342 3008,-342 3014,-342 3020,-348 3020,-354 3020,-354 3020,-413 3020,-413 3020,-419 3014,-425 3008,-425\"/>\n<text text-anchor=\"start\" x=\"2885\" y=\"-409.8\" font-family=\"Helvetica,sans-Serif\" font-size=\"14.00\" fill=\"#000000\">min_val_accY ≤ 1.08</text>\n<text text-anchor=\"start\" x=\"2913\" y=\"-394.8\" font-family=\"Helvetica,sans-Serif\" font-size=\"14.00\" fill=\"#000000\">gini = 0.198</text>\n<text text-anchor=\"start\" x=\"2907.5\" y=\"-379.8\" font-family=\"Helvetica,sans-Serif\" font-size=\"14.00\" fill=\"#000000\">samples = 18</text>\n<text text-anchor=\"start\" x=\"2905.5\" y=\"-364.8\" font-family=\"Helvetica,sans-Serif\" font-size=\"14.00\" fill=\"#000000\">value = [2, 16]</text>\n<text text-anchor=\"start\" x=\"2890\" y=\"-349.8\" font-family=\"Helvetica,sans-Serif\" font-size=\"14.00\" fill=\"#000000\">class = Near&#45;Crash</text>\n</g>\n<!-- 76&#45;&gt;82 -->\n<g id=\"edge82\" class=\"edge\">\n<title>76&#45;&gt;82</title>\n<path fill=\"none\" stroke=\"#000000\" d=\"M2763.6237,-471.8545C2795.2347,-456.7473 2833.6974,-438.3655 2867.3372,-422.2887\"/>\n<polygon fill=\"#000000\" stroke=\"#000000\" points=\"2869.1744,-425.2899 2876.6877,-417.8199 2866.1559,-418.9741 2869.1744,-425.2899\"/>\n</g>\n<!-- 78 -->\n<g id=\"node79\" class=\"node\">\n<title>78</title>\n<path fill=\"#399de5\" stroke=\"#000000\" d=\"M2671,-298.5C2671,-298.5 2562,-298.5 2562,-298.5 2556,-298.5 2550,-292.5 2550,-286.5 2550,-286.5 2550,-242.5 2550,-242.5 2550,-236.5 2556,-230.5 2562,-230.5 2562,-230.5 2671,-230.5 2671,-230.5 2677,-230.5 2683,-236.5 2683,-242.5 2683,-242.5 2683,-286.5 2683,-286.5 2683,-292.5 2677,-298.5 2671,-298.5\"/>\n<text text-anchor=\"start\" x=\"2588.5\" y=\"-283.3\" font-family=\"Helvetica,sans-Serif\" font-size=\"14.00\" fill=\"#000000\">gini = 0.0</text>\n<text text-anchor=\"start\" x=\"2579\" y=\"-268.3\" font-family=\"Helvetica,sans-Serif\" font-size=\"14.00\" fill=\"#000000\">samples = 5</text>\n<text text-anchor=\"start\" x=\"2577\" y=\"-253.3\" font-family=\"Helvetica,sans-Serif\" font-size=\"14.00\" fill=\"#000000\">value = [0, 5]</text>\n<text text-anchor=\"start\" x=\"2558\" y=\"-238.3\" font-family=\"Helvetica,sans-Serif\" font-size=\"14.00\" fill=\"#000000\">class = Near&#45;Crash</text>\n</g>\n<!-- 77&#45;&gt;78 -->\n<g id=\"edge78\" class=\"edge\">\n<title>77&#45;&gt;78</title>\n<path fill=\"none\" stroke=\"#000000\" d=\"M2670.4706,-341.8796C2662.6477,-330.6636 2654.173,-318.5131 2646.3083,-307.2372\"/>\n<polygon fill=\"#000000\" stroke=\"#000000\" points=\"2649.0254,-305.0147 2640.4339,-298.8149 2643.284,-309.0192 2649.0254,-305.0147\"/>\n</g>\n<!-- 79 -->\n<g id=\"node80\" class=\"node\">\n<title>79</title>\n<path fill=\"#e78a47\" stroke=\"#000000\" d=\"M2852,-306C2852,-306 2713,-306 2713,-306 2707,-306 2701,-300 2701,-294 2701,-294 2701,-235 2701,-235 2701,-229 2707,-223 2713,-223 2713,-223 2852,-223 2852,-223 2858,-223 2864,-229 2864,-235 2864,-235 2864,-294 2864,-294 2864,-300 2858,-306 2852,-306\"/>\n<text text-anchor=\"start\" x=\"2709\" y=\"-290.8\" font-family=\"Helvetica,sans-Serif\" font-size=\"14.00\" fill=\"#000000\">median_speed ≤ 35.218</text>\n<text text-anchor=\"start\" x=\"2747\" y=\"-275.8\" font-family=\"Helvetica,sans-Serif\" font-size=\"14.00\" fill=\"#000000\">gini = 0.124</text>\n<text text-anchor=\"start\" x=\"2741.5\" y=\"-260.8\" font-family=\"Helvetica,sans-Serif\" font-size=\"14.00\" fill=\"#000000\">samples = 45</text>\n<text text-anchor=\"start\" x=\"2739.5\" y=\"-245.8\" font-family=\"Helvetica,sans-Serif\" font-size=\"14.00\" fill=\"#000000\">value = [42, 3]</text>\n<text text-anchor=\"start\" x=\"2737\" y=\"-230.8\" font-family=\"Helvetica,sans-Serif\" font-size=\"14.00\" fill=\"#000000\">class = Normal</text>\n</g>\n<!-- 77&#45;&gt;79 -->\n<g id=\"edge79\" class=\"edge\">\n<title>77&#45;&gt;79</title>\n<path fill=\"none\" stroke=\"#000000\" d=\"M2728.5294,-341.8796C2734.6855,-333.0534 2741.2451,-323.6485 2747.5936,-314.5466\"/>\n<polygon fill=\"#000000\" stroke=\"#000000\" points=\"2750.4967,-316.5024 2753.3467,-306.2981 2744.7552,-312.4978 2750.4967,-316.5024\"/>\n</g>\n<!-- 80 -->\n<g id=\"node81\" class=\"node\">\n<title>80</title>\n<path fill=\"#e58139\" stroke=\"#000000\" d=\"M2755,-179.5C2755,-179.5 2672,-179.5 2672,-179.5 2666,-179.5 2660,-173.5 2660,-167.5 2660,-167.5 2660,-123.5 2660,-123.5 2660,-117.5 2666,-111.5 2672,-111.5 2672,-111.5 2755,-111.5 2755,-111.5 2761,-111.5 2767,-117.5 2767,-123.5 2767,-123.5 2767,-167.5 2767,-167.5 2767,-173.5 2761,-179.5 2755,-179.5\"/>\n<text text-anchor=\"start\" x=\"2685.5\" y=\"-164.3\" font-family=\"Helvetica,sans-Serif\" font-size=\"14.00\" fill=\"#000000\">gini = 0.0</text>\n<text text-anchor=\"start\" x=\"2672.5\" y=\"-149.3\" font-family=\"Helvetica,sans-Serif\" font-size=\"14.00\" fill=\"#000000\">samples = 42</text>\n<text text-anchor=\"start\" x=\"2670.5\" y=\"-134.3\" font-family=\"Helvetica,sans-Serif\" font-size=\"14.00\" fill=\"#000000\">value = [42, 0]</text>\n<text text-anchor=\"start\" x=\"2668\" y=\"-119.3\" font-family=\"Helvetica,sans-Serif\" font-size=\"14.00\" fill=\"#000000\">class = Normal</text>\n</g>\n<!-- 79&#45;&gt;80 -->\n<g id=\"edge80\" class=\"edge\">\n<title>79&#45;&gt;80</title>\n<path fill=\"none\" stroke=\"#000000\" d=\"M2758.3671,-222.8796C2751.9275,-211.7735 2744.9566,-199.7513 2738.4729,-188.5691\"/>\n<polygon fill=\"#000000\" stroke=\"#000000\" points=\"2741.4409,-186.7102 2733.3969,-179.8149 2735.3852,-190.2215 2741.4409,-186.7102\"/>\n</g>\n<!-- 81 -->\n<g id=\"node82\" class=\"node\">\n<title>81</title>\n<path fill=\"#399de5\" stroke=\"#000000\" d=\"M2906,-179.5C2906,-179.5 2797,-179.5 2797,-179.5 2791,-179.5 2785,-173.5 2785,-167.5 2785,-167.5 2785,-123.5 2785,-123.5 2785,-117.5 2791,-111.5 2797,-111.5 2797,-111.5 2906,-111.5 2906,-111.5 2912,-111.5 2918,-117.5 2918,-123.5 2918,-123.5 2918,-167.5 2918,-167.5 2918,-173.5 2912,-179.5 2906,-179.5\"/>\n<text text-anchor=\"start\" x=\"2823.5\" y=\"-164.3\" font-family=\"Helvetica,sans-Serif\" font-size=\"14.00\" fill=\"#000000\">gini = 0.0</text>\n<text text-anchor=\"start\" x=\"2814\" y=\"-149.3\" font-family=\"Helvetica,sans-Serif\" font-size=\"14.00\" fill=\"#000000\">samples = 3</text>\n<text text-anchor=\"start\" x=\"2812\" y=\"-134.3\" font-family=\"Helvetica,sans-Serif\" font-size=\"14.00\" fill=\"#000000\">value = [0, 3]</text>\n<text text-anchor=\"start\" x=\"2793\" y=\"-119.3\" font-family=\"Helvetica,sans-Serif\" font-size=\"14.00\" fill=\"#000000\">class = Near&#45;Crash</text>\n</g>\n<!-- 79&#45;&gt;81 -->\n<g id=\"edge81\" class=\"edge\">\n<title>79&#45;&gt;81</title>\n<path fill=\"none\" stroke=\"#000000\" d=\"M2806.6329,-222.8796C2813.0725,-211.7735 2820.0434,-199.7513 2826.5271,-188.5691\"/>\n<polygon fill=\"#000000\" stroke=\"#000000\" points=\"2829.6148,-190.2215 2831.6031,-179.8149 2823.5591,-186.7102 2829.6148,-190.2215\"/>\n</g>\n<!-- 83 -->\n<g id=\"node84\" class=\"node\">\n<title>83</title>\n<path fill=\"#399de5\" stroke=\"#000000\" d=\"M3003,-298.5C3003,-298.5 2894,-298.5 2894,-298.5 2888,-298.5 2882,-292.5 2882,-286.5 2882,-286.5 2882,-242.5 2882,-242.5 2882,-236.5 2888,-230.5 2894,-230.5 2894,-230.5 3003,-230.5 3003,-230.5 3009,-230.5 3015,-236.5 3015,-242.5 3015,-242.5 3015,-286.5 3015,-286.5 3015,-292.5 3009,-298.5 3003,-298.5\"/>\n<text text-anchor=\"start\" x=\"2920.5\" y=\"-283.3\" font-family=\"Helvetica,sans-Serif\" font-size=\"14.00\" fill=\"#000000\">gini = 0.0</text>\n<text text-anchor=\"start\" x=\"2907.5\" y=\"-268.3\" font-family=\"Helvetica,sans-Serif\" font-size=\"14.00\" fill=\"#000000\">samples = 16</text>\n<text text-anchor=\"start\" x=\"2905.5\" y=\"-253.3\" font-family=\"Helvetica,sans-Serif\" font-size=\"14.00\" fill=\"#000000\">value = [0, 16]</text>\n<text text-anchor=\"start\" x=\"2890\" y=\"-238.3\" font-family=\"Helvetica,sans-Serif\" font-size=\"14.00\" fill=\"#000000\">class = Near&#45;Crash</text>\n</g>\n<!-- 82&#45;&gt;83 -->\n<g id=\"edge83\" class=\"edge\">\n<title>82&#45;&gt;83</title>\n<path fill=\"none\" stroke=\"#000000\" d=\"M2948.5,-341.8796C2948.5,-331.2134 2948.5,-319.7021 2948.5,-308.9015\"/>\n<polygon fill=\"#000000\" stroke=\"#000000\" points=\"2952.0001,-308.8149 2948.5,-298.8149 2945.0001,-308.815 2952.0001,-308.8149\"/>\n</g>\n<!-- 84 -->\n<g id=\"node85\" class=\"node\">\n<title>84</title>\n<path fill=\"#e58139\" stroke=\"#000000\" d=\"M3128,-298.5C3128,-298.5 3045,-298.5 3045,-298.5 3039,-298.5 3033,-292.5 3033,-286.5 3033,-286.5 3033,-242.5 3033,-242.5 3033,-236.5 3039,-230.5 3045,-230.5 3045,-230.5 3128,-230.5 3128,-230.5 3134,-230.5 3140,-236.5 3140,-242.5 3140,-242.5 3140,-286.5 3140,-286.5 3140,-292.5 3134,-298.5 3128,-298.5\"/>\n<text text-anchor=\"start\" x=\"3058.5\" y=\"-283.3\" font-family=\"Helvetica,sans-Serif\" font-size=\"14.00\" fill=\"#000000\">gini = 0.0</text>\n<text text-anchor=\"start\" x=\"3049\" y=\"-268.3\" font-family=\"Helvetica,sans-Serif\" font-size=\"14.00\" fill=\"#000000\">samples = 2</text>\n<text text-anchor=\"start\" x=\"3047\" y=\"-253.3\" font-family=\"Helvetica,sans-Serif\" font-size=\"14.00\" fill=\"#000000\">value = [2, 0]</text>\n<text text-anchor=\"start\" x=\"3041\" y=\"-238.3\" font-family=\"Helvetica,sans-Serif\" font-size=\"14.00\" fill=\"#000000\">class = Normal</text>\n</g>\n<!-- 82&#45;&gt;84 -->\n<g id=\"edge84\" class=\"edge\">\n<title>82&#45;&gt;84</title>\n<path fill=\"none\" stroke=\"#000000\" d=\"M2996.7657,-341.8796C3010.4101,-330.1138 3025.2469,-317.3197 3038.8546,-305.5855\"/>\n<polygon fill=\"#000000\" stroke=\"#000000\" points=\"3041.4187,-307.9961 3046.7062,-298.8149 3036.8473,-302.6948 3041.4187,-307.9961\"/>\n</g>\n<!-- 86 -->\n<g id=\"node87\" class=\"node\">\n<title>86</title>\n<path fill=\"#e58139\" stroke=\"#000000\" d=\"M2340,-774.5C2340,-774.5 2257,-774.5 2257,-774.5 2251,-774.5 2245,-768.5 2245,-762.5 2245,-762.5 2245,-718.5 2245,-718.5 2245,-712.5 2251,-706.5 2257,-706.5 2257,-706.5 2340,-706.5 2340,-706.5 2346,-706.5 2352,-712.5 2352,-718.5 2352,-718.5 2352,-762.5 2352,-762.5 2352,-768.5 2346,-774.5 2340,-774.5\"/>\n<text text-anchor=\"start\" x=\"2270.5\" y=\"-759.3\" font-family=\"Helvetica,sans-Serif\" font-size=\"14.00\" fill=\"#000000\">gini = 0.0</text>\n<text text-anchor=\"start\" x=\"2261\" y=\"-744.3\" font-family=\"Helvetica,sans-Serif\" font-size=\"14.00\" fill=\"#000000\">samples = 1</text>\n<text text-anchor=\"start\" x=\"2259\" y=\"-729.3\" font-family=\"Helvetica,sans-Serif\" font-size=\"14.00\" fill=\"#000000\">value = [1, 0]</text>\n<text text-anchor=\"start\" x=\"2253\" y=\"-714.3\" font-family=\"Helvetica,sans-Serif\" font-size=\"14.00\" fill=\"#000000\">class = Normal</text>\n</g>\n<!-- 85&#45;&gt;86 -->\n<g id=\"edge86\" class=\"edge\">\n<title>85&#45;&gt;86</title>\n<path fill=\"none\" stroke=\"#000000\" d=\"M2298.5,-817.8796C2298.5,-807.2134 2298.5,-795.7021 2298.5,-784.9015\"/>\n<polygon fill=\"#000000\" stroke=\"#000000\" points=\"2302.0001,-784.8149 2298.5,-774.8149 2295.0001,-784.815 2302.0001,-784.8149\"/>\n</g>\n<!-- 87 -->\n<g id=\"node88\" class=\"node\">\n<title>87</title>\n<path fill=\"#399de5\" stroke=\"#000000\" d=\"M2491,-774.5C2491,-774.5 2382,-774.5 2382,-774.5 2376,-774.5 2370,-768.5 2370,-762.5 2370,-762.5 2370,-718.5 2370,-718.5 2370,-712.5 2376,-706.5 2382,-706.5 2382,-706.5 2491,-706.5 2491,-706.5 2497,-706.5 2503,-712.5 2503,-718.5 2503,-718.5 2503,-762.5 2503,-762.5 2503,-768.5 2497,-774.5 2491,-774.5\"/>\n<text text-anchor=\"start\" x=\"2408.5\" y=\"-759.3\" font-family=\"Helvetica,sans-Serif\" font-size=\"14.00\" fill=\"#000000\">gini = 0.0</text>\n<text text-anchor=\"start\" x=\"2399\" y=\"-744.3\" font-family=\"Helvetica,sans-Serif\" font-size=\"14.00\" fill=\"#000000\">samples = 9</text>\n<text text-anchor=\"start\" x=\"2397\" y=\"-729.3\" font-family=\"Helvetica,sans-Serif\" font-size=\"14.00\" fill=\"#000000\">value = [0, 9]</text>\n<text text-anchor=\"start\" x=\"2378\" y=\"-714.3\" font-family=\"Helvetica,sans-Serif\" font-size=\"14.00\" fill=\"#000000\">class = Near&#45;Crash</text>\n</g>\n<!-- 85&#45;&gt;87 -->\n<g id=\"edge87\" class=\"edge\">\n<title>85&#45;&gt;87</title>\n<path fill=\"none\" stroke=\"#000000\" d=\"M2346.7657,-817.8796C2360.4101,-806.1138 2375.2469,-793.3197 2388.8546,-781.5855\"/>\n<polygon fill=\"#000000\" stroke=\"#000000\" points=\"2391.4187,-783.9961 2396.7062,-774.8149 2386.8473,-778.6948 2391.4187,-783.9961\"/>\n</g>\n</g>\n</svg>\n",
      "text/plain": [
       "<graphviz.files.Source at 0x7f3aab524490>"
      ]
     },
     "execution_count": 20,
     "metadata": {},
     "output_type": "execute_result"
    }
   ],
   "source": [
    "import graphviz\n",
    "dot_data = tree.export_graphviz(clf_dt, out_file=None, \n",
    "                                feature_names=features_names,\n",
    "                                class_names=[\"Normal\", \"Near-Crash\"],\n",
    "                                filled=True, rounded=True,  \n",
    "                                special_characters=True) \n",
    "graph = graphviz.Source(dot_data)\n",
    "graph"
   ]
  },
  {
   "cell_type": "markdown",
   "metadata": {},
   "source": [
    "### Random forest"
   ]
  },
  {
   "cell_type": "code",
   "execution_count": 21,
   "metadata": {},
   "outputs": [
    {
     "data": {
      "text/plain": [
       "RandomForestClassifier(n_estimators=5)"
      ]
     },
     "execution_count": 21,
     "metadata": {},
     "output_type": "execute_result"
    }
   ],
   "source": [
    "clf_rf = RandomForestClassifier(n_estimators=5)\n",
    "clf_rf.fit(X_train, y_train)"
   ]
  },
  {
   "cell_type": "markdown",
   "metadata": {},
   "source": [
    "### Test ML algorithm"
   ]
  },
  {
   "cell_type": "code",
   "execution_count": 37,
   "metadata": {},
   "outputs": [
    {
     "name": "stdout",
     "output_type": "stream",
     "text": [
      "\n",
      "Classifier Name:  SVC\n",
      "Accuracy: 0.97\n",
      "Precision: 0.96\n",
      "Recall: 0.68\n",
      "F1: 0.79\n",
      "Count total data predicted: Near Crash = 68, Normal = 1095\n",
      "\n",
      "Classifier Name:  DecisionTreeClassifier\n",
      "Accuracy: 0.99\n",
      "Precision: 0.95\n",
      "Recall: 0.88\n",
      "F1: 0.91\n",
      "Count total data predicted: Near Crash = 88, Normal = 1075\n",
      "\n",
      "Classifier Name:  RandomForestClassifier\n",
      "Accuracy: 0.99\n",
      "Precision: 0.98\n",
      "Recall: 0.92\n",
      "F1: 0.95\n",
      "Count total data predicted: Near Crash = 90, Normal = 1073\n"
     ]
    }
   ],
   "source": [
    "from sklearn.metrics import accuracy_score, precision_score, recall_score, f1_score\n",
    "from collections import Counter\n",
    "\"\"\"\n",
    "Accuracy = TP + TN / (TP + TN + FP + FN)\n",
    "Precision = TP / (TP + FP)\n",
    "Recall = TP / (TP + FN)  Also known as sensitivity, or True Positive Rate\n",
    "F1 = 2 * Precision * Recall / (Precision + Recall)\n",
    "\"\"\"\n",
    "\n",
    "for clf in (clf_svm, clf_dt, clf_rf):\n",
    "    y_predict = clf.predict(X_test)\n",
    "    print(\"\\nClassifier Name: \",clf.__class__.__name__)\n",
    "    #y_score = clf.decision_function(X_test)\n",
    "    #y_predict_proba = clf.predict_proba(X_test)\n",
    "\n",
    "    print('Accuracy: {:.2f}'.format(accuracy_score(y_test, y_predict)))\n",
    "    print('Precision: {:.2f}'.format(precision_score(y_test, y_predict)))\n",
    "    print('Recall: {:.2f}'.format(recall_score(y_test, y_predict)))\n",
    "    print('F1: {:.2f}'.format(f1_score(y_test, y_predict)))\n",
    "    print(\"Count total data predicted: Near Crash = {}, Normal = {}\".format(Counter(y_predict)[1], Counter(y_predict)[0]))"
   ]
  },
  {
   "cell_type": "markdown",
   "metadata": {},
   "source": [
    "#### Confusion matrix"
   ]
  },
  {
   "cell_type": "code",
   "execution_count": 28,
   "metadata": {},
   "outputs": [
    {
     "name": "stdout",
     "output_type": "stream",
     "text": [
      "\n",
      "Classifier Name:  SVC\n"
     ]
    },
    {
     "data": {
      "image/png": "[encoded data removed]",
      "text/plain": [
       "<Figure size 432x288 with 2 Axes>"
      ]
     },
     "metadata": {
      "needs_background": "light"
     },
     "output_type": "display_data"
    },
    {
     "name": "stdout",
     "output_type": "stream",
     "text": [
      "\n",
      "Classifier Name:  DecisionTreeClassifier\n"
     ]
    },
    {
     "data": {
      "image/png": "[encoded data removed]",
      "text/plain": [
       "<Figure size 432x288 with 2 Axes>"
      ]
     },
     "metadata": {
      "needs_background": "light"
     },
     "output_type": "display_data"
    },
    {
     "name": "stdout",
     "output_type": "stream",
     "text": [
      "\n",
      "Classifier Name:  RandomForestClassifier\n"
     ]
    },
    {
     "data": {
      "image/png": "[encoded data removed]",
      "text/plain": [
       "<Figure size 432x288 with 2 Axes>"
      ]
     },
     "metadata": {
      "needs_background": "light"
     },
     "output_type": "display_data"
    }
   ],
   "source": [
    "from sklearn.metrics import confusion_matrix\n",
    "import matplotlib.pyplot as plt\n",
    "from sklearn.metrics import ConfusionMatrixDisplay\n",
    "\n",
    "for clf in (clf_svm, clf_dt, clf_rf):\n",
    "    print(\"\\nClassifier Name: \",clf.__class__.__name__)\n",
    "    y_predict = clf.predict(X_test)\n",
    "    cf_matrix = confusion_matrix(y_test, y_predict)\n",
    "    disp = ConfusionMatrixDisplay(cf_matrix)\n",
    "    disp.plot()\n",
    "    plt.show()"
   ]
  },
  {
   "cell_type": "markdown",
   "metadata": {},
   "source": [
    "#### Roc curves and Area Under Curve (AUC)"
   ]
  },
  {
   "cell_type": "code",
   "execution_count": 30,
   "metadata": {},
   "outputs": [],
   "source": [
    "from sklearn.metrics import roc_curve, auc\n",
    "\n",
    "def plot_roc_curve(clf, X_test, y_test):\n",
    "    y_score = clf.predict(X_test)\n",
    "    fpr, tpr, _ = roc_curve(y_test, y_score)\n",
    "    roc_auc = auc(fpr, tpr)\n",
    "    accuracy = clf.score(X_test, y_test)\n",
    "\n",
    "    plt.figure()\n",
    "    plt.xlim([-0.01, 1.00])\n",
    "    plt.ylim([-0.01, 1.01])\n",
    "    plt.plot(fpr, tpr, lw=3, alpha=0.7, \n",
    "             label='Algorithm (acc = {:0.2f}, area = {:0.2f})'.format(accuracy, roc_auc))\n",
    "\n",
    "    plt.xlabel('False Positive Rate', fontsize=16)\n",
    "    plt.ylabel('True Positive Rate (Recall)', fontsize=16)\n",
    "    plt.plot([0, 1], [0, 1], color='k', lw=0.5, linestyle='--')\n",
    "    plt.legend(loc=\"lower right\", fontsize=11)\n",
    "    plt.title('ROC curve: ', fontsize=16)\n",
    "    plt.show()"
   ]
  },
  {
   "cell_type": "code",
   "execution_count": 38,
   "metadata": {},
   "outputs": [
    {
     "data": {
      "image/png": "[encoded data removed]",
      "text/plain": [
       "<Figure size 432x288 with 1 Axes>"
      ]
     },
     "metadata": {
      "needs_background": "light"
     },
     "output_type": "display_data"
    }
   ],
   "source": [
    "plot_roc_curve(clf_svm, X_test, y_test)"
   ]
  },
  {
   "cell_type": "markdown",
   "metadata": {},
   "source": [
    "# Sliding window with frames"
   ]
  },
  {
   "cell_type": "code",
   "execution_count": 150,
   "metadata": {},
   "outputs": [
    {
     "data": {
      "text/plain": [
       "'\\ndef trend(arr):\\n    \"\"\"This function calculates the trend with the unique loopback option for this type of calculation\\n\\n    This tendency is not make for frame form, for this reason the equation is this: register(i)/last_register\\n    where \"i\" is the position of a register\\n\\n    Note: I calculate the first tendency how last_register/last_register = 1, \\n    this data appear in all first values of all rows in the slide window\\n    \"\"\"\\n    t = [arr[-i]/arr[-1] for i in range(1, len(arr)+1)]\\n    #mean[::-1]/mean[-1]\\n    #for i in range(1,len(array)+1):\\n    #    t.append(array[-i]/array[-1])\\n    return np.array(t)\\n\\nvariables_trend = np.apply_along_axis(trend, axis=2, arr=measured_variables)\\nvariables_trend = variables_trend.reshape(variables_trend.shape[0], variables_trend.shape[1]*ws)   # Son 20 para la speed y 20 para la accY\\nprint(\"\\nSample of sliding window process for tendency\")\\nprint(\"Tendency slide window shape: \", variables_trend.shape)\\nprint(\"Tendency:\\n {}\".format(variables_trend[0:2,:]))\\n'"
      ]
     },
     "execution_count": 150,
     "metadata": {},
     "output_type": "execute_result"
    }
   ],
   "source": [
    "# Tendency\n",
    "'''\n",
    "def trend(arr):\n",
    "    \"\"\"This function calculates the trend with the unique loopback option for this type of calculation\n",
    "\n",
    "    This tendency is not make for frame form, for this reason the equation is this: register(i)/last_register\n",
    "    where \"i\" is the position of a register\n",
    "\n",
    "    Note: I calculate the first tendency how last_register/last_register = 1, \n",
    "    this data appear in all first values of all rows in the slide window\n",
    "    \"\"\"\n",
    "    t = [arr[-i]/arr[-1] for i in range(1, len(arr)+1)]\n",
    "    #mean[::-1]/mean[-1]\n",
    "    #for i in range(1,len(array)+1):\n",
    "    #    t.append(array[-i]/array[-1])\n",
    "    return np.array(t)\n",
    "\n",
    "variables_trend = np.apply_along_axis(trend, axis=2, arr=measured_variables)\n",
    "variables_trend = variables_trend.reshape(variables_trend.shape[0], variables_trend.shape[1]*ws)   # Son 20 para la speed y 20 para la accY\n",
    "print(\"\\nSample of sliding window process for tendency\")\n",
    "print(\"Tendency slide window shape: \", variables_trend.shape)\n",
    "print(\"Tendency:\\n {}\".format(variables_trend[0:2,:]))\n",
    "'''"
   ]
  },
  {
   "cell_type": "code",
   "execution_count": 151,
   "metadata": {},
   "outputs": [
    {
     "data": {
      "text/plain": [
       "'\\ndef means_loopback(array):\\n    \"\"\"This functions calculate the means with loop back option\\n    \"\"\"\\n    means = []\\n    for i in range(1,len(array)+1):\\n        means.append(array[-i:].mean())\\n    return np.array(means)\\n\\nprint(\"data to get loop back mean: \\n\", measured_variables[0:2,:,:])\\n# mean loopback test\\nmean_lb = np.apply_along_axis(means_loopback, 2, measured_variables[0:2,:,:])\\nprint(\"Mean loopback: \\n\",mean_lb)\\n'"
      ]
     },
     "execution_count": 151,
     "metadata": {},
     "output_type": "execute_result"
    }
   ],
   "source": [
    "# tendency\n",
    "'''\n",
    "def means_loopback(array):\n",
    "    \"\"\"This functions calculate the means with loop back option\n",
    "    \"\"\"\n",
    "    means = []\n",
    "    for i in range(1,len(array)+1):\n",
    "        means.append(array[-i:].mean())\n",
    "    return np.array(means)\n",
    "\n",
    "print(\"data to get loop back mean: \\n\", measured_variables[0:2,:,:])\n",
    "# mean loopback test\n",
    "mean_lb = np.apply_along_axis(means_loopback, 2, measured_variables[0:2,:,:])\n",
    "print(\"Mean loopback: \\n\",mean_lb)\n",
    "'''"
   ]
  }
 ],
 "metadata": {
  "interpreter": {
   "hash": "2d115bf10b0e668dcb87190753a806b5148f318a8c43dcc71050cbada9401607"
  },
  "kernelspec": {
   "display_name": "Python 3.9.7 ('tesis')",
   "language": "python",
   "name": "python3"
  },
  "language_info": {
   "codemirror_mode": {
    "name": "ipython",
    "version": 3
   },
   "file_extension": ".py",
   "mimetype": "text/x-python",
   "name": "python",
   "nbconvert_exporter": "python",
   "pygments_lexer": "ipython3",
   "version": "3.9.7"
  },
  "orig_nbformat": 4
 },
 "nbformat": 4,
 "nbformat_minor": 2
}
