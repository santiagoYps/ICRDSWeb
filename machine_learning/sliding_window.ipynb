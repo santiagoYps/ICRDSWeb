{
 "cells": [
  {
   "cell_type": "markdown",
   "metadata": {},
   "source": [
    "## Sliding time window\n",
    "La ventana de tiempo deslizante a implementar consta de ..."
   ]
  },
  {
   "cell_type": "markdown",
   "metadata": {},
   "source": [
    "### Imports"
   ]
  },
  {
   "cell_type": "code",
   "execution_count": 12,
   "metadata": {},
   "outputs": [],
   "source": [
    "import numpy as np\n",
    "import pandas as pd\n",
    "from scipy import stats as st\n",
    "import plotly.graph_objects as go\n",
    "from tqdm import tqdm"
   ]
  },
  {
   "cell_type": "markdown",
   "metadata": {},
   "source": [
    "### Load data"
   ]
  },
  {
   "cell_type": "code",
   "execution_count": 13,
   "metadata": {},
   "outputs": [
    {
     "name": "stdout",
     "output_type": "stream",
     "text": [
      "Train data size:  (285, 18)\n",
      "Near crash event data size:  (36,)\n",
      "No near crash event data size:  (249,)\n",
      "\n",
      "Train data size:  (453, 18)\n",
      "Near crash event data size:  (27,)\n",
      "No near crash event data size:  (426,)\n"
     ]
    },
    {
     "data": {
      "text/html": [
       "<div>\n",
       "<style scoped>\n",
       "    .dataframe tbody tr th:only-of-type {\n",
       "        vertical-align: middle;\n",
       "    }\n",
       "\n",
       "    .dataframe tbody tr th {\n",
       "        vertical-align: top;\n",
       "    }\n",
       "\n",
       "    .dataframe thead th {\n",
       "        text-align: right;\n",
       "    }\n",
       "</style>\n",
       "<table border=\"1\" class=\"dataframe\">\n",
       "  <thead>\n",
       "    <tr style=\"text-align: right;\">\n",
       "      <th></th>\n",
       "      <th>id</th>\n",
       "      <th>accX</th>\n",
       "      <th>accY</th>\n",
       "      <th>accZ</th>\n",
       "      <th>eventClass</th>\n",
       "      <th>idTrip</th>\n",
       "      <th>idVehicle</th>\n",
       "      <th>latitude</th>\n",
       "      <th>longitude</th>\n",
       "      <th>magX</th>\n",
       "      <th>magY</th>\n",
       "      <th>magZ</th>\n",
       "      <th>route</th>\n",
       "      <th>speed</th>\n",
       "      <th>timestamp</th>\n",
       "      <th>velAngX</th>\n",
       "      <th>velAngY</th>\n",
       "      <th>velAngZ</th>\n",
       "    </tr>\n",
       "  </thead>\n",
       "  <tbody>\n",
       "    <tr>\n",
       "      <th>0</th>\n",
       "      <td>33298</td>\n",
       "      <td>0.403783</td>\n",
       "      <td>-0.073523</td>\n",
       "      <td>9.706066</td>\n",
       "      <td>0</td>\n",
       "      <td>8</td>\n",
       "      <td>Nissan March (Xiaomi Redmi Note 9S)</td>\n",
       "      <td>0.83397</td>\n",
       "      <td>-77.650022</td>\n",
       "      <td>18.508649</td>\n",
       "      <td>-34.353202</td>\n",
       "      <td>55.055692</td>\n",
       "      <td>Frenada repentina</td>\n",
       "      <td>2.461921</td>\n",
       "      <td>2022-02-02 20:04:36.717000-05:00</td>\n",
       "      <td>-0.001237</td>\n",
       "      <td>-0.000063</td>\n",
       "      <td>0.001633</td>\n",
       "    </tr>\n",
       "    <tr>\n",
       "      <th>1</th>\n",
       "      <td>33299</td>\n",
       "      <td>0.409436</td>\n",
       "      <td>-0.058712</td>\n",
       "      <td>9.697756</td>\n",
       "      <td>0</td>\n",
       "      <td>8</td>\n",
       "      <td>Nissan March (Xiaomi Redmi Note 9S)</td>\n",
       "      <td>0.83397</td>\n",
       "      <td>-77.650022</td>\n",
       "      <td>18.521644</td>\n",
       "      <td>-34.350952</td>\n",
       "      <td>55.093206</td>\n",
       "      <td>Frenada repentina</td>\n",
       "      <td>2.461921</td>\n",
       "      <td>2022-02-02 20:04:36.766000-05:00</td>\n",
       "      <td>-0.000183</td>\n",
       "      <td>-0.000591</td>\n",
       "      <td>0.000768</td>\n",
       "    </tr>\n",
       "    <tr>\n",
       "      <th>2</th>\n",
       "      <td>33300</td>\n",
       "      <td>0.421113</td>\n",
       "      <td>-0.046665</td>\n",
       "      <td>9.694113</td>\n",
       "      <td>0</td>\n",
       "      <td>8</td>\n",
       "      <td>Nissan March (Xiaomi Redmi Note 9S)</td>\n",
       "      <td>0.83397</td>\n",
       "      <td>-77.650022</td>\n",
       "      <td>18.493717</td>\n",
       "      <td>-34.266642</td>\n",
       "      <td>55.234124</td>\n",
       "      <td>Frenada repentina</td>\n",
       "      <td>2.461921</td>\n",
       "      <td>2022-02-02 20:04:36.817000-05:00</td>\n",
       "      <td>-0.000239</td>\n",
       "      <td>-0.000639</td>\n",
       "      <td>0.000171</td>\n",
       "    </tr>\n",
       "    <tr>\n",
       "      <th>3</th>\n",
       "      <td>33301</td>\n",
       "      <td>0.421225</td>\n",
       "      <td>-0.044383</td>\n",
       "      <td>9.692595</td>\n",
       "      <td>0</td>\n",
       "      <td>8</td>\n",
       "      <td>Nissan March (Xiaomi Redmi Note 9S)</td>\n",
       "      <td>0.83397</td>\n",
       "      <td>-77.650022</td>\n",
       "      <td>18.550030</td>\n",
       "      <td>-34.188979</td>\n",
       "      <td>55.120226</td>\n",
       "      <td>Frenada repentina</td>\n",
       "      <td>2.461921</td>\n",
       "      <td>2022-02-02 20:04:36.866000-05:00</td>\n",
       "      <td>-0.000528</td>\n",
       "      <td>0.000297</td>\n",
       "      <td>0.000412</td>\n",
       "    </tr>\n",
       "    <tr>\n",
       "      <th>4</th>\n",
       "      <td>33302</td>\n",
       "      <td>0.429121</td>\n",
       "      <td>-0.056823</td>\n",
       "      <td>9.685791</td>\n",
       "      <td>0</td>\n",
       "      <td>8</td>\n",
       "      <td>Nissan March (Xiaomi Redmi Note 9S)</td>\n",
       "      <td>0.83397</td>\n",
       "      <td>-77.650022</td>\n",
       "      <td>18.452783</td>\n",
       "      <td>-34.043353</td>\n",
       "      <td>55.051104</td>\n",
       "      <td>Frenada repentina</td>\n",
       "      <td>2.461921</td>\n",
       "      <td>2022-02-02 20:04:36.920000-05:00</td>\n",
       "      <td>0.000191</td>\n",
       "      <td>-0.000764</td>\n",
       "      <td>0.000137</td>\n",
       "    </tr>\n",
       "  </tbody>\n",
       "</table>\n",
       "</div>"
      ],
      "text/plain": [
       "      id      accX      accY      accZ  eventClass  idTrip  \\\n",
       "0  33298  0.403783 -0.073523  9.706066           0       8   \n",
       "1  33299  0.409436 -0.058712  9.697756           0       8   \n",
       "2  33300  0.421113 -0.046665  9.694113           0       8   \n",
       "3  33301  0.421225 -0.044383  9.692595           0       8   \n",
       "4  33302  0.429121 -0.056823  9.685791           0       8   \n",
       "\n",
       "                             idVehicle  latitude  longitude       magX  \\\n",
       "0  Nissan March (Xiaomi Redmi Note 9S)   0.83397 -77.650022  18.508649   \n",
       "1  Nissan March (Xiaomi Redmi Note 9S)   0.83397 -77.650022  18.521644   \n",
       "2  Nissan March (Xiaomi Redmi Note 9S)   0.83397 -77.650022  18.493717   \n",
       "3  Nissan March (Xiaomi Redmi Note 9S)   0.83397 -77.650022  18.550030   \n",
       "4  Nissan March (Xiaomi Redmi Note 9S)   0.83397 -77.650022  18.452783   \n",
       "\n",
       "        magY       magZ              route     speed  \\\n",
       "0 -34.353202  55.055692  Frenada repentina  2.461921   \n",
       "1 -34.350952  55.093206  Frenada repentina  2.461921   \n",
       "2 -34.266642  55.234124  Frenada repentina  2.461921   \n",
       "3 -34.188979  55.120226  Frenada repentina  2.461921   \n",
       "4 -34.043353  55.051104  Frenada repentina  2.461921   \n",
       "\n",
       "                          timestamp   velAngX   velAngY   velAngZ  \n",
       "0  2022-02-02 20:04:36.717000-05:00 -0.001237 -0.000063  0.001633  \n",
       "1  2022-02-02 20:04:36.766000-05:00 -0.000183 -0.000591  0.000768  \n",
       "2  2022-02-02 20:04:36.817000-05:00 -0.000239 -0.000639  0.000171  \n",
       "3  2022-02-02 20:04:36.866000-05:00 -0.000528  0.000297  0.000412  \n",
       "4  2022-02-02 20:04:36.920000-05:00  0.000191 -0.000764  0.000137  "
      ]
     },
     "execution_count": 13,
     "metadata": {},
     "output_type": "execute_result"
    }
   ],
   "source": [
    "df_train = pd.read_csv('./filtered_data/smartphone_02-Feb-2022-20-04_frenada repentina_Data-Mv2FX62bOlZJlm8VJJx.csv')\n",
    "df_test = pd.read_csv('./filtered_data/smartphone_02-Feb-2022-20-01_frenada repentina_Data-Mv2EUSpYPrGpMG3qjaD.csv')\n",
    "\n",
    "\n",
    "print(\"Train data size: \", df_train.shape)\n",
    "print(\"Near crash event data size: \", df_train[\"eventClass\"][df_train[\"eventClass\"] == 1].shape)\n",
    "print(\"No near crash event data size: \", df_train[\"eventClass\"][df_train[\"eventClass\"] == 0].shape)\n",
    "\n",
    "\n",
    "print(\"\\nTrain data size: \", df_test.shape)\n",
    "print(\"Near crash event data size: \", df_test[\"eventClass\"][df_test[\"eventClass\"] == 1].shape)\n",
    "print(\"No near crash event data size: \", df_test[\"eventClass\"][df_test[\"eventClass\"] == 0].shape)\n",
    "\n",
    "df_train.head()"
   ]
  },
  {
   "cell_type": "markdown",
   "metadata": {},
   "source": [
    "### Select the interest variables"
   ]
  },
  {
   "cell_type": "code",
   "execution_count": 14,
   "metadata": {},
   "outputs": [
    {
     "name": "stdout",
     "output_type": "stream",
     "text": [
      "Variables Train shape (285, 3)\n",
      "Variables Test shape (453, 3)\n"
     ]
    }
   ],
   "source": [
    "# Transform pandas.Series to numpy.Array\n",
    "\n",
    "#variables = df[[\"speed\",\"accX\",\"accY\",\"magX\",\"magY\",\"magZ\",\n",
    "#                \"velAngX\",\"velAngY\",\"velAngZ\",\"timestamp\",\n",
    "#                \"eventClass\"]].to_numpy()\n",
    "\n",
    "select_v = [\"speed\",\"accY\", \"eventClass\"]\n",
    "variables_train = df_train[select_v].to_numpy()\n",
    "print(\"Variables Train shape\", variables_train.shape)\n",
    "\n",
    "variables_test = df_test[select_v].to_numpy()\n",
    "print(\"Variables Test shape\", variables_test.shape)"
   ]
  },
  {
   "cell_type": "markdown",
   "metadata": {},
   "source": [
    "### Make a sliding window\n",
    "\n",
    "The sliding window have this shape:\n",
    "\n",
    "$ rows = m - ws + 1 \\\\  columns = ws \\\\ pages = d$\n",
    "\n",
    "![](https://es.mathworks.com/help/matlab/math/nddemo_02_es.gif)\n",
    "\n",
    "Where:\n",
    "- ***m***:  Is the data size,\n",
    "- ***ws***: Is the window size\n",
    "- ***d***:  Is the dimensions of the data (measured variables)\n"
   ]
  },
  {
   "cell_type": "markdown",
   "metadata": {},
   "source": [
    "#### Naive alternative"
   ]
  },
  {
   "cell_type": "code",
   "execution_count": 15,
   "metadata": {},
   "outputs": [],
   "source": [
    "# Select axis 0 to slide over all rows of the data\n",
    "def sliding_windows(variables):\n",
    "      ws = 20\n",
    "      sld_window = np.lib.stride_tricks.sliding_window_view(variables, ws, axis=0)#[::1, :] # Add this for define window step\n",
    "\n",
    "      # Sample of sliding window \n",
    "      print(\"Sample of sliding window\")\n",
    "      print(\"sliding window shape: \",sld_window.shape)\n",
    "      print(sld_window[0:2,:,:])\n",
    "\n",
    "      # Processing the sliding window\n",
    "      measured_variables = sld_window[:,0:2,:]   #TODO: obtener el numero de dimensiones \"d\" no harcodear\n",
    "      event_variables = sld_window[:,2,:]\n",
    "\n",
    "      # Mean, median, std, max and min value for measured variables\n",
    "      mean = measured_variables.mean(axis=2)\n",
    "      median = np.median(measured_variables, axis=2)\n",
    "      std = measured_variables.std(axis=2)\n",
    "      max_val = measured_variables.max(axis=2)\n",
    "      min_val = measured_variables.min(axis=2)\n",
    "\n",
    "      # Tendency for measured variables\n",
    "      divider = np.array([mean[0],*mean[:-1]])\n",
    "      tendency = mean/np.where(divider == 0, 1, divider)\n",
    "      tendency = np.nan_to_num(tendency, nan=0, posinf=60, neginf=0)\n",
    "\n",
    "      # Event class for measured variables\n",
    "      event_mode = st.mode(event_variables, axis=1)[0]\n",
    "\n",
    "      print(\"\\nSample of sliding window process\")\n",
    "      print(\"Processing slide window shape: \" +\n",
    "            \"mean={}, median={}, std={}, max_val={}, min_val={}, tendency={}, event_mode={}\"\n",
    "            .format(mean.shape, median.shape, std.shape, max_val.shape, min_val.shape, tendency.shape, event_mode.shape))\n",
    "      print(\"Mean:\\n {} \\nMedian:\\n {} \\nStandard deviation:\\n {} \\nMax_val:\\n {} \\nMin_val\\n {} \\ntendency:\\n {} \\nEvent class Mode:\\n {}\"\n",
    "            .format(mean[41:44,:], median[0:2,:], std[0:2,:], max_val[0:2,:], min_val[0:2,:], tendency[41:44], event_mode[0:2]))\n",
    "\n",
    "      # Concatenate processing data\n",
    "      input_features = np.concatenate((mean, median, std, max_val, min_val, tendency), axis=1)\n",
    "      labels = event_mode.reshape(event_mode.shape[0])\n",
    "      print(input_features)\n",
    "      print(labels)\n",
    "\n",
    "      return (input_features, labels)\n"
   ]
  },
  {
   "cell_type": "code",
   "execution_count": 16,
   "metadata": {},
   "outputs": [
    {
     "name": "stdout",
     "output_type": "stream",
     "text": [
      "Sample of sliding window\n",
      "sliding window shape:  (266, 3, 20)\n",
      "[[[ 2.46192074  2.46192074  2.46192074  2.46192074  2.46192074\n",
      "    2.46192074  2.46192074  2.46192074  2.46192074  2.46192074\n",
      "    2.46192074  2.46192074  2.46192074  2.46192074  2.46192074\n",
      "    2.46192074  2.46192074  2.46192074  2.46192074  2.46192074]\n",
      "  [-0.07352327 -0.05871203 -0.04666547 -0.04438339 -0.05682263\n",
      "   -0.05333645 -0.05462275 -0.05607886 -0.05829544 -0.04074477\n",
      "    0.0196186   0.09289578  0.10693002  0.07242159  0.06981174\n",
      "    0.05378083  0.03740918  0.03894125  0.01057811  0.01713757]\n",
      "  [ 0.          0.          0.          0.          0.\n",
      "    0.          0.          0.          0.          0.\n",
      "    0.          0.          0.          0.          0.\n",
      "    0.          0.          0.          0.          0.        ]]\n",
      "\n",
      " [[ 2.46192074  2.46192074  2.46192074  2.46192074  2.46192074\n",
      "    2.46192074  2.46192074  2.46192074  2.46192074  2.46192074\n",
      "    2.46192074  2.46192074  2.46192074  2.46192074  2.46192074\n",
      "    2.46192074  2.46192074  2.46192074  2.46192074  2.46192074]\n",
      "  [-0.05871203 -0.04666547 -0.04438339 -0.05682263 -0.05333645\n",
      "   -0.05462275 -0.05607886 -0.05829544 -0.04074477  0.0196186\n",
      "    0.09289578  0.10693002  0.07242159  0.06981174  0.05378083\n",
      "    0.03740918  0.03894125  0.01057811  0.01713757  0.009631  ]\n",
      "  [ 0.          0.          0.          0.          0.\n",
      "    0.          0.          0.          0.          0.\n",
      "    0.          0.          0.          0.          0.\n",
      "    0.          0.          0.          0.          0.        ]]]\n",
      "\n",
      "Sample of sliding window process\n",
      "Processing slide window shape: mean=(266, 2), median=(266, 2), std=(266, 2), max_val=(266, 2), min_val=(266, 2), tendency=(266, 2), event_mode=(266, 1)\n",
      "Mean:\n",
      " [[0.12309604 1.90009441]\n",
      " [0.         1.91785222]\n",
      " [0.0023756  1.91210121]] \n",
      "Median:\n",
      " [[ 2.46192074 -0.01508333]\n",
      " [ 2.46192074  0.01010456]] \n",
      "Standard deviation:\n",
      " [[0.         0.05788516]\n",
      " [0.         0.0554761 ]] \n",
      "Max_val:\n",
      " [[2.46192074 0.10693002]\n",
      " [2.46192074 0.10693002]] \n",
      "Min_val\n",
      " [[ 2.46192074 -0.07352327]\n",
      " [ 2.46192074 -0.05871203]] \n",
      "tendency:\n",
      " [[0.5        1.00565702]\n",
      " [0.         1.00934575]\n",
      " [0.0023756  0.99700133]] \n",
      "Event class Mode:\n",
      " [[0.]\n",
      " [0.]]\n",
      "[[ 2.46192074e+00 -1.18301998e-03  2.46192074e+00 ... -7.35232672e-02\n",
      "   1.00000000e+00  1.00000000e+00]\n",
      " [ 2.46192074e+00  2.97469341e-03  2.46192074e+00 ... -5.87120287e-02\n",
      "   1.00000000e+00 -2.51449127e+00]\n",
      " [ 2.46192074e+00  1.92264996e-02  2.46192074e+00 ... -5.82954359e-02\n",
      "   1.00000000e+00  6.46335502e+00]\n",
      " ...\n",
      " [ 4.57254071e+00  1.59424097e-02  4.67708492e+00 ... -4.71847982e-02\n",
      "   9.77647571e-01  1.16279987e+00]\n",
      " [ 4.46799650e+00  1.70423654e-02  4.67708492e+00 ... -4.71847982e-02\n",
      "   9.77136516e-01  1.06899557e+00]\n",
      " [ 4.36345229e+00  1.57803923e-02  4.67708492e+00 ... -4.71847982e-02\n",
      "   9.76601546e-01  9.25950823e-01]]\n",
      "[0. 0. 0. 0. 0. 0. 0. 0. 0. 0. 0. 0. 0. 0. 0. 0. 0. 0. 0. 0. 0. 0. 0. 0.\n",
      " 0. 0. 0. 0. 0. 0. 0. 0. 0. 0. 0. 0. 0. 0. 0. 0. 0. 0. 0. 0. 0. 0. 0. 0.\n",
      " 0. 0. 0. 0. 0. 0. 0. 0. 0. 0. 0. 0. 0. 0. 0. 0. 0. 0. 0. 0. 0. 0. 0. 0.\n",
      " 0. 0. 0. 0. 0. 0. 0. 0. 0. 0. 0. 0. 0. 0. 0. 0. 0. 0. 0. 0. 0. 0. 0. 0.\n",
      " 0. 0. 0. 0. 0. 0. 0. 0. 0. 0. 0. 0. 0. 0. 0. 0. 0. 0. 0. 0. 0. 0. 0. 0.\n",
      " 0. 0. 0. 0. 0. 0. 0. 0. 0. 0. 0. 0. 0. 0. 0. 0. 0. 0. 0. 0. 0. 0. 0. 0.\n",
      " 0. 0. 0. 0. 0. 0. 0. 0. 0. 0. 0. 0. 0. 0. 0. 0. 0. 0. 0. 0. 0. 0. 0. 0.\n",
      " 0. 0. 0. 0. 0. 0. 0. 0. 0. 0. 0. 0. 0. 0. 0. 0. 0. 0. 0. 0. 0. 0. 0. 0.\n",
      " 0. 0. 0. 0. 0. 0. 0. 0. 0. 0. 0. 1. 1. 1. 1. 1. 1. 1. 1. 1. 1. 1. 1. 1.\n",
      " 1. 1. 1. 1. 1. 1. 1. 1. 1. 1. 1. 1. 1. 1. 1. 1. 1. 1. 1. 1. 1. 1. 0. 0.\n",
      " 0. 0. 0. 0. 0. 0. 0. 0. 0. 0. 0. 0. 0. 0. 0. 0. 0. 0. 0. 0. 0. 0. 0. 0.\n",
      " 0. 0.]\n",
      "Sample of sliding window\n",
      "sliding window shape:  (434, 3, 20)\n",
      "[[[11.96934891 11.96934891 11.96934891 11.96934891 11.96934891\n",
      "   11.96934891 11.96934891 11.96934891 11.96934891 11.96934891\n",
      "   11.96934891 11.96934891 11.96934891 11.96934891 11.96934891\n",
      "   11.96934891 11.96934891 11.96934891 11.96934891 11.96934891]\n",
      "  [ 0.07019764  0.22866275  0.10265245  0.32276705  0.2089193\n",
      "    0.23826484  0.19444183  0.08984742  0.01422979 -0.29161814\n",
      "   -0.28239524 -0.35832893 -0.22625829 -0.29308858 -0.22450749\n",
      "   -0.27151414 -0.16681903 -0.20949545 -0.15457082 -0.15464048]\n",
      "  [ 0.          0.          0.          0.          0.\n",
      "    0.          0.          0.          0.          0.\n",
      "    0.          0.          0.          0.          0.\n",
      "    0.          0.          0.          0.          0.        ]]\n",
      "\n",
      " [[11.96934891 11.96934891 11.96934891 11.96934891 11.96934891\n",
      "   11.96934891 11.96934891 11.96934891 11.96934891 11.96934891\n",
      "   11.96934891 11.96934891 11.96934891 11.96934891 11.96934891\n",
      "   11.96934891 11.96934891 11.96934891 11.96934891 11.96934891]\n",
      "  [ 0.22866275  0.10265245  0.32276705  0.2089193   0.23826484\n",
      "    0.19444183  0.08984742  0.01422979 -0.29161814 -0.28239524\n",
      "   -0.35832893 -0.22625829 -0.29308858 -0.22450749 -0.27151414\n",
      "   -0.16681903 -0.20949545 -0.15457082 -0.15464048  0.18094484]\n",
      "  [ 0.          0.          0.          0.          0.\n",
      "    0.          0.          0.          0.          0.\n",
      "    0.          0.          0.          0.          0.\n",
      "    0.          0.          0.          0.          0.        ]]]\n",
      "\n",
      "Sample of sliding window process\n",
      "Processing slide window shape: mean=(434, 2), median=(434, 2), std=(434, 2), max_val=(434, 2), min_val=(434, 2), tendency=(434, 2), event_mode=(434, 1)\n",
      "Mean:\n",
      " [[11.96934891  1.4812938 ]\n",
      " [11.96934891  1.54510995]\n",
      " [11.96934891  1.61086044]] \n",
      "Median:\n",
      " [[11.96934891 -0.15460565]\n",
      " [11.96934891 -0.15460565]] \n",
      "Standard deviation:\n",
      " [[0.         0.21502331]\n",
      " [0.         0.21963416]] \n",
      "Max_val:\n",
      " [[11.96934891  0.32276705]\n",
      " [11.96934891  0.32276705]] \n",
      "Min_val\n",
      " [[11.96934891 -0.35832893]\n",
      " [11.96934891 -0.35832893]] \n",
      "tendency:\n",
      " [[1.         1.05858869]\n",
      " [1.         1.04308136]\n",
      " [1.         1.04255392]] \n",
      "Event class Mode:\n",
      " [[0.]\n",
      " [0.]]\n",
      "[[11.96934891 -0.05816268 11.96934891 ... -0.35832893  1.\n",
      "   1.        ]\n",
      " [11.96934891 -0.05262532 11.96934891 ... -0.35832893  1.\n",
      "   0.9047953 ]\n",
      " [11.96934891 -0.05869065 11.96934891 ... -0.35832893  1.\n",
      "   1.11525497]\n",
      " ...\n",
      " [ 0.87282805 -0.94310788  0.47555488 ... -1.16952495  1.12839953\n",
      "   1.00381931]\n",
      " [ 0.97214635 -0.93205717  0.47555488 ... -1.16952495  1.11378907\n",
      "   0.98828267]\n",
      " [ 1.07146464 -0.89715833  0.47555488 ... -1.16952495  1.10216393\n",
      "   0.96255719]]\n",
      "[0. 0. 0. 0. 0. 0. 0. 0. 0. 0. 0. 0. 0. 0. 0. 0. 0. 0. 0. 0. 0. 0. 0. 0.\n",
      " 0. 0. 0. 0. 0. 0. 0. 0. 0. 0. 0. 0. 0. 0. 0. 0. 0. 0. 0. 0. 0. 0. 0. 0.\n",
      " 0. 0. 0. 0. 0. 0. 0. 0. 0. 0. 0. 0. 0. 0. 0. 0. 0. 0. 0. 0. 0. 0. 0. 0.\n",
      " 0. 0. 0. 0. 0. 0. 0. 0. 0. 0. 0. 0. 0. 0. 0. 0. 0. 0. 0. 0. 0. 0. 0. 0.\n",
      " 0. 0. 0. 0. 0. 0. 0. 0. 0. 0. 0. 0. 0. 0. 0. 0. 0. 0. 0. 0. 0. 0. 0. 0.\n",
      " 0. 0. 0. 0. 0. 0. 0. 0. 0. 0. 0. 0. 0. 0. 0. 0. 0. 0. 0. 0. 0. 0. 0. 0.\n",
      " 0. 0. 0. 0. 0. 0. 0. 0. 0. 0. 0. 0. 0. 0. 0. 0. 0. 0. 0. 0. 0. 0. 0. 0.\n",
      " 0. 0. 0. 0. 0. 0. 0. 0. 0. 0. 0. 0. 0. 0. 0. 0. 0. 0. 0. 0. 0. 0. 0. 1.\n",
      " 1. 1. 1. 1. 1. 1. 1. 1. 1. 1. 1. 1. 1. 1. 1. 1. 1. 1. 1. 1. 1. 1. 1. 1.\n",
      " 1. 0. 0. 0. 0. 0. 0. 0. 0. 0. 0. 0. 0. 0. 0. 0. 0. 0. 0. 0. 0. 0. 0. 0.\n",
      " 0. 0. 0. 0. 0. 0. 0. 0. 0. 0. 0. 0. 0. 0. 0. 0. 0. 0. 0. 0. 0. 0. 0. 0.\n",
      " 0. 0. 0. 0. 0. 0. 0. 0. 0. 0. 0. 0. 0. 0. 0. 0. 0. 0. 0. 0. 0. 0. 0. 0.\n",
      " 0. 0. 0. 0. 0. 0. 0. 0. 0. 0. 0. 0. 0. 0. 0. 0. 0. 0. 0. 0. 0. 0. 0. 0.\n",
      " 0. 0. 0. 0. 0. 0. 0. 0. 0. 0. 0. 0. 0. 0. 0. 0. 0. 0. 0. 0. 0. 0. 0. 0.\n",
      " 0. 0. 0. 0. 0. 0. 0. 0. 0. 0. 0. 0. 0. 0. 0. 0. 0. 0. 0. 0. 0. 0. 0. 0.\n",
      " 0. 0. 0. 0. 0. 0. 0. 0. 0. 0. 0. 0. 0. 0. 0. 0. 0. 0. 0. 0. 0. 0. 0. 0.\n",
      " 0. 0. 0. 0. 0. 0. 0. 0. 0. 0. 0. 0. 0. 0. 0. 0. 0. 0. 0. 0. 0. 0. 0. 0.\n",
      " 0. 0. 0. 0. 0. 0. 0. 0. 0. 0. 0. 0. 0. 0. 0. 0. 0. 0. 0. 0. 0. 0. 0. 0.\n",
      " 0. 0.]\n"
     ]
    }
   ],
   "source": [
    "X_train, y_train = sliding_windows(variables_train)\n",
    "X_test, y_test = sliding_windows(variables_test)"
   ]
  },
  {
   "cell_type": "markdown",
   "metadata": {},
   "source": [
    "#### Input features"
   ]
  },
  {
   "cell_type": "code",
   "execution_count": 17,
   "metadata": {},
   "outputs": [
    {
     "name": "stdout",
     "output_type": "stream",
     "text": [
      "Input features shape: (266, 12)\n",
      "[[ 2.46192074e+00 -1.18301998e-03  2.46192074e+00 -1.50833303e-02\n",
      "   0.00000000e+00  5.78851645e-02  2.46192074e+00  1.06930018e-01\n",
      "   2.46192074e+00 -7.35232672e-02  1.00000000e+00  1.00000000e+00]\n",
      " [ 2.46192074e+00  2.97469341e-03  2.46192074e+00  1.01045560e-02\n",
      "   0.00000000e+00  5.54760964e-02  2.46192074e+00  1.06930018e-01\n",
      "   2.46192074e+00 -5.87120287e-02  1.00000000e+00 -2.51449127e+00]\n",
      " [ 2.46192074e+00  1.92264996e-02  2.46192074e+00  1.38578403e-02\n",
      "   0.00000000e+00  7.80439546e-02  2.46192074e+00  2.66324095e-01\n",
      "   2.46192074e+00 -5.82954359e-02  1.00000000e+00  6.46335502e+00]\n",
      " [ 2.46192074e+00  2.68750717e-02  2.46192074e+00  1.83780822e-02\n",
      "   0.00000000e+00  7.87045888e-02  2.46192074e+00  2.66324095e-01\n",
      "   2.46192074e+00 -5.82954359e-02  1.00000000e+00  1.39781407e+00]\n",
      " [ 2.46192074e+00  4.23853840e-02  2.46192074e+00  2.85138880e-02\n",
      "   0.00000000e+00  9.24919262e-02  2.46192074e+00  2.66324095e-01\n",
      "   2.46192074e+00 -5.82954359e-02  1.00000000e+00  1.57712636e+00]]\n",
      "train features shape: (434, 12)\n",
      "[[11.96934891 -0.05816268 11.96934891 -0.15460565  0.          0.21502331\n",
      "  11.96934891  0.32276705 11.96934891 -0.35832893  1.          1.        ]\n",
      " [11.96934891 -0.05262532 11.96934891 -0.15460565  0.          0.21963416\n",
      "  11.96934891  0.32276705 11.96934891 -0.35832893  1.          0.9047953 ]\n",
      " [11.96934891 -0.05869065 11.96934891 -0.15460565  0.          0.21336806\n",
      "  11.96934891  0.32276705 11.96934891 -0.35832893  1.          1.11525497]\n",
      " [11.96934891 -0.03412445 11.96934891 -0.15460565  0.          0.25479317\n",
      "  11.96934891  0.5939763  11.96934891 -0.35832893  1.          0.58142916]\n",
      " [11.96934891 -0.01811111 11.96934891 -0.15460565  0.          0.28499425\n",
      "  11.96934891  0.64303382 11.96934891 -0.35832893  1.          0.53073714]]\n",
      "Near crash event train data size:  (35,)\n",
      "No near crash event testdata size:  (231,)\n",
      "Near crash event test data size:  (26,)\n",
      "No near crash event test data size:  (408,)\n"
     ]
    }
   ],
   "source": [
    "print(\"Input features shape:\", X_train.shape)\n",
    "print(X_train[0:5])\n",
    "\n",
    "print(\"train features shape:\", X_test.shape)\n",
    "print(X_test[0:5])\n",
    "\n",
    "print(\"Near crash event train data size: \", np.where(y_train == 1)[0].shape)\n",
    "print(\"No near crash event testdata size: \", np.where(y_train == 0)[0].shape)\n",
    "\n",
    "print(\"Near crash event test data size: \", np.where(y_test == 1)[0].shape)\n",
    "print(\"No near crash event test data size: \", np.where(y_test == 0)[0].shape)"
   ]
  },
  {
   "cell_type": "markdown",
   "metadata": {},
   "source": [
    "## Machine Learning "
   ]
  },
  {
   "cell_type": "markdown",
   "metadata": {},
   "source": [
    "Make a Machine Learning algorithms"
   ]
  },
  {
   "cell_type": "code",
   "execution_count": 18,
   "metadata": {},
   "outputs": [
    {
     "data": {
      "text/plain": [
       "SVC(C=1, random_state=0)"
      ]
     },
     "execution_count": 18,
     "metadata": {},
     "output_type": "execute_result"
    }
   ],
   "source": [
    "from sklearn import svm\n",
    "from sklearn.model_selection import train_test_split\n",
    "\n",
    "clf = svm.SVC(C=1, gamma='scale', kernel='rbf', random_state=0)\n",
    "clf.fit(X_train, y_train)\n",
    "#clf.predict(X_test)"
   ]
  },
  {
   "cell_type": "markdown",
   "metadata": {},
   "source": [
    "#### Test ML algorithm"
   ]
  },
  {
   "cell_type": "code",
   "execution_count": 19,
   "metadata": {},
   "outputs": [
    {
     "name": "stdout",
     "output_type": "stream",
     "text": [
      "Accuracy: 0.99\n",
      "Precision: 1.00\n",
      "Recall: 0.88\n",
      "F1: 0.94\n",
      "Count total data predicted:  Counter({0.0: 411, 1.0: 23})\n"
     ]
    }
   ],
   "source": [
    "from sklearn.metrics import accuracy_score, precision_score, recall_score, f1_score\n",
    "from collections import Counter\n",
    "# Accuracy = TP + TN / (TP + TN + FP + FN)\n",
    "# Precision = TP / (TP + FP)\n",
    "# Recall = TP / (TP + FN)  Also known as sensitivity, or True Positive Rate\n",
    "# F1 = 2 * Precision * Recall / (Precision + Recall) \n",
    "y_predict = clf.predict(X_test)\n",
    "y_score = clf.decision_function(X_test)\n",
    "#y_predict_proba = clf.predict_proba(X_test)\n",
    "print('Accuracy: {:.2f}'.format(accuracy_score(y_test, y_predict)))\n",
    "print('Precision: {:.2f}'.format(precision_score(y_test, y_predict)))\n",
    "print('Recall: {:.2f}'.format(recall_score(y_test, y_predict)))\n",
    "print('F1: {:.2f}'.format(f1_score(y_test, y_predict)))\n",
    "#print(\"Accuracy: \", clf.score(X_test, y_test))\n",
    "\n",
    "print(\"Count total data predicted: \",Counter(y_predict))"
   ]
  },
  {
   "cell_type": "markdown",
   "metadata": {},
   "source": [
    "#### Confusion matrix"
   ]
  },
  {
   "cell_type": "code",
   "execution_count": null,
   "metadata": {},
   "outputs": [
    {
     "data": {
      "image/png": "[encoded data removed]",
      "text/plain": [
       "<Figure size 432x288 with 2 Axes>"
      ]
     },
     "metadata": {
      "needs_background": "light"
     },
     "output_type": "display_data"
    }
   ],
   "source": [
    "from sklearn.metrics import confusion_matrix\n",
    "import matplotlib.pyplot as plt\n",
    "from sklearn.metrics import ConfusionMatrixDisplay\n",
    "\n",
    "cf_matrix = confusion_matrix(y_test, y_predict)\n",
    "disp = ConfusionMatrixDisplay(cf_matrix)\n",
    "disp.plot()\n",
    "plt.show()"
   ]
  },
  {
   "cell_type": "markdown",
   "metadata": {},
   "source": [
    "#### Roc curves and Area Under Curve (AUC)"
   ]
  },
  {
   "cell_type": "code",
   "execution_count": null,
   "metadata": {},
   "outputs": [
    {
     "name": "stdout",
     "output_type": "stream",
     "text": [
      "gamma = 0.01  accuracy = 0.96   AUC = 1.00\n",
      "gamma = 0.10  accuracy = 0.94   AUC = 0.99\n",
      "gamma = 0.20  accuracy = 0.94   AUC = 0.99\n",
      "gamma = 1.00  accuracy = 0.94   AUC = 0.84\n"
     ]
    },
    {
     "data": {
      "image/png": "[encoded data removed]",
      "text/plain": [
       "<Figure size 432x288 with 1 Axes>"
      ]
     },
     "metadata": {
      "needs_background": "light"
     },
     "output_type": "display_data"
    }
   ],
   "source": [
    "from sklearn.metrics import roc_curve, auc\n",
    "\n",
    "plt.figure()\n",
    "plt.xlim([-0.01, 1.00])\n",
    "plt.ylim([-0.01, 1.01])\n",
    "for g in [0.01, 0.1, 0.20, 1]:\n",
    "    clf = svm.SVC(C=1, gamma=g, kernel='rbf', random_state=0).fit(X_train, y_train)\n",
    "    y_score = clf.decision_function(X_test)\n",
    "    fpr, tpr, _ = roc_curve(y_test, y_score)\n",
    "    roc_auc = auc(fpr, tpr)\n",
    "    accuracy = clf.score(X_test, y_test)\n",
    "    print(\"gamma = {:.2f}  accuracy = {:.2f}   AUC = {:.2f}\".format(g, accuracy, \n",
    "                                                                    roc_auc))\n",
    "    plt.plot(fpr, tpr, lw=3, alpha=0.7, \n",
    "             label='SVM (gamma = {:0.2f}, area = {:0.2f})'.format(g, roc_auc))\n",
    "\n",
    "plt.xlabel('False Positive Rate', fontsize=16)\n",
    "plt.ylabel('True Positive Rate (Recall)', fontsize=16)\n",
    "plt.plot([0, 1], [0, 1], color='k', lw=0.5, linestyle='--')\n",
    "plt.legend(loc=\"lower right\", fontsize=11)\n",
    "plt.title('ROC curve: ', fontsize=16)\n",
    "#plt.axes().set_aspect('equal')\n",
    "\n",
    "plt.show()"
   ]
  },
  {
   "cell_type": "code",
   "execution_count": null,
   "metadata": {},
   "outputs": [
    {
     "data": {
      "text/plain": [
       "'\\ndef trend(arr):\\n    \"\"\"This function calculates the trend with the unique loopback option for this type of calculation\\n\\n    This tendency is not make for frame form, for this reason the equation is this: register(i)/last_register\\n    where \"i\" is the position of a register\\n\\n    Note: I calculate the first tendency how last_register/last_register = 1, \\n    this data appear in all first values of all rows in the slide window\\n    \"\"\"\\n    t = [arr[-i]/arr[-1] for i in range(1, len(arr)+1)]\\n    #mean[::-1]/mean[-1]\\n    #for i in range(1,len(array)+1):\\n    #    t.append(array[-i]/array[-1])\\n    return np.array(t)\\n\\nvariables_trend = np.apply_along_axis(trend, axis=2, arr=measured_variables)\\nvariables_trend = variables_trend.reshape(variables_trend.shape[0], variables_trend.shape[1]*ws)   # Son 20 para la speed y 20 para la accY\\nprint(\"\\nSample of sliding window process for tendency\")\\nprint(\"Tendency slide window shape: \", variables_trend.shape)\\nprint(\"Tendency:\\n {}\".format(variables_trend[0:2,:]))\\n'"
      ]
     },
     "execution_count": 33,
     "metadata": {},
     "output_type": "execute_result"
    }
   ],
   "source": [
    "# Tendency\n",
    "'''\n",
    "def trend(arr):\n",
    "    \"\"\"This function calculates the trend with the unique loopback option for this type of calculation\n",
    "\n",
    "    This tendency is not make for frame form, for this reason the equation is this: register(i)/last_register\n",
    "    where \"i\" is the position of a register\n",
    "\n",
    "    Note: I calculate the first tendency how last_register/last_register = 1, \n",
    "    this data appear in all first values of all rows in the slide window\n",
    "    \"\"\"\n",
    "    t = [arr[-i]/arr[-1] for i in range(1, len(arr)+1)]\n",
    "    #mean[::-1]/mean[-1]\n",
    "    #for i in range(1,len(array)+1):\n",
    "    #    t.append(array[-i]/array[-1])\n",
    "    return np.array(t)\n",
    "\n",
    "variables_trend = np.apply_along_axis(trend, axis=2, arr=measured_variables)\n",
    "variables_trend = variables_trend.reshape(variables_trend.shape[0], variables_trend.shape[1]*ws)   # Son 20 para la speed y 20 para la accY\n",
    "print(\"\\nSample of sliding window process for tendency\")\n",
    "print(\"Tendency slide window shape: \", variables_trend.shape)\n",
    "print(\"Tendency:\\n {}\".format(variables_trend[0:2,:]))\n",
    "'''"
   ]
  },
  {
   "cell_type": "code",
   "execution_count": null,
   "metadata": {},
   "outputs": [
    {
     "data": {
      "text/plain": [
       "'\\ndef means_loopback(array):\\n    \"\"\"This functions calculate the means with loop back option\\n    \"\"\"\\n    means = []\\n    for i in range(1,len(array)+1):\\n        means.append(array[-i:].mean())\\n    return np.array(means)\\n\\nprint(\"data to get loop back mean: \\n\", measured_variables[0:2,:,:])\\n# mean loopback test\\nmean_lb = np.apply_along_axis(means_loopback, 2, measured_variables[0:2,:,:])\\nprint(\"Mean loopback: \\n\",mean_lb)\\n'"
      ]
     },
     "execution_count": 34,
     "metadata": {},
     "output_type": "execute_result"
    }
   ],
   "source": [
    "# tendency\n",
    "'''\n",
    "def means_loopback(array):\n",
    "    \"\"\"This functions calculate the means with loop back option\n",
    "    \"\"\"\n",
    "    means = []\n",
    "    for i in range(1,len(array)+1):\n",
    "        means.append(array[-i:].mean())\n",
    "    return np.array(means)\n",
    "\n",
    "print(\"data to get loop back mean: \\n\", measured_variables[0:2,:,:])\n",
    "# mean loopback test\n",
    "mean_lb = np.apply_along_axis(means_loopback, 2, measured_variables[0:2,:,:])\n",
    "print(\"Mean loopback: \\n\",mean_lb)\n",
    "'''"
   ]
  },
  {
   "cell_type": "code",
   "execution_count": null,
   "metadata": {},
   "outputs": [],
   "source": []
  }
 ],
 "metadata": {
  "interpreter": {
   "hash": "2d115bf10b0e668dcb87190753a806b5148f318a8c43dcc71050cbada9401607"
  },
  "kernelspec": {
   "display_name": "Python 3.9.7 ('tesis')",
   "language": "python",
   "name": "python3"
  },
  "language_info": {
   "codemirror_mode": {
    "name": "ipython",
    "version": 3
   },
   "file_extension": ".py",
   "mimetype": "text/x-python",
   "name": "python",
   "nbconvert_exporter": "python",
   "pygments_lexer": "ipython3",
   "version": "3.9.7"
  },
  "orig_nbformat": 4
 },
 "nbformat": 4,
 "nbformat_minor": 2
}
