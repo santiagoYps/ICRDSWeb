{
 "cells": [
  {
   "cell_type": "markdown",
   "metadata": {},
   "source": [
    "## Sliding time window\n",
    "La ventana de tiempo deslizante a implementar consta de ..."
   ]
  },
  {
   "cell_type": "markdown",
   "metadata": {},
   "source": [
    "### Imports"
   ]
  },
  {
   "cell_type": "code",
   "execution_count": 55,
   "metadata": {},
   "outputs": [],
   "source": [
    "import numpy as np\n",
    "import pandas as pd\n",
    "from scipy import stats as st\n",
    "import plotly.graph_objects as go\n",
    "from tqdm import tqdm\n",
    "import glob\n",
    "from sklearn.model_selection import train_test_split"
   ]
  },
  {
   "cell_type": "markdown",
   "metadata": {},
   "source": [
    "### Load data"
   ]
  },
  {
   "cell_type": "code",
   "execution_count": 56,
   "metadata": {},
   "outputs": [
    {
     "name": "stdout",
     "output_type": "stream",
     "text": [
      "All data size:  (3733, 17)\n",
      "Train data size:  (2613, 17)\n",
      "Near crash event data size:  (464,)\n",
      "No near crash event data size:  (2149,)\n",
      "\n",
      "Test data size:  (1120, 17)\n",
      "Near crash event data size:  (136,)\n",
      "No near crash event data size:  (984,)\n"
     ]
    },
    {
     "data": {
      "text/html": [
       "<div>\n",
       "<style scoped>\n",
       "    .dataframe tbody tr th:only-of-type {\n",
       "        vertical-align: middle;\n",
       "    }\n",
       "\n",
       "    .dataframe tbody tr th {\n",
       "        vertical-align: top;\n",
       "    }\n",
       "\n",
       "    .dataframe thead th {\n",
       "        text-align: right;\n",
       "    }\n",
       "</style>\n",
       "<table border=\"1\" class=\"dataframe\">\n",
       "  <thead>\n",
       "    <tr style=\"text-align: right;\">\n",
       "      <th></th>\n",
       "      <th>accX</th>\n",
       "      <th>accY</th>\n",
       "      <th>accZ</th>\n",
       "      <th>eventClass</th>\n",
       "      <th>idTrip</th>\n",
       "      <th>idVehicle</th>\n",
       "      <th>latitude</th>\n",
       "      <th>longitude</th>\n",
       "      <th>magX</th>\n",
       "      <th>magY</th>\n",
       "      <th>magZ</th>\n",
       "      <th>route</th>\n",
       "      <th>speed</th>\n",
       "      <th>timestamp</th>\n",
       "      <th>velAngX</th>\n",
       "      <th>velAngY</th>\n",
       "      <th>velAngZ</th>\n",
       "    </tr>\n",
       "    <tr>\n",
       "      <th>id</th>\n",
       "      <th></th>\n",
       "      <th></th>\n",
       "      <th></th>\n",
       "      <th></th>\n",
       "      <th></th>\n",
       "      <th></th>\n",
       "      <th></th>\n",
       "      <th></th>\n",
       "      <th></th>\n",
       "      <th></th>\n",
       "      <th></th>\n",
       "      <th></th>\n",
       "      <th></th>\n",
       "      <th></th>\n",
       "      <th></th>\n",
       "      <th></th>\n",
       "      <th></th>\n",
       "    </tr>\n",
       "  </thead>\n",
       "  <tbody>\n",
       "    <tr>\n",
       "      <th>13533</th>\n",
       "      <td>-0.138011</td>\n",
       "      <td>1.331316</td>\n",
       "      <td>9.639226</td>\n",
       "      <td>0</td>\n",
       "      <td>19</td>\n",
       "      <td>Nissan March (Xiaomi Redmi Note 9S)</td>\n",
       "      <td>0.833793</td>\n",
       "      <td>-77.650009</td>\n",
       "      <td>4.664763</td>\n",
       "      <td>-42.733253</td>\n",
       "      <td>59.949496</td>\n",
       "      <td>Cambio de línea agresivo izquierda</td>\n",
       "      <td>7.339460</td>\n",
       "      <td>2022-01-23 19:15:33.613000-05:00</td>\n",
       "      <td>-0.010732</td>\n",
       "      <td>-0.024220</td>\n",
       "      <td>0.000681</td>\n",
       "    </tr>\n",
       "    <tr>\n",
       "      <th>13534</th>\n",
       "      <td>-0.050553</td>\n",
       "      <td>1.182238</td>\n",
       "      <td>9.640528</td>\n",
       "      <td>0</td>\n",
       "      <td>19</td>\n",
       "      <td>Nissan March (Xiaomi Redmi Note 9S)</td>\n",
       "      <td>0.833793</td>\n",
       "      <td>-77.650009</td>\n",
       "      <td>4.684517</td>\n",
       "      <td>-42.746425</td>\n",
       "      <td>60.048403</td>\n",
       "      <td>Cambio de línea agresivo izquierda</td>\n",
       "      <td>7.339460</td>\n",
       "      <td>2022-01-23 19:15:33.663000-05:00</td>\n",
       "      <td>-0.010511</td>\n",
       "      <td>-0.023075</td>\n",
       "      <td>0.000194</td>\n",
       "    </tr>\n",
       "    <tr>\n",
       "      <th>13535</th>\n",
       "      <td>-0.071837</td>\n",
       "      <td>1.190314</td>\n",
       "      <td>9.561614</td>\n",
       "      <td>0</td>\n",
       "      <td>19</td>\n",
       "      <td>Nissan March (Xiaomi Redmi Note 9S)</td>\n",
       "      <td>0.833793</td>\n",
       "      <td>-77.650009</td>\n",
       "      <td>4.934497</td>\n",
       "      <td>-42.749323</td>\n",
       "      <td>59.963401</td>\n",
       "      <td>Cambio de línea agresivo izquierda</td>\n",
       "      <td>7.339460</td>\n",
       "      <td>2022-01-23 19:15:33.713000-05:00</td>\n",
       "      <td>-0.009359</td>\n",
       "      <td>-0.021741</td>\n",
       "      <td>0.002318</td>\n",
       "    </tr>\n",
       "    <tr>\n",
       "      <th>13536</th>\n",
       "      <td>-0.100731</td>\n",
       "      <td>1.169613</td>\n",
       "      <td>9.484931</td>\n",
       "      <td>0</td>\n",
       "      <td>19</td>\n",
       "      <td>Nissan March (Xiaomi Redmi Note 9S)</td>\n",
       "      <td>0.833793</td>\n",
       "      <td>-77.650009</td>\n",
       "      <td>4.948134</td>\n",
       "      <td>-42.673797</td>\n",
       "      <td>60.008407</td>\n",
       "      <td>Cambio de línea agresivo izquierda</td>\n",
       "      <td>7.339460</td>\n",
       "      <td>2022-01-23 19:15:33.763000-05:00</td>\n",
       "      <td>-0.006022</td>\n",
       "      <td>-0.019840</td>\n",
       "      <td>0.002179</td>\n",
       "    </tr>\n",
       "    <tr>\n",
       "      <th>13537</th>\n",
       "      <td>0.118383</td>\n",
       "      <td>1.254682</td>\n",
       "      <td>9.645636</td>\n",
       "      <td>0</td>\n",
       "      <td>19</td>\n",
       "      <td>Nissan March (Xiaomi Redmi Note 9S)</td>\n",
       "      <td>0.833793</td>\n",
       "      <td>-77.650009</td>\n",
       "      <td>5.098216</td>\n",
       "      <td>-42.629128</td>\n",
       "      <td>59.910096</td>\n",
       "      <td>Cambio de línea agresivo izquierda</td>\n",
       "      <td>7.339460</td>\n",
       "      <td>2022-01-23 19:15:33.814000-05:00</td>\n",
       "      <td>0.001969</td>\n",
       "      <td>-0.009525</td>\n",
       "      <td>0.000068</td>\n",
       "    </tr>\n",
       "    <tr>\n",
       "      <th>...</th>\n",
       "      <td>...</td>\n",
       "      <td>...</td>\n",
       "      <td>...</td>\n",
       "      <td>...</td>\n",
       "      <td>...</td>\n",
       "      <td>...</td>\n",
       "      <td>...</td>\n",
       "      <td>...</td>\n",
       "      <td>...</td>\n",
       "      <td>...</td>\n",
       "      <td>...</td>\n",
       "      <td>...</td>\n",
       "      <td>...</td>\n",
       "      <td>...</td>\n",
       "      <td>...</td>\n",
       "      <td>...</td>\n",
       "      <td>...</td>\n",
       "    </tr>\n",
       "    <tr>\n",
       "      <th>37962</th>\n",
       "      <td>-1.427612</td>\n",
       "      <td>1.336614</td>\n",
       "      <td>9.417382</td>\n",
       "      <td>0</td>\n",
       "      <td>18</td>\n",
       "      <td>Nissan March (Xiaomi Redmi Note 9S)</td>\n",
       "      <td>0.833797</td>\n",
       "      <td>-77.650022</td>\n",
       "      <td>19.808157</td>\n",
       "      <td>-35.636911</td>\n",
       "      <td>58.154053</td>\n",
       "      <td>Cambio de línea agresivo izquierda</td>\n",
       "      <td>28.792559</td>\n",
       "      <td>2022-02-02 20:22:07.699000-05:00</td>\n",
       "      <td>-0.065179</td>\n",
       "      <td>-0.012674</td>\n",
       "      <td>0.115127</td>\n",
       "    </tr>\n",
       "    <tr>\n",
       "      <th>37963</th>\n",
       "      <td>-1.088481</td>\n",
       "      <td>1.261627</td>\n",
       "      <td>9.235299</td>\n",
       "      <td>0</td>\n",
       "      <td>18</td>\n",
       "      <td>Nissan March (Xiaomi Redmi Note 9S)</td>\n",
       "      <td>0.833797</td>\n",
       "      <td>-77.650022</td>\n",
       "      <td>19.801159</td>\n",
       "      <td>-35.642404</td>\n",
       "      <td>58.192374</td>\n",
       "      <td>Cambio de línea agresivo izquierda</td>\n",
       "      <td>28.792559</td>\n",
       "      <td>2022-02-02 20:22:07.748000-05:00</td>\n",
       "      <td>-0.033713</td>\n",
       "      <td>-0.020394</td>\n",
       "      <td>0.099633</td>\n",
       "    </tr>\n",
       "    <tr>\n",
       "      <th>37964</th>\n",
       "      <td>-0.138346</td>\n",
       "      <td>1.800179</td>\n",
       "      <td>8.966337</td>\n",
       "      <td>0</td>\n",
       "      <td>18</td>\n",
       "      <td>Nissan March (Xiaomi Redmi Note 9S)</td>\n",
       "      <td>0.833727</td>\n",
       "      <td>-77.650043</td>\n",
       "      <td>20.025403</td>\n",
       "      <td>-35.929472</td>\n",
       "      <td>58.183098</td>\n",
       "      <td>Cambio de línea agresivo izquierda</td>\n",
       "      <td>26.656229</td>\n",
       "      <td>2022-02-02 20:22:07.800000-05:00</td>\n",
       "      <td>0.013796</td>\n",
       "      <td>-0.025721</td>\n",
       "      <td>0.086128</td>\n",
       "    </tr>\n",
       "    <tr>\n",
       "      <th>37965</th>\n",
       "      <td>-0.748599</td>\n",
       "      <td>1.063007</td>\n",
       "      <td>9.470504</td>\n",
       "      <td>0</td>\n",
       "      <td>18</td>\n",
       "      <td>Nissan March (Xiaomi Redmi Note 9S)</td>\n",
       "      <td>0.833727</td>\n",
       "      <td>-77.650043</td>\n",
       "      <td>20.057234</td>\n",
       "      <td>-35.986090</td>\n",
       "      <td>58.181558</td>\n",
       "      <td>Cambio de línea agresivo izquierda</td>\n",
       "      <td>26.656229</td>\n",
       "      <td>2022-02-02 20:22:07.850000-05:00</td>\n",
       "      <td>0.059608</td>\n",
       "      <td>-0.030771</td>\n",
       "      <td>0.071395</td>\n",
       "    </tr>\n",
       "    <tr>\n",
       "      <th>37966</th>\n",
       "      <td>-1.148179</td>\n",
       "      <td>0.950146</td>\n",
       "      <td>9.219190</td>\n",
       "      <td>0</td>\n",
       "      <td>18</td>\n",
       "      <td>Nissan March (Xiaomi Redmi Note 9S)</td>\n",
       "      <td>0.833727</td>\n",
       "      <td>-77.650043</td>\n",
       "      <td>19.884780</td>\n",
       "      <td>-36.012311</td>\n",
       "      <td>58.259491</td>\n",
       "      <td>Cambio de línea agresivo izquierda</td>\n",
       "      <td>26.656229</td>\n",
       "      <td>2022-02-02 20:22:07.899000-05:00</td>\n",
       "      <td>0.066771</td>\n",
       "      <td>-0.041630</td>\n",
       "      <td>0.066884</td>\n",
       "    </tr>\n",
       "  </tbody>\n",
       "</table>\n",
       "<p>2613 rows × 17 columns</p>\n",
       "</div>"
      ],
      "text/plain": [
       "           accX      accY      accZ  eventClass  idTrip  \\\n",
       "id                                                        \n",
       "13533 -0.138011  1.331316  9.639226           0      19   \n",
       "13534 -0.050553  1.182238  9.640528           0      19   \n",
       "13535 -0.071837  1.190314  9.561614           0      19   \n",
       "13536 -0.100731  1.169613  9.484931           0      19   \n",
       "13537  0.118383  1.254682  9.645636           0      19   \n",
       "...         ...       ...       ...         ...     ...   \n",
       "37962 -1.427612  1.336614  9.417382           0      18   \n",
       "37963 -1.088481  1.261627  9.235299           0      18   \n",
       "37964 -0.138346  1.800179  8.966337           0      18   \n",
       "37965 -0.748599  1.063007  9.470504           0      18   \n",
       "37966 -1.148179  0.950146  9.219190           0      18   \n",
       "\n",
       "                                 idVehicle  latitude  longitude       magX  \\\n",
       "id                                                                           \n",
       "13533  Nissan March (Xiaomi Redmi Note 9S)  0.833793 -77.650009   4.664763   \n",
       "13534  Nissan March (Xiaomi Redmi Note 9S)  0.833793 -77.650009   4.684517   \n",
       "13535  Nissan March (Xiaomi Redmi Note 9S)  0.833793 -77.650009   4.934497   \n",
       "13536  Nissan March (Xiaomi Redmi Note 9S)  0.833793 -77.650009   4.948134   \n",
       "13537  Nissan March (Xiaomi Redmi Note 9S)  0.833793 -77.650009   5.098216   \n",
       "...                                    ...       ...        ...        ...   \n",
       "37962  Nissan March (Xiaomi Redmi Note 9S)  0.833797 -77.650022  19.808157   \n",
       "37963  Nissan March (Xiaomi Redmi Note 9S)  0.833797 -77.650022  19.801159   \n",
       "37964  Nissan March (Xiaomi Redmi Note 9S)  0.833727 -77.650043  20.025403   \n",
       "37965  Nissan March (Xiaomi Redmi Note 9S)  0.833727 -77.650043  20.057234   \n",
       "37966  Nissan March (Xiaomi Redmi Note 9S)  0.833727 -77.650043  19.884780   \n",
       "\n",
       "            magY       magZ                               route      speed  \\\n",
       "id                                                                           \n",
       "13533 -42.733253  59.949496  Cambio de línea agresivo izquierda   7.339460   \n",
       "13534 -42.746425  60.048403  Cambio de línea agresivo izquierda   7.339460   \n",
       "13535 -42.749323  59.963401  Cambio de línea agresivo izquierda   7.339460   \n",
       "13536 -42.673797  60.008407  Cambio de línea agresivo izquierda   7.339460   \n",
       "13537 -42.629128  59.910096  Cambio de línea agresivo izquierda   7.339460   \n",
       "...          ...        ...                                 ...        ...   \n",
       "37962 -35.636911  58.154053  Cambio de línea agresivo izquierda  28.792559   \n",
       "37963 -35.642404  58.192374  Cambio de línea agresivo izquierda  28.792559   \n",
       "37964 -35.929472  58.183098  Cambio de línea agresivo izquierda  26.656229   \n",
       "37965 -35.986090  58.181558  Cambio de línea agresivo izquierda  26.656229   \n",
       "37966 -36.012311  58.259491  Cambio de línea agresivo izquierda  26.656229   \n",
       "\n",
       "                              timestamp   velAngX   velAngY   velAngZ  \n",
       "id                                                                     \n",
       "13533  2022-01-23 19:15:33.613000-05:00 -0.010732 -0.024220  0.000681  \n",
       "13534  2022-01-23 19:15:33.663000-05:00 -0.010511 -0.023075  0.000194  \n",
       "13535  2022-01-23 19:15:33.713000-05:00 -0.009359 -0.021741  0.002318  \n",
       "13536  2022-01-23 19:15:33.763000-05:00 -0.006022 -0.019840  0.002179  \n",
       "13537  2022-01-23 19:15:33.814000-05:00  0.001969 -0.009525  0.000068  \n",
       "...                                 ...       ...       ...       ...  \n",
       "37962  2022-02-02 20:22:07.699000-05:00 -0.065179 -0.012674  0.115127  \n",
       "37963  2022-02-02 20:22:07.748000-05:00 -0.033713 -0.020394  0.099633  \n",
       "37964  2022-02-02 20:22:07.800000-05:00  0.013796 -0.025721  0.086128  \n",
       "37965  2022-02-02 20:22:07.850000-05:00  0.059608 -0.030771  0.071395  \n",
       "37966  2022-02-02 20:22:07.899000-05:00  0.066771 -0.041630  0.066884  \n",
       "\n",
       "[2613 rows x 17 columns]"
      ]
     },
     "execution_count": 56,
     "metadata": {},
     "output_type": "execute_result"
    }
   ],
   "source": [
    "device = 'smartphone' \n",
    "#event = 'cambio de línea agresivo izquierda'\n",
    "event = 'cambio de línea agresivo izquierda'\n",
    "files_to_read = glob.glob('./filtered_data/{}*{}*.csv'.format(device, event))\n",
    "\n",
    "#df_train = pd.read_csv('./filtered_data/smartphone_02-Feb-2022-20-22_cambio de línea agresivo izquierda_Data-Mv2MN6xv2W3Rv1Rmb_Z.csv')\n",
    "#df_test = pd.read_csv('./filtered_data/smartphone_02-Feb-2022-20-19_cambio de línea agresivo izquierda_Data-Mv2L_EBJR_gDU3LpwVs.csv')\n",
    "\n",
    "df = pd.DataFrame()\n",
    "for file in files_to_read:\n",
    "    df = pd.concat([df, pd.read_csv(file)])\n",
    "\n",
    "df = df.set_index('id')\n",
    "print(\"All data size: \", df.shape)\n",
    "df_train, df_test = train_test_split(df.sort_index(), test_size=0.3, train_size=0.7, random_state=0, shuffle=False)\n",
    "\n",
    "print(\"Train data size: \", df_train.shape)\n",
    "print(\"Near crash event data size: \", df_train[\"eventClass\"][df_train[\"eventClass\"] == 1].shape)\n",
    "print(\"No near crash event data size: \", df_train[\"eventClass\"][df_train[\"eventClass\"] == 0].shape)\n",
    "\n",
    "print(\"\\nTest data size: \", df_test.shape)\n",
    "print(\"Near crash event data size: \", df_test[\"eventClass\"][df_test[\"eventClass\"] == 1].shape)\n",
    "print(\"No near crash event data size: \", df_test[\"eventClass\"][df_test[\"eventClass\"] == 0].shape)\n",
    "\n",
    "df_train"
   ]
  },
  {
   "cell_type": "markdown",
   "metadata": {},
   "source": [
    "### Select the interest variables"
   ]
  },
  {
   "cell_type": "code",
   "execution_count": 57,
   "metadata": {},
   "outputs": [
    {
     "name": "stdout",
     "output_type": "stream",
     "text": [
      "Variables Train shape (2613, 4)\n",
      "Variables Test shape (1120, 4)\n"
     ]
    }
   ],
   "source": [
    "# Transform pandas.Series to numpy.Array\n",
    "\n",
    "#variables = df[[\"speed\",\"accX\",\"accY\",\"magX\",\"magY\",\"magZ\",\n",
    "#                \"velAngX\",\"velAngY\",\"velAngZ\",\"timestamp\",\n",
    "#                \"eventClass\"]].to_numpy()\n",
    "\n",
    "# Always put \"eventClass\" at the end:\n",
    "select_v = [\"accX\", \"accY\", \"velAngZ\"]\n",
    "select_v = [*select_v,  \"eventClass\"]\n",
    "variables_train = df_train[select_v].to_numpy()\n",
    "print(\"Variables Train shape\", variables_train.shape)\n",
    "\n",
    "variables_test = df_test[select_v].to_numpy()\n",
    "print(\"Variables Test shape\", variables_test.shape)"
   ]
  },
  {
   "cell_type": "markdown",
   "metadata": {},
   "source": [
    "### Make a sliding window\n",
    "\n",
    "The sliding window have this shape:\n",
    "\n",
    "$ rows = m - ws + 1 \\\\  columns = ws \\\\ pages = d$\n",
    "\n",
    "![](https://es.mathworks.com/help/matlab/math/nddemo_02_es.gif)\n",
    "\n",
    "Where:\n",
    "- ***m***:  Is the data size,\n",
    "- ***ws***: Is the window size\n",
    "- ***d***:  Is the dimensions of the data (measured variables)\n"
   ]
  },
  {
   "cell_type": "markdown",
   "metadata": {},
   "source": [
    "#### Naive alternative"
   ]
  },
  {
   "cell_type": "code",
   "execution_count": 62,
   "metadata": {},
   "outputs": [],
   "source": [
    "# Select axis 0 to slide over all rows of the data\n",
    "def sliding_windows(variables, window_size):\n",
    "      \n",
    "      #     In 2-dimensional dataset:\n",
    "      # Axis 0 -> Goes through the rows\n",
    "      # Axis 1 -> Goes through the Cols\n",
    "      sld_window = np.lib.stride_tricks.sliding_window_view(variables, window_size, axis=0) #[::1, :] Add this for define window step\n",
    "\n",
    "      # Sample of sliding window \n",
    "      print(\"\\nsliding window shape: \",sld_window.shape)\n",
    "      #print(\"\\nSample of sliding window\")\n",
    "      #print(sld_window[0,:,:])\n",
    "\n",
    "      # Processing the sliding window\n",
    "      event_page_index = variables.shape[1] - 1\n",
    "      measured_variables = sld_window[:, 0:event_page_index, :]\n",
    "      event_variables = sld_window[:, event_page_index, :]\n",
    "\n",
    "      # Mean, median, std, max and min value for measured variables\n",
    "      mean = measured_variables.mean(axis=2)\n",
    "      median = np.median(measured_variables, axis=2)\n",
    "      std = measured_variables.std(axis=2)\n",
    "      max_val = measured_variables.max(axis=2)\n",
    "      min_val = measured_variables.min(axis=2)\n",
    "\n",
    "      # Tendency for measured variables\n",
    "      divider = np.array([mean[0],*mean[:-1]])\n",
    "      tendency = mean/np.where(divider == 0, 1, divider)\n",
    "      tendency = np.nan_to_num(tendency, nan=0, posinf=60, neginf=0)\n",
    "\n",
    "      # Event class for measured variables\n",
    "      event_mode = st.mode(event_variables, axis=1)[0]\n",
    "\n",
    "      print(\"Processing slide window shape: \" +\n",
    "            \"mean={}, median={}, std={}, max_val={}, min_val={}, tendency={}, event_mode={}\"\n",
    "            .format(mean.shape, median.shape, std.shape, max_val.shape, min_val.shape, tendency.shape, event_mode.shape))\n",
    "      #print(\"Sample of sliding window process\")\n",
    "      #print(\"Mean:\\n {} \\nMedian:\\n {} \\nStandard deviation:\\n {} \\nMax_val:\\n {} \\nMin_val\\n {} \\ntendency:\\n {} \\nEvent class Mode:\\n {}\"\n",
    "      #     .format(mean[0:2,:], median[0:2,:], std[0:2,:], max_val[0:2,:], min_val[0:2,:], tendency[0:2], event_mode[0:2]))\n",
    "      \n",
    "\n",
    "      # Concatenate processing data\n",
    "      input_features = np.concatenate((mean, median, std, max_val, min_val, tendency), axis=1)\n",
    "      labels = event_mode.reshape(event_mode.shape[0])\n",
    "      #print(input_features)\n",
    "      #print(labels)\n",
    "\n",
    "      return (input_features, labels)\n"
   ]
  },
  {
   "cell_type": "code",
   "execution_count": 63,
   "metadata": {},
   "outputs": [
    {
     "name": "stdout",
     "output_type": "stream",
     "text": [
      "\n",
      "sliding window shape:  (2594, 4, 20)\n",
      "Processing slide window shape: mean=(2594, 3), median=(2594, 3), std=(2594, 3), max_val=(2594, 3), min_val=(2594, 3), tendency=(2594, 3), event_mode=(2594, 1)\n",
      "\n",
      "sliding window shape:  (1101, 4, 20)\n",
      "Processing slide window shape: mean=(1101, 3), median=(1101, 3), std=(1101, 3), max_val=(1101, 3), min_val=(1101, 3), tendency=(1101, 3), event_mode=(1101, 1)\n"
     ]
    }
   ],
   "source": [
    "window_size = 20\n",
    "X_train, y_train = sliding_windows(variables_train, window_size)\n",
    "X_test, y_test = sliding_windows(variables_test, window_size)"
   ]
  },
  {
   "cell_type": "markdown",
   "metadata": {},
   "source": [
    "#### Input features"
   ]
  },
  {
   "cell_type": "code",
   "execution_count": 66,
   "metadata": {},
   "outputs": [
    {
     "name": "stdout",
     "output_type": "stream",
     "text": [
      "Train features shape: (2594, 18)\n",
      "Near crash event train data size:  (461,)\n",
      "No near crash event train data size:  (2133,)\n",
      "\n",
      "\n",
      "Test features shape: (1101, 18)\n",
      "Near crash event test data size:  (133,)\n",
      "No near crash event test data size:  (968,)\n"
     ]
    }
   ],
   "source": [
    "print(\"Train features shape:\", X_train.shape)\n",
    "#print(X_train[0:5])\n",
    "print(\"Near crash event train data size: \", np.where(y_train == 1)[0].shape)\n",
    "print(\"No near crash event train data size: \", np.where(y_train == 0)[0].shape)\n",
    "\n",
    "print(\"\\n\")\n",
    "print(\"Test features shape:\", X_test.shape)\n",
    "#print(X_test[0:5])\n",
    "print(\"Near crash event test data size: \", np.where(y_test == 1)[0].shape)\n",
    "print(\"No near crash event test data size: \", np.where(y_test == 0)[0].shape)"
   ]
  },
  {
   "cell_type": "markdown",
   "metadata": {},
   "source": [
    "## Machine Learning "
   ]
  },
  {
   "cell_type": "markdown",
   "metadata": {},
   "source": [
    "Make a Machine Learning algorithms"
   ]
  },
  {
   "cell_type": "code",
   "execution_count": 67,
   "metadata": {},
   "outputs": [
    {
     "data": {
      "text/plain": [
       "SVC(C=1, random_state=0)"
      ]
     },
     "execution_count": 67,
     "metadata": {},
     "output_type": "execute_result"
    }
   ],
   "source": [
    "from sklearn import svm\n",
    "from sklearn.model_selection import train_test_split\n",
    "\n",
    "clf = svm.SVC(C=1, gamma='scale', kernel='rbf', random_state=0)\n",
    "clf.fit(X_train, y_train)"
   ]
  },
  {
   "cell_type": "markdown",
   "metadata": {},
   "source": [
    "#### Test ML algorithm"
   ]
  },
  {
   "cell_type": "code",
   "execution_count": 68,
   "metadata": {},
   "outputs": [
    {
     "name": "stdout",
     "output_type": "stream",
     "text": [
      "Accuracy: 0.95\n",
      "Precision: 0.98\n",
      "Recall: 0.62\n",
      "F1: 0.76\n",
      "Count total data predicted:  Counter({0.0: 1017, 1.0: 84})\n"
     ]
    }
   ],
   "source": [
    "from sklearn.metrics import accuracy_score, precision_score, recall_score, f1_score\n",
    "from collections import Counter\n",
    "# Accuracy = TP + TN / (TP + TN + FP + FN)\n",
    "# Precision = TP / (TP + FP)\n",
    "# Recall = TP / (TP + FN)  Also known as sensitivity, or True Positive Rate\n",
    "# F1 = 2 * Precision * Recall / (Precision + Recall) \n",
    "y_predict = clf.predict(X_test)\n",
    "y_score = clf.decision_function(X_test)\n",
    "#y_predict_proba = clf.predict_proba(X_test)\n",
    "print('Accuracy: {:.2f}'.format(accuracy_score(y_test, y_predict)))\n",
    "print('Precision: {:.2f}'.format(precision_score(y_test, y_predict)))\n",
    "print('Recall: {:.2f}'.format(recall_score(y_test, y_predict)))\n",
    "print('F1: {:.2f}'.format(f1_score(y_test, y_predict)))\n",
    "#print(\"Accuracy: \", clf.score(X_test, y_test))\n",
    "\n",
    "print(\"Count total data predicted: \",Counter(y_predict))"
   ]
  },
  {
   "cell_type": "markdown",
   "metadata": {},
   "source": [
    "#### Confusion matrix"
   ]
  },
  {
   "cell_type": "code",
   "execution_count": 69,
   "metadata": {},
   "outputs": [
    {
     "data": {
      "image/png": "[encoded data removed]",
      "text/plain": [
       "<Figure size 432x288 with 2 Axes>"
      ]
     },
     "metadata": {
      "needs_background": "light"
     },
     "output_type": "display_data"
    }
   ],
   "source": [
    "from sklearn.metrics import confusion_matrix\n",
    "import matplotlib.pyplot as plt\n",
    "from sklearn.metrics import ConfusionMatrixDisplay\n",
    "\n",
    "cf_matrix = confusion_matrix(y_test, y_predict)\n",
    "disp = ConfusionMatrixDisplay(cf_matrix)\n",
    "disp.plot()\n",
    "plt.show()"
   ]
  },
  {
   "cell_type": "markdown",
   "metadata": {},
   "source": [
    "#### Roc curves and Area Under Curve (AUC)"
   ]
  },
  {
   "cell_type": "code",
   "execution_count": 70,
   "metadata": {},
   "outputs": [
    {
     "name": "stdout",
     "output_type": "stream",
     "text": [
      "gamma = 0.01  accuracy = 0.96   AUC = 0.97\n",
      "gamma = 0.10  accuracy = 0.96   AUC = 0.98\n",
      "gamma = 0.20  accuracy = 0.95   AUC = 0.98\n",
      "gamma = 1.00  accuracy = 0.90   AUC = 0.93\n"
     ]
    },
    {
     "data": {
      "image/png": "[encoded data removed]",
      "text/plain": [
       "<Figure size 432x288 with 1 Axes>"
      ]
     },
     "metadata": {
      "needs_background": "light"
     },
     "output_type": "display_data"
    }
   ],
   "source": [
    "from sklearn.metrics import roc_curve, auc\n",
    "\n",
    "plt.figure()\n",
    "plt.xlim([-0.01, 1.00])\n",
    "plt.ylim([-0.01, 1.01])\n",
    "for g in [0.01, 0.1, 0.20, 1]:\n",
    "    clf = svm.SVC(C=1, gamma=g, kernel='rbf', random_state=0).fit(X_train, y_train)\n",
    "    y_score = clf.decision_function(X_test)\n",
    "    fpr, tpr, _ = roc_curve(y_test, y_score)\n",
    "    roc_auc = auc(fpr, tpr)\n",
    "    accuracy = clf.score(X_test, y_test)\n",
    "    print(\"gamma = {:.2f}  accuracy = {:.2f}   AUC = {:.2f}\".format(g, accuracy, \n",
    "                                                                    roc_auc))\n",
    "    plt.plot(fpr, tpr, lw=3, alpha=0.7, \n",
    "             label='SVM (gamma = {:0.2f}, area = {:0.2f})'.format(g, roc_auc))\n",
    "\n",
    "plt.xlabel('False Positive Rate', fontsize=16)\n",
    "plt.ylabel('True Positive Rate (Recall)', fontsize=16)\n",
    "plt.plot([0, 1], [0, 1], color='k', lw=0.5, linestyle='--')\n",
    "plt.legend(loc=\"lower right\", fontsize=11)\n",
    "plt.title('ROC curve: ', fontsize=16)\n",
    "#plt.axes().set_aspect('equal')\n",
    "\n",
    "plt.show()"
   ]
  },
  {
   "cell_type": "code",
   "execution_count": null,
   "metadata": {},
   "outputs": [
    {
     "data": {
      "text/plain": [
       "'\\ndef trend(arr):\\n    \"\"\"This function calculates the trend with the unique loopback option for this type of calculation\\n\\n    This tendency is not make for frame form, for this reason the equation is this: register(i)/last_register\\n    where \"i\" is the position of a register\\n\\n    Note: I calculate the first tendency how last_register/last_register = 1, \\n    this data appear in all first values of all rows in the slide window\\n    \"\"\"\\n    t = [arr[-i]/arr[-1] for i in range(1, len(arr)+1)]\\n    #mean[::-1]/mean[-1]\\n    #for i in range(1,len(array)+1):\\n    #    t.append(array[-i]/array[-1])\\n    return np.array(t)\\n\\nvariables_trend = np.apply_along_axis(trend, axis=2, arr=measured_variables)\\nvariables_trend = variables_trend.reshape(variables_trend.shape[0], variables_trend.shape[1]*ws)   # Son 20 para la speed y 20 para la accY\\nprint(\"\\nSample of sliding window process for tendency\")\\nprint(\"Tendency slide window shape: \", variables_trend.shape)\\nprint(\"Tendency:\\n {}\".format(variables_trend[0:2,:]))\\n'"
      ]
     },
     "execution_count": 33,
     "metadata": {},
     "output_type": "execute_result"
    }
   ],
   "source": [
    "# Tendency\n",
    "'''\n",
    "def trend(arr):\n",
    "    \"\"\"This function calculates the trend with the unique loopback option for this type of calculation\n",
    "\n",
    "    This tendency is not make for frame form, for this reason the equation is this: register(i)/last_register\n",
    "    where \"i\" is the position of a register\n",
    "\n",
    "    Note: I calculate the first tendency how last_register/last_register = 1, \n",
    "    this data appear in all first values of all rows in the slide window\n",
    "    \"\"\"\n",
    "    t = [arr[-i]/arr[-1] for i in range(1, len(arr)+1)]\n",
    "    #mean[::-1]/mean[-1]\n",
    "    #for i in range(1,len(array)+1):\n",
    "    #    t.append(array[-i]/array[-1])\n",
    "    return np.array(t)\n",
    "\n",
    "variables_trend = np.apply_along_axis(trend, axis=2, arr=measured_variables)\n",
    "variables_trend = variables_trend.reshape(variables_trend.shape[0], variables_trend.shape[1]*ws)   # Son 20 para la speed y 20 para la accY\n",
    "print(\"\\nSample of sliding window process for tendency\")\n",
    "print(\"Tendency slide window shape: \", variables_trend.shape)\n",
    "print(\"Tendency:\\n {}\".format(variables_trend[0:2,:]))\n",
    "'''"
   ]
  },
  {
   "cell_type": "code",
   "execution_count": null,
   "metadata": {},
   "outputs": [
    {
     "data": {
      "text/plain": [
       "'\\ndef means_loopback(array):\\n    \"\"\"This functions calculate the means with loop back option\\n    \"\"\"\\n    means = []\\n    for i in range(1,len(array)+1):\\n        means.append(array[-i:].mean())\\n    return np.array(means)\\n\\nprint(\"data to get loop back mean: \\n\", measured_variables[0:2,:,:])\\n# mean loopback test\\nmean_lb = np.apply_along_axis(means_loopback, 2, measured_variables[0:2,:,:])\\nprint(\"Mean loopback: \\n\",mean_lb)\\n'"
      ]
     },
     "execution_count": 34,
     "metadata": {},
     "output_type": "execute_result"
    }
   ],
   "source": [
    "# tendency\n",
    "'''\n",
    "def means_loopback(array):\n",
    "    \"\"\"This functions calculate the means with loop back option\n",
    "    \"\"\"\n",
    "    means = []\n",
    "    for i in range(1,len(array)+1):\n",
    "        means.append(array[-i:].mean())\n",
    "    return np.array(means)\n",
    "\n",
    "print(\"data to get loop back mean: \\n\", measured_variables[0:2,:,:])\n",
    "# mean loopback test\n",
    "mean_lb = np.apply_along_axis(means_loopback, 2, measured_variables[0:2,:,:])\n",
    "print(\"Mean loopback: \\n\",mean_lb)\n",
    "'''"
   ]
  },
  {
   "cell_type": "code",
   "execution_count": null,
   "metadata": {},
   "outputs": [],
   "source": []
  }
 ],
 "metadata": {
  "interpreter": {
   "hash": "2d115bf10b0e668dcb87190753a806b5148f318a8c43dcc71050cbada9401607"
  },
  "kernelspec": {
   "display_name": "Python 3.9.7 ('tesis')",
   "language": "python",
   "name": "python3"
  },
  "language_info": {
   "codemirror_mode": {
    "name": "ipython",
    "version": 3
   },
   "file_extension": ".py",
   "mimetype": "text/x-python",
   "name": "python",
   "nbconvert_exporter": "python",
   "pygments_lexer": "ipython3",
   "version": "3.9.7"
  },
  "orig_nbformat": 4
 },
 "nbformat": 4,
 "nbformat_minor": 2
}
